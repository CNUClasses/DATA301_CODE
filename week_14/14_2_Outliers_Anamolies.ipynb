{
 "cells": [
  {
   "cell_type": "markdown",
   "metadata": {},
   "source": [
    "# Outliers, Anomalies \n",
    "Refs:<br>\n",
    "<a href=\"https://www.kaggle.com/code/rafjaa/dealing-with-very-small-datasets/notebook\">1. Dealing with very small datasets</a><br>\n",
    "<a href=\"https://www.linkedin.com/pulse/how-use-machine-learning-anomaly-detection-condition-flovik-phd/\">2. How to use machine learning for anomaly detection and condition monitoring</a>"
   ]
  },
  {
   "cell_type": "code",
   "execution_count": 71,
   "metadata": {},
   "outputs": [],
   "source": [
    "import matplotlib.pyplot as plt\n",
    "import seaborn as sns\n",
    "\n",
    "import pandas as pd\n",
    "import numpy as np\n",
    "#the following gives access to utils folder\n",
    "#where utils package stores shared code\n",
    "import os\n",
    "import sys"
   ]
  },
  {
   "cell_type": "markdown",
   "metadata": {},
   "source": [
    "## Outliers and Anomalies, what are they?\n",
    "\n",
    "from <a href=\"https://stats.stackexchange.com/questions/189664/difference-between-anomaly-and-outlier#:~:text=An%20anomaly%20is%20a%20result,base%20distribution%20(an%20improbability).&text=Quoting%20source%20for%20the%20definitions%20and%20example%20would%20highly%20improve%20the%20answer.\">Difference between Anomaly and Outlier</a>. The terms are largely used in an interchangeable way. \"Outlier\" refers to something lying outside the norm - so it is usually used for rare observations. In statistics, on a normal distribution, you would consider three sigma (standard deviations) to be outliers. That is 99.7% of your objects are expected to be \"normal\". \n",
    "\n",
    "Anomalous data can be connected to problems or rare events such as bank fraud, medical problems, structural defects, malfunctioning equipment etc. This connection makes anomalies interesting from a data science perspective.\n",
    "\n",
    "Sometimes these anomalous data points are erroneous and should be removed. For instance, a bad sensor generating bogus data<br>\n",
    "Sometimes these anomalous data points indicate a change in system parameters and are of interest.  For instance a set of wheel bearing sensors that read consistant ranged values until the bearings start to fail.<br>"
   ]
  },
  {
   "cell_type": "markdown",
   "metadata": {},
   "source": [
    "### How do they affect model training?\n",
    "\n",
    "In either case, anomalous data points change the distribution of data, which in turn changes the model that is fit to that data.  This is desired if the anomalous point represents a rare event like bank fraud.  It is probably unwanted if it represents a reading from a broken sensor."
   ]
  },
  {
   "cell_type": "code",
   "execution_count": 82,
   "metadata": {},
   "outputs": [
    {
     "data": {
      "image/png": "[encoded data removed]",
      "text/plain": [
       "<Figure size 720x360 with 2 Axes>"
      ]
     },
     "metadata": {
      "needs_background": "light"
     },
     "output_type": "display_data"
    }
   ],
   "source": [
    "#show linear regression on a small dataset with and without an outlier\n",
    "import utils as ut\n",
    "X,y = ut.gendata(11,max_val= 1, min_val=0, max_rise=5)\n",
    "# X,y = ut.gendata(11)\n",
    "\n",
    "from sklearn import linear_model\n",
    "reg = linear_model.LinearRegression()\n",
    "reg.fit(X=X, y=y);\n",
    "\n",
    "#lets add an outlier\n",
    "yo=y.copy()\n",
    "yo[10]=1    #an anomalous point\n",
    "reg1 = linear_model.LinearRegression()\n",
    "reg1.fit(X=X, y=yo);\n",
    "\n",
    "#plot points and linear regression line\n",
    "fig,axs=plt.subplots(1,2,figsize=(10,5))\n",
    "\n",
    "#plot first set\n",
    "ax=sns.scatterplot(x=X.squeeze(), y=y.squeeze(),ax=axs[0])\n",
    "ax=sns.lineplot(x=X.squeeze(), y=reg.predict(X).squeeze(),color='blue',ax=axs[0] )\n",
    "ax.set_title(\"No Anomaly\")\n",
    "\n",
    "#plot second set\n",
    "ax=sns.scatterplot(x=X.squeeze(), y=yo.squeeze(),ax=axs[1])\n",
    "# add text annotation\n",
    "plt.text(8, 1, \"Outlier\", horizontalalignment='left', size='medium', color='black', weight='semibold')\n",
    "ax=sns.lineplot(x=X.squeeze(), y=reg1.predict(X).squeeze(),color='blue',ax=axs[1] )\n",
    "_=ax.set_title(\"Anomaly- notice its a different regressor\")"
   ]
  },
  {
   "cell_type": "markdown",
   "metadata": {},
   "source": [
    "## Finding them\n",
    "You can spot them visually if you plot a 2 dimensional dataset.  For instance in the image below from ref 2, the anomaly stands out in the left plot (but not in the 2 plots to the right).<br>\n",
    "![](./img1.png)\n",
    "\n",
    "For more dimensions you need a better algorithm."
   ]
  },
  {
   "cell_type": "markdown",
   "metadata": {},
   "source": [
    "## Anomaly algorithm 1: Anything outside of 3 standard deviations\n",
    "![](./img3.png)<br>\n",
    "Pure statistics, any value that falls outside of 3 standard deviations (or 2 or 3 or whatever you like) is considered an anomaly."
   ]
  },
  {
   "cell_type": "code",
   "execution_count": 157,
   "metadata": {},
   "outputs": [
    {
     "name": "stdout",
     "output_type": "stream",
     "text": [
      "The mean of train data=-0.031\n",
      "The std of train data=0.271\n",
      "-0.84 <= Data <=0.78 to be an inlier\n",
      "Val -0.66 pred=1\n",
      "Val -2.22 pred=-1\n",
      "Val -3.04 pred=-1\n",
      "Val -1.30 pred=-1\n",
      "Val 3.54 pred=-1\n",
      "Val -1.41 pred=-1\n",
      "Val 0.15 pred=1\n",
      "Val 1.62 pred=-1\n",
      "Val -1.09 pred=-1\n",
      "Val 3.77 pred=-1\n",
      "Val 3.70 pred=-1\n",
      "Val -1.99 pred=-1\n",
      "Val -0.02 pred=1\n",
      "Val -1.59 pred=-1\n",
      "Val -1.72 pred=-1\n",
      "Val -3.70 pred=-1\n",
      "Val 0.88 pred=-1\n",
      "Val 0.02 pred=1\n",
      "Val -3.59 pred=-1\n",
      "Val -1.77 pred=-1\n"
     ]
    }
   ],
   "source": [
    "# multiply and add by random numbers to get some real values\n",
    "rng = np.random.RandomState(42)\n",
    "\n",
    "THREE_STD_DEV=3\n",
    "\n",
    "# Generate train data\n",
    "X_train = 0.3 * rng.randn(100)\n",
    "\n",
    "#lets find the std deviation and mean of train data\n",
    "std_trn = np.std(X_train)\n",
    "mean_trn=X_train.mean()\n",
    "\n",
    "#and the high and low ranges to be considered an inlier\n",
    "low=mean_trn-THREE_STD_DEV*std_trn\n",
    "high=mean_trn+THREE_STD_DEV*std_trn\n",
    "\n",
    "print(f'The mean of train data={mean_trn:.3f}')\n",
    "print(f'The std of train data={std_trn:.3f}')\n",
    "print(f'{low:.2f} <= Data <={high:.2f} to be an inlier')\n",
    "\n",
    "# Generate some abnormal novel observations\n",
    "X_outliers = rng.uniform(low=-4, high=4, size=(20))\n",
    "\n",
    "#an see if its withen THREE_STD_DEV of the mean of the training data\n",
    "preds=[-1 if (val>high or val < low) else 1 for val in X_outliers ]\n",
    "for p,v in zip(preds,X_outliers):\n",
    "    print(f'Val {v:.2f} pred={p}')"
   ]
  },
  {
   "cell_type": "markdown",
   "metadata": {},
   "source": [
    "## Anomaly algorithm 2: Using Isolation Forest (a tree based method)\n",
    "The first thing to note is that this is an unsupervised algorithm. It has to discover anomalies.\n",
    "\n",
    "Algorithm:\n",
    "1. a random sub-sample of the data is selected and assigned to a binary tree.\n",
    "2. Branching of the tree starts by selecting a random feature (from the set of all N features). And then a random threshold to split on  ( any value in the range of minimum and maximum values of the selected feature).\n",
    "3. If the value of a data point is less than the selected threshold, it goes to the left branch else to the right. And thus a node is split into left and right branches.\n",
    "4. This process from step 2 is continued recursively till each data point is completely isolated or till max depth(if defined) is reached.\n",
    "\n",
    "The above steps are repeated to construct random binary trees.\n",
    "\n",
    "The path length, averaged over many trees, from the root node to the terminating node can serve as a proxy for anomalous points. That is,  short path lengths means it is easy to split a point from the pack.  So that point is likely anomalous.\n",
    "See <a href=\"https://scikit-learn.org/stable/auto_examples/ensemble/plot_isolation_forest.html#sphx-glr-auto-examples-ensemble-plot-isolation-forest-py\">IsolationForest example</a> for original code\n",
    "\n",
    "Hyperparameters<br>\n",
    "contamination: the amount of outliers you expect to find\n",
    "               "
   ]
  },
  {
   "cell_type": "code",
   "execution_count": 119,
   "metadata": {},
   "outputs": [
    {
     "data": {
      "image/png": "[encoded data removed]",
      "text/plain": [
       "<Figure size 1080x360 with 1 Axes>"
      ]
     },
     "metadata": {
      "needs_background": "light"
     },
     "output_type": "display_data"
    }
   ],
   "source": [
    "import numpy as np\n",
    "import matplotlib.pyplot as plt\n",
    "from sklearn.ensemble import IsolationForest\n",
    "\n",
    "rng = np.random.RandomState(42)\n",
    "\n",
    "# Generate train data\n",
    "X = 0.3 * rng.randn(100, 2)\n",
    "X_train = np.r_[X + 2, X - 2]\n",
    "# Generate some regular novel observations\n",
    "X = 0.3 * rng.randn(20, 2)\n",
    "X_test = np.r_[X + 2, X - 2]\n",
    "# Generate some abnormal novel observations\n",
    "X_outliers = rng.uniform(low=-4, high=4, size=(20, 2))\n",
    "\n",
    "# fit the model\n",
    "clf = IsolationForest(max_samples=100, random_state=rng, contamination=0.00001)\n",
    "clf.fit(X_train)\n",
    "y_pred_train = clf.predict(X_train)\n",
    "y_pred_test = clf.predict(X_test)\n",
    "y_pred_outliers = clf.predict(X_outliers)\n",
    "\n",
    "# plot the line, the samples, and the nearest vectors to the plane\n",
    "xx, yy = np.meshgrid(np.linspace(-5, 5, 50), np.linspace(-5, 5, 50))\n",
    "Z = clf.decision_function(np.c_[xx.ravel(), yy.ravel()])\n",
    "Z = Z.reshape(xx.shape)\n",
    "\n",
    "fig,axs=plt.subplots(figsize=(15,5))\n",
    "axs.set_title(\"IsolationForest\")\n",
    "axs.contourf(xx, yy, Z, cmap=plt.cm.Blues_r)\n",
    "\n",
    "b1 = axs.scatter(X_train[:, 0], X_train[:, 1], c=\"white\", s=20, edgecolor=\"k\")\n",
    "# b2 = axs.scatter(X_test[:, 0], X_test[:, 1], c=\"green\", s=20, edgecolor=\"k\")\n",
    "c = axs.scatter(X_outliers[:, 0], X_outliers[:, 1], c=\"red\", s=20, edgecolor=\"k\")\n",
    "plt.axis(\"tight\")\n",
    "plt.xlim((-5, 5))\n",
    "plt.ylim((-5, 5))\n",
    "axs.legend(\n",
    "    [b1, b2, c],\n",
    "    [\"training observations\", \"new regular observations\", \"new abnormal observations\"],\n",
    "    loc=\"upper left\",\n",
    ")\n",
    "plt.show()"
   ]
  },
  {
   "cell_type": "code",
   "execution_count": 120,
   "metadata": {},
   "outputs": [
    {
     "data": {
      "text/plain": [
       "array([ 1,  1,  1,  1,  1,  1,  1,  1,  1,  1, -1,  1,  1,  1,  1,  1,  1,\n",
       "        1,  1,  1,  1,  1,  1,  1,  1,  1,  1,  1,  1,  1, -1,  1,  1,  1,\n",
       "        1,  1,  1,  1,  1,  1])"
      ]
     },
     "execution_count": 120,
     "metadata": {},
     "output_type": "execute_result"
    }
   ],
   "source": [
    "#1 means its an inlier, -1 means its an outlier\n",
    "y_pred_test"
   ]
  },
  {
   "cell_type": "code",
   "execution_count": 121,
   "metadata": {},
   "outputs": [
    {
     "data": {
      "text/plain": [
       "array([-1, -1, -1, -1,  1,  1,  1,  1, -1,  1,  1, -1, -1, -1, -1, -1, -1,\n",
       "       -1, -1, -1])"
      ]
     },
     "execution_count": 121,
     "metadata": {},
     "output_type": "execute_result"
    }
   ],
   "source": [
    "y_pred_outliers"
   ]
  },
  {
   "cell_type": "markdown",
   "metadata": {},
   "source": [
    "## What about using anomalous data as an indicator that something is wrong or going wrong?\n",
    "\n",
    "A classic case is machine bearing condition monitoring.  Bearings run well for a time, but will eventually start to degrade.  When this happens sensor data starts to change which serves as an early warning to service or replace the bearings before they fail.  See ref 1 for a treatment of this topic."
   ]
  }
 ],
 "metadata": {
  "kernelspec": {
   "display_name": "Python 3 (ipykernel)",
   "language": "python",
   "name": "python3"
  },
  "language_info": {
   "codemirror_mode": {
    "name": "ipython",
    "version": 3
   },
   "file_extension": ".py",
   "mimetype": "text/x-python",
   "name": "python",
   "nbconvert_exporter": "python",
   "pygments_lexer": "ipython3",
   "version": "3.9.7"
  },
  "widgets": {
   "application/vnd.jupyter.widget-state+json": {
    "state": {},
    "version_major": 2,
    "version_minor": 0
   }
  }
 },
 "nbformat": 4,
 "nbformat_minor": 4
}
