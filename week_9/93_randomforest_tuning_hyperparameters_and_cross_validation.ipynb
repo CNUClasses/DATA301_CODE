{
 "cells": [
  {
   "cell_type": "markdown",
   "metadata": {
    "tags": []
   },
   "source": [
    "# Random Forest- tuning parameters and cross validation\n",
    "See <a href=\"https://www.kaggle.com/dansbecker/random-forests\">Random Forests</a> tutorial from Kaggle's excellent (and short) <a href=\"https://www.kaggle.com/learn/intro-to-machine-learning\">Intro to Machine Learning</a> course "
   ]
  },
  {
   "cell_type": "code",
   "execution_count": 28,
   "metadata": {},
   "outputs": [],
   "source": [
    "import matplotlib.pyplot as plt\n",
    "import seaborn as sns\n",
    "plt.style.use('ggplot')\n",
    "import pandas as pd\n",
    "import numpy as np\n",
    "\n",
    "# Display all cell outputs\n",
    "from IPython.core.interactiveshell import InteractiveShell\n",
    "InteractiveShell.ast_node_interactivity = 'all'\n",
    "\n",
    "from IPython import get_ipython\n",
    "ipython = get_ipython()\n",
    "\n",
    "%matplotlib inline\n",
    "%config InlineBackend.figure_format = 'svg'\n",
    "\n",
    "# Set max rows and columns displayed in jupyter\n",
    "pd.set_option(\"display.max_rows\", 100)\n",
    "pd.set_option(\"display.max_columns\", 100)\n",
    "\n",
    "#the following gives access to utils folder\n",
    "#where utils package stores shared code\n",
    "import os\n",
    "import sys\n",
    "PROJECT_ROOT = os.path.abspath(os.path.join(\n",
    "                  os.getcwd(),\n",
    "                  os.pardir)\n",
    ")\n",
    "\n",
    "#only add it once\n",
    "if (PROJECT_ROOT not in sys.path):\n",
    "    sys.path.append(PROJECT_ROOT)\n",
    "\n",
    "# autoreload extension\n",
    "if 'autoreload' not in ipython.extension_manager.loaded:\n",
    "    %load_ext autoreload\n",
    "\n",
    "%autoreload 2"
   ]
  },
  {
   "cell_type": "markdown",
   "metadata": {},
   "source": [
    "# Load Data\n"
   ]
  },
  {
   "cell_type": "code",
   "execution_count": 14,
   "metadata": {},
   "outputs": [
    {
     "name": "stdout",
     "output_type": "stream",
     "text": [
      "there are 13580 rows in df\n"
     ]
    }
   ],
   "source": [
    "df = pd.read_csv(\"../datasets/melb_data.csv\")\n",
    "# df.head()\n",
    "print(f'there are {len(df)} rows in df')"
   ]
  },
  {
   "cell_type": "markdown",
   "metadata": {},
   "source": [
    "## BTW if you are doing EDA or model building AND your dataset is large then work with a randomly sampled fraction of the data.\n",
    "\n",
    "This will hugely speed up EDA and model training.  You should do this every time when you first start working with a dataset, especially if it's a large one."
   ]
  },
  {
   "cell_type": "code",
   "execution_count": 15,
   "metadata": {},
   "outputs": [
    {
     "name": "stdout",
     "output_type": "stream",
     "text": [
      "there are 1358 rows in df\n"
     ]
    }
   ],
   "source": [
    "df=df.sample( frac=.1, replace=False, weights=None, random_state=42)\n",
    "print(f'there are {len(df)} rows in df')"
   ]
  },
  {
   "cell_type": "code",
   "execution_count": 16,
   "metadata": {},
   "outputs": [],
   "source": [
    "#clean up the index\n",
    "df.reset_index(drop=True,inplace=True)"
   ]
  },
  {
   "cell_type": "markdown",
   "metadata": {},
   "source": [
    "## Lets strip some columns to make this demo easier"
   ]
  },
  {
   "cell_type": "code",
   "execution_count": 17,
   "metadata": {},
   "outputs": [
    {
     "name": "stdout",
     "output_type": "stream",
     "text": [
      "there are 1358 rows in X\n"
     ]
    }
   ],
   "source": [
    "#lets strip out just a few columns to make this example easier\n",
    "# Choose target and features\n",
    "features = ['Rooms', 'Bathroom', 'Landsize', 'BuildingArea', \n",
    "                        'YearBuilt', 'Lattitude', 'Longtitude']\n",
    "X = df[features]\n",
    "y = df.Price\n",
    "print(f'there are {len(df)} rows in X')"
   ]
  },
  {
   "cell_type": "markdown",
   "metadata": {},
   "source": [
    "## Preprocess?\n",
    "Don't have to do much for random forest.  Gotta handle nulls though"
   ]
  },
  {
   "cell_type": "code",
   "execution_count": 18,
   "metadata": {},
   "outputs": [
    {
     "data": {
      "text/plain": [
       "Rooms             0\n",
       "Bathroom          0\n",
       "Landsize          0\n",
       "BuildingArea    647\n",
       "YearBuilt       528\n",
       "Lattitude         0\n",
       "Longtitude        0\n",
       "dtype: int64"
      ]
     },
     "execution_count": 18,
     "metadata": {},
     "output_type": "execute_result"
    },
    {
     "data": {
      "text/plain": [
       "0"
      ]
     },
     "execution_count": 18,
     "metadata": {},
     "output_type": "execute_result"
    }
   ],
   "source": [
    "#any nulls?  If so handle\n",
    "X.isnull().sum()\n",
    "y.isnull().sum()"
   ]
  },
  {
   "cell_type": "code",
   "execution_count": 19,
   "metadata": {},
   "outputs": [],
   "source": [
    "X=X.fillna(value=X.mean())\n",
    "y=y.fillna(value=y.mean())"
   ]
  },
  {
   "cell_type": "markdown",
   "metadata": {},
   "source": [
    "## Get train/test split"
   ]
  },
  {
   "cell_type": "code",
   "execution_count": 25,
   "metadata": {},
   "outputs": [],
   "source": [
    "# split data into training and validation data, for both features and target\n",
    "# The split is based on a random number generator. Supplying a numeric value to\n",
    "# the random_state argument guarantees we get the same split every time we\n",
    "# run this script.\n",
    "from sklearn.model_selection import train_test_split\n",
    "train_X, val_X, train_y, val_y = train_test_split(X, y,random_state = 0)"
   ]
  },
  {
   "cell_type": "markdown",
   "metadata": {},
   "source": [
    "### Create a random forest classifier, use default hyperparameters"
   ]
  },
  {
   "cell_type": "code",
   "execution_count": 52,
   "metadata": {},
   "outputs": [],
   "source": [
    "def evalmodel(model,X,y):\n",
    "    preds = model.predict(X)\n",
    "    print(mean_absolute_error(y, preds))"
   ]
  },
  {
   "cell_type": "code",
   "execution_count": 54,
   "metadata": {},
   "outputs": [
    {
     "name": "stdout",
     "output_type": "stream",
     "text": [
      "225085.05291176474\n"
     ]
    }
   ],
   "source": [
    "from sklearn.metrics import mean_absolute_error\n",
    "from sklearn.ensemble import RandomForestRegressor\n",
    "\n",
    "model = RandomForestRegressor(random_state=42)\n",
    "_=model.fit(train_X, train_y)\n",
    "\n",
    "evalmodel(model,val_X,val_y)"
   ]
  },
  {
   "cell_type": "markdown",
   "metadata": {},
   "source": [
    "## What hyperparameters can I tune to make this better?"
   ]
  },
  {
   "cell_type": "code",
   "execution_count": 51,
   "metadata": {},
   "outputs": [
    {
     "data": {
      "text/plain": [
       "{'bootstrap': True,\n",
       " 'ccp_alpha': 0.0,\n",
       " 'criterion': 'squared_error',\n",
       " 'max_depth': None,\n",
       " 'max_features': 'auto',\n",
       " 'max_leaf_nodes': None,\n",
       " 'max_samples': None,\n",
       " 'min_impurity_decrease': 0.0,\n",
       " 'min_samples_leaf': 1,\n",
       " 'min_samples_split': 2,\n",
       " 'min_weight_fraction_leaf': 0.0,\n",
       " 'n_estimators': 100,\n",
       " 'n_jobs': None,\n",
       " 'oob_score': False,\n",
       " 'random_state': 42,\n",
       " 'verbose': 0,\n",
       " 'warm_start': False}"
      ]
     },
     "execution_count": 51,
     "metadata": {},
     "output_type": "execute_result"
    }
   ],
   "source": [
    "model.get_params()"
   ]
  },
  {
   "cell_type": "markdown",
   "metadata": {},
   "source": [
    "## lets do max_depth min_samples_split, min_samples_leaf and n_estimators"
   ]
  },
  {
   "cell_type": "markdown",
   "metadata": {},
   "source": [
    "# Use Optuna to tune hyperparameters"
   ]
  },
  {
   "cell_type": "code",
   "execution_count": 48,
   "metadata": {},
   "outputs": [],
   "source": [
    "# !conda install -c conda-forge optuna -y"
   ]
  },
  {
   "cell_type": "markdown",
   "metadata": {},
   "source": [
    "simple optuna example"
   ]
  },
  {
   "cell_type": "code",
   "execution_count": 57,
   "metadata": {},
   "outputs": [
    {
     "name": "stdout",
     "output_type": "stream",
     "text": [
      "neg_mean_absolute_error: -214824.73917205882\n"
     ]
    }
   ],
   "source": [
    "#simple optuna example\n",
    "import sklearn.datasets\n",
    "import sklearn.ensemble\n",
    "import sklearn.model_selection\n",
    "def objective(X,y):\n",
    "    clf = sklearn.ensemble.RandomForestRegressor(random_state=42)  # Define the model.\n",
    "    return sklearn.model_selection.cross_val_score( clf, X, y, n_jobs=-1, cv=10,scoring='neg_mean_absolute_error').mean() \n",
    "\n",
    "print('neg_mean_absolute_error: {}'.format(objective(X,y)))"
   ]
  },
  {
   "cell_type": "markdown",
   "metadata": {},
   "source": [
    "finding the best hyperparameters"
   ]
  },
  {
   "cell_type": "code",
   "execution_count": null,
   "metadata": {},
   "outputs": [],
   "source": [
    "# Define the model\n",
    "clf = sklearn.ensemble.RandomForestRegressor()\n",
    "\n",
    "#get the cross validation score\n",
    "numb_folds=5\n",
    "mae=sklearn.model_selection.cross_val_score(clf, train_X, train_y, cv=numb_folds, scoring='neg_mean_absolute_error').mean() \n",
    "print(f'The mean absolute error={mae}')"
   ]
  },
  {
   "cell_type": "code",
   "execution_count": 56,
   "metadata": {
    "tags": []
   },
   "outputs": [
    {
     "name": "stderr",
     "output_type": "stream",
     "text": [
      "\u001b[32m[I 2022-03-16 01:31:28,520]\u001b[0m A new study created in memory with name: no-name-bce606bb-9f0b-4e36-9f19-54580187831b\u001b[0m\n",
      "\u001b[32m[I 2022-03-16 01:31:29,383]\u001b[0m Trial 0 finished with value: -412671.0151869372 and parameters: {'n_estimators': 41, 'max_depth': 1.1205925265473706, 'min_samples_split': 8.834147972278103}. Best is trial 0 with value: -412671.0151869372.\u001b[0m\n",
      "\u001b[32m[I 2022-03-16 01:31:29,895]\u001b[0m Trial 1 finished with value: -264947.55275333585 and parameters: {'n_estimators': 60, 'max_depth': 5.287957535399268, 'min_samples_split': 7.536696360382102}. Best is trial 1 with value: -264947.55275333585.\u001b[0m\n",
      "\u001b[32m[I 2022-03-16 01:31:30,244]\u001b[0m Trial 2 finished with value: -215754.29642152422 and parameters: {'n_estimators': 81, 'max_depth': 24.094709193580808, 'min_samples_split': 4.895725467692583}. Best is trial 2 with value: -215754.29642152422.\u001b[0m\n",
      "\u001b[32m[I 2022-03-16 01:31:30,293]\u001b[0m Trial 3 finished with value: -323163.25507652346 and parameters: {'n_estimators': 13, 'max_depth': 3.3647642859698323, 'min_samples_split': 3.9745619643480907}. Best is trial 2 with value: -215754.29642152422.\u001b[0m\n",
      "\u001b[32m[I 2022-03-16 01:31:30,438]\u001b[0m Trial 4 finished with value: -219994.72584896823 and parameters: {'n_estimators': 31, 'max_depth': 16.87940497306904, 'min_samples_split': 7.303889438409587}. Best is trial 2 with value: -215754.29642152422.\u001b[0m\n",
      "\u001b[32m[I 2022-03-16 01:31:30,663]\u001b[0m Trial 5 finished with value: -287487.0242979672 and parameters: {'n_estimators': 81, 'max_depth': 4.675241934634848, 'min_samples_split': 7.675022455638202}. Best is trial 2 with value: -215754.29642152422.\u001b[0m\n",
      "\u001b[32m[I 2022-03-16 01:31:30,821]\u001b[0m Trial 6 finished with value: -264737.8252143633 and parameters: {'n_estimators': 55, 'max_depth': 5.862065521906373, 'min_samples_split': 5.030322229062613}. Best is trial 2 with value: -215754.29642152422.\u001b[0m\n",
      "\u001b[32m[I 2022-03-16 01:31:30,871]\u001b[0m Trial 7 finished with value: -322553.9379161203 and parameters: {'n_estimators': 16, 'max_depth': 3.0519011019579363, 'min_samples_split': 3.8103755404050053}. Best is trial 2 with value: -215754.29642152422.\u001b[0m\n",
      "\u001b[32m[I 2022-03-16 01:31:30,973]\u001b[0m Trial 8 finished with value: -412447.5664139678 and parameters: {'n_estimators': 47, 'max_depth': 1.2047974564728499, 'min_samples_split': 5.617463996377161}. Best is trial 2 with value: -215754.29642152422.\u001b[0m\n",
      "\u001b[32m[I 2022-03-16 01:31:31,213]\u001b[0m Trial 9 finished with value: -252167.69073321996 and parameters: {'n_estimators': 79, 'max_depth': 6.023839700987597, 'min_samples_split': 8.232284212375424}. Best is trial 2 with value: -215754.29642152422.\u001b[0m\n",
      "\u001b[32m[I 2022-03-16 01:31:31,672]\u001b[0m Trial 10 finished with value: -215000.98418002384 and parameters: {'n_estimators': 98, 'max_depth': 28.214307638757074, 'min_samples_split': 2.4654563225018147}. Best is trial 10 with value: -215000.98418002384.\u001b[0m\n",
      "\u001b[32m[I 2022-03-16 01:31:32,138]\u001b[0m Trial 11 finished with value: -214824.73917205882 and parameters: {'n_estimators': 100, 'max_depth': 30.730559380705433, 'min_samples_split': 2.2219573538254958}. Best is trial 11 with value: -214824.73917205882.\u001b[0m\n",
      "\u001b[32m[I 2022-03-16 01:31:32,600]\u001b[0m Trial 12 finished with value: -214776.3954504376 and parameters: {'n_estimators': 99, 'max_depth': 29.496566116123642, 'min_samples_split': 2.028688153104871}. Best is trial 12 with value: -214776.3954504376.\u001b[0m\n",
      "\u001b[32m[I 2022-03-16 01:31:33,008]\u001b[0m Trial 13 finished with value: -217351.59748883257 and parameters: {'n_estimators': 94, 'max_depth': 13.66161581745391, 'min_samples_split': 2.0261782930911565}. Best is trial 12 with value: -214776.3954504376.\u001b[0m\n",
      "\u001b[32m[I 2022-03-16 01:31:33,331]\u001b[0m Trial 14 finished with value: -220763.1125513018 and parameters: {'n_estimators': 69, 'max_depth': 11.412438679858784, 'min_samples_split': 2.907654214949845}. Best is trial 12 with value: -214776.3954504376.\u001b[0m\n",
      "\u001b[32m[I 2022-03-16 01:31:33,781]\u001b[0m Trial 15 finished with value: -214776.3954504376 and parameters: {'n_estimators': 99, 'max_depth': 31.319937033118396, 'min_samples_split': 2.066100181946704}. Best is trial 12 with value: -214776.3954504376.\u001b[0m\n",
      "\u001b[32m[I 2022-03-16 01:31:34,168]\u001b[0m Trial 16 finished with value: -215906.63841513853 and parameters: {'n_estimators': 83, 'max_depth': 19.584236858536816, 'min_samples_split': 2.9724338286558973}. Best is trial 12 with value: -214776.3954504376.\u001b[0m\n",
      "\u001b[32m[I 2022-03-16 01:31:34,502]\u001b[0m Trial 17 finished with value: -226471.9848418667 and parameters: {'n_estimators': 90, 'max_depth': 9.439100186962195, 'min_samples_split': 2.8034066104735147}. Best is trial 12 with value: -214776.3954504376.\u001b[0m\n",
      "\u001b[32m[I 2022-03-16 01:31:34,766]\u001b[0m Trial 18 finished with value: -225954.73104491612 and parameters: {'n_estimators': 69, 'max_depth': 9.257737380387477, 'min_samples_split': 3.4653282007228863}. Best is trial 12 with value: -214776.3954504376.\u001b[0m\n",
      "\u001b[32m[I 2022-03-16 01:31:35,111]\u001b[0m Trial 19 finished with value: -216307.5060456202 and parameters: {'n_estimators': 73, 'max_depth': 19.150925809765962, 'min_samples_split': 2.4256518203001742}. Best is trial 12 with value: -214776.3954504376.\u001b[0m\n",
      "\u001b[32m[I 2022-03-16 01:31:35,286]\u001b[0m Trial 20 finished with value: -412635.2966884849 and parameters: {'n_estimators': 91, 'max_depth': 1.8487159371679334, 'min_samples_split': 2.020389915100442}. Best is trial 12 with value: -214776.3954504376.\u001b[0m\n",
      "\u001b[32m[I 2022-03-16 01:31:35,745]\u001b[0m Trial 21 finished with value: -214824.73917205882 and parameters: {'n_estimators': 100, 'max_depth': 31.986513340819894, 'min_samples_split': 2.320888985808727}. Best is trial 12 with value: -214776.3954504376.\u001b[0m\n",
      "\u001b[32m[I 2022-03-16 01:31:36,164]\u001b[0m Trial 22 finished with value: -215084.44200724526 and parameters: {'n_estimators': 89, 'max_depth': 24.479467847001136, 'min_samples_split': 2.368617243283435}. Best is trial 12 with value: -214776.3954504376.\u001b[0m\n",
      "\u001b[32m[I 2022-03-16 01:31:36,626]\u001b[0m Trial 23 finished with value: -216688.06931654696 and parameters: {'n_estimators': 99, 'max_depth': 14.945208702730557, 'min_samples_split': 2.033733845839879}. Best is trial 12 with value: -214776.3954504376.\u001b[0m\n",
      "\u001b[32m[I 2022-03-16 01:31:37,017]\u001b[0m Trial 24 finished with value: -215801.43815942752 and parameters: {'n_estimators': 88, 'max_depth': 21.760603449976294, 'min_samples_split': 3.231464973034555}. Best is trial 12 with value: -214776.3954504376.\u001b[0m\n",
      "\u001b[32m[I 2022-03-16 01:31:37,401]\u001b[0m Trial 25 finished with value: -215743.57990706392 and parameters: {'n_estimators': 74, 'max_depth': 31.384849439363553, 'min_samples_split': 2.624216889435622}. Best is trial 12 with value: -214776.3954504376.\u001b[0m\n",
      "\u001b[32m[I 2022-03-16 01:31:37,839]\u001b[0m Trial 26 finished with value: -216966.52446740487 and parameters: {'n_estimators': 100, 'max_depth': 13.291532662327704, 'min_samples_split': 2.2060468662633235}. Best is trial 12 with value: -214776.3954504376.\u001b[0m\n",
      "\u001b[32m[I 2022-03-16 01:31:38,142]\u001b[0m Trial 27 finished with value: -216691.57507728157 and parameters: {'n_estimators': 60, 'max_depth': 31.755990900960505, 'min_samples_split': 2.570092527533267}. Best is trial 12 with value: -214776.3954504376.\u001b[0m\n",
      "\u001b[32m[I 2022-03-16 01:31:38,465]\u001b[0m Trial 28 finished with value: -240623.55640856308 and parameters: {'n_estimators': 93, 'max_depth': 7.766385199512656, 'min_samples_split': 3.2525404448331843}. Best is trial 12 with value: -214776.3954504376.\u001b[0m\n",
      "\u001b[32m[I 2022-03-16 01:31:38,598]\u001b[0m Trial 29 finished with value: -222999.5604041432 and parameters: {'n_estimators': 28, 'max_depth': 23.477363444858117, 'min_samples_split': 9.389639011362142}. Best is trial 12 with value: -214776.3954504376.\u001b[0m\n",
      "\u001b[32m[I 2022-03-16 01:31:39,039]\u001b[0m Trial 30 finished with value: -215540.78685654624 and parameters: {'n_estimators': 85, 'max_depth': 17.759902447311035, 'min_samples_split': 2.2147440746691545}. Best is trial 12 with value: -214776.3954504376.\u001b[0m\n",
      "\u001b[32m[I 2022-03-16 01:31:39,525]\u001b[0m Trial 31 finished with value: -214824.73917205882 and parameters: {'n_estimators': 100, 'max_depth': 31.8029567068361, 'min_samples_split': 2.2374574117810613}. Best is trial 12 with value: -214776.3954504376.\u001b[0m\n",
      "\u001b[32m[I 2022-03-16 01:31:40,031]\u001b[0m Trial 32 finished with value: -215170.0316760345 and parameters: {'n_estimators': 94, 'max_depth': 25.560933543345538, 'min_samples_split': 2.712440617206827}. Best is trial 12 with value: -214776.3954504376.\u001b[0m\n",
      "\u001b[32m[I 2022-03-16 01:31:40,512]\u001b[0m Trial 33 finished with value: -215223.90695871893 and parameters: {'n_estimators': 96, 'max_depth': 21.230305058692696, 'min_samples_split': 2.2911749329319053}. Best is trial 12 with value: -214776.3954504376.\u001b[0m\n",
      "\u001b[32m[I 2022-03-16 01:31:40,897]\u001b[0m Trial 34 finished with value: -215302.67929801665 and parameters: {'n_estimators': 87, 'max_depth': 25.293874700631715, 'min_samples_split': 6.1979859578008085}. Best is trial 12 with value: -214776.3954504376.\u001b[0m\n",
      "\u001b[32m[I 2022-03-16 01:31:41,266]\u001b[0m Trial 35 finished with value: -217986.03182404712 and parameters: {'n_estimators': 77, 'max_depth': 16.332125261387656, 'min_samples_split': 2.0226496059484047}. Best is trial 12 with value: -214776.3954504376.\u001b[0m\n",
      "\u001b[32m[I 2022-03-16 01:31:41,464]\u001b[0m Trial 36 finished with value: -218829.45024554204 and parameters: {'n_estimators': 40, 'max_depth': 26.797727231117435, 'min_samples_split': 4.079883279161181}. Best is trial 12 with value: -214776.3954504376.\u001b[0m\n",
      "\u001b[32m[I 2022-03-16 01:31:41,784]\u001b[0m Trial 37 finished with value: -216591.3424073498 and parameters: {'n_estimators': 63, 'max_depth': 31.698147093344268, 'min_samples_split': 2.5253221662075163}. Best is trial 12 with value: -214776.3954504376.\u001b[0m\n",
      "\u001b[32m[I 2022-03-16 01:31:41,991]\u001b[0m Trial 38 finished with value: -319991.02921229997 and parameters: {'n_estimators': 83, 'max_depth': 3.7438749783976712, 'min_samples_split': 3.0884194583802462}. Best is trial 12 with value: -214776.3954504376.\u001b[0m\n",
      "\u001b[32m[I 2022-03-16 01:31:42,415]\u001b[0m Trial 39 finished with value: -219973.44669425982 and parameters: {'n_estimators': 95, 'max_depth': 11.581057760802763, 'min_samples_split': 2.2025834470629286}. Best is trial 12 with value: -214776.3954504376.\u001b[0m\n",
      "\u001b[32m[I 2022-03-16 01:31:42,610]\u001b[0m Trial 40 finished with value: -363041.9821614158 and parameters: {'n_estimators': 86, 'max_depth': 2.248653684765659, 'min_samples_split': 4.56640892536202}. Best is trial 12 with value: -214776.3954504376.\u001b[0m\n",
      "\u001b[32m[I 2022-03-16 01:31:43,087]\u001b[0m Trial 41 finished with value: -214988.32015018965 and parameters: {'n_estimators': 98, 'max_depth': 31.831859180373424, 'min_samples_split': 2.189744455669183}. Best is trial 12 with value: -214776.3954504376.\u001b[0m\n",
      "\u001b[32m[I 2022-03-16 01:31:43,563]\u001b[0m Trial 42 finished with value: -214839.50730398926 and parameters: {'n_estimators': 98, 'max_depth': 20.910591185930805, 'min_samples_split': 2.37755947084157}. Best is trial 12 with value: -214776.3954504376.\u001b[0m\n",
      "\u001b[32m[I 2022-03-16 01:31:44,072]\u001b[0m Trial 43 finished with value: -214831.68909079526 and parameters: {'n_estimators': 100, 'max_depth': 27.040265986445526, 'min_samples_split': 2.708527746479164}. Best is trial 12 with value: -214776.3954504376.\u001b[0m\n",
      "\u001b[32m[I 2022-03-16 01:31:44,533]\u001b[0m Trial 44 finished with value: -215674.49805304868 and parameters: {'n_estimators': 91, 'max_depth': 17.147957922081318, 'min_samples_split': 2.1648712095000593}. Best is trial 12 with value: -214776.3954504376.\u001b[0m\n",
      "\u001b[32m[I 2022-03-16 01:31:44,985]\u001b[0m Trial 45 finished with value: -215168.51120893788 and parameters: {'n_estimators': 94, 'max_depth': 28.24669634380621, 'min_samples_split': 2.514689343606939}. Best is trial 12 with value: -214776.3954504376.\u001b[0m\n",
      "\u001b[32m[I 2022-03-16 01:31:45,389]\u001b[0m Trial 46 finished with value: -215951.29706037295 and parameters: {'n_estimators': 81, 'max_depth': 22.37256163204985, 'min_samples_split': 2.3727165644294534}. Best is trial 12 with value: -214776.3954504376.\u001b[0m\n",
      "\u001b[32m[I 2022-03-16 01:31:45,637]\u001b[0m Trial 47 finished with value: -217926.44489793497 and parameters: {'n_estimators': 49, 'max_depth': 19.497195998223184, 'min_samples_split': 3.596339108625836}. Best is trial 12 with value: -214776.3954504376.\u001b[0m\n",
      "\u001b[32m[I 2022-03-16 01:31:46,101]\u001b[0m Trial 48 finished with value: -215254.39303767946 and parameters: {'n_estimators': 91, 'max_depth': 27.934924315167006, 'min_samples_split': 2.86836572477313}. Best is trial 12 with value: -214776.3954504376.\u001b[0m\n",
      "\u001b[32m[I 2022-03-16 01:31:46,573]\u001b[0m Trial 49 finished with value: -216804.29262961927 and parameters: {'n_estimators': 100, 'max_depth': 14.842687264014547, 'min_samples_split': 2.129470142139831}. Best is trial 12 with value: -214776.3954504376.\u001b[0m\n",
      "\u001b[32m[I 2022-03-16 01:31:46,630]\u001b[0m Trial 50 finished with value: -414080.2677675948 and parameters: {'n_estimators': 21, 'max_depth': 1.1234499066695889, 'min_samples_split': 6.355594634102942}. Best is trial 12 with value: -214776.3954504376.\u001b[0m\n",
      "\u001b[32m[I 2022-03-16 01:31:47,156]\u001b[0m Trial 51 finished with value: -214831.68909079526 and parameters: {'n_estimators': 100, 'max_depth': 27.282207572745936, 'min_samples_split': 2.6806792754770465}. Best is trial 12 with value: -214776.3954504376.\u001b[0m\n",
      "\u001b[32m[I 2022-03-16 01:31:47,621]\u001b[0m Trial 52 finished with value: -214995.17964450517 and parameters: {'n_estimators': 96, 'max_depth': 24.174667180909047, 'min_samples_split': 2.0008233885864284}. Best is trial 12 with value: -214776.3954504376.\u001b[0m\n",
      "\u001b[32m[I 2022-03-16 01:31:48,090]\u001b[0m Trial 53 finished with value: -215109.09570234682 and parameters: {'n_estimators': 95, 'max_depth': 28.457890751146188, 'min_samples_split': 2.318201498261228}. Best is trial 12 with value: -214776.3954504376.\u001b[0m\n",
      "\u001b[32m[I 2022-03-16 01:31:48,559]\u001b[0m Trial 54 finished with value: -215419.36342814224 and parameters: {'n_estimators': 90, 'max_depth': 22.951213197726094, 'min_samples_split': 2.121667343892374}. Best is trial 12 with value: -214776.3954504376.\u001b[0m\n",
      "\u001b[32m[I 2022-03-16 01:31:49,033]\u001b[0m Trial 55 finished with value: -215288.678574031 and parameters: {'n_estimators': 97, 'max_depth': 18.977336442200922, 'min_samples_split': 2.533756611264569}. Best is trial 12 with value: -214776.3954504376.\u001b[0m\n",
      "\u001b[32m[I 2022-03-16 01:31:49,515]\u001b[0m Trial 56 finished with value: -215313.2803093524 and parameters: {'n_estimators': 92, 'max_depth': 28.97740495539365, 'min_samples_split': 2.7466535491907527}. Best is trial 12 with value: -214776.3954504376.\u001b[0m\n",
      "\u001b[32m[I 2022-03-16 01:31:49,945]\u001b[0m Trial 57 finished with value: -214898.193140084 and parameters: {'n_estimators': 87, 'max_depth': 24.641756759419394, 'min_samples_split': 2.3050120033418517}. Best is trial 12 with value: -214776.3954504376.\u001b[0m\n",
      "\u001b[32m[I 2022-03-16 01:31:50,248]\u001b[0m Trial 58 finished with value: -264758.3695175351 and parameters: {'n_estimators': 100, 'max_depth': 5.118621965019199, 'min_samples_split': 2.46473130124706}. Best is trial 12 with value: -214776.3954504376.\u001b[0m\n",
      "\u001b[32m[I 2022-03-16 01:31:50,609]\u001b[0m Trial 59 finished with value: -216336.52135149002 and parameters: {'n_estimators': 77, 'max_depth': 21.626845808204145, 'min_samples_split': 3.057096196860954}. Best is trial 12 with value: -214776.3954504376.\u001b[0m\n",
      "\u001b[32m[I 2022-03-16 01:31:50,904]\u001b[0m Trial 60 finished with value: -251866.5270708133 and parameters: {'n_estimators': 84, 'max_depth': 6.654372418417148, 'min_samples_split': 2.0943787638362625}. Best is trial 12 with value: -214776.3954504376.\u001b[0m\n",
      "\u001b[32m[I 2022-03-16 01:31:51,419]\u001b[0m Trial 61 finished with value: -214783.41557037327 and parameters: {'n_estimators': 99, 'max_depth': 27.92999615492104, 'min_samples_split': 2.690910080241146}. Best is trial 12 with value: -214776.3954504376.\u001b[0m\n",
      "\u001b[32m[I 2022-03-16 01:31:51,900]\u001b[0m Trial 62 finished with value: -215008.7808512641 and parameters: {'n_estimators': 97, 'max_depth': 29.10527059871971, 'min_samples_split': 2.64010934301272}. Best is trial 12 with value: -214776.3954504376.\u001b[0m\n",
      "\u001b[32m[I 2022-03-16 01:31:52,373]\u001b[0m Trial 63 finished with value: -215224.92838729202 and parameters: {'n_estimators': 93, 'max_depth': 31.296534392587247, 'min_samples_split': 2.285004199171817}. Best is trial 12 with value: -214776.3954504376.\u001b[0m\n",
      "\u001b[32m[I 2022-03-16 01:31:52,871]\u001b[0m Trial 64 finished with value: -214743.8860959198 and parameters: {'n_estimators': 100, 'max_depth': 24.96901425364306, 'min_samples_split': 2.8858608539703594}. Best is trial 64 with value: -214743.8860959198.\u001b[0m\n",
      "\u001b[32m[I 2022-03-16 01:31:53,290]\u001b[0m Trial 65 finished with value: -215840.15102082753 and parameters: {'n_estimators': 88, 'max_depth': 24.692247911690934, 'min_samples_split': 3.2764796695023097}. Best is trial 64 with value: -214743.8860959198.\u001b[0m\n",
      "\u001b[32m[I 2022-03-16 01:31:53,784]\u001b[0m Trial 66 finished with value: -214793.72667041846 and parameters: {'n_estimators': 95, 'max_depth': 20.342164067326483, 'min_samples_split': 2.897455412242339}. Best is trial 64 with value: -214743.8860959198.\u001b[0m\n",
      "\u001b[32m[I 2022-03-16 01:31:54,261]\u001b[0m Trial 67 finished with value: -215655.4897896584 and parameters: {'n_estimators': 96, 'max_depth': 18.30610584713181, 'min_samples_split': 3.57001963644071}. Best is trial 64 with value: -214743.8860959198.\u001b[0m\n",
      "\u001b[32m[I 2022-03-16 01:31:54,730]\u001b[0m Trial 68 finished with value: -215393.71321916487 and parameters: {'n_estimators': 93, 'max_depth': 21.049072732535908, 'min_samples_split': 2.920308392868665}. Best is trial 64 with value: -214743.8860959198.\u001b[0m\n",
      "\u001b[32m[I 2022-03-16 01:31:55,188]\u001b[0m Trial 69 finished with value: -216274.168634293 and parameters: {'n_estimators': 90, 'max_depth': 16.13181634307788, 'min_samples_split': 3.065823520959952}. Best is trial 64 with value: -214743.8860959198.\u001b[0m\n",
      "\u001b[32m[I 2022-03-16 01:31:55,643]\u001b[0m Trial 70 finished with value: -219862.04468193697 and parameters: {'n_estimators': 97, 'max_depth': 11.800784826921236, 'min_samples_split': 2.4380649270134516}. Best is trial 64 with value: -214743.8860959198.\u001b[0m\n",
      "\u001b[32m[I 2022-03-16 01:31:55,721]\u001b[0m Trial 71 finished with value: -230321.85288471315 and parameters: {'n_estimators': 10, 'max_depth': 31.794896554158093, 'min_samples_split': 2.253838284551881}. Best is trial 64 with value: -214743.8860959198.\u001b[0m\n",
      "\u001b[32m[I 2022-03-16 01:31:56,248]\u001b[0m Trial 72 finished with value: -214873.07171506248 and parameters: {'n_estimators': 100, 'max_depth': 26.09911208750446, 'min_samples_split': 2.1059550476370252}. Best is trial 64 with value: -214743.8860959198.\u001b[0m\n",
      "\u001b[32m[I 2022-03-16 01:31:56,747]\u001b[0m Trial 73 finished with value: -215402.98241900717 and parameters: {'n_estimators': 94, 'max_depth': 22.967257652574798, 'min_samples_split': 2.567918730650726}. Best is trial 64 with value: -214743.8860959198.\u001b[0m\n",
      "\u001b[32m[I 2022-03-16 01:31:57,235]\u001b[0m Trial 74 finished with value: -215021.5754381069 and parameters: {'n_estimators': 97, 'max_depth': 28.748486102580316, 'min_samples_split': 2.81250113163495}. Best is trial 64 with value: -214743.8860959198.\u001b[0m\n",
      "\u001b[32m[I 2022-03-16 01:31:57,683]\u001b[0m Trial 75 finished with value: -215889.3546215611 and parameters: {'n_estimators': 92, 'max_depth': 25.836479168694442, 'min_samples_split': 3.9545682810435396}. Best is trial 64 with value: -214743.8860959198.\u001b[0m\n",
      "\u001b[32m[I 2022-03-16 01:31:57,895]\u001b[0m Trial 76 finished with value: -412767.71521785395 and parameters: {'n_estimators': 98, 'max_depth': 1.5716885656904913, 'min_samples_split': 2.407803294332855}. Best is trial 64 with value: -214743.8860959198.\u001b[0m\n",
      "\u001b[32m[I 2022-03-16 01:31:58,341]\u001b[0m Trial 77 finished with value: -215179.94251122334 and parameters: {'n_estimators': 88, 'max_depth': 29.84324676144492, 'min_samples_split': 2.0675259177446885}. Best is trial 64 with value: -214743.8860959198.\u001b[0m\n",
      "\u001b[32m[I 2022-03-16 01:31:58,679]\u001b[0m Trial 78 finished with value: -216167.2799439674 and parameters: {'n_estimators': 66, 'max_depth': 20.202010160211803, 'min_samples_split': 2.223794729087611}. Best is trial 64 with value: -214743.8860959198.\u001b[0m\n",
      "\u001b[32m[I 2022-03-16 01:31:59,156]\u001b[0m Trial 79 finished with value: -215036.67448080587 and parameters: {'n_estimators': 95, 'max_depth': 23.294694140811092, 'min_samples_split': 2.007372419126639}. Best is trial 64 with value: -214743.8860959198.\u001b[0m\n",
      "\u001b[32m[I 2022-03-16 01:31:59,484]\u001b[0m Trial 80 finished with value: -225851.25026272662 and parameters: {'n_estimators': 81, 'max_depth': 9.750115407675269, 'min_samples_split': 5.368449582220884}. Best is trial 64 with value: -214743.8860959198.\u001b[0m\n",
      "\u001b[32m[I 2022-03-16 01:31:59,993]\u001b[0m Trial 81 finished with value: -214831.68909079526 and parameters: {'n_estimators': 100, 'max_depth': 27.120187581694736, 'min_samples_split': 2.6854427582301574}. Best is trial 64 with value: -214743.8860959198.\u001b[0m\n",
      "\u001b[32m[I 2022-03-16 01:32:00,505]\u001b[0m Trial 82 finished with value: -214873.07171506248 and parameters: {'n_estimators': 100, 'max_depth': 26.010920739240294, 'min_samples_split': 2.606760502110645}. Best is trial 64 with value: -214743.8860959198.\u001b[0m\n",
      "\u001b[32m[I 2022-03-16 01:32:00,712]\u001b[0m Trial 83 finished with value: -220966.34084122456 and parameters: {'n_estimators': 36, 'max_depth': 30.494270953507506, 'min_samples_split': 3.3528420971607873}. Best is trial 64 with value: -214743.8860959198.\u001b[0m\n",
      "\u001b[32m[I 2022-03-16 01:32:01,239]\u001b[0m Trial 84 finished with value: -215030.30113644796 and parameters: {'n_estimators': 98, 'max_depth': 26.768859520107195, 'min_samples_split': 2.9744332066038495}. Best is trial 64 with value: -214743.8860959198.\u001b[0m\n",
      "\u001b[32m[I 2022-03-16 01:32:01,533]\u001b[0m Trial 85 finished with value: -217002.24829981843 and parameters: {'n_estimators': 50, 'max_depth': 31.98076926886548, 'min_samples_split': 2.324706343500624}. Best is trial 64 with value: -214743.8860959198.\u001b[0m\n",
      "\u001b[32m[I 2022-03-16 01:32:01,802]\u001b[0m Trial 86 finished with value: -288105.537167656 and parameters: {'n_estimators': 95, 'max_depth': 4.1500520228362445, 'min_samples_split': 2.830959903473789}. Best is trial 64 with value: -214743.8860959198.\u001b[0m\n",
      "\u001b[32m[I 2022-03-16 01:32:02,298]\u001b[0m Trial 87 finished with value: -215236.01886871358 and parameters: {'n_estimators': 92, 'max_depth': 23.533646914236794, 'min_samples_split': 2.1630282037330484}. Best is trial 64 with value: -214743.8860959198.\u001b[0m\n",
      "\u001b[32m[I 2022-03-16 01:32:02,795]\u001b[0m Trial 88 finished with value: -214839.50730398926 and parameters: {'n_estimators': 98, 'max_depth': 20.849328864387587, 'min_samples_split': 2.4327092233228953}. Best is trial 64 with value: -214743.8860959198.\u001b[0m\n",
      "\u001b[32m[I 2022-03-16 01:32:02,994]\u001b[0m Trial 89 finished with value: -363163.14237656246 and parameters: {'n_estimators': 89, 'max_depth': 2.5961030845366375, 'min_samples_split': 2.74662084488517}. Best is trial 64 with value: -214743.8860959198.\u001b[0m\n",
      "\u001b[32m[I 2022-03-16 01:32:03,308]\u001b[0m Trial 90 finished with value: -216559.39537259997 and parameters: {'n_estimators': 57, 'max_depth': 27.498122792203155, 'min_samples_split': 2.503140707203423}. Best is trial 64 with value: -214743.8860959198.\u001b[0m\n",
      "\u001b[32m[I 2022-03-16 01:32:03,863]\u001b[0m Trial 91 finished with value: -214837.1499212963 and parameters: {'n_estimators': 100, 'max_depth': 28.755354115698076, 'min_samples_split': 2.6634888823904412}. Best is trial 64 with value: -214743.8860959198.\u001b[0m\n",
      "\u001b[32m[I 2022-03-16 01:32:04,350]\u001b[0m Trial 92 finished with value: -215109.76425121393 and parameters: {'n_estimators': 95, 'max_depth': 25.046508554009094, 'min_samples_split': 2.984912241852572}. Best is trial 64 with value: -214743.8860959198.\u001b[0m\n",
      "\u001b[32m[I 2022-03-16 01:32:04,822]\u001b[0m Trial 93 finished with value: -215731.76975119364 and parameters: {'n_estimators': 98, 'max_depth': 26.760530785570936, 'min_samples_split': 3.2064917903534083}. Best is trial 64 with value: -214743.8860959198.\u001b[0m\n",
      "\u001b[32m[I 2022-03-16 01:32:05,334]\u001b[0m Trial 94 finished with value: -215133.5192546531 and parameters: {'n_estimators': 100, 'max_depth': 22.136371284745074, 'min_samples_split': 2.252391334858632}. Best is trial 64 with value: -214743.8860959198.\u001b[0m\n",
      "\u001b[32m[I 2022-03-16 01:32:05,854]\u001b[0m Trial 95 finished with value: -215623.55367011475 and parameters: {'n_estimators': 96, 'max_depth': 19.215514472875892, 'min_samples_split': 2.365791761442441}. Best is trial 64 with value: -214743.8860959198.\u001b[0m\n",
      "\u001b[32m[I 2022-03-16 01:32:06,341]\u001b[0m Trial 96 finished with value: -215155.30828421717 and parameters: {'n_estimators': 94, 'max_depth': 29.376947644841135, 'min_samples_split': 2.6675696873496366}. Best is trial 64 with value: -214743.8860959198.\u001b[0m\n",
      "\u001b[32m[I 2022-03-16 01:32:06,780]\u001b[0m Trial 97 finished with value: -215587.5937837217 and parameters: {'n_estimators': 92, 'max_depth': 24.35036438907368, 'min_samples_split': 4.391133032409687}. Best is trial 64 with value: -214743.8860959198.\u001b[0m\n",
      "\u001b[32m[I 2022-03-16 01:32:07,288]\u001b[0m Trial 98 finished with value: -214988.32015018965 and parameters: {'n_estimators': 98, 'max_depth': 29.369354886029203, 'min_samples_split': 2.0834760371347145}. Best is trial 64 with value: -214743.8860959198.\u001b[0m\n",
      "\u001b[32m[I 2022-03-16 01:32:07,709]\u001b[0m Trial 99 finished with value: -215801.6157905942 and parameters: {'n_estimators': 90, 'max_depth': 16.737755542540597, 'min_samples_split': 7.113240584738511}. Best is trial 64 with value: -214743.8860959198.\u001b[0m\n"
     ]
    },
    {
     "name": "stdout",
     "output_type": "stream",
     "text": [
      "neg_mean_absolute_error: -214743.8860959198\n",
      "Best hyperparameters: {'n_estimators': 100, 'max_depth': 24.96901425364306, 'min_samples_split': 2.8858608539703594}\n"
     ]
    }
   ],
   "source": [
    "import optuna\n",
    "def objective(trial,X=X,y=y):\n",
    "    n_estimators = trial.suggest_int('n_estimators', 10, 100)\n",
    "    max_depth = int(trial.suggest_float('max_depth', 1, 32, log=True))\n",
    "    min_samples_split = int(trial.suggest_float('min_samples_split', 2, 10, log=True))\n",
    "\n",
    "    # Define the model. Pass in params to be tuned\n",
    "    clf = sklearn.ensemble.RandomForestRegressor(random_state=42, n_estimators=n_estimators, max_depth=max_depth, min_samples_split=min_samples_split )  \n",
    "\n",
    "    #get the cross validation score\n",
    "    return sklearn.model_selection.cross_val_score( clf, X, y, n_jobs=-1, cv=10,scoring='neg_mean_absolute_error').mean() \n",
    " \n",
    "study = optuna.create_study(direction='maximize')\n",
    "study.optimize(objective, n_trials=100)\n",
    "\n",
    "trial = study.best_trial\n",
    "\n",
    "print('neg_mean_absolute_error: {}'.format(trial.value))\n",
    "print(\"Best hyperparameters: {}\".format(trial.params))\n",
    "    "
   ]
  },
  {
   "cell_type": "code",
   "execution_count": 55,
   "metadata": {},
   "outputs": [
    {
     "name": "stdout",
     "output_type": "stream",
     "text": [
      "224475.37040983982\n"
     ]
    }
   ],
   "source": [
    "model = RandomForestRegressor(random_state=42, n_estimators=99, max_depth=20.22, min_samples_split=3)\n",
    "_=model.fit(train_X, train_y)\n",
    "\n",
    "evalmodel(model,val_X,val_y)"
   ]
  },
  {
   "cell_type": "markdown",
   "metadata": {},
   "source": [
    "## Visualization: Is the model more accurate for any particular feature?  Or feature value?\n"
   ]
  },
  {
   "cell_type": "code",
   "execution_count": null,
   "metadata": {},
   "outputs": [],
   "source": [
    "for col in features:\n",
    "    _=plt.figure()\n",
    "    _=sns.scatterplot(data=val_X,x=col,y=val_y)\n",
    "    _=sns.scatterplot(data=val_X,x=col,y=preds)"
   ]
  },
  {
   "cell_type": "markdown",
   "metadata": {},
   "source": [
    "### The above plots are useless, is there a better way?"
   ]
  },
  {
   "cell_type": "code",
   "execution_count": null,
   "metadata": {},
   "outputs": [],
   "source": []
  }
 ],
 "metadata": {
  "kernelspec": {
   "display_name": "Python 3 (ipykernel)",
   "language": "python",
   "name": "python3"
  },
  "language_info": {
   "codemirror_mode": {
    "name": "ipython",
    "version": 3
   },
   "file_extension": ".py",
   "mimetype": "text/x-python",
   "name": "python",
   "nbconvert_exporter": "python",
   "pygments_lexer": "ipython3",
   "version": "3.9.7"
  },
  "widgets": {
   "application/vnd.jupyter.widget-state+json": {
    "state": {},
    "version_major": 2,
    "version_minor": 0
   }
  }
 },
 "nbformat": 4,
 "nbformat_minor": 4
}
