{
 "cells": [
  {
   "cell_type": "markdown",
   "metadata": {},
   "source": [
    "# Jupyter usage\n",
    "\n",
    "How to efficiently navigate a jupyter notebook, and use it's limited debugger."
   ]
  },
  {
   "cell_type": "code",
   "execution_count": 1,
   "metadata": {},
   "outputs": [],
   "source": [
    "import matplotlib.pyplot as plt\n",
    "import seaborn as sns\n",
    "\n",
    "import pandas as pd\n",
    "import numpy as np"
   ]
  },
  {
   "cell_type": "markdown",
   "metadata": {},
   "source": [
    "## Jupyter Shortcut Commands\n",
    "The following shortcuts work when in COMMAND mode.  To enter the COMMAND mode press ESC or click anywhere outside the cell\n",
    "\n",
    "<ul>\n",
    "\n",
    "<li> <mark>shift-enter #run cell </li>\n",
    "<li><mark>cmd-m #change cell to markdown</li>\n",
    "<li><mark>cmd-y #change cell to code</li>\n",
    "<li><mark>cmd-a #add cell before</li>\n",
    "<li><mark>cmd-b #add cell after</li>\n",
    "<li><mark>cmd d,d #delete cell</li>\n",
    "    <li><mark>cmd x #cut cell</li>\n",
    "<li><mark>cmd v #paste cell</li>\n",
    "<li><mark>cmd-o       #hide output, if needed, edit Settings->Advanced Settings->Keyboard Shortcuts- add O and shift-O to User Preferences</li>\n",
    "<li><mark>cmd shift-L  #toggle line numbers, useful to pinpoint where error occurred</li>\n",
    "\n",
    "<li><mark>Shift + Up Arrow select the current cell and the cell above</li>\n",
    "<li><mark>Shift + Down Arrow select the current cell and the cell below</li>\n",
    "<li><mark>Shift + m merge selected cells\n",
    "    \n",
    "</ul>\n",
    "  "
   ]
  },
  {
   "cell_type": "markdown",
   "metadata": {},
   "source": [
    "## Magic commands in Jupyter\n",
    "\n",
    "Magic commads help with analyzing data in Jupyter Notebooks<br>\n",
    "\n",
    "The following are some magics you may find useful.  For a complete list see \n",
    "[Built in  Magic Commands](https://ipython.readthedocs.io/en/stable/interactive/magics.html)\n",
    "\n"
   ]
  },
  {
   "cell_type": "markdown",
   "metadata": {},
   "source": [
    "### Line Magics\n",
    "\n",
    "<mark>Start with a % and apply to a single line.</mark><br> A useful subset follows."
   ]
  },
  {
   "cell_type": "code",
   "execution_count": 2,
   "metadata": {},
   "outputs": [
    {
     "data": {
      "text/plain": [
       "'/home/keith/AA_jupyter_tuts/DATA301_CODE/week_1'"
      ]
     },
     "execution_count": 2,
     "metadata": {},
     "output_type": "execute_result"
    }
   ],
   "source": [
    "#print current directory\n",
    "%pwd"
   ]
  },
  {
   "cell_type": "code",
   "execution_count": 7,
   "metadata": {},
   "outputs": [
    {
     "name": "stdout",
     "output_type": "stream",
     "text": [
      "/home/keith/AA_jupyter_tuts/DATA301_CODE\n"
     ]
    }
   ],
   "source": [
    "# first save current dir\n",
    "%pushd\n",
    "\n",
    "#then change the notebooks current working directory, this is permanent for all cells\n",
    "%cd .."
   ]
  },
  {
   "cell_type": "code",
   "execution_count": 10,
   "metadata": {},
   "outputs": [
    {
     "data": {
      "text/plain": [
       "'/home/keith/AA_jupyter_tuts/DATA301_CODE/week_1'"
      ]
     },
     "execution_count": 10,
     "metadata": {},
     "output_type": "execute_result"
    }
   ],
   "source": [
    "%pwd"
   ]
  },
  {
   "cell_type": "code",
   "execution_count": 9,
   "metadata": {},
   "outputs": [
    {
     "name": "stdout",
     "output_type": "stream",
     "text": [
      "/home/keith/AA_jupyter_tuts/DATA301_CODE/week_1\n",
      "popd -> ~/AA_jupyter_tuts/DATA301_CODE/week_1\n"
     ]
    }
   ],
   "source": [
    "#restore the pushed dir\n",
    "%popd"
   ]
  },
  {
   "cell_type": "code",
   "execution_count": null,
   "metadata": {},
   "outputs": [],
   "source": [
    "#measure how long the operation takes, averages over many iterations\n",
    "def fun1():\n",
    "    pass\n",
    "%timeit fun1"
   ]
  },
  {
   "cell_type": "code",
   "execution_count": 11,
   "metadata": {},
   "outputs": [
    {
     "name": "stdout",
     "output_type": "stream",
     "text": [
      "NamespaceMagics\t get_ipython\t getsizeof\t json\t np\t pd\t plt\t sns\t var_dic_list\t \n",
      "\n"
     ]
    }
   ],
   "source": [
    "#list of variables defined in this ipython session\n",
    "%who\n",
    "\n",
    "#same as above with a bit more info\n",
    "# %whos"
   ]
  },
  {
   "cell_type": "markdown",
   "metadata": {},
   "source": [
    "### Cell Magics\n",
    "<mark>Start with a %% and apply the to an entire cell.</mark><br>  %% commands must be the first line in the cell<br>"
   ]
  },
  {
   "cell_type": "code",
   "execution_count": null,
   "metadata": {},
   "outputs": [],
   "source": [
    "%%time\n",
    "for i in range(10):\n",
    "    pass\n",
    "\n",
    "#measure how long this cell takes to run, just 1 iteration"
   ]
  },
  {
   "cell_type": "markdown",
   "metadata": {},
   "source": [
    "## Shell commands in Jupyter\n",
    "You can run shell commands on the local operating system in Jupyter.  For instance to install missing packages or check the current directory or for a 1 time content download. <br>\n",
    "! calls out to a shell (in a new process) and then returns, while % affects the process associated with the notebook (or the notebook itself; many % commands have no shell counterpart).\n",
    "!cd foo, by itself, has no lasting effect, since the process with the changed directory immediately terminates.\n",
    "%cd foo changes the current directory of the notebook process, which is a lasting effect.<br>\n",
    "<mark>BEWARE- On my local machine, I'm calling out to a linux shell!  These commands should also work on a Mac since the OS is based on a unix kernel. If you are running on Windows however, then these '!' commands I am using will not work."
   ]
  },
  {
   "cell_type": "code",
   "execution_count": null,
   "metadata": {},
   "outputs": [],
   "source": [
    "# install if not there\n",
    "# once installed its in this kernel forever, so comment out following lines\n",
    "#since you dont want to install over and over\n",
    "# !pip install hdbscan -y\n",
    "# !pip install folium -y"
   ]
  },
  {
   "cell_type": "code",
   "execution_count": null,
   "metadata": {},
   "outputs": [],
   "source": [
    "#executes the shell command but does not change the notebooks directory\n",
    "#ie still in week_1\n",
    "!cd ..\n",
    "!pwd"
   ]
  },
  {
   "cell_type": "code",
   "execution_count": 1,
   "metadata": {},
   "outputs": [
    {
     "name": "stdout",
     "output_type": "stream",
     "text": [
      "1_JupyterUsage.ipynb  test.ipynb\n"
     ]
    }
   ],
   "source": [
    "#you can also access variables defined in your notebook by enclosing them in {}\n",
    "path='/home/keith/AA_jupyter_tuts/DATA301_CODE/week_1/'\n",
    "!ls {path}"
   ]
  },
  {
   "cell_type": "markdown",
   "metadata": {},
   "source": [
    "## Help on packages,functions and classes\n",
    "\n",
    "once you import a package you can get help on package contents<br>\n",
    "<mark>tab</mark>  offers context appropriate coding suggestions<br>\n",
    "<mark>shift-tab</mark>  offers api help including signatures and docstrings "
   ]
  },
  {
   "cell_type": "code",
   "execution_count": null,
   "metadata": {
    "tags": []
   },
   "outputs": [],
   "source": [
    "#create a series\n",
    "# ds=pd.  #add a dot to the left and then hit tab to get code suggestions\n",
    "\n",
    "ds=pd.Series([4,7,-5,3],index=['d','b','a','c']) #hover over pd or Series and hit shift-tab  "
   ]
  },
  {
   "cell_type": "markdown",
   "metadata": {},
   "source": [
    "you can get lots more information using ? and ??"
   ]
  },
  {
   "cell_type": "code",
   "execution_count": null,
   "metadata": {
    "tags": []
   },
   "outputs": [],
   "source": [
    "# get docstring, file location etc.\n",
    "pd.Series?"
   ]
  },
  {
   "cell_type": "code",
   "execution_count": null,
   "metadata": {
    "tags": []
   },
   "outputs": [],
   "source": [
    "#get sourcecode\n",
    "pd.Series??"
   ]
  },
  {
   "cell_type": "code",
   "execution_count": 12,
   "metadata": {},
   "outputs": [
    {
     "name": "stdout",
     "output_type": "stream",
     "text": [
      "/home/keith/anaconda3/envs/data301s23/lib/python3.9/site-packages/pandas/__init__.py\n",
      "/home/keith/anaconda3/envs/data301s23/lib/python3.9/site-packages/pandas/core/series.py\n"
     ]
    }
   ],
   "source": [
    "# If you import something, you can see where it is by asking for it's file attribute\n",
    "import pandas as pd\n",
    "print(pd.__file__)\n",
    "\n",
    "import pandas.core.series as s\n",
    "print(s.__file__)\n",
    "\n",
    "#this will not work since Series is stored in file series.py in the core dir under pandas\n",
    "#import pandas.Series as s\n",
    "\n",
    "#? if above does not work then how can s= pd.Series(...) work?  where is the .core?  \n",
    "# Answer: Look in pandas __init__.py.  It imports Series from core."
   ]
  },
  {
   "cell_type": "code",
   "execution_count": null,
   "metadata": {
    "tags": []
   },
   "outputs": [],
   "source": [
    "#want to know what attributes are available?\n",
    "dir(pd.Series)"
   ]
  },
  {
   "cell_type": "markdown",
   "metadata": {
    "tags": []
   },
   "source": [
    "## Debugging\n",
    "Debugging is primitive in a Jupyter notebook, but it's being activly worked on and changing rapidly.  It will get better but it's no substitute for an IDE.<br> To enable, select the ipykernel for your notebook. (ipykernel – uses default python,Or python in virtual environment that Jupyter lab launched from). Kernel you are using is in the upper right of this window. Highlight to choose<br>\n",
    "To debug;<br>\n",
    "turn debugging on - bug in upper right of this window<br>\n",
    "set a breakpoint - in trough to the left of statement<br>\n",
    "and execute cell (ctrl- enter)<br>\n",
    "\n",
    "<mark>Demo this now</mark>"
   ]
  },
  {
   "cell_type": "code",
   "execution_count": null,
   "metadata": {
    "tags": []
   },
   "outputs": [],
   "source": [
    "def func():\n",
    "    i=3\n",
    "    for j in range(3):\n",
    "        print(j)\n",
    "func()\n",
    "kk=3"
   ]
  },
  {
   "cell_type": "code",
   "execution_count": null,
   "metadata": {},
   "outputs": [],
   "source": [
    "!python -V #same as !python --version\n",
    "!which python"
   ]
  },
  {
   "cell_type": "code",
   "execution_count": null,
   "metadata": {
    "tags": []
   },
   "outputs": [],
   "source": [
    "#when debugging enabled, notice that you can see all defined \n",
    "#variables and their values in the Variables window to the right\n",
    "print(kk)"
   ]
  },
  {
   "cell_type": "code",
   "execution_count": null,
   "metadata": {},
   "outputs": [],
   "source": [
    "#also be careful when importing, you can easily polute your symbol space\n",
    "#if you execute the following line, all numpy's exported variables will be \n",
    "#imported and appear in the debuggers VARIABLES view \n",
    "from numpy import *"
   ]
  }
 ],
 "metadata": {
  "kernelspec": {
   "display_name": "Python 3 (ipykernel)",
   "language": "python",
   "name": "python3"
  },
  "language_info": {
   "codemirror_mode": {
    "name": "ipython",
    "version": 3
   },
   "file_extension": ".py",
   "mimetype": "text/x-python",
   "name": "python",
   "nbconvert_exporter": "python",
   "pygments_lexer": "ipython3",
   "version": "3.9.15"
  },
  "toc-autonumbering": true,
  "toc-showcode": false,
  "toc-showmarkdowntxt": false,
  "toc-showtags": true,
  "widgets": {
   "application/vnd.jupyter.widget-state+json": {
    "state": {},
    "version_major": 2,
    "version_minor": 0
   }
  }
 },
 "nbformat": 4,
 "nbformat_minor": 4
}
