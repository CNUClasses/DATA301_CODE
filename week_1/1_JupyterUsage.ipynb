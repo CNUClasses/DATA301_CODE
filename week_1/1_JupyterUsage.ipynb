{
 "cells": [
  {
   "cell_type": "markdown",
   "metadata": {},
   "source": [
    "# Jupyter usage\n",
    "\n",
    "How to efficiently navigate a jupyter notebook, and use it's limited debugger."
   ]
  },
  {
   "cell_type": "code",
   "execution_count": 32,
   "metadata": {},
   "outputs": [],
   "source": [
    "# imports\n",
    "%matplotlib inline  \n",
    "%config InlineBackend.figure_format = 'svg'\n",
    "import matplotlib.pyplot as plt\n",
    "plt.style.use('ggplot')\n",
    "\n",
    "import pandas as pd\n",
    "import numpy as np\n",
    "\n",
    "# Display all cell outputs\n",
    "from IPython.core.interactiveshell import InteractiveShell\n",
    "InteractiveShell.ast_node_interactivity = 'all'\n",
    "\n",
    "from IPython import get_ipython\n",
    "ipython = get_ipython()\n",
    "\n",
    "# autoreload extension\n",
    "if 'autoreload' not in ipython.extension_manager.loaded:\n",
    "    %load_ext autoreload\n",
    "\n",
    "%autoreload 2"
   ]
  },
  {
   "cell_type": "markdown",
   "metadata": {},
   "source": [
    "## Jupyter Shortcut Commands\n",
    "The following shortcuts work when in COMMAND mode.  To enter the COMMAND mode press ESC or click anywhere outside the cell\n",
    "\n",
    "<ul>\n",
    "\n",
    "<li> <mark>shift-enter #run cell </li>\n",
    "<li><mark>cmd-m #change cell to markdown</li>\n",
    "<li><mark>cmd-y #change cell to code</li>\n",
    "<li><mark>cmd-a #add cell before</li>\n",
    "<li><mark>cmd-b #add cell after</li>\n",
    "<li><mark>cmd d,d #delete cell</li>\n",
    "\n",
    "<li><mark>cmd-o       #hide output, edit Settings->Advanced Settings->Keyboard Shortcuts- add O and shift-O to User Preferences</li>\n",
    "<li><mark>cmd-shift o # see https://www.py4u.net/discuss/140128 Answer 4 </li>\n",
    "\n",
    "<li><mark>cmd shift-L  #toggle line numbers, useful to pinpoint where error occurred</li>\n",
    "\n",
    "<li><mark>Shift + Up Arrow select the current cell and the cell above</li>\n",
    "<li><mark>Shift + Down Arrow select the current cell and the cell below</li>\n",
    "<li><mark>Shift + m merge selected cells\n",
    "    \n",
    "</ul>\n",
    "  "
   ]
  },
  {
   "cell_type": "markdown",
   "metadata": {},
   "source": [
    "## Magic commands in Jupyter\n",
    "\n",
    "Magic commads help with analyzing data in Jupyter Notebooks<br>\n",
    "\n",
    "The following are some magics you may find useful.  For a complete list see \n",
    "[Built in  Magic Commands](https://ipython.readthedocs.io/en/stable/interactive/magics.html)\n",
    "\n"
   ]
  },
  {
   "cell_type": "markdown",
   "metadata": {},
   "source": [
    "### Line Magics\n",
    "\n",
    "Start with a % and apply to a single line. A useful subset follows."
   ]
  },
  {
   "cell_type": "code",
   "execution_count": 21,
   "metadata": {},
   "outputs": [
    {
     "data": {
      "text/plain": [
       "'/home/keith/AA_jupyter_tuts/DATA301_CODE/week_1'"
      ]
     },
     "execution_count": 21,
     "metadata": {},
     "output_type": "execute_result"
    }
   ],
   "source": [
    "#print current directory\n",
    "%pwd"
   ]
  },
  {
   "cell_type": "code",
   "execution_count": 22,
   "metadata": {},
   "outputs": [
    {
     "data": {
      "text/plain": [
       "'/home/keith/AA_jupyter_tuts/DATA301_CODE/week_1'"
      ]
     },
     "execution_count": 22,
     "metadata": {},
     "output_type": "execute_result"
    },
    {
     "name": "stdout",
     "output_type": "stream",
     "text": [
      "/home/keith/AA_jupyter_tuts/DATA301_CODE\n",
      "/home/keith/AA_jupyter_tuts/DATA301_CODE/week_1\n"
     ]
    }
   ],
   "source": [
    "# change the notebooks current working directory, this is permanent for all cells\n",
    "%pwd\n",
    "%cd ..\n",
    "%cd ./week_1"
   ]
  },
  {
   "cell_type": "code",
   "execution_count": 26,
   "metadata": {},
   "outputs": [
    {
     "name": "stdout",
     "output_type": "stream",
     "text": [
      "13.8 ns ± 0.135 ns per loop (mean ± std. dev. of 7 runs, 100000000 loops each)\n"
     ]
    }
   ],
   "source": [
    "#measure how long the operation takes, averages over many iterations\n",
    "def fun1():\n",
    "    pass\n",
    "%timeit fun1"
   ]
  },
  {
   "cell_type": "markdown",
   "metadata": {},
   "source": [
    "### Cell Magics\n",
    "Start with a %% and apply the to an entire cell.  %% commands must be the first line in the cell<br>"
   ]
  },
  {
   "cell_type": "code",
   "execution_count": 27,
   "metadata": {},
   "outputs": [
    {
     "name": "stdout",
     "output_type": "stream",
     "text": [
      "CPU times: user 3 µs, sys: 0 ns, total: 3 µs\n",
      "Wall time: 3.81 µs\n"
     ]
    }
   ],
   "source": [
    "%%time\n",
    "for i in range(10):\n",
    "    pass\n",
    "\n",
    "#measure how long this cell takes to run, just 1 iteration"
   ]
  },
  {
   "cell_type": "markdown",
   "metadata": {},
   "source": [
    "## Shell commands in Jupyter\n",
    "You can run shell commands on the local operating system in Jupyter.  For instance to install missing packages or check the current directory or for a 1 time content download. <br>\n",
    "! calls out to a shell (in a new process) and then returns, while % affects the process associated with the notebook (or the notebook itself; many % commands have no shell counterpart).\n",
    "!cd foo, by itself, has no lasting effect, since the process with the changed directory immediately terminates.\n",
    "%cd foo changes the current directory of the notebook process, which is a lasting effect.<br>\n",
    "<mark>BEWARE- On my local machine, I'm calling out to a linux shell!  These commands should also work on a Mac since the OS is based on a unix kernel. If you are running on Windows however, then these '!' commands I am using  work."
   ]
  },
  {
   "cell_type": "code",
   "execution_count": 2,
   "metadata": {},
   "outputs": [],
   "source": [
    "# install if not there\n",
    "# once installed its in this kernel forever\n",
    "# !pip install hdbscan\n",
    "# !pip install folium"
   ]
  },
  {
   "cell_type": "code",
   "execution_count": 28,
   "metadata": {},
   "outputs": [
    {
     "name": "stdout",
     "output_type": "stream",
     "text": [
      "/home/keith/AA_jupyter_tuts/DATA301_CODE/week_1\n"
     ]
    }
   ],
   "source": [
    "#executes the shell command but does not change the notebooks directory\n",
    "#ie still in week_1\n",
    "!cd ..\n",
    "!pwd"
   ]
  },
  {
   "cell_type": "code",
   "execution_count": 8,
   "metadata": {},
   "outputs": [
    {
     "name": "stdout",
     "output_type": "stream",
     "text": [
      "/home/keith/AA_jupyter_tuts/DATA301\n"
     ]
    },
    {
     "data": {
      "text/plain": [
       "'/home/keith/AA_jupyter_tuts/DATA301'"
      ]
     },
     "execution_count": 8,
     "metadata": {},
     "output_type": "execute_result"
    },
    {
     "name": "stdout",
     "output_type": "stream",
     "text": [
      "/home/keith/AA_jupyter_tuts/DATA301\n"
     ]
    }
   ],
   "source": [
    "#changes notebook environment\n",
    "%cd ..\n",
    "!pwd\n",
    "%pwd"
   ]
  },
  {
   "cell_type": "markdown",
   "metadata": {},
   "source": [
    "## Help on packages,functions and classes\n",
    "\n",
    "once you import a package you can get help on package contents<br>\n",
    "tab  offers context appropriate coding suggestions<br>\n",
    "shift-tab  offers api help including signatures and docstrings "
   ]
  },
  {
   "cell_type": "code",
   "execution_count": 29,
   "metadata": {},
   "outputs": [],
   "source": [
    "import pandas as pd"
   ]
  },
  {
   "cell_type": "code",
   "execution_count": 30,
   "metadata": {
    "collapsed": true,
    "jupyter": {
     "outputs_hidden": true
    },
    "tags": []
   },
   "outputs": [
    {
     "ename": "SyntaxError",
     "evalue": "invalid syntax (3480296688.py, line 2)",
     "output_type": "error",
     "traceback": [
      "\u001b[0;36m  File \u001b[0;32m\"/tmp/ipykernel_986/3480296688.py\"\u001b[0;36m, line \u001b[0;32m2\u001b[0m\n\u001b[0;31m    ds=pd.   #add a dot to the left and then hit tab to get code suggestions\u001b[0m\n\u001b[0m             ^\u001b[0m\n\u001b[0;31mSyntaxError\u001b[0m\u001b[0;31m:\u001b[0m invalid syntax\n"
     ]
    }
   ],
   "source": [
    "#create a series\n",
    "ds=pd.   #add a dot to the left and then hit tab to get code suggestions\n",
    "\n",
    "ds=pd.Series([4,7,-5,3],index=['d','b','a','c']) #hover over pd or Series and hit shift-tab  "
   ]
  },
  {
   "cell_type": "markdown",
   "metadata": {},
   "source": [
    "## Debugging\n",
    "Debugging is very primitive in a Jupyter notebook, and it is being activly worked on and changing rapidly.<br> To enable, select the ipykernel for your notebook. (ipykernel – uses default python,Or python in virtual environment that Jupyter lab launched from). Kernel you are using is in the upper right of this window. Highlight to choose<br>\n",
    "To debug;<br>\n",
    "turn debugging on - bug in upper right of this window<br>\n",
    "set a breakpoint - in trough to the left of statement<br>\n",
    "and execute cell (ctrl- enter)<br>\n",
    "\n",
    "<mark>Demo this now</mark>"
   ]
  },
  {
   "cell_type": "code",
   "execution_count": 3,
   "metadata": {
    "collapsed": true,
    "jupyter": {
     "outputs_hidden": true
    },
    "tags": []
   },
   "outputs": [
    {
     "name": "stdout",
     "output_type": "stream",
     "text": [
      "0\n",
      "1\n",
      "2\n"
     ]
    }
   ],
   "source": [
    "def func():\n",
    "    i=3\n",
    "    for j in range(3):\n",
    "        print(j)\n",
    "func()\n",
    "kk=3"
   ]
  },
  {
   "cell_type": "code",
   "execution_count": 4,
   "metadata": {
    "collapsed": true,
    "jupyter": {
     "outputs_hidden": true
    },
    "tags": []
   },
   "outputs": [
    {
     "name": "stdout",
     "output_type": "stream",
     "text": [
      "3\n"
     ]
    }
   ],
   "source": [
    "#when debugging enabled, notice that you can see all defined \n",
    "#variables and their values in the window to the right\n",
    "print(kk)"
   ]
  }
 ],
 "metadata": {
  "kernelspec": {
   "display_name": "Python 3 (ipykernel)",
   "language": "python",
   "name": "python3"
  },
  "language_info": {
   "codemirror_mode": {
    "name": "ipython",
    "version": 3
   },
   "file_extension": ".py",
   "mimetype": "text/x-python",
   "name": "python",
   "nbconvert_exporter": "python",
   "pygments_lexer": "ipython3",
   "version": "3.9.7"
  }
 },
 "nbformat": 4,
 "nbformat_minor": 4
}
