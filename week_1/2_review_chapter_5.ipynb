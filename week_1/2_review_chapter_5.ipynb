{
 "cells": [
  {
   "cell_type": "markdown",
   "metadata": {},
   "source": [
    "# Review, chapter 5 of 'Python for Data Analysis'"
   ]
  },
  {
   "cell_type": "code",
   "execution_count": null,
   "metadata": {},
   "outputs": [],
   "source": [
    "# imports\n",
    "%matplotlib inline\n",
    "%config InlineBackend.figure_format = 'svg'\n",
    "import matplotlib.pyplot as plt\n",
    "plt.style.use('ggplot')\n",
    "\n",
    "import pandas as pd\n",
    "import numpy as np\n",
    "\n",
    "# Display all cell outputs\n",
    "from IPython.core.interactiveshell import InteractiveShell\n",
    "InteractiveShell.ast_node_interactivity = 'all'\n",
    "\n",
    "from IPython import get_ipython\n",
    "ipython = get_ipython()\n",
    "\n",
    "# autoreload extension\n",
    "if 'autoreload' not in ipython.extension_manager.loaded:\n",
    "    %load_ext autoreload\n",
    "\n",
    "%autoreload 2"
   ]
  },
  {
   "cell_type": "code",
   "execution_count": null,
   "metadata": {},
   "outputs": [],
   "source": [
    "# install if not there\n",
    "# once installed its in this kernel forever\n",
    "# !pip install hdbscan\n",
    "# !pip install folium"
   ]
  },
  {
   "cell_type": "code",
   "execution_count": null,
   "metadata": {},
   "outputs": [],
   "source": [
    "#lets see which python we are using and where it is\n",
    "#notice its in the data301 environment\n",
    "#the same environment we were in when we started jupyter lab\n",
    "!python -V\n",
    "!which python"
   ]
  },
  {
   "cell_type": "markdown",
   "metadata": {},
   "source": [
    "## Pandas Series\n",
    "\n",
    "A one dimensional array"
   ]
  },
  {
   "cell_type": "code",
   "execution_count": null,
   "metadata": {},
   "outputs": [],
   "source": [
    "#create a series\n",
    "ds=pd.Series([4,7,-5,3],index=['d','b','a','c'])\n",
    "ds"
   ]
  },
  {
   "cell_type": "code",
   "execution_count": null,
   "metadata": {},
   "outputs": [],
   "source": [
    "#apply a function to every value in a series\n",
    "def sum1(x):\n",
    "    return x+1\n",
    "\n",
    "#or use a lambda\n",
    "f=lambda x: x+2\n",
    "\n",
    "ds.map(sum1)\n",
    "ds.map(f)"
   ]
  },
  {
   "cell_type": "code",
   "execution_count": null,
   "metadata": {},
   "outputs": [],
   "source": [
    "#changing index\n",
    "ds.index\n",
    "ds.reset_index(drop='True')"
   ]
  },
  {
   "cell_type": "code",
   "execution_count": null,
   "metadata": {},
   "outputs": [],
   "source": [
    "#got any NaN's? (missing data)\n",
    "pd.isnull(ds)\n",
    "ds.isnull()"
   ]
  },
  {
   "cell_type": "code",
   "execution_count": null,
   "metadata": {},
   "outputs": [],
   "source": [
    "#type ds and then hit tab to get autocomplete suggestions\n",
    "# ds."
   ]
  },
  {
   "cell_type": "markdown",
   "metadata": {},
   "source": [
    "### <mark>Boolean selection</mark>\n",
    "\n",
    "Selecting rows based on a boolean condition"
   ]
  },
  {
   "cell_type": "code",
   "execution_count": null,
   "metadata": {},
   "outputs": [],
   "source": [
    "ds>0  #show which are > 0\n",
    "ds[ds>0] #boolean selection, return series elements that meet the condition(>0)"
   ]
  },
  {
   "cell_type": "markdown",
   "metadata": {},
   "source": [
    "## Pandas Dataframe\n",
    "A 2 dimensional array"
   ]
  },
  {
   "cell_type": "code",
   "execution_count": null,
   "metadata": {},
   "outputs": [],
   "source": [
    "# create a dataframe\n",
    "df=pd.DataFrame(np.random.randn(4,3),columns=list('bde'), index=['U','Oh','T','Or'])\n",
    "df"
   ]
  },
  {
   "cell_type": "markdown",
   "metadata": {},
   "source": [
    "### Applying a lambda or a function to various parts of a dataframe"
   ]
  },
  {
   "cell_type": "code",
   "execution_count": null,
   "metadata": {},
   "outputs": [],
   "source": [
    "#manipulate it\n",
    "f=lambda x: x if (x>0.0) else 0\n",
    "df.b.apply(f)  #df.b is a series, apply lambda to each value\n",
    "\n",
    "f=lambda x: x.min()-x.max()\n",
    "df.apply(f,axis=1)  #works on each row\n",
    "df.apply(f,axis=0)  #works on each column"
   ]
  },
  {
   "cell_type": "markdown",
   "metadata": {},
   "source": [
    "### <mark>Boolean selection</mark>\n",
    "\n",
    "Selecting rows based on a boolean condition"
   ]
  },
  {
   "cell_type": "code",
   "execution_count": null,
   "metadata": {},
   "outputs": [],
   "source": [
    "df[df.b>0]   #on a single condition\n",
    "df[(df.b>0) & (df.e>0)]  #on multiple conditions (note the & not && or and, note the ()'s)"
   ]
  },
  {
   "cell_type": "markdown",
   "metadata": {},
   "source": [
    "### Sorting\n",
    "sort your dataframe"
   ]
  },
  {
   "cell_type": "code",
   "execution_count": null,
   "metadata": {},
   "outputs": [],
   "source": [
    "df.sort_index()   #sort by index (rows)\n",
    "df.sort_index(axis='columns', ascending=False)   #sort by index (columns) "
   ]
  },
  {
   "cell_type": "code",
   "execution_count": null,
   "metadata": {},
   "outputs": [],
   "source": [
    "df.sort_values(by='d')"
   ]
  },
  {
   "cell_type": "markdown",
   "metadata": {},
   "source": [
    "### Descriptive statistics \n",
    "\n",
    "Lots of these, see table5-8 (~p.160) in McKinney book<br>\n",
    "Some really useful ones <br>\n",
    "<mark>\n",
    "    info<br>\n",
    "    describe<br>\n",
    "    nunique<br>\n",
    "    value_counts<br>\n",
    "    is_null"
   ]
  },
  {
   "cell_type": "code",
   "execution_count": null,
   "metadata": {},
   "outputs": [],
   "source": [
    "df.info()"
   ]
  },
  {
   "cell_type": "code",
   "execution_count": null,
   "metadata": {},
   "outputs": [],
   "source": [
    "df.describe() #lots of stats \n",
    "df.describe().b.min()  #pull out min value in column b"
   ]
  },
  {
   "cell_type": "code",
   "execution_count": null,
   "metadata": {},
   "outputs": [],
   "source": [
    "#how many unique rows are there?\n",
    "df1=df.copy()\n",
    "df1=df1.append(df1.iloc[3]) #add a duplicate row\n",
    "df1\n",
    "df1.value_counts()   #notice the count is 2 for the duplicate row"
   ]
  },
  {
   "cell_type": "code",
   "execution_count": null,
   "metadata": {},
   "outputs": [],
   "source": [
    "\n",
    "df1.nunique(axis=0)  #how many unique values per column \n",
    "df1.nunique(axis=1)  #how many unique values per row "
   ]
  },
  {
   "cell_type": "code",
   "execution_count": null,
   "metadata": {},
   "outputs": [],
   "source": [
    "df.count(axis=1)  #how many non na per row, axis=0 per column\n",
    "df.sum()  #same as df.sum(axis=0) \n",
    "df.sum(axis=1)"
   ]
  },
  {
   "cell_type": "code",
   "execution_count": null,
   "metadata": {},
   "outputs": [],
   "source": [
    "df.isnull()  # see if null\n",
    "\n",
    "df.isnull().sum().sum()  #any at all\n",
    "df.isnull().sum(axis=1) #any null values in columns?\n"
   ]
  },
  {
   "cell_type": "markdown",
   "metadata": {},
   "source": [
    "### Correlation and Covariance\n",
    "\n",
    "Useful to see if features (columns) are related.  <br>\n",
    "<mark>This information can be used to remove redundant features, which simplifies a model. Also used when determining which features are the most important to a model (we will get to this)."
   ]
  },
  {
   "cell_type": "code",
   "execution_count": null,
   "metadata": {},
   "outputs": [],
   "source": [
    "df.corr()   #all to all\n",
    "df.cov()\n",
    "df['b'].corr(df['d'])"
   ]
  },
  {
   "cell_type": "code",
   "execution_count": null,
   "metadata": {},
   "outputs": [],
   "source": []
  }
 ],
 "metadata": {
  "kernelspec": {
   "display_name": "Python 3 (ipykernel)",
   "language": "python",
   "name": "python3"
  },
  "language_info": {
   "codemirror_mode": {
    "name": "ipython",
    "version": 3
   },
   "file_extension": ".py",
   "mimetype": "text/x-python",
   "name": "python",
   "nbconvert_exporter": "python",
   "pygments_lexer": "ipython3",
   "version": "3.9.7"
  }
 },
 "nbformat": 4,
 "nbformat_minor": 4
}
