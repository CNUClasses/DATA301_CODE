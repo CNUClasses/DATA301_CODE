{
 "cells": [
  {
   "cell_type": "markdown",
   "metadata": {},
   "source": [
    "# Categorical Features\n",
    "There are two types of categorical features:<br>\n",
    "Ordinal Variable: Discrete values that can be ordered. <mark>Example: small\\<medium \\<large </mark><br>\n",
    "Nominal Variable: Discrete values that have no ordering. <mark>Example: Brown, Blue, Green</mark><br>\n",
    "\n",
    "**Definition- Cardinality: the number of distint elements in a set.  For our purposes the number of unique values in a column**<br>\n",
    "    This notebook uses concepts outlined Chapter 4 of _Python Machine Learning_ by Sebastian Raschka\n",
    "    "
   ]
  },
  {
   "cell_type": "code",
   "execution_count": 1,
   "metadata": {},
   "outputs": [],
   "source": [
    "import matplotlib.pyplot as plt\n",
    "import seaborn as sns\n",
    "\n",
    "import pandas as pd\n",
    "import numpy as np\n",
    "import utils as ut"
   ]
  },
  {
   "cell_type": "markdown",
   "metadata": {},
   "source": [
    "## Generate a t-shirt order<br>\n",
    "have a name, a t-shirt size, a t-shirt color and a weight(in pounds)<br>\n",
    "Uses the <a href=\"https://pypi.org/project/names/https://pypi.org/project/names/\">names </a> module to generate random names"
   ]
  },
  {
   "cell_type": "code",
   "execution_count": 2,
   "metadata": {},
   "outputs": [
    {
     "data": {
      "text/plain": [
       "['PROCESSED_DATA',\n",
       " '__builtins__',\n",
       " '__cached__',\n",
       " '__doc__',\n",
       " '__file__',\n",
       " '__loader__',\n",
       " '__name__',\n",
       " '__package__',\n",
       " '__spec__',\n",
       " 'generate_tshirt_order',\n",
       " 'names',\n",
       " 'np',\n",
       " 'pd']"
      ]
     },
     "execution_count": 2,
     "metadata": {},
     "output_type": "execute_result"
    }
   ],
   "source": [
    "dir(ut)"
   ]
  },
  {
   "cell_type": "code",
   "execution_count": 4,
   "metadata": {},
   "outputs": [
    {
     "data": {
      "text/html": [
       "<div>\n",
       "<style scoped>\n",
       "    .dataframe tbody tr th:only-of-type {\n",
       "        vertical-align: middle;\n",
       "    }\n",
       "\n",
       "    .dataframe tbody tr th {\n",
       "        vertical-align: top;\n",
       "    }\n",
       "\n",
       "    .dataframe thead th {\n",
       "        text-align: right;\n",
       "    }\n",
       "</style>\n",
       "<table border=\"1\" class=\"dataframe\">\n",
       "  <thead>\n",
       "    <tr style=\"text-align: right;\">\n",
       "      <th></th>\n",
       "      <th>weight</th>\n",
       "      <th>t_shirt_size</th>\n",
       "      <th>t_shirt_color</th>\n",
       "      <th>name</th>\n",
       "    </tr>\n",
       "  </thead>\n",
       "  <tbody>\n",
       "    <tr>\n",
       "      <th>0</th>\n",
       "      <td>89.997833</td>\n",
       "      <td>small</td>\n",
       "      <td>green</td>\n",
       "      <td>Thomas Kempker</td>\n",
       "    </tr>\n",
       "    <tr>\n",
       "      <th>1</th>\n",
       "      <td>114.179140</td>\n",
       "      <td>small</td>\n",
       "      <td>black</td>\n",
       "      <td>James Faulkner</td>\n",
       "    </tr>\n",
       "    <tr>\n",
       "      <th>2</th>\n",
       "      <td>113.689670</td>\n",
       "      <td>small</td>\n",
       "      <td>orange</td>\n",
       "      <td>Ryan Murphy</td>\n",
       "    </tr>\n",
       "    <tr>\n",
       "      <th>3</th>\n",
       "      <td>102.687225</td>\n",
       "      <td>small</td>\n",
       "      <td>orange</td>\n",
       "      <td>Constance Brassard</td>\n",
       "    </tr>\n",
       "    <tr>\n",
       "      <th>4</th>\n",
       "      <td>110.344519</td>\n",
       "      <td>small</td>\n",
       "      <td>black</td>\n",
       "      <td>Christina Yearout</td>\n",
       "    </tr>\n",
       "    <tr>\n",
       "      <th>...</th>\n",
       "      <td>...</td>\n",
       "      <td>...</td>\n",
       "      <td>...</td>\n",
       "      <td>...</td>\n",
       "    </tr>\n",
       "    <tr>\n",
       "      <th>295</th>\n",
       "      <td>170.395980</td>\n",
       "      <td>large</td>\n",
       "      <td>orange</td>\n",
       "      <td>Janis Askew</td>\n",
       "    </tr>\n",
       "    <tr>\n",
       "      <th>296</th>\n",
       "      <td>162.185715</td>\n",
       "      <td>large</td>\n",
       "      <td>orange</td>\n",
       "      <td>Phillip Boysen</td>\n",
       "    </tr>\n",
       "    <tr>\n",
       "      <th>297</th>\n",
       "      <td>219.890920</td>\n",
       "      <td>large</td>\n",
       "      <td>green</td>\n",
       "      <td>Monica Olewine</td>\n",
       "    </tr>\n",
       "    <tr>\n",
       "      <th>298</th>\n",
       "      <td>147.486465</td>\n",
       "      <td>large</td>\n",
       "      <td>red</td>\n",
       "      <td>Sarah Greer</td>\n",
       "    </tr>\n",
       "    <tr>\n",
       "      <th>299</th>\n",
       "      <td>215.878161</td>\n",
       "      <td>large</td>\n",
       "      <td>red</td>\n",
       "      <td>Danny Haycraft</td>\n",
       "    </tr>\n",
       "  </tbody>\n",
       "</table>\n",
       "<p>300 rows × 4 columns</p>\n",
       "</div>"
      ],
      "text/plain": [
       "         weight t_shirt_size t_shirt_color                name\n",
       "0     89.997833        small         green      Thomas Kempker\n",
       "1    114.179140        small         black      James Faulkner\n",
       "2    113.689670        small        orange         Ryan Murphy\n",
       "3    102.687225        small        orange  Constance Brassard\n",
       "4    110.344519        small         black   Christina Yearout\n",
       "..          ...          ...           ...                 ...\n",
       "295  170.395980        large        orange         Janis Askew\n",
       "296  162.185715        large        orange      Phillip Boysen\n",
       "297  219.890920        large         green      Monica Olewine\n",
       "298  147.486465        large           red         Sarah Greer\n",
       "299  215.878161        large           red      Danny Haycraft\n",
       "\n",
       "[300 rows x 4 columns]"
      ]
     },
     "execution_count": 4,
     "metadata": {},
     "output_type": "execute_result"
    }
   ],
   "source": [
    "import utils as ut\n",
    "df = ut.generate_tshirt_order()\n",
    "df"
   ]
  },
  {
   "cell_type": "markdown",
   "metadata": {},
   "source": [
    "## Get a list of all categorical variables\n",
    "Usually strings (objects in dtype) and bools (show up as bool in dtypes)"
   ]
  },
  {
   "cell_type": "code",
   "execution_count": 5,
   "metadata": {},
   "outputs": [
    {
     "data": {
      "text/plain": [
       "300"
      ]
     },
     "execution_count": 5,
     "metadata": {},
     "output_type": "execute_result"
    }
   ],
   "source": [
    "len(df)"
   ]
  },
  {
   "cell_type": "code",
   "execution_count": 6,
   "metadata": {},
   "outputs": [
    {
     "data": {
      "text/plain": [
       "weight           float64\n",
       "t_shirt_size      object\n",
       "t_shirt_color     object\n",
       "name              object\n",
       "dtype: object"
      ]
     },
     "execution_count": 6,
     "metadata": {},
     "output_type": "execute_result"
    }
   ],
   "source": [
    "df.dtypes"
   ]
  },
  {
   "cell_type": "code",
   "execution_count": 7,
   "metadata": {},
   "outputs": [
    {
     "data": {
      "text/plain": [
       "weight           300\n",
       "t_shirt_size       3\n",
       "t_shirt_color      5\n",
       "name             300\n",
       "dtype: int64"
      ]
     },
     "execution_count": 7,
     "metadata": {},
     "output_type": "execute_result"
    }
   ],
   "source": [
    "#and how many unique entries for each type\n",
    "df.nunique()"
   ]
  },
  {
   "cell_type": "markdown",
   "metadata": {},
   "source": [
    "## We have 3 objects, of which t_shirt_size and t_shirt_color are low cardinality categorical variables"
   ]
  },
  {
   "cell_type": "markdown",
   "metadata": {},
   "source": [
    "### Ordinal Categorical values\n",
    "Ordering matters for t_shirt_size given that <br>\n",
    "<mark> small \\< medium \\< large </mark><br>\n",
    "So make t_shirt_size ordinal, and map these strings to numbers that respect the above inequality.  This will also help any ML algorithm using this data to interpret it correctly. <br>\n",
    "Replace the values in the t_shirt_size column with the following <br>\n",
    "small:0, medium:1, large:2 <br><br>\n",
    "Advantages\n",
    "<ul>\n",
    "    <li>Establishes a numerical order\n",
    "    <li>Does not add new columns to DataFrame \n",
    "   </ul>\n",
    "\n"
   ]
  },
  {
   "cell_type": "code",
   "execution_count": 8,
   "metadata": {},
   "outputs": [
    {
     "name": "stdout",
     "output_type": "stream",
     "text": [
      "original t shirt sizes {'large', 'small', 'medium'}\n",
      "mapping used to convert original t_shirt sizes to numbers {'large': 2, 'medium': 1, 'small': 0}\n"
     ]
    }
   ],
   "source": [
    "#lets get a set of all possible values\n",
    "vals = set(df.t_shirt_size)  #list(df.t_shirt_size.unique()) works too\n",
    "print(f'original t shirt sizes {vals}')\n",
    "\n",
    "#if there is an order you generally have to specify it by hand, easy when there are 3 values, harder when there are 30\n",
    "#I copied the resulting set from above and gave each of the members a value based on my domain expertise\n",
    "#What would you do if they were small medium, mediumplus and large?  You dont have to use integers.\n",
    "#Maybe something like vals={'large':2.0, mediumplus:1.2, 'medium':1.0, 'small':0.0}\n",
    "vals={'large':2, 'medium':1, 'small':0}\n",
    "print(f'mapping used to convert original t_shirt sizes to numbers {vals}')"
   ]
  },
  {
   "cell_type": "code",
   "execution_count": 9,
   "metadata": {},
   "outputs": [
    {
     "data": {
      "text/html": [
       "<div>\n",
       "<style scoped>\n",
       "    .dataframe tbody tr th:only-of-type {\n",
       "        vertical-align: middle;\n",
       "    }\n",
       "\n",
       "    .dataframe tbody tr th {\n",
       "        vertical-align: top;\n",
       "    }\n",
       "\n",
       "    .dataframe thead th {\n",
       "        text-align: right;\n",
       "    }\n",
       "</style>\n",
       "<table border=\"1\" class=\"dataframe\">\n",
       "  <thead>\n",
       "    <tr style=\"text-align: right;\">\n",
       "      <th></th>\n",
       "      <th>weight</th>\n",
       "      <th>t_shirt_size</th>\n",
       "      <th>t_shirt_color</th>\n",
       "      <th>name</th>\n",
       "    </tr>\n",
       "  </thead>\n",
       "  <tbody>\n",
       "    <tr>\n",
       "      <th>0</th>\n",
       "      <td>89.997833</td>\n",
       "      <td>0</td>\n",
       "      <td>green</td>\n",
       "      <td>Thomas Kempker</td>\n",
       "    </tr>\n",
       "    <tr>\n",
       "      <th>1</th>\n",
       "      <td>114.179140</td>\n",
       "      <td>0</td>\n",
       "      <td>black</td>\n",
       "      <td>James Faulkner</td>\n",
       "    </tr>\n",
       "    <tr>\n",
       "      <th>2</th>\n",
       "      <td>113.689670</td>\n",
       "      <td>0</td>\n",
       "      <td>orange</td>\n",
       "      <td>Ryan Murphy</td>\n",
       "    </tr>\n",
       "    <tr>\n",
       "      <th>3</th>\n",
       "      <td>102.687225</td>\n",
       "      <td>0</td>\n",
       "      <td>orange</td>\n",
       "      <td>Constance Brassard</td>\n",
       "    </tr>\n",
       "    <tr>\n",
       "      <th>4</th>\n",
       "      <td>110.344519</td>\n",
       "      <td>0</td>\n",
       "      <td>black</td>\n",
       "      <td>Christina Yearout</td>\n",
       "    </tr>\n",
       "    <tr>\n",
       "      <th>...</th>\n",
       "      <td>...</td>\n",
       "      <td>...</td>\n",
       "      <td>...</td>\n",
       "      <td>...</td>\n",
       "    </tr>\n",
       "    <tr>\n",
       "      <th>295</th>\n",
       "      <td>170.395980</td>\n",
       "      <td>2</td>\n",
       "      <td>orange</td>\n",
       "      <td>Janis Askew</td>\n",
       "    </tr>\n",
       "    <tr>\n",
       "      <th>296</th>\n",
       "      <td>162.185715</td>\n",
       "      <td>2</td>\n",
       "      <td>orange</td>\n",
       "      <td>Phillip Boysen</td>\n",
       "    </tr>\n",
       "    <tr>\n",
       "      <th>297</th>\n",
       "      <td>219.890920</td>\n",
       "      <td>2</td>\n",
       "      <td>green</td>\n",
       "      <td>Monica Olewine</td>\n",
       "    </tr>\n",
       "    <tr>\n",
       "      <th>298</th>\n",
       "      <td>147.486465</td>\n",
       "      <td>2</td>\n",
       "      <td>red</td>\n",
       "      <td>Sarah Greer</td>\n",
       "    </tr>\n",
       "    <tr>\n",
       "      <th>299</th>\n",
       "      <td>215.878161</td>\n",
       "      <td>2</td>\n",
       "      <td>red</td>\n",
       "      <td>Danny Haycraft</td>\n",
       "    </tr>\n",
       "  </tbody>\n",
       "</table>\n",
       "<p>300 rows × 4 columns</p>\n",
       "</div>"
      ],
      "text/plain": [
       "         weight  t_shirt_size t_shirt_color                name\n",
       "0     89.997833             0         green      Thomas Kempker\n",
       "1    114.179140             0         black      James Faulkner\n",
       "2    113.689670             0        orange         Ryan Murphy\n",
       "3    102.687225             0        orange  Constance Brassard\n",
       "4    110.344519             0         black   Christina Yearout\n",
       "..          ...           ...           ...                 ...\n",
       "295  170.395980             2        orange         Janis Askew\n",
       "296  162.185715             2        orange      Phillip Boysen\n",
       "297  219.890920             2         green      Monica Olewine\n",
       "298  147.486465             2           red         Sarah Greer\n",
       "299  215.878161             2           red      Danny Haycraft\n",
       "\n",
       "[300 rows x 4 columns]"
      ]
     },
     "execution_count": 9,
     "metadata": {},
     "output_type": "execute_result"
    }
   ],
   "source": [
    "#map the vals dict to the t_shirt_size column, this is quite fast\n",
    "df.t_shirt_size = df.t_shirt_size.map(vals)\n",
    "\n",
    "#can do the same thing above this way\n",
    "# df['t_shirt_size'] = df['t_shirt_size'].map(vals)\n",
    "df"
   ]
  },
  {
   "cell_type": "markdown",
   "metadata": {},
   "source": [
    "Notice that we do **not** increase the total number of columns when we do this."
   ]
  },
  {
   "cell_type": "code",
   "execution_count": 21,
   "metadata": {},
   "outputs": [
    {
     "data": {
      "text/plain": [
       "weight           float64\n",
       "t_shirt_size       int64\n",
       "t_shirt_color     object\n",
       "name              object\n",
       "dtype: object"
      ]
     },
     "execution_count": 21,
     "metadata": {},
     "output_type": "execute_result"
    }
   ],
   "source": [
    "df.dtypes"
   ]
  },
  {
   "cell_type": "code",
   "execution_count": 22,
   "metadata": {},
   "outputs": [
    {
     "data": {
      "text/plain": [
       "{'large': 2, 'medium': 1, 'small': 0}"
      ]
     },
     "execution_count": 22,
     "metadata": {},
     "output_type": "execute_result"
    }
   ],
   "source": [
    "vals"
   ]
  },
  {
   "cell_type": "code",
   "execution_count": 23,
   "metadata": {
    "collapsed": true,
    "jupyter": {
     "outputs_hidden": true
    },
    "tags": []
   },
   "outputs": [
    {
     "name": "stdout",
     "output_type": "stream",
     "text": [
      "reverse mapping used to convert numbers back to original t_shirt sizes {2: 'large', 1: 'medium', 0: 'small'}\n"
     ]
    }
   ],
   "source": [
    "# If you want to reverse the above mapping create a reverse mapping and map to df\n",
    "reverse_mapping = {v:k for k,v in vals.items()}\n",
    "print(f'reverse mapping used to convert numbers back to original t_shirt sizes {reverse_mapping}')\n",
    "\n",
    "#apply reverse mapping to get back oridinal values\n",
    "# df.t_shirt_size = df.t_shirt_size.map(reverse_mapping)\n",
    "# df"
   ]
  },
  {
   "cell_type": "markdown",
   "metadata": {},
   "source": [
    "### Nominal Categorical values\n",
    "Ordering does not matter for t_shirt_color, but if we do the same thing that we did for ordinal features, that is map each unique value to a number, then we will be establishing an order. Like this:<br>\n",
    "'green':0,'blue':1,'orange':2,'red':3,'black':4<br>\n",
    "This may appear to a ML algorithm that 'green'<'blue'<'orange'<'red'<'black'.  Which is nonsense.<br>\n",
    "\n",
    "One way to solve this is through something called <mark>one-hot encoding</mark>.  A technique where a new column is created for each possible value that the nominal variable can be. This operation **will** increase the number of features (columns) in your dataset by the cardinality of the column -1 (if n unique values add n dummy features and delete the original feature).<br>\n",
    "To implement, use pandas builtin get_dummies<br><br>\n",
    "Advantages\n",
    "<ul>\n",
    "    <li>Guarantees a ML model will not deduce an ordering\n",
    "   </ul>\n",
    "Disdvantages\n",
    "<ul>\n",
    "    <li>Expands the feature space (adds n-1 columns if the nominal variable has n unique values).  So high cardinality columns can dramatically expand feature space. \n",
    "    <li>Does not work as well with tree based models (Random Forest, Boosted Trees).\n",
    "   </ul>\n"
   ]
  },
  {
   "cell_type": "code",
   "execution_count": 12,
   "metadata": {},
   "outputs": [
    {
     "data": {
      "text/html": [
       "<div>\n",
       "<style scoped>\n",
       "    .dataframe tbody tr th:only-of-type {\n",
       "        vertical-align: middle;\n",
       "    }\n",
       "\n",
       "    .dataframe tbody tr th {\n",
       "        vertical-align: top;\n",
       "    }\n",
       "\n",
       "    .dataframe thead th {\n",
       "        text-align: right;\n",
       "    }\n",
       "</style>\n",
       "<table border=\"1\" class=\"dataframe\">\n",
       "  <thead>\n",
       "    <tr style=\"text-align: right;\">\n",
       "      <th></th>\n",
       "      <th>weight</th>\n",
       "      <th>t_shirt_size</th>\n",
       "      <th>t_shirt_color</th>\n",
       "      <th>name</th>\n",
       "    </tr>\n",
       "  </thead>\n",
       "  <tbody>\n",
       "    <tr>\n",
       "      <th>0</th>\n",
       "      <td>108.765395</td>\n",
       "      <td>0</td>\n",
       "      <td>blue</td>\n",
       "      <td>Karen Wainwright</td>\n",
       "    </tr>\n",
       "    <tr>\n",
       "      <th>1</th>\n",
       "      <td>85.564958</td>\n",
       "      <td>0</td>\n",
       "      <td>red</td>\n",
       "      <td>Scott Roache</td>\n",
       "    </tr>\n",
       "    <tr>\n",
       "      <th>2</th>\n",
       "      <td>99.466720</td>\n",
       "      <td>0</td>\n",
       "      <td>green</td>\n",
       "      <td>Helen Cole</td>\n",
       "    </tr>\n",
       "    <tr>\n",
       "      <th>3</th>\n",
       "      <td>86.386705</td>\n",
       "      <td>0</td>\n",
       "      <td>blue</td>\n",
       "      <td>Steven Logan</td>\n",
       "    </tr>\n",
       "    <tr>\n",
       "      <th>4</th>\n",
       "      <td>71.223125</td>\n",
       "      <td>0</td>\n",
       "      <td>orange</td>\n",
       "      <td>Jackie Martinez</td>\n",
       "    </tr>\n",
       "    <tr>\n",
       "      <th>...</th>\n",
       "      <td>...</td>\n",
       "      <td>...</td>\n",
       "      <td>...</td>\n",
       "      <td>...</td>\n",
       "    </tr>\n",
       "    <tr>\n",
       "      <th>295</th>\n",
       "      <td>216.391622</td>\n",
       "      <td>2</td>\n",
       "      <td>orange</td>\n",
       "      <td>Todd Hughes</td>\n",
       "    </tr>\n",
       "    <tr>\n",
       "      <th>296</th>\n",
       "      <td>254.026741</td>\n",
       "      <td>2</td>\n",
       "      <td>red</td>\n",
       "      <td>Patrick Long</td>\n",
       "    </tr>\n",
       "    <tr>\n",
       "      <th>297</th>\n",
       "      <td>191.267698</td>\n",
       "      <td>2</td>\n",
       "      <td>red</td>\n",
       "      <td>Alma Barr</td>\n",
       "    </tr>\n",
       "    <tr>\n",
       "      <th>298</th>\n",
       "      <td>180.305148</td>\n",
       "      <td>2</td>\n",
       "      <td>orange</td>\n",
       "      <td>Charlotte Turnbull</td>\n",
       "    </tr>\n",
       "    <tr>\n",
       "      <th>299</th>\n",
       "      <td>202.182087</td>\n",
       "      <td>2</td>\n",
       "      <td>orange</td>\n",
       "      <td>Richard Gelston</td>\n",
       "    </tr>\n",
       "  </tbody>\n",
       "</table>\n",
       "<p>300 rows × 4 columns</p>\n",
       "</div>"
      ],
      "text/plain": [
       "         weight  t_shirt_size t_shirt_color                name\n",
       "0    108.765395             0          blue    Karen Wainwright\n",
       "1     85.564958             0           red        Scott Roache\n",
       "2     99.466720             0         green          Helen Cole\n",
       "3     86.386705             0          blue        Steven Logan\n",
       "4     71.223125             0        orange     Jackie Martinez\n",
       "..          ...           ...           ...                 ...\n",
       "295  216.391622             2        orange         Todd Hughes\n",
       "296  254.026741             2           red        Patrick Long\n",
       "297  191.267698             2           red           Alma Barr\n",
       "298  180.305148             2        orange  Charlotte Turnbull\n",
       "299  202.182087             2        orange     Richard Gelston\n",
       "\n",
       "[300 rows x 4 columns]"
      ]
     },
     "execution_count": 12,
     "metadata": {},
     "output_type": "execute_result"
    }
   ],
   "source": [
    "df"
   ]
  },
  {
   "cell_type": "code",
   "execution_count": 11,
   "metadata": {},
   "outputs": [
    {
     "name": "stdout",
     "output_type": "stream",
     "text": [
      "\u001b[0;31mSignature:\u001b[0m\n",
      "\u001b[0mpd\u001b[0m\u001b[0;34m.\u001b[0m\u001b[0mget_dummies\u001b[0m\u001b[0;34m(\u001b[0m\u001b[0;34m\u001b[0m\n",
      "\u001b[0;34m\u001b[0m    \u001b[0mdata\u001b[0m\u001b[0;34m,\u001b[0m\u001b[0;34m\u001b[0m\n",
      "\u001b[0;34m\u001b[0m    \u001b[0mprefix\u001b[0m\u001b[0;34m=\u001b[0m\u001b[0;32mNone\u001b[0m\u001b[0;34m,\u001b[0m\u001b[0;34m\u001b[0m\n",
      "\u001b[0;34m\u001b[0m    \u001b[0mprefix_sep\u001b[0m\u001b[0;34m:\u001b[0m \u001b[0;34m'str | Iterable[str] | dict[str, str]'\u001b[0m \u001b[0;34m=\u001b[0m \u001b[0;34m'_'\u001b[0m\u001b[0;34m,\u001b[0m\u001b[0;34m\u001b[0m\n",
      "\u001b[0;34m\u001b[0m    \u001b[0mdummy_na\u001b[0m\u001b[0;34m:\u001b[0m \u001b[0;34m'bool'\u001b[0m \u001b[0;34m=\u001b[0m \u001b[0;32mFalse\u001b[0m\u001b[0;34m,\u001b[0m\u001b[0;34m\u001b[0m\n",
      "\u001b[0;34m\u001b[0m    \u001b[0mcolumns\u001b[0m\u001b[0;34m=\u001b[0m\u001b[0;32mNone\u001b[0m\u001b[0;34m,\u001b[0m\u001b[0;34m\u001b[0m\n",
      "\u001b[0;34m\u001b[0m    \u001b[0msparse\u001b[0m\u001b[0;34m:\u001b[0m \u001b[0;34m'bool'\u001b[0m \u001b[0;34m=\u001b[0m \u001b[0;32mFalse\u001b[0m\u001b[0;34m,\u001b[0m\u001b[0;34m\u001b[0m\n",
      "\u001b[0;34m\u001b[0m    \u001b[0mdrop_first\u001b[0m\u001b[0;34m:\u001b[0m \u001b[0;34m'bool'\u001b[0m \u001b[0;34m=\u001b[0m \u001b[0;32mFalse\u001b[0m\u001b[0;34m,\u001b[0m\u001b[0;34m\u001b[0m\n",
      "\u001b[0;34m\u001b[0m    \u001b[0mdtype\u001b[0m\u001b[0;34m:\u001b[0m \u001b[0;34m'NpDtype | None'\u001b[0m \u001b[0;34m=\u001b[0m \u001b[0;32mNone\u001b[0m\u001b[0;34m,\u001b[0m\u001b[0;34m\u001b[0m\n",
      "\u001b[0;34m\u001b[0m\u001b[0;34m)\u001b[0m \u001b[0;34m->\u001b[0m \u001b[0;34m'DataFrame'\u001b[0m\u001b[0;34m\u001b[0m\u001b[0;34m\u001b[0m\u001b[0m\n",
      "\u001b[0;31mDocstring:\u001b[0m\n",
      "Convert categorical variable into dummy/indicator variables.\n",
      "\n",
      "Each variable is converted in as many 0/1 variables as there are different\n",
      "values. Columns in the output are each named after a value; if the input is\n",
      "a DataFrame, the name of the original variable is prepended to the value.\n",
      "\n",
      "Parameters\n",
      "----------\n",
      "data : array-like, Series, or DataFrame\n",
      "    Data of which to get dummy indicators.\n",
      "prefix : str, list of str, or dict of str, default None\n",
      "    String to append DataFrame column names.\n",
      "    Pass a list with length equal to the number of columns\n",
      "    when calling get_dummies on a DataFrame. Alternatively, `prefix`\n",
      "    can be a dictionary mapping column names to prefixes.\n",
      "prefix_sep : str, default '_'\n",
      "    If appending prefix, separator/delimiter to use. Or pass a\n",
      "    list or dictionary as with `prefix`.\n",
      "dummy_na : bool, default False\n",
      "    Add a column to indicate NaNs, if False NaNs are ignored.\n",
      "columns : list-like, default None\n",
      "    Column names in the DataFrame to be encoded.\n",
      "    If `columns` is None then all the columns with\n",
      "    `object`, `string`, or `category` dtype will be converted.\n",
      "sparse : bool, default False\n",
      "    Whether the dummy-encoded columns should be backed by\n",
      "    a :class:`SparseArray` (True) or a regular NumPy array (False).\n",
      "drop_first : bool, default False\n",
      "    Whether to get k-1 dummies out of k categorical levels by removing the\n",
      "    first level.\n",
      "dtype : dtype, default bool\n",
      "    Data type for new columns. Only a single dtype is allowed.\n",
      "\n",
      "Returns\n",
      "-------\n",
      "DataFrame\n",
      "    Dummy-coded data. If `data` contains other columns than the\n",
      "    dummy-coded one(s), these will be prepended, unaltered, to the result.\n",
      "\n",
      "See Also\n",
      "--------\n",
      "Series.str.get_dummies : Convert Series of strings to dummy codes.\n",
      ":func:`~pandas.from_dummies` : Convert dummy codes to categorical ``DataFrame``.\n",
      "\n",
      "Notes\n",
      "-----\n",
      "Reference :ref:`the user guide <reshaping.dummies>` for more examples.\n",
      "\n",
      "Examples\n",
      "--------\n",
      ">>> s = pd.Series(list('abca'))\n",
      "\n",
      ">>> pd.get_dummies(s)\n",
      "       a      b      c\n",
      "0   True  False  False\n",
      "1  False   True  False\n",
      "2  False  False   True\n",
      "3   True  False  False\n",
      "\n",
      ">>> s1 = ['a', 'b', np.nan]\n",
      "\n",
      ">>> pd.get_dummies(s1)\n",
      "       a      b\n",
      "0   True  False\n",
      "1  False   True\n",
      "2  False  False\n",
      "\n",
      ">>> pd.get_dummies(s1, dummy_na=True)\n",
      "       a      b    NaN\n",
      "0   True  False  False\n",
      "1  False   True  False\n",
      "2  False  False   True\n",
      "\n",
      ">>> df = pd.DataFrame({'A': ['a', 'b', 'a'], 'B': ['b', 'a', 'c'],\n",
      "...                    'C': [1, 2, 3]})\n",
      "\n",
      ">>> pd.get_dummies(df, prefix=['col1', 'col2'])\n",
      "   C  col1_a  col1_b  col2_a  col2_b  col2_c\n",
      "0  1    True   False   False    True   False\n",
      "1  2   False    True    True   False   False\n",
      "2  3    True   False   False   False    True\n",
      "\n",
      ">>> pd.get_dummies(pd.Series(list('abcaa')))\n",
      "       a      b      c\n",
      "0   True  False  False\n",
      "1  False   True  False\n",
      "2  False  False   True\n",
      "3   True  False  False\n",
      "4   True  False  False\n",
      "\n",
      ">>> pd.get_dummies(pd.Series(list('abcaa')), drop_first=True)\n",
      "       b      c\n",
      "0  False  False\n",
      "1   True  False\n",
      "2  False   True\n",
      "3  False  False\n",
      "4  False  False\n",
      "\n",
      ">>> pd.get_dummies(pd.Series(list('abc')), dtype=float)\n",
      "     a    b    c\n",
      "0  1.0  0.0  0.0\n",
      "1  0.0  1.0  0.0\n",
      "2  0.0  0.0  1.0\n",
      "\u001b[0;31mFile:\u001b[0m      ~/anaconda3/envs/p311/lib/python3.11/site-packages/pandas/core/reshape/encoding.py\n",
      "\u001b[0;31mType:\u001b[0m      function"
     ]
    }
   ],
   "source": [
    "pd.get_dummies?"
   ]
  },
  {
   "cell_type": "code",
   "execution_count": 12,
   "metadata": {},
   "outputs": [
    {
     "data": {
      "text/html": [
       "<div>\n",
       "<style scoped>\n",
       "    .dataframe tbody tr th:only-of-type {\n",
       "        vertical-align: middle;\n",
       "    }\n",
       "\n",
       "    .dataframe tbody tr th {\n",
       "        vertical-align: top;\n",
       "    }\n",
       "\n",
       "    .dataframe thead th {\n",
       "        text-align: right;\n",
       "    }\n",
       "</style>\n",
       "<table border=\"1\" class=\"dataframe\">\n",
       "  <thead>\n",
       "    <tr style=\"text-align: right;\">\n",
       "      <th></th>\n",
       "      <th>weight</th>\n",
       "      <th>t_shirt_size</th>\n",
       "      <th>name</th>\n",
       "      <th>t_shirt_color_blue</th>\n",
       "      <th>t_shirt_color_green</th>\n",
       "      <th>t_shirt_color_orange</th>\n",
       "      <th>t_shirt_color_red</th>\n",
       "    </tr>\n",
       "  </thead>\n",
       "  <tbody>\n",
       "    <tr>\n",
       "      <th>0</th>\n",
       "      <td>89.997833</td>\n",
       "      <td>0</td>\n",
       "      <td>Thomas Kempker</td>\n",
       "      <td>False</td>\n",
       "      <td>True</td>\n",
       "      <td>False</td>\n",
       "      <td>False</td>\n",
       "    </tr>\n",
       "    <tr>\n",
       "      <th>1</th>\n",
       "      <td>114.179140</td>\n",
       "      <td>0</td>\n",
       "      <td>James Faulkner</td>\n",
       "      <td>False</td>\n",
       "      <td>False</td>\n",
       "      <td>False</td>\n",
       "      <td>False</td>\n",
       "    </tr>\n",
       "    <tr>\n",
       "      <th>2</th>\n",
       "      <td>113.689670</td>\n",
       "      <td>0</td>\n",
       "      <td>Ryan Murphy</td>\n",
       "      <td>False</td>\n",
       "      <td>False</td>\n",
       "      <td>True</td>\n",
       "      <td>False</td>\n",
       "    </tr>\n",
       "    <tr>\n",
       "      <th>3</th>\n",
       "      <td>102.687225</td>\n",
       "      <td>0</td>\n",
       "      <td>Constance Brassard</td>\n",
       "      <td>False</td>\n",
       "      <td>False</td>\n",
       "      <td>True</td>\n",
       "      <td>False</td>\n",
       "    </tr>\n",
       "    <tr>\n",
       "      <th>4</th>\n",
       "      <td>110.344519</td>\n",
       "      <td>0</td>\n",
       "      <td>Christina Yearout</td>\n",
       "      <td>False</td>\n",
       "      <td>False</td>\n",
       "      <td>False</td>\n",
       "      <td>False</td>\n",
       "    </tr>\n",
       "    <tr>\n",
       "      <th>...</th>\n",
       "      <td>...</td>\n",
       "      <td>...</td>\n",
       "      <td>...</td>\n",
       "      <td>...</td>\n",
       "      <td>...</td>\n",
       "      <td>...</td>\n",
       "      <td>...</td>\n",
       "    </tr>\n",
       "    <tr>\n",
       "      <th>295</th>\n",
       "      <td>170.395980</td>\n",
       "      <td>2</td>\n",
       "      <td>Janis Askew</td>\n",
       "      <td>False</td>\n",
       "      <td>False</td>\n",
       "      <td>True</td>\n",
       "      <td>False</td>\n",
       "    </tr>\n",
       "    <tr>\n",
       "      <th>296</th>\n",
       "      <td>162.185715</td>\n",
       "      <td>2</td>\n",
       "      <td>Phillip Boysen</td>\n",
       "      <td>False</td>\n",
       "      <td>False</td>\n",
       "      <td>True</td>\n",
       "      <td>False</td>\n",
       "    </tr>\n",
       "    <tr>\n",
       "      <th>297</th>\n",
       "      <td>219.890920</td>\n",
       "      <td>2</td>\n",
       "      <td>Monica Olewine</td>\n",
       "      <td>False</td>\n",
       "      <td>True</td>\n",
       "      <td>False</td>\n",
       "      <td>False</td>\n",
       "    </tr>\n",
       "    <tr>\n",
       "      <th>298</th>\n",
       "      <td>147.486465</td>\n",
       "      <td>2</td>\n",
       "      <td>Sarah Greer</td>\n",
       "      <td>False</td>\n",
       "      <td>False</td>\n",
       "      <td>False</td>\n",
       "      <td>True</td>\n",
       "    </tr>\n",
       "    <tr>\n",
       "      <th>299</th>\n",
       "      <td>215.878161</td>\n",
       "      <td>2</td>\n",
       "      <td>Danny Haycraft</td>\n",
       "      <td>False</td>\n",
       "      <td>False</td>\n",
       "      <td>False</td>\n",
       "      <td>True</td>\n",
       "    </tr>\n",
       "  </tbody>\n",
       "</table>\n",
       "<p>300 rows × 7 columns</p>\n",
       "</div>"
      ],
      "text/plain": [
       "         weight  t_shirt_size                name  t_shirt_color_blue  \\\n",
       "0     89.997833             0      Thomas Kempker               False   \n",
       "1    114.179140             0      James Faulkner               False   \n",
       "2    113.689670             0         Ryan Murphy               False   \n",
       "3    102.687225             0  Constance Brassard               False   \n",
       "4    110.344519             0   Christina Yearout               False   \n",
       "..          ...           ...                 ...                 ...   \n",
       "295  170.395980             2         Janis Askew               False   \n",
       "296  162.185715             2      Phillip Boysen               False   \n",
       "297  219.890920             2      Monica Olewine               False   \n",
       "298  147.486465             2         Sarah Greer               False   \n",
       "299  215.878161             2      Danny Haycraft               False   \n",
       "\n",
       "     t_shirt_color_green  t_shirt_color_orange  t_shirt_color_red  \n",
       "0                   True                 False              False  \n",
       "1                  False                 False              False  \n",
       "2                  False                  True              False  \n",
       "3                  False                  True              False  \n",
       "4                  False                 False              False  \n",
       "..                   ...                   ...                ...  \n",
       "295                False                  True              False  \n",
       "296                False                  True              False  \n",
       "297                 True                 False              False  \n",
       "298                False                 False               True  \n",
       "299                False                 False               True  \n",
       "\n",
       "[300 rows x 7 columns]"
      ]
     },
     "execution_count": 12,
     "metadata": {},
     "output_type": "execute_result"
    }
   ],
   "source": [
    "df2=df.copy()\n",
    "df2=pd.get_dummies(df,drop_first=True,columns=['t_shirt_color'])\n",
    "df2"
   ]
  },
  {
   "cell_type": "markdown",
   "metadata": {},
   "source": [
    "Notice that the t_shirt_color column has been replaced with 5 columns; t_shirt_color_black...<br>\n",
    "Note also that only 1 of these 5 columns will ever be 1 the rest will be 0.  Note also that there is no longer any order to infer to any of the colors ."
   ]
  },
  {
   "cell_type": "code",
   "execution_count": 13,
   "metadata": {},
   "outputs": [
    {
     "data": {
      "text/plain": [
       "weight                  float64\n",
       "t_shirt_size              int64\n",
       "name                     object\n",
       "t_shirt_color_blue         bool\n",
       "t_shirt_color_green        bool\n",
       "t_shirt_color_orange       bool\n",
       "t_shirt_color_red          bool\n",
       "dtype: object"
      ]
     },
     "execution_count": 13,
     "metadata": {},
     "output_type": "execute_result"
    }
   ],
   "source": [
    "df2.dtypes"
   ]
  },
  {
   "cell_type": "code",
   "execution_count": 32,
   "metadata": {},
   "outputs": [
    {
     "data": {
      "text/plain": [
       "Index                    0.440000\n",
       "weight                   8.000000\n",
       "t_shirt_size             8.000000\n",
       "name                    70.083333\n",
       "t_shirt_color_blue       1.000000\n",
       "t_shirt_color_green      1.000000\n",
       "t_shirt_color_orange     1.000000\n",
       "t_shirt_color_red        1.000000\n",
       "dtype: float64"
      ]
     },
     "execution_count": 32,
     "metadata": {},
     "output_type": "execute_result"
    }
   ],
   "source": [
    "df2.memory_usage(deep=True)/len(df2)"
   ]
  },
  {
   "cell_type": "code",
   "execution_count": null,
   "metadata": {},
   "outputs": [],
   "source": []
  }
 ],
 "metadata": {
  "kernelspec": {
   "display_name": "p311",
   "language": "python",
   "name": "python3"
  },
  "language_info": {
   "codemirror_mode": {
    "name": "ipython",
    "version": 3
   },
   "file_extension": ".py",
   "mimetype": "text/x-python",
   "name": "python",
   "nbconvert_exporter": "python",
   "pygments_lexer": "ipython3",
   "version": "3.11.5"
  },
  "widgets": {
   "application/vnd.jupyter.widget-state+json": {
    "state": {},
    "version_major": 2,
    "version_minor": 0
   }
  }
 },
 "nbformat": 4,
 "nbformat_minor": 4
}
