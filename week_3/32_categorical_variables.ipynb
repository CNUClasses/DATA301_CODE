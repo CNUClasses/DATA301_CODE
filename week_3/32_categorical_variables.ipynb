{
 "cells": [
  {
   "cell_type": "markdown",
   "metadata": {},
   "source": [
    "# Categorical Features\n",
    "There are two types of categorical features:<br>\n",
    "Ordinal Variable: Discrete values that can be ordered. <mark>Example: small\\<medium \\<large </mark><br>\n",
    "Nominal Variable: Discrete values that have no ordering. <mark>Example: Brown, Blue, Green</mark><br>\n",
    "\n",
    "**Definition- Cardinality: the number of distint elements in a set.  For our purposes the number of unique values in a column**<br>\n",
    "    This notebook uses concepts outlined Chapter 4 of _Python Machine Learning_ by Sebastian Raschka\n",
    "    "
   ]
  },
  {
   "cell_type": "code",
   "execution_count": 1,
   "metadata": {},
   "outputs": [],
   "source": [
    "import matplotlib.pyplot as plt\n",
    "import seaborn as sns\n",
    "\n",
    "import pandas as pd\n",
    "import numpy as np\n",
    "import utils as ut"
   ]
  },
  {
   "cell_type": "markdown",
   "metadata": {},
   "source": [
    "## Generate a t-shirt order<br>\n",
    "have a name, a t-shirt size, a t-shirt color and a weight(in pounds)<br>\n",
    "Uses the <a href=\"https://pypi.org/project/names/https://pypi.org/project/names/\">names </a> module to generate random names"
   ]
  },
  {
   "cell_type": "code",
   "execution_count": 2,
   "metadata": {},
   "outputs": [
    {
     "data": {
      "text/plain": [
       "['PROCESSED_DATA',\n",
       " '__builtins__',\n",
       " '__cached__',\n",
       " '__doc__',\n",
       " '__file__',\n",
       " '__loader__',\n",
       " '__name__',\n",
       " '__package__',\n",
       " '__spec__',\n",
       " 'generate_tshirt_order',\n",
       " 'names',\n",
       " 'np',\n",
       " 'pd']"
      ]
     },
     "execution_count": 2,
     "metadata": {},
     "output_type": "execute_result"
    }
   ],
   "source": [
    "dir(ut)"
   ]
  },
  {
   "cell_type": "code",
   "execution_count": 3,
   "metadata": {},
   "outputs": [
    {
     "data": {
      "text/html": [
       "<div>\n",
       "<style scoped>\n",
       "    .dataframe tbody tr th:only-of-type {\n",
       "        vertical-align: middle;\n",
       "    }\n",
       "\n",
       "    .dataframe tbody tr th {\n",
       "        vertical-align: top;\n",
       "    }\n",
       "\n",
       "    .dataframe thead th {\n",
       "        text-align: right;\n",
       "    }\n",
       "</style>\n",
       "<table border=\"1\" class=\"dataframe\">\n",
       "  <thead>\n",
       "    <tr style=\"text-align: right;\">\n",
       "      <th></th>\n",
       "      <th>weight</th>\n",
       "      <th>t_shirt_size</th>\n",
       "      <th>t_shirt_color</th>\n",
       "      <th>name</th>\n",
       "    </tr>\n",
       "  </thead>\n",
       "  <tbody>\n",
       "    <tr>\n",
       "      <th>0</th>\n",
       "      <td>104.223342</td>\n",
       "      <td>small</td>\n",
       "      <td>black</td>\n",
       "      <td>Joshua Kern</td>\n",
       "    </tr>\n",
       "    <tr>\n",
       "      <th>1</th>\n",
       "      <td>79.555350</td>\n",
       "      <td>small</td>\n",
       "      <td>red</td>\n",
       "      <td>Annie Labine</td>\n",
       "    </tr>\n",
       "    <tr>\n",
       "      <th>2</th>\n",
       "      <td>99.122399</td>\n",
       "      <td>small</td>\n",
       "      <td>red</td>\n",
       "      <td>Betty Leonard</td>\n",
       "    </tr>\n",
       "    <tr>\n",
       "      <th>3</th>\n",
       "      <td>100.165451</td>\n",
       "      <td>small</td>\n",
       "      <td>green</td>\n",
       "      <td>Lillie Mccarley</td>\n",
       "    </tr>\n",
       "    <tr>\n",
       "      <th>4</th>\n",
       "      <td>96.266007</td>\n",
       "      <td>small</td>\n",
       "      <td>red</td>\n",
       "      <td>Joel Stern</td>\n",
       "    </tr>\n",
       "    <tr>\n",
       "      <th>...</th>\n",
       "      <td>...</td>\n",
       "      <td>...</td>\n",
       "      <td>...</td>\n",
       "      <td>...</td>\n",
       "    </tr>\n",
       "    <tr>\n",
       "      <th>295</th>\n",
       "      <td>160.484796</td>\n",
       "      <td>large</td>\n",
       "      <td>black</td>\n",
       "      <td>Frances Camacho</td>\n",
       "    </tr>\n",
       "    <tr>\n",
       "      <th>296</th>\n",
       "      <td>156.060992</td>\n",
       "      <td>large</td>\n",
       "      <td>green</td>\n",
       "      <td>David Livesay</td>\n",
       "    </tr>\n",
       "    <tr>\n",
       "      <th>297</th>\n",
       "      <td>125.988215</td>\n",
       "      <td>large</td>\n",
       "      <td>black</td>\n",
       "      <td>Shawn Barraclough</td>\n",
       "    </tr>\n",
       "    <tr>\n",
       "      <th>298</th>\n",
       "      <td>173.009852</td>\n",
       "      <td>large</td>\n",
       "      <td>green</td>\n",
       "      <td>Heather Giordano</td>\n",
       "    </tr>\n",
       "    <tr>\n",
       "      <th>299</th>\n",
       "      <td>195.683701</td>\n",
       "      <td>large</td>\n",
       "      <td>blue</td>\n",
       "      <td>Carlos Almendarez</td>\n",
       "    </tr>\n",
       "  </tbody>\n",
       "</table>\n",
       "<p>300 rows × 4 columns</p>\n",
       "</div>"
      ],
      "text/plain": [
       "         weight t_shirt_size t_shirt_color               name\n",
       "0    104.223342        small         black        Joshua Kern\n",
       "1     79.555350        small           red       Annie Labine\n",
       "2     99.122399        small           red      Betty Leonard\n",
       "3    100.165451        small         green    Lillie Mccarley\n",
       "4     96.266007        small           red         Joel Stern\n",
       "..          ...          ...           ...                ...\n",
       "295  160.484796        large         black    Frances Camacho\n",
       "296  156.060992        large         green      David Livesay\n",
       "297  125.988215        large         black  Shawn Barraclough\n",
       "298  173.009852        large         green   Heather Giordano\n",
       "299  195.683701        large          blue  Carlos Almendarez\n",
       "\n",
       "[300 rows x 4 columns]"
      ]
     },
     "execution_count": 3,
     "metadata": {},
     "output_type": "execute_result"
    }
   ],
   "source": [
    "import utils as ut\n",
    "df = ut.generate_tshirt_order()\n",
    "df"
   ]
  },
  {
   "cell_type": "markdown",
   "metadata": {},
   "source": [
    "## Get a list of all categorical variables\n",
    "Usually strings (objects in dtype) and bools (show up as bool in dtypes)"
   ]
  },
  {
   "cell_type": "code",
   "execution_count": 4,
   "metadata": {},
   "outputs": [
    {
     "data": {
      "text/plain": [
       "300"
      ]
     },
     "execution_count": 4,
     "metadata": {},
     "output_type": "execute_result"
    }
   ],
   "source": [
    "len(df)"
   ]
  },
  {
   "cell_type": "code",
   "execution_count": 5,
   "metadata": {},
   "outputs": [
    {
     "data": {
      "text/plain": [
       "weight           float64\n",
       "t_shirt_size      object\n",
       "t_shirt_color     object\n",
       "name              object\n",
       "dtype: object"
      ]
     },
     "execution_count": 5,
     "metadata": {},
     "output_type": "execute_result"
    }
   ],
   "source": [
    "df.dtypes"
   ]
  },
  {
   "cell_type": "code",
   "execution_count": 6,
   "metadata": {},
   "outputs": [
    {
     "data": {
      "text/plain": [
       "weight           300\n",
       "t_shirt_size       3\n",
       "t_shirt_color      5\n",
       "name             300\n",
       "dtype: int64"
      ]
     },
     "execution_count": 6,
     "metadata": {},
     "output_type": "execute_result"
    }
   ],
   "source": [
    "#and how many unique entries for each type\n",
    "df.nunique()"
   ]
  },
  {
   "cell_type": "markdown",
   "metadata": {},
   "source": [
    "## We have 3 objects, of which t_shirt_size and t_shirt_color are low cardinality categorical variables"
   ]
  },
  {
   "cell_type": "markdown",
   "metadata": {},
   "source": [
    "### Ordinal Categorical values\n",
    "Ordering matters for t_shirt_size given that <br>\n",
    "<mark> small \\< medium \\< large </mark><br>\n",
    "So make t_shirt_size ordinal, and map these strings to numbers that respect the above inequality.  This will also help any ML algorithm using this data to interpret it correctly. <br>\n",
    "Replace the values in the t_shirt_size column with the following <br>\n",
    "small:0, medium:1, large:2 <br><br>\n",
    "Advantages\n",
    "<ul>\n",
    "    <li>Establishes a numerical order\n",
    "    <li>Does not add new columns to DataFrame \n",
    "   </ul>\n",
    "\n"
   ]
  },
  {
   "cell_type": "code",
   "execution_count": 7,
   "metadata": {},
   "outputs": [
    {
     "name": "stdout",
     "output_type": "stream",
     "text": [
      "original t shirt sizes {'small', 'medium', 'large'}\n",
      "mapping used to convert original t_shirt sizes to numbers {'large': 2, 'medium': 1, 'small': 0}\n"
     ]
    }
   ],
   "source": [
    "#lets get a set of all possible values\n",
    "vals = set(df.t_shirt_size)  #list(df.t_shirt_size.unique()) works too\n",
    "print(f'original t shirt sizes {vals}')\n",
    "\n",
    "#if there is an order you generally have to specify it by hand, easy when there are 3 values, harder when there are 30\n",
    "#I copied the resulting set from above and gave each of the members a value based on my domain expertise\n",
    "#What would you do if they were small medium, mediumplus and large?  You dont have to use integers.\n",
    "#Maybe something like vals={'large':2.0, mediumplus:1.2, 'medium':1.0, 'small':0.0}\n",
    "vals={'large':2, 'medium':1, 'small':0}\n",
    "print(f'mapping used to convert original t_shirt sizes to numbers {vals}')"
   ]
  },
  {
   "cell_type": "code",
   "execution_count": 8,
   "metadata": {},
   "outputs": [
    {
     "data": {
      "text/html": [
       "<div>\n",
       "<style scoped>\n",
       "    .dataframe tbody tr th:only-of-type {\n",
       "        vertical-align: middle;\n",
       "    }\n",
       "\n",
       "    .dataframe tbody tr th {\n",
       "        vertical-align: top;\n",
       "    }\n",
       "\n",
       "    .dataframe thead th {\n",
       "        text-align: right;\n",
       "    }\n",
       "</style>\n",
       "<table border=\"1\" class=\"dataframe\">\n",
       "  <thead>\n",
       "    <tr style=\"text-align: right;\">\n",
       "      <th></th>\n",
       "      <th>weight</th>\n",
       "      <th>t_shirt_size</th>\n",
       "      <th>t_shirt_color</th>\n",
       "      <th>name</th>\n",
       "    </tr>\n",
       "  </thead>\n",
       "  <tbody>\n",
       "    <tr>\n",
       "      <th>0</th>\n",
       "      <td>104.223342</td>\n",
       "      <td>0</td>\n",
       "      <td>black</td>\n",
       "      <td>Joshua Kern</td>\n",
       "    </tr>\n",
       "    <tr>\n",
       "      <th>1</th>\n",
       "      <td>79.555350</td>\n",
       "      <td>0</td>\n",
       "      <td>red</td>\n",
       "      <td>Annie Labine</td>\n",
       "    </tr>\n",
       "    <tr>\n",
       "      <th>2</th>\n",
       "      <td>99.122399</td>\n",
       "      <td>0</td>\n",
       "      <td>red</td>\n",
       "      <td>Betty Leonard</td>\n",
       "    </tr>\n",
       "    <tr>\n",
       "      <th>3</th>\n",
       "      <td>100.165451</td>\n",
       "      <td>0</td>\n",
       "      <td>green</td>\n",
       "      <td>Lillie Mccarley</td>\n",
       "    </tr>\n",
       "    <tr>\n",
       "      <th>4</th>\n",
       "      <td>96.266007</td>\n",
       "      <td>0</td>\n",
       "      <td>red</td>\n",
       "      <td>Joel Stern</td>\n",
       "    </tr>\n",
       "    <tr>\n",
       "      <th>...</th>\n",
       "      <td>...</td>\n",
       "      <td>...</td>\n",
       "      <td>...</td>\n",
       "      <td>...</td>\n",
       "    </tr>\n",
       "    <tr>\n",
       "      <th>295</th>\n",
       "      <td>160.484796</td>\n",
       "      <td>2</td>\n",
       "      <td>black</td>\n",
       "      <td>Frances Camacho</td>\n",
       "    </tr>\n",
       "    <tr>\n",
       "      <th>296</th>\n",
       "      <td>156.060992</td>\n",
       "      <td>2</td>\n",
       "      <td>green</td>\n",
       "      <td>David Livesay</td>\n",
       "    </tr>\n",
       "    <tr>\n",
       "      <th>297</th>\n",
       "      <td>125.988215</td>\n",
       "      <td>2</td>\n",
       "      <td>black</td>\n",
       "      <td>Shawn Barraclough</td>\n",
       "    </tr>\n",
       "    <tr>\n",
       "      <th>298</th>\n",
       "      <td>173.009852</td>\n",
       "      <td>2</td>\n",
       "      <td>green</td>\n",
       "      <td>Heather Giordano</td>\n",
       "    </tr>\n",
       "    <tr>\n",
       "      <th>299</th>\n",
       "      <td>195.683701</td>\n",
       "      <td>2</td>\n",
       "      <td>blue</td>\n",
       "      <td>Carlos Almendarez</td>\n",
       "    </tr>\n",
       "  </tbody>\n",
       "</table>\n",
       "<p>300 rows × 4 columns</p>\n",
       "</div>"
      ],
      "text/plain": [
       "         weight  t_shirt_size t_shirt_color               name\n",
       "0    104.223342             0         black        Joshua Kern\n",
       "1     79.555350             0           red       Annie Labine\n",
       "2     99.122399             0           red      Betty Leonard\n",
       "3    100.165451             0         green    Lillie Mccarley\n",
       "4     96.266007             0           red         Joel Stern\n",
       "..          ...           ...           ...                ...\n",
       "295  160.484796             2         black    Frances Camacho\n",
       "296  156.060992             2         green      David Livesay\n",
       "297  125.988215             2         black  Shawn Barraclough\n",
       "298  173.009852             2         green   Heather Giordano\n",
       "299  195.683701             2          blue  Carlos Almendarez\n",
       "\n",
       "[300 rows x 4 columns]"
      ]
     },
     "execution_count": 8,
     "metadata": {},
     "output_type": "execute_result"
    }
   ],
   "source": [
    "#map the vals dict to the t_shirt_size column, this is quite fast\n",
    "df.t_shirt_size = df.t_shirt_size.map(vals)\n",
    "\n",
    "#can do the same thing above this way\n",
    "# df['t_shirt_size'] = df['t_shirt_size'].map(vals)\n",
    "df"
   ]
  },
  {
   "cell_type": "markdown",
   "metadata": {},
   "source": [
    "Notice that we do **not** increase the total number of columns when we do this."
   ]
  },
  {
   "cell_type": "code",
   "execution_count": 10,
   "metadata": {},
   "outputs": [
    {
     "data": {
      "text/plain": [
       "weight           float64\n",
       "t_shirt_size       int64\n",
       "t_shirt_color     object\n",
       "name              object\n",
       "dtype: object"
      ]
     },
     "execution_count": 10,
     "metadata": {},
     "output_type": "execute_result"
    }
   ],
   "source": [
    "df.dtypes"
   ]
  },
  {
   "cell_type": "code",
   "execution_count": 11,
   "metadata": {},
   "outputs": [
    {
     "data": {
      "text/plain": [
       "{'large': 2, 'medium': 1, 'small': 0}"
      ]
     },
     "execution_count": 11,
     "metadata": {},
     "output_type": "execute_result"
    }
   ],
   "source": [
    "vals"
   ]
  },
  {
   "cell_type": "code",
   "execution_count": 12,
   "metadata": {
    "collapsed": true,
    "jupyter": {
     "outputs_hidden": true
    },
    "tags": []
   },
   "outputs": [
    {
     "name": "stdout",
     "output_type": "stream",
     "text": [
      "reverse mapping used to convert numbers back to original t_shirt sizes {2: 'large', 1: 'medium', 0: 'small'}\n"
     ]
    }
   ],
   "source": [
    "# If you want to reverse the above mapping create a reverse mapping and map to df\n",
    "reverse_mapping = {v:k for k,v in vals.items()}\n",
    "print(f'reverse mapping used to convert numbers back to original t_shirt sizes {reverse_mapping}')\n",
    "\n",
    "#apply reverse mapping to get back oridinal values\n",
    "# df.t_shirt_size = df.t_shirt_size.map(reverse_mapping)\n",
    "# df"
   ]
  },
  {
   "cell_type": "markdown",
   "metadata": {},
   "source": [
    "### Nominal Categorical values\n",
    "Ordering does not matter for t_shirt_color, but if we do the same thing that we did for ordinal features, that is map each unique value to a number, then we will be establishing an order. Like this:<br>\n",
    "'green':0,'blue':1,'orange':2,'red':3,'black':4<br>\n",
    "This may appear to a ML algorithm that 'green'<'blue'<'orange'<'red'<'black'.  Which is nonsense.<br>\n",
    "\n",
    "One way to solve this is through something called <mark>one-hot encoding</mark>.  A technique where a new column is created for each possible value that the nominal variable can be. This operation **will** increase the number of features (columns) in your dataset by the cardinality of the column -1 (if n unique values add n dummy features and delete the original feature).<br>\n",
    "To implement, use pandas builtin get_dummies<br><br>\n",
    "Advantages\n",
    "<ul>\n",
    "    <li>Guarantees a ML model will not deduce an ordering\n",
    "   </ul>\n",
    "Disdvantages\n",
    "<ul>\n",
    "    <li>Expands the feature space (adds n-1 columns if the nominal variable has n unique values).  So high cardinality columns can dramatically expand feature space. \n",
    "    <li>Does not work as well with tree based models (Random Forest, Boosted Trees).\n",
    "   </ul>\n"
   ]
  },
  {
   "cell_type": "code",
   "execution_count": 34,
   "metadata": {},
   "outputs": [
    {
     "data": {
      "text/html": [
       "<div>\n",
       "<style scoped>\n",
       "    .dataframe tbody tr th:only-of-type {\n",
       "        vertical-align: middle;\n",
       "    }\n",
       "\n",
       "    .dataframe tbody tr th {\n",
       "        vertical-align: top;\n",
       "    }\n",
       "\n",
       "    .dataframe thead th {\n",
       "        text-align: right;\n",
       "    }\n",
       "</style>\n",
       "<table border=\"1\" class=\"dataframe\">\n",
       "  <thead>\n",
       "    <tr style=\"text-align: right;\">\n",
       "      <th></th>\n",
       "      <th>weight</th>\n",
       "      <th>t_shirt_size</th>\n",
       "      <th>t_shirt_color</th>\n",
       "      <th>name</th>\n",
       "    </tr>\n",
       "  </thead>\n",
       "  <tbody>\n",
       "    <tr>\n",
       "      <th>0</th>\n",
       "      <td>81.179952</td>\n",
       "      <td>0</td>\n",
       "      <td>red</td>\n",
       "      <td>Mary Mcniel</td>\n",
       "    </tr>\n",
       "    <tr>\n",
       "      <th>1</th>\n",
       "      <td>103.493753</td>\n",
       "      <td>0</td>\n",
       "      <td>blue</td>\n",
       "      <td>Rodney Vick</td>\n",
       "    </tr>\n",
       "    <tr>\n",
       "      <th>2</th>\n",
       "      <td>94.204191</td>\n",
       "      <td>0</td>\n",
       "      <td>red</td>\n",
       "      <td>Elmer Hickman</td>\n",
       "    </tr>\n",
       "    <tr>\n",
       "      <th>3</th>\n",
       "      <td>106.881369</td>\n",
       "      <td>0</td>\n",
       "      <td>red</td>\n",
       "      <td>Mary Snyder</td>\n",
       "    </tr>\n",
       "    <tr>\n",
       "      <th>4</th>\n",
       "      <td>95.933206</td>\n",
       "      <td>0</td>\n",
       "      <td>orange</td>\n",
       "      <td>Catherine Ishak</td>\n",
       "    </tr>\n",
       "    <tr>\n",
       "      <th>...</th>\n",
       "      <td>...</td>\n",
       "      <td>...</td>\n",
       "      <td>...</td>\n",
       "      <td>...</td>\n",
       "    </tr>\n",
       "    <tr>\n",
       "      <th>295</th>\n",
       "      <td>192.876132</td>\n",
       "      <td>2</td>\n",
       "      <td>black</td>\n",
       "      <td>Lester Malin</td>\n",
       "    </tr>\n",
       "    <tr>\n",
       "      <th>296</th>\n",
       "      <td>104.387189</td>\n",
       "      <td>2</td>\n",
       "      <td>green</td>\n",
       "      <td>Janice Scott</td>\n",
       "    </tr>\n",
       "    <tr>\n",
       "      <th>297</th>\n",
       "      <td>168.322953</td>\n",
       "      <td>2</td>\n",
       "      <td>blue</td>\n",
       "      <td>Lawanda Parker</td>\n",
       "    </tr>\n",
       "    <tr>\n",
       "      <th>298</th>\n",
       "      <td>103.020549</td>\n",
       "      <td>2</td>\n",
       "      <td>green</td>\n",
       "      <td>Ethel Grice</td>\n",
       "    </tr>\n",
       "    <tr>\n",
       "      <th>299</th>\n",
       "      <td>147.824894</td>\n",
       "      <td>2</td>\n",
       "      <td>orange</td>\n",
       "      <td>Jerry Wilson</td>\n",
       "    </tr>\n",
       "  </tbody>\n",
       "</table>\n",
       "<p>300 rows × 4 columns</p>\n",
       "</div>"
      ],
      "text/plain": [
       "         weight  t_shirt_size t_shirt_color             name\n",
       "0     81.179952             0           red      Mary Mcniel\n",
       "1    103.493753             0          blue      Rodney Vick\n",
       "2     94.204191             0           red    Elmer Hickman\n",
       "3    106.881369             0           red      Mary Snyder\n",
       "4     95.933206             0        orange  Catherine Ishak\n",
       "..          ...           ...           ...              ...\n",
       "295  192.876132             2         black     Lester Malin\n",
       "296  104.387189             2         green     Janice Scott\n",
       "297  168.322953             2          blue   Lawanda Parker\n",
       "298  103.020549             2         green      Ethel Grice\n",
       "299  147.824894             2        orange     Jerry Wilson\n",
       "\n",
       "[300 rows x 4 columns]"
      ]
     },
     "execution_count": 34,
     "metadata": {},
     "output_type": "execute_result"
    }
   ],
   "source": [
    "df"
   ]
  },
  {
   "cell_type": "code",
   "execution_count": 13,
   "metadata": {},
   "outputs": [
    {
     "data": {
      "text/html": [
       "<div>\n",
       "<style scoped>\n",
       "    .dataframe tbody tr th:only-of-type {\n",
       "        vertical-align: middle;\n",
       "    }\n",
       "\n",
       "    .dataframe tbody tr th {\n",
       "        vertical-align: top;\n",
       "    }\n",
       "\n",
       "    .dataframe thead th {\n",
       "        text-align: right;\n",
       "    }\n",
       "</style>\n",
       "<table border=\"1\" class=\"dataframe\">\n",
       "  <thead>\n",
       "    <tr style=\"text-align: right;\">\n",
       "      <th></th>\n",
       "      <th>weight</th>\n",
       "      <th>t_shirt_size</th>\n",
       "      <th>name</th>\n",
       "      <th>t_shirt_color_black</th>\n",
       "      <th>t_shirt_color_blue</th>\n",
       "      <th>t_shirt_color_green</th>\n",
       "      <th>t_shirt_color_orange</th>\n",
       "      <th>t_shirt_color_red</th>\n",
       "    </tr>\n",
       "  </thead>\n",
       "  <tbody>\n",
       "    <tr>\n",
       "      <th>0</th>\n",
       "      <td>104.223342</td>\n",
       "      <td>0</td>\n",
       "      <td>Joshua Kern</td>\n",
       "      <td>True</td>\n",
       "      <td>False</td>\n",
       "      <td>False</td>\n",
       "      <td>False</td>\n",
       "      <td>False</td>\n",
       "    </tr>\n",
       "    <tr>\n",
       "      <th>1</th>\n",
       "      <td>79.555350</td>\n",
       "      <td>0</td>\n",
       "      <td>Annie Labine</td>\n",
       "      <td>False</td>\n",
       "      <td>False</td>\n",
       "      <td>False</td>\n",
       "      <td>False</td>\n",
       "      <td>True</td>\n",
       "    </tr>\n",
       "    <tr>\n",
       "      <th>2</th>\n",
       "      <td>99.122399</td>\n",
       "      <td>0</td>\n",
       "      <td>Betty Leonard</td>\n",
       "      <td>False</td>\n",
       "      <td>False</td>\n",
       "      <td>False</td>\n",
       "      <td>False</td>\n",
       "      <td>True</td>\n",
       "    </tr>\n",
       "    <tr>\n",
       "      <th>3</th>\n",
       "      <td>100.165451</td>\n",
       "      <td>0</td>\n",
       "      <td>Lillie Mccarley</td>\n",
       "      <td>False</td>\n",
       "      <td>False</td>\n",
       "      <td>True</td>\n",
       "      <td>False</td>\n",
       "      <td>False</td>\n",
       "    </tr>\n",
       "    <tr>\n",
       "      <th>4</th>\n",
       "      <td>96.266007</td>\n",
       "      <td>0</td>\n",
       "      <td>Joel Stern</td>\n",
       "      <td>False</td>\n",
       "      <td>False</td>\n",
       "      <td>False</td>\n",
       "      <td>False</td>\n",
       "      <td>True</td>\n",
       "    </tr>\n",
       "    <tr>\n",
       "      <th>...</th>\n",
       "      <td>...</td>\n",
       "      <td>...</td>\n",
       "      <td>...</td>\n",
       "      <td>...</td>\n",
       "      <td>...</td>\n",
       "      <td>...</td>\n",
       "      <td>...</td>\n",
       "      <td>...</td>\n",
       "    </tr>\n",
       "    <tr>\n",
       "      <th>295</th>\n",
       "      <td>160.484796</td>\n",
       "      <td>2</td>\n",
       "      <td>Frances Camacho</td>\n",
       "      <td>True</td>\n",
       "      <td>False</td>\n",
       "      <td>False</td>\n",
       "      <td>False</td>\n",
       "      <td>False</td>\n",
       "    </tr>\n",
       "    <tr>\n",
       "      <th>296</th>\n",
       "      <td>156.060992</td>\n",
       "      <td>2</td>\n",
       "      <td>David Livesay</td>\n",
       "      <td>False</td>\n",
       "      <td>False</td>\n",
       "      <td>True</td>\n",
       "      <td>False</td>\n",
       "      <td>False</td>\n",
       "    </tr>\n",
       "    <tr>\n",
       "      <th>297</th>\n",
       "      <td>125.988215</td>\n",
       "      <td>2</td>\n",
       "      <td>Shawn Barraclough</td>\n",
       "      <td>True</td>\n",
       "      <td>False</td>\n",
       "      <td>False</td>\n",
       "      <td>False</td>\n",
       "      <td>False</td>\n",
       "    </tr>\n",
       "    <tr>\n",
       "      <th>298</th>\n",
       "      <td>173.009852</td>\n",
       "      <td>2</td>\n",
       "      <td>Heather Giordano</td>\n",
       "      <td>False</td>\n",
       "      <td>False</td>\n",
       "      <td>True</td>\n",
       "      <td>False</td>\n",
       "      <td>False</td>\n",
       "    </tr>\n",
       "    <tr>\n",
       "      <th>299</th>\n",
       "      <td>195.683701</td>\n",
       "      <td>2</td>\n",
       "      <td>Carlos Almendarez</td>\n",
       "      <td>False</td>\n",
       "      <td>True</td>\n",
       "      <td>False</td>\n",
       "      <td>False</td>\n",
       "      <td>False</td>\n",
       "    </tr>\n",
       "  </tbody>\n",
       "</table>\n",
       "<p>300 rows × 8 columns</p>\n",
       "</div>"
      ],
      "text/plain": [
       "         weight  t_shirt_size               name  t_shirt_color_black  \\\n",
       "0    104.223342             0        Joshua Kern                 True   \n",
       "1     79.555350             0       Annie Labine                False   \n",
       "2     99.122399             0      Betty Leonard                False   \n",
       "3    100.165451             0    Lillie Mccarley                False   \n",
       "4     96.266007             0         Joel Stern                False   \n",
       "..          ...           ...                ...                  ...   \n",
       "295  160.484796             2    Frances Camacho                 True   \n",
       "296  156.060992             2      David Livesay                False   \n",
       "297  125.988215             2  Shawn Barraclough                 True   \n",
       "298  173.009852             2   Heather Giordano                False   \n",
       "299  195.683701             2  Carlos Almendarez                False   \n",
       "\n",
       "     t_shirt_color_blue  t_shirt_color_green  t_shirt_color_orange  \\\n",
       "0                 False                False                 False   \n",
       "1                 False                False                 False   \n",
       "2                 False                False                 False   \n",
       "3                 False                 True                 False   \n",
       "4                 False                False                 False   \n",
       "..                  ...                  ...                   ...   \n",
       "295               False                False                 False   \n",
       "296               False                 True                 False   \n",
       "297               False                False                 False   \n",
       "298               False                 True                 False   \n",
       "299                True                False                 False   \n",
       "\n",
       "     t_shirt_color_red  \n",
       "0                False  \n",
       "1                 True  \n",
       "2                 True  \n",
       "3                False  \n",
       "4                 True  \n",
       "..                 ...  \n",
       "295              False  \n",
       "296              False  \n",
       "297              False  \n",
       "298              False  \n",
       "299              False  \n",
       "\n",
       "[300 rows x 8 columns]"
      ]
     },
     "execution_count": 13,
     "metadata": {},
     "output_type": "execute_result"
    }
   ],
   "source": [
    "df2=df.copy()\n",
    "df2=pd.get_dummies(df,columns=['t_shirt_color'])\n",
    "df2"
   ]
  },
  {
   "cell_type": "markdown",
   "metadata": {},
   "source": [
    "Notice that the t_shirt_color column has been replaced with 5 columns; t_shirt_color_black...<br>\n",
    "Note also that only 1 of these 5 columns will ever be 1 the rest will be 0.  Note also that there is no longer any order to infer to any of the colors ."
   ]
  }
 ],
 "metadata": {
  "kernelspec": {
   "display_name": "Python 3 (ipykernel)",
   "language": "python",
   "name": "python3"
  },
  "language_info": {
   "codemirror_mode": {
    "name": "ipython",
    "version": 3
   },
   "file_extension": ".py",
   "mimetype": "text/x-python",
   "name": "python",
   "nbconvert_exporter": "python",
   "pygments_lexer": "ipython3",
   "version": "3.11.5"
  },
  "widgets": {
   "application/vnd.jupyter.widget-state+json": {
    "state": {},
    "version_major": 2,
    "version_minor": 0
   }
  }
 },
 "nbformat": 4,
 "nbformat_minor": 4
}
