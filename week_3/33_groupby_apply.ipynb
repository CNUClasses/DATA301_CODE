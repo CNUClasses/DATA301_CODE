{
 "cells": [
  {
   "cell_type": "markdown",
   "id": "7d2c3949-9339-46b2-bdd8-ea5510f43a24",
   "metadata": {},
   "source": [
    "# Groupby and apply\n",
    "Powerful data query mechanisms\n",
    "see '3.13 Grouping Rows by Values' in Albon"
   ]
  },
  {
   "cell_type": "markdown",
   "id": "32c6e5ec-8c58-42f3-a279-8c584bfc6dfd",
   "metadata": {},
   "source": [
    "## Load a dataset"
   ]
  },
  {
   "cell_type": "code",
   "execution_count": 3,
   "id": "b50ac2b1-2947-4cf5-8c94-33f456ed9338",
   "metadata": {},
   "outputs": [],
   "source": [
    "# !mamba install seaborn -y"
   ]
  },
  {
   "cell_type": "code",
   "execution_count": 4,
   "id": "1adce5e5-2807-48d3-aa7e-179549646d1b",
   "metadata": {},
   "outputs": [],
   "source": [
    "import pandas as pd\n",
    "import seaborn as sns\n",
    "url=\"https://raw.githubusercontent.com/datasciencedojo/datasets/master/titanic.csv\"\n",
    "# url=\"https://raw.githubusercontent.com/chrisalbon/simulated_datasets/master/titanic.csv\"  #404 now\n",
    "df = pd.read_csv(url)"
   ]
  },
  {
   "cell_type": "code",
   "execution_count": 5,
   "id": "18e5a34e-cea9-4515-90b3-08004b1e67b8",
   "metadata": {},
   "outputs": [
    {
     "name": "stdout",
     "output_type": "stream",
     "text": [
      "891\n"
     ]
    },
    {
     "data": {
      "text/html": [
       "<div>\n",
       "<style scoped>\n",
       "    .dataframe tbody tr th:only-of-type {\n",
       "        vertical-align: middle;\n",
       "    }\n",
       "\n",
       "    .dataframe tbody tr th {\n",
       "        vertical-align: top;\n",
       "    }\n",
       "\n",
       "    .dataframe thead th {\n",
       "        text-align: right;\n",
       "    }\n",
       "</style>\n",
       "<table border=\"1\" class=\"dataframe\">\n",
       "  <thead>\n",
       "    <tr style=\"text-align: right;\">\n",
       "      <th></th>\n",
       "      <th>PassengerId</th>\n",
       "      <th>Survived</th>\n",
       "      <th>Pclass</th>\n",
       "      <th>Name</th>\n",
       "      <th>Sex</th>\n",
       "      <th>Age</th>\n",
       "      <th>SibSp</th>\n",
       "      <th>Parch</th>\n",
       "      <th>Ticket</th>\n",
       "      <th>Fare</th>\n",
       "      <th>Cabin</th>\n",
       "      <th>Embarked</th>\n",
       "    </tr>\n",
       "  </thead>\n",
       "  <tbody>\n",
       "    <tr>\n",
       "      <th>0</th>\n",
       "      <td>1</td>\n",
       "      <td>0</td>\n",
       "      <td>3</td>\n",
       "      <td>Braund, Mr. Owen Harris</td>\n",
       "      <td>male</td>\n",
       "      <td>22.0</td>\n",
       "      <td>1</td>\n",
       "      <td>0</td>\n",
       "      <td>A/5 21171</td>\n",
       "      <td>7.2500</td>\n",
       "      <td>NaN</td>\n",
       "      <td>S</td>\n",
       "    </tr>\n",
       "    <tr>\n",
       "      <th>1</th>\n",
       "      <td>2</td>\n",
       "      <td>1</td>\n",
       "      <td>1</td>\n",
       "      <td>Cumings, Mrs. John Bradley (Florence Briggs Th...</td>\n",
       "      <td>female</td>\n",
       "      <td>38.0</td>\n",
       "      <td>1</td>\n",
       "      <td>0</td>\n",
       "      <td>PC 17599</td>\n",
       "      <td>71.2833</td>\n",
       "      <td>C85</td>\n",
       "      <td>C</td>\n",
       "    </tr>\n",
       "    <tr>\n",
       "      <th>2</th>\n",
       "      <td>3</td>\n",
       "      <td>1</td>\n",
       "      <td>3</td>\n",
       "      <td>Heikkinen, Miss. Laina</td>\n",
       "      <td>female</td>\n",
       "      <td>26.0</td>\n",
       "      <td>0</td>\n",
       "      <td>0</td>\n",
       "      <td>STON/O2. 3101282</td>\n",
       "      <td>7.9250</td>\n",
       "      <td>NaN</td>\n",
       "      <td>S</td>\n",
       "    </tr>\n",
       "    <tr>\n",
       "      <th>3</th>\n",
       "      <td>4</td>\n",
       "      <td>1</td>\n",
       "      <td>1</td>\n",
       "      <td>Futrelle, Mrs. Jacques Heath (Lily May Peel)</td>\n",
       "      <td>female</td>\n",
       "      <td>35.0</td>\n",
       "      <td>1</td>\n",
       "      <td>0</td>\n",
       "      <td>113803</td>\n",
       "      <td>53.1000</td>\n",
       "      <td>C123</td>\n",
       "      <td>S</td>\n",
       "    </tr>\n",
       "    <tr>\n",
       "      <th>4</th>\n",
       "      <td>5</td>\n",
       "      <td>0</td>\n",
       "      <td>3</td>\n",
       "      <td>Allen, Mr. William Henry</td>\n",
       "      <td>male</td>\n",
       "      <td>35.0</td>\n",
       "      <td>0</td>\n",
       "      <td>0</td>\n",
       "      <td>373450</td>\n",
       "      <td>8.0500</td>\n",
       "      <td>NaN</td>\n",
       "      <td>S</td>\n",
       "    </tr>\n",
       "  </tbody>\n",
       "</table>\n",
       "</div>"
      ],
      "text/plain": [
       "   PassengerId  Survived  Pclass  \\\n",
       "0            1         0       3   \n",
       "1            2         1       1   \n",
       "2            3         1       3   \n",
       "3            4         1       1   \n",
       "4            5         0       3   \n",
       "\n",
       "                                                Name     Sex   Age  SibSp  \\\n",
       "0                            Braund, Mr. Owen Harris    male  22.0      1   \n",
       "1  Cumings, Mrs. John Bradley (Florence Briggs Th...  female  38.0      1   \n",
       "2                             Heikkinen, Miss. Laina  female  26.0      0   \n",
       "3       Futrelle, Mrs. Jacques Heath (Lily May Peel)  female  35.0      1   \n",
       "4                           Allen, Mr. William Henry    male  35.0      0   \n",
       "\n",
       "   Parch            Ticket     Fare Cabin Embarked  \n",
       "0      0         A/5 21171   7.2500   NaN        S  \n",
       "1      0          PC 17599  71.2833   C85        C  \n",
       "2      0  STON/O2. 3101282   7.9250   NaN        S  \n",
       "3      0            113803  53.1000  C123        S  \n",
       "4      0            373450   8.0500   NaN        S  "
      ]
     },
     "execution_count": 5,
     "metadata": {},
     "output_type": "execute_result"
    }
   ],
   "source": [
    "#how many rows in DataFrame\n",
    "print(len(df))\n",
    "\n",
    "#look at first few\n",
    "df.head()"
   ]
  },
  {
   "cell_type": "code",
   "execution_count": 6,
   "id": "1ffccb2e-a576-4cc9-9cf1-77a42bfd7c94",
   "metadata": {},
   "outputs": [
    {
     "data": {
      "text/plain": [
       "PassengerId      int64\n",
       "Survived         int64\n",
       "Pclass           int64\n",
       "Name            object\n",
       "Sex             object\n",
       "Age            float64\n",
       "SibSp            int64\n",
       "Parch            int64\n",
       "Ticket          object\n",
       "Fare           float64\n",
       "Cabin           object\n",
       "Embarked        object\n",
       "dtype: object"
      ]
     },
     "execution_count": 6,
     "metadata": {},
     "output_type": "execute_result"
    }
   ],
   "source": [
    "#lets see what type of data is in each column\n",
    "df.dtypes\n",
    "#what are the categorical variables?  Which are nominal and which ordinal?"
   ]
  },
  {
   "cell_type": "code",
   "execution_count": 7,
   "id": "ef92a4f4",
   "metadata": {},
   "outputs": [
    {
     "data": {
      "text/plain": [
       "array([0, 1])"
      ]
     },
     "execution_count": 7,
     "metadata": {},
     "output_type": "execute_result"
    }
   ],
   "source": [
    "df.Survived.unique()"
   ]
  },
  {
   "cell_type": "code",
   "execution_count": 8,
   "id": "d336184b-6217-4ca7-9d02-b6adcda3684f",
   "metadata": {},
   "outputs": [
    {
     "data": {
      "text/plain": [
       "PassengerId    891\n",
       "Survived         2\n",
       "Pclass           3\n",
       "Name           891\n",
       "Sex              2\n",
       "Age             88\n",
       "SibSp            7\n",
       "Parch            7\n",
       "Ticket         681\n",
       "Fare           248\n",
       "Cabin          147\n",
       "Embarked         3\n",
       "dtype: int64"
      ]
     },
     "execution_count": 8,
     "metadata": {},
     "output_type": "execute_result"
    }
   ],
   "source": [
    "df.nunique()"
   ]
  },
  {
   "cell_type": "markdown",
   "id": "a37bde74-3706-4ec7-a800-3be072c09865",
   "metadata": {},
   "source": [
    "## 'Groupby' allows you to separate your data by some selector or combination of selectors and then apply a function over each of these groups to calculate a statistic.\n",
    "\n",
    "The function will only apply to the fields where it makes sense (which means numerical data.)\n"
   ]
  },
  {
   "cell_type": "markdown",
   "id": "653edfc1-80cc-4410-b56f-17c6215143ba",
   "metadata": {},
   "source": [
    "## Lets see who survived based on Sex.  \n",
    "I'm grouping all the rows by sex, and then adding up all the values in numerical fields"
   ]
  },
  {
   "cell_type": "code",
   "execution_count": 9,
   "id": "4c063bbd-fec8-453e-a325-c428a0d058f8",
   "metadata": {},
   "outputs": [
    {
     "name": "stdout",
     "output_type": "stream",
     "text": [
      "<class 'pandas.core.groupby.generic.DataFrameGroupBy'>\n"
     ]
    }
   ],
   "source": [
    "#this is a groupby object, you can't do anything with it until you apply a function to it\n",
    "gb = df.groupby('Sex')\n",
    "print(type(gb))"
   ]
  },
  {
   "cell_type": "code",
   "execution_count": 11,
   "id": "eaabf79f",
   "metadata": {},
   "outputs": [
    {
     "name": "stdout",
     "output_type": "stream",
     "text": [
      "(314, 11)\n",
      "(577, 11)\n"
     ]
    },
    {
     "data": {
      "text/html": [
       "<div>\n",
       "<style scoped>\n",
       "    .dataframe tbody tr th:only-of-type {\n",
       "        vertical-align: middle;\n",
       "    }\n",
       "\n",
       "    .dataframe tbody tr th {\n",
       "        vertical-align: top;\n",
       "    }\n",
       "\n",
       "    .dataframe thead th {\n",
       "        text-align: right;\n",
       "    }\n",
       "</style>\n",
       "<table border=\"1\" class=\"dataframe\">\n",
       "  <thead>\n",
       "    <tr style=\"text-align: right;\">\n",
       "      <th></th>\n",
       "    </tr>\n",
       "  </thead>\n",
       "  <tbody>\n",
       "  </tbody>\n",
       "</table>\n",
       "</div>"
      ],
      "text/plain": [
       "Empty DataFrame\n",
       "Columns: []\n",
       "Index: []"
      ]
     },
     "execution_count": 11,
     "metadata": {},
     "output_type": "execute_result"
    }
   ],
   "source": [
    "def fun(df):\n",
    "    print(df.shape)\n",
    "\n",
    "gb.apply(fun, include_groups=False)"
   ]
  },
  {
   "cell_type": "code",
   "execution_count": null,
   "id": "131d3bbc-0993-4dc9-aebe-07c50867e7c9",
   "metadata": {},
   "outputs": [],
   "source": [
    "#after applying a function to the groupby object you get a dataframe\n",
    "df1=df.groupby('Sex').sum()\n",
    "print(type(df1))\n",
    "df1"
   ]
  },
  {
   "cell_type": "code",
   "execution_count": null,
   "id": "c2a61952-b5be-46fe-8e05-73712567d213",
   "metadata": {},
   "outputs": [],
   "source": [
    "# adding up Ages is not helpful, neither is SexCode, lets just see who survived\n",
    "df1.Survived\n",
    "# df1.iloc[:,1]  #same as above"
   ]
  },
  {
   "cell_type": "code",
   "execution_count": null,
   "id": "7e56df1b-2be6-4384-9bb1-c207a71970b6",
   "metadata": {},
   "outputs": [],
   "source": [
    "# Note that this DataFrame has summary stats only, it's not hiding any of the other data\n",
    "df1.shape"
   ]
  },
  {
   "cell_type": "markdown",
   "id": "7afaed3c-acbd-402f-8831-1dfe09c1d435",
   "metadata": {},
   "source": [
    "## Lets see who survived based on Sex and PClass.  "
   ]
  },
  {
   "cell_type": "code",
   "execution_count": null,
   "id": "6e14be65",
   "metadata": {},
   "outputs": [],
   "source": [
    "df.Pclass.unique()"
   ]
  },
  {
   "cell_type": "code",
   "execution_count": null,
   "id": "666ad32b-c79f-48d6-b5b6-fae498a329d7",
   "metadata": {},
   "outputs": [],
   "source": [
    "#how many people in each class (lived and died)?\n",
    "df.groupby(['Sex','Pclass']).Survived.count()"
   ]
  },
  {
   "cell_type": "code",
   "execution_count": null,
   "id": "2c89fbd5-007d-4328-b3df-5647df4585b3",
   "metadata": {},
   "outputs": [],
   "source": [
    "#how many people in each class survived\n",
    "df2=df.groupby(['Sex','Pclass']).sum()\n",
    "df2\n",
    "\n"
   ]
  },
  {
   "cell_type": "code",
   "execution_count": null,
   "id": "3686faea",
   "metadata": {},
   "outputs": [],
   "source": [
    "df2.iloc[:,1] #survived column, Sex and pclass are the indices\n",
    "# df2.shape"
   ]
  },
  {
   "cell_type": "code",
   "execution_count": null,
   "id": "632b55e0-ee8c-45de-acb3-2286ca6958ca",
   "metadata": {},
   "outputs": [],
   "source": [
    "#want to select just 1 row from above multiindexed dataframe?\n",
    "#first need to know how to get the index, ask for it\n",
    "df2.index"
   ]
  },
  {
   "cell_type": "code",
   "execution_count": null,
   "id": "bd5e909f-91fc-47d6-aaf9-bdcf2435830e",
   "metadata": {},
   "outputs": [],
   "source": [
    "#to get the first row\n",
    "df2.loc[[('female',1)]]"
   ]
  },
  {
   "cell_type": "markdown",
   "id": "c9f55dfc-a7ee-4b49-823d-1f3beb0e5568",
   "metadata": {},
   "source": [
    "## You do not have to use the built in functions for groupby.  You can make your own.\n",
    "Use groupby's apply() method, <mark>It takes a DataFrame and returns a DataFrame, or a Series or scaler"
   ]
  },
  {
   "cell_type": "code",
   "execution_count": null,
   "id": "3873e12d",
   "metadata": {},
   "outputs": [],
   "source": [
    "df.groupby('Sex').count()"
   ]
  },
  {
   "cell_type": "code",
   "execution_count": null,
   "id": "110b311e-4857-46ac-b430-1bda507e417a",
   "metadata": {},
   "outputs": [],
   "source": [
    "#lets find the oldest male and female\n",
    "def fun1(df):\n",
    "    # print(df.shape)  #how big is it?\n",
    "    #this function finds the oldest male and female passenger\n",
    "    #sort by age, this returns a series with just age\n",
    "    # return (df.Age.sort_values(ascending=False).iloc[0])\n",
    "\n",
    "    #sort by age, return the name and age column\n",
    "    \n",
    "    #using iloc with just numbers (which column is Age and Name?)\n",
    "    # return (df.sort_values(by='Age',ascending=False).iloc[0,[3,5]])\n",
    "    \n",
    "    #dont like the 3,5? get the columns by name\n",
    "    # return (df.sort_values(by='Age',ascending=False).iloc[0,[df.columns.get_loc(c) for c in ['Name', 'Age']]])\n",
    "    \n",
    "    #or use the slower loc with column names (note the funky way to get row 0, make sure you sort it as well or you get the wrong answer)\n",
    "    return (df.sort_values(by='Age',ascending=False).loc[df.sort_values(by='Age',ascending=False).index[0],['Name','Age']])\n",
    "   \n",
    "#BTW you are calling apply on a groupby object which does not have an apply method.        \n",
    "df.groupby('Sex').apply(fun1)"
   ]
  },
  {
   "cell_type": "code",
   "execution_count": null,
   "id": "c89555f0",
   "metadata": {},
   "outputs": [],
   "source": [
    "#lets find the oldest male and female, who died and survived \n",
    "def fun1(df):\n",
    "    #this function finds the oldest male and female passenger\n",
    "    #sort by age, this returns a series with just age\n",
    "    # return (df.Age.sort_values(ascending=False).iloc[0])\n",
    "\n",
    "    #sort by age, return the name and age column\n",
    "    return (df.sort_values(by='Age',ascending=False).iloc[0,[3,5]])\n",
    "    # return (df.sort_values(by='Age',ascending=False).loc[df.sort_values(by='Age',ascending=False).index[0],['Name','Age']])\n",
    "\n",
    "\n",
    "df1=df.groupby(['Sex','Survived']).apply(fun1)\n",
    "df1"
   ]
  },
  {
   "cell_type": "code",
   "execution_count": null,
   "id": "8c554e37-1ae5-4923-9b32-03f9426f87d2",
   "metadata": {},
   "outputs": [],
   "source": [
    "#what to use to dereference\n",
    "df1.index"
   ]
  },
  {
   "cell_type": "code",
   "execution_count": null,
   "id": "9f23206f-ee09-4e82-889e-af3c86a259cd",
   "metadata": {},
   "outputs": [],
   "source": [
    "# df1.query(\"Sex=='female' & Survived==0\")\n",
    "df1.loc[('female',1)]"
   ]
  },
  {
   "cell_type": "markdown",
   "id": "ddd48432-5b60-40e3-b23e-47f75d946d7c",
   "metadata": {},
   "source": [
    "## Does gender or passenger class affect your chances?\n",
    "\n",
    "We want percentages here not absolute numbers, for instance number of femal 1st class passengers who survived divided by total number of female first class passengers.\n"
   ]
  },
  {
   "cell_type": "code",
   "execution_count": null,
   "id": "86725907-12d2-4116-a3f1-96923233593c",
   "metadata": {},
   "outputs": [],
   "source": [
    "#survival based on class\n",
    "def fun3(df):\n",
    "    #each dataframe passed to this function will contain \n",
    "    #all rows of 1 gender (M,F) in one of the PClasses (1st, 2nd, 3rd) \n",
    "    #just divide the len of the dataframe by the number who survived to see\n",
    "    #survival rate\n",
    "    return df.Survived.sum()/len(df)\n",
    "\n",
    "\n",
    "res=df.groupby(['Sex','Pclass']).apply(fun3)\n",
    "res"
   ]
  },
  {
   "cell_type": "code",
   "execution_count": null,
   "id": "4ff363c9-4083-4958-8a98-6fa194ac8156",
   "metadata": {},
   "outputs": [],
   "source": [
    "#can also do it this way\n",
    "tmp=df.groupby(['Sex','Pclass'])   #create a groupby object\n",
    "tmp.sum().loc[:,'Survived']/tmp.Survived.count()  #divide total number survivors by total number"
   ]
  },
  {
   "cell_type": "markdown",
   "id": "46fe753d-8ca7-44bc-9898-214d532f2ef1",
   "metadata": {},
   "source": [
    "## I would like to graph this but my indexes are a pain, reset_index to the rescue!\n",
    "It will create a dataframe from this Series and save the multiindex as columns"
   ]
  },
  {
   "cell_type": "code",
   "execution_count": null,
   "id": "f5777fef-46af-4db9-8d8f-986f28ce2283",
   "metadata": {},
   "outputs": [],
   "source": [
    "res1=res.reset_index()\n",
    "res1"
   ]
  },
  {
   "cell_type": "code",
   "execution_count": null,
   "id": "47c73aae-8f04-4697-8fc8-9c09fc280600",
   "metadata": {},
   "outputs": [],
   "source": [
    "res1 = res1.rename(columns = {0 : 'Survival rate %'})\n",
    "res1['Survival rate %'] = res1['Survival rate %']*100\n",
    "res1.columns\n",
    "res1"
   ]
  },
  {
   "cell_type": "code",
   "execution_count": null,
   "id": "b6e8d034",
   "metadata": {},
   "outputs": [],
   "source": [
    "res1.dtypes"
   ]
  },
  {
   "cell_type": "code",
   "execution_count": 65,
   "id": "3b4fd3e1",
   "metadata": {},
   "outputs": [],
   "source": [
    "#convert % to string so seaborn does not fail when printing the legend below\n",
    "res1['Pclass']=res1['Pclass'].astype(str)"
   ]
  },
  {
   "cell_type": "code",
   "execution_count": 66,
   "id": "7f0dffc9-fe32-48a9-87a8-8f71ab5e9a26",
   "metadata": {},
   "outputs": [
    {
     "data": {
      "image/png": "[encoded data removed]",
      "text/plain": [
       "<Figure size 640x480 with 1 Axes>"
      ]
     },
     "metadata": {},
     "output_type": "display_data"
    }
   ],
   "source": [
    "#want to filter the seaborn warnings\n",
    "import warnings\n",
    "warnings.filterwarnings(\"ignore\", \"is_categorical_dtype\")\n",
    "warnings.filterwarnings(\"ignore\", \"use_inf_as_na\")\n",
    "\n",
    "#btw check seaborn version\n",
    "#sns.__version__\n",
    "#if you look online you se that the warnings are fixed in 0.13.0\n",
    "\n",
    "#lets graph this, oh no? what to do with the index?  And what I have is a series\n",
    "sns.barplot(data=res1,x=\"Sex\",y='Survival rate %',  hue=\"Pclass\" );"
   ]
  },
  {
   "cell_type": "code",
   "execution_count": null,
   "id": "22990d2b-fd06-4edc-b951-f797cc30d3e5",
   "metadata": {},
   "outputs": [],
   "source": []
  }
 ],
 "metadata": {
  "kernelspec": {
   "display_name": "p311",
   "language": "python",
   "name": "python3"
  },
  "language_info": {
   "codemirror_mode": {
    "name": "ipython",
    "version": 3
   },
   "file_extension": ".py",
   "mimetype": "text/x-python",
   "name": "python",
   "nbconvert_exporter": "python",
   "pygments_lexer": "ipython3",
   "version": "3.11.9"
  },
  "widgets": {
   "application/vnd.jupyter.widget-state+json": {
    "state": {},
    "version_major": 2,
    "version_minor": 0
   }
  }
 },
 "nbformat": 4,
 "nbformat_minor": 5
}
