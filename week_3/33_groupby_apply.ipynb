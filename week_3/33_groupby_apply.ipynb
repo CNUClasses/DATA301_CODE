{
 "cells": [
  {
   "cell_type": "markdown",
   "id": "7d2c3949-9339-46b2-bdd8-ea5510f43a24",
   "metadata": {},
   "source": [
    "# Groupby and apply\n",
    "Powerful data query mechanisms\n",
    "see '3.13 Grouping Rows by Values' in Albon"
   ]
  },
  {
   "cell_type": "markdown",
   "id": "32c6e5ec-8c58-42f3-a279-8c584bfc6dfd",
   "metadata": {},
   "source": [
    "## Load a dataset"
   ]
  },
  {
   "cell_type": "code",
   "execution_count": 3,
   "id": "b50ac2b1-2947-4cf5-8c94-33f456ed9338",
   "metadata": {},
   "outputs": [],
   "source": [
    "# !mamba install seaborn -y"
   ]
  },
  {
   "cell_type": "code",
   "execution_count": 5,
   "id": "1adce5e5-2807-48d3-aa7e-179549646d1b",
   "metadata": {},
   "outputs": [],
   "source": [
    "import pandas as pd\n",
    "import seaborn as sns\n",
    "url=\"https://raw.githubusercontent.com/datasciencedojo/datasets/master/titanic.csv\"\n",
    "# url=\"https://raw.githubusercontent.com/chrisalbon/simulated_datasets/master/titanic.csv\"  #404 now\n",
    "df = pd.read_csv(url)"
   ]
  },
  {
   "cell_type": "code",
   "execution_count": 6,
   "id": "18e5a34e-cea9-4515-90b3-08004b1e67b8",
   "metadata": {},
   "outputs": [
    {
     "name": "stdout",
     "output_type": "stream",
     "text": [
      "891\n"
     ]
    },
    {
     "data": {
      "text/html": [
       "<div>\n",
       "<style scoped>\n",
       "    .dataframe tbody tr th:only-of-type {\n",
       "        vertical-align: middle;\n",
       "    }\n",
       "\n",
       "    .dataframe tbody tr th {\n",
       "        vertical-align: top;\n",
       "    }\n",
       "\n",
       "    .dataframe thead th {\n",
       "        text-align: right;\n",
       "    }\n",
       "</style>\n",
       "<table border=\"1\" class=\"dataframe\">\n",
       "  <thead>\n",
       "    <tr style=\"text-align: right;\">\n",
       "      <th></th>\n",
       "      <th>PassengerId</th>\n",
       "      <th>Survived</th>\n",
       "      <th>Pclass</th>\n",
       "      <th>Name</th>\n",
       "      <th>Sex</th>\n",
       "      <th>Age</th>\n",
       "      <th>SibSp</th>\n",
       "      <th>Parch</th>\n",
       "      <th>Ticket</th>\n",
       "      <th>Fare</th>\n",
       "      <th>Cabin</th>\n",
       "      <th>Embarked</th>\n",
       "    </tr>\n",
       "  </thead>\n",
       "  <tbody>\n",
       "    <tr>\n",
       "      <th>0</th>\n",
       "      <td>1</td>\n",
       "      <td>0</td>\n",
       "      <td>3</td>\n",
       "      <td>Braund, Mr. Owen Harris</td>\n",
       "      <td>male</td>\n",
       "      <td>22.0</td>\n",
       "      <td>1</td>\n",
       "      <td>0</td>\n",
       "      <td>A/5 21171</td>\n",
       "      <td>7.2500</td>\n",
       "      <td>NaN</td>\n",
       "      <td>S</td>\n",
       "    </tr>\n",
       "    <tr>\n",
       "      <th>1</th>\n",
       "      <td>2</td>\n",
       "      <td>1</td>\n",
       "      <td>1</td>\n",
       "      <td>Cumings, Mrs. John Bradley (Florence Briggs Th...</td>\n",
       "      <td>female</td>\n",
       "      <td>38.0</td>\n",
       "      <td>1</td>\n",
       "      <td>0</td>\n",
       "      <td>PC 17599</td>\n",
       "      <td>71.2833</td>\n",
       "      <td>C85</td>\n",
       "      <td>C</td>\n",
       "    </tr>\n",
       "    <tr>\n",
       "      <th>2</th>\n",
       "      <td>3</td>\n",
       "      <td>1</td>\n",
       "      <td>3</td>\n",
       "      <td>Heikkinen, Miss. Laina</td>\n",
       "      <td>female</td>\n",
       "      <td>26.0</td>\n",
       "      <td>0</td>\n",
       "      <td>0</td>\n",
       "      <td>STON/O2. 3101282</td>\n",
       "      <td>7.9250</td>\n",
       "      <td>NaN</td>\n",
       "      <td>S</td>\n",
       "    </tr>\n",
       "    <tr>\n",
       "      <th>3</th>\n",
       "      <td>4</td>\n",
       "      <td>1</td>\n",
       "      <td>1</td>\n",
       "      <td>Futrelle, Mrs. Jacques Heath (Lily May Peel)</td>\n",
       "      <td>female</td>\n",
       "      <td>35.0</td>\n",
       "      <td>1</td>\n",
       "      <td>0</td>\n",
       "      <td>113803</td>\n",
       "      <td>53.1000</td>\n",
       "      <td>C123</td>\n",
       "      <td>S</td>\n",
       "    </tr>\n",
       "    <tr>\n",
       "      <th>4</th>\n",
       "      <td>5</td>\n",
       "      <td>0</td>\n",
       "      <td>3</td>\n",
       "      <td>Allen, Mr. William Henry</td>\n",
       "      <td>male</td>\n",
       "      <td>35.0</td>\n",
       "      <td>0</td>\n",
       "      <td>0</td>\n",
       "      <td>373450</td>\n",
       "      <td>8.0500</td>\n",
       "      <td>NaN</td>\n",
       "      <td>S</td>\n",
       "    </tr>\n",
       "  </tbody>\n",
       "</table>\n",
       "</div>"
      ],
      "text/plain": [
       "   PassengerId  Survived  Pclass  \\\n",
       "0            1         0       3   \n",
       "1            2         1       1   \n",
       "2            3         1       3   \n",
       "3            4         1       1   \n",
       "4            5         0       3   \n",
       "\n",
       "                                                Name     Sex   Age  SibSp  \\\n",
       "0                            Braund, Mr. Owen Harris    male  22.0      1   \n",
       "1  Cumings, Mrs. John Bradley (Florence Briggs Th...  female  38.0      1   \n",
       "2                             Heikkinen, Miss. Laina  female  26.0      0   \n",
       "3       Futrelle, Mrs. Jacques Heath (Lily May Peel)  female  35.0      1   \n",
       "4                           Allen, Mr. William Henry    male  35.0      0   \n",
       "\n",
       "   Parch            Ticket     Fare Cabin Embarked  \n",
       "0      0         A/5 21171   7.2500   NaN        S  \n",
       "1      0          PC 17599  71.2833   C85        C  \n",
       "2      0  STON/O2. 3101282   7.9250   NaN        S  \n",
       "3      0            113803  53.1000  C123        S  \n",
       "4      0            373450   8.0500   NaN        S  "
      ]
     },
     "execution_count": 6,
     "metadata": {},
     "output_type": "execute_result"
    }
   ],
   "source": [
    "#how many rows in DataFrame\n",
    "print(len(df))\n",
    "\n",
    "#look at first few\n",
    "df.head()"
   ]
  },
  {
   "cell_type": "markdown",
   "id": "a8bf978c-b82a-41c0-af47-5487a9ac1866",
   "metadata": {},
   "source": [
    "Note that we have Sex and SexCode- SexCode is just a numeric representation of Sex"
   ]
  },
  {
   "cell_type": "code",
   "execution_count": 7,
   "id": "1ffccb2e-a576-4cc9-9cf1-77a42bfd7c94",
   "metadata": {},
   "outputs": [
    {
     "data": {
      "text/plain": [
       "PassengerId      int64\n",
       "Survived         int64\n",
       "Pclass           int64\n",
       "Name            object\n",
       "Sex             object\n",
       "Age            float64\n",
       "SibSp            int64\n",
       "Parch            int64\n",
       "Ticket          object\n",
       "Fare           float64\n",
       "Cabin           object\n",
       "Embarked        object\n",
       "dtype: object"
      ]
     },
     "execution_count": 7,
     "metadata": {},
     "output_type": "execute_result"
    }
   ],
   "source": [
    "#lets see what type of data is in each column\n",
    "df.dtypes\n",
    "\n",
    "#This DataFrame has 3 numerical types(Age, Survived, and Sexcode) \n",
    "# and three object types (Name, PClass and Sex).\n",
    "# The object type in this case is a string"
   ]
  },
  {
   "cell_type": "code",
   "execution_count": null,
   "id": "d336184b-6217-4ca7-9d02-b6adcda3684f",
   "metadata": {},
   "outputs": [],
   "source": [
    "df.nunique()"
   ]
  },
  {
   "cell_type": "markdown",
   "id": "a37bde74-3706-4ec7-a800-3be072c09865",
   "metadata": {},
   "source": [
    "## 'Groupby' allows you to separate your data by some selector or combination of selectors and then apply a function over each of these groups to calculate a statistic.\n",
    "\n",
    "The function will only apply to the fields where it makes sense (which means numerical data.)\n"
   ]
  },
  {
   "cell_type": "markdown",
   "id": "653edfc1-80cc-4410-b56f-17c6215143ba",
   "metadata": {},
   "source": [
    "## Lets see who survived based on Sex.  \n",
    "I'm grouping all the rows by sex, and then adding up all the values in numerical fields"
   ]
  },
  {
   "cell_type": "code",
   "execution_count": 8,
   "id": "4c063bbd-fec8-453e-a325-c428a0d058f8",
   "metadata": {},
   "outputs": [
    {
     "name": "stdout",
     "output_type": "stream",
     "text": [
      "<class 'pandas.core.groupby.generic.DataFrameGroupBy'>\n"
     ]
    }
   ],
   "source": [
    "#this is a groupby object, you can't do anything with it until you apply a function to it\n",
    "gb = df.groupby('Sex')\n",
    "print(type(gb))"
   ]
  },
  {
   "cell_type": "code",
   "execution_count": 13,
   "id": "131d3bbc-0993-4dc9-aebe-07c50867e7c9",
   "metadata": {},
   "outputs": [
    {
     "name": "stdout",
     "output_type": "stream",
     "text": [
      "<class 'pandas.core.frame.DataFrame'>\n"
     ]
    },
    {
     "data": {
      "text/html": [
       "<div>\n",
       "<style scoped>\n",
       "    .dataframe tbody tr th:only-of-type {\n",
       "        vertical-align: middle;\n",
       "    }\n",
       "\n",
       "    .dataframe tbody tr th {\n",
       "        vertical-align: top;\n",
       "    }\n",
       "\n",
       "    .dataframe thead th {\n",
       "        text-align: right;\n",
       "    }\n",
       "</style>\n",
       "<table border=\"1\" class=\"dataframe\">\n",
       "  <thead>\n",
       "    <tr style=\"text-align: right;\">\n",
       "      <th></th>\n",
       "      <th>PassengerId</th>\n",
       "      <th>Survived</th>\n",
       "      <th>Pclass</th>\n",
       "      <th>Name</th>\n",
       "      <th>Age</th>\n",
       "      <th>SibSp</th>\n",
       "      <th>Parch</th>\n",
       "      <th>Ticket</th>\n",
       "      <th>Fare</th>\n",
       "      <th>Cabin</th>\n",
       "      <th>Embarked</th>\n",
       "    </tr>\n",
       "    <tr>\n",
       "      <th>Sex</th>\n",
       "      <th></th>\n",
       "      <th></th>\n",
       "      <th></th>\n",
       "      <th></th>\n",
       "      <th></th>\n",
       "      <th></th>\n",
       "      <th></th>\n",
       "      <th></th>\n",
       "      <th></th>\n",
       "      <th></th>\n",
       "      <th></th>\n",
       "    </tr>\n",
       "  </thead>\n",
       "  <tbody>\n",
       "    <tr>\n",
       "      <th>female</th>\n",
       "      <td>135343</td>\n",
       "      <td>233</td>\n",
       "      <td>678</td>\n",
       "      <td>Cumings, Mrs. John Bradley (Florence Briggs Th...</td>\n",
       "      <td>7286.00</td>\n",
       "      <td>218</td>\n",
       "      <td>204</td>\n",
       "      <td>PC 17599STON/O2. 3101282113803347742237736PP 9...</td>\n",
       "      <td>13966.6628</td>\n",
       "      <td>C85C123G6C103B78D33B28F33C23 C25 C27E101F E69D...</td>\n",
       "      <td>CSSSCSSSSSCQSSQCQSCSSCQQSCSSSSSSSQSSSSSSQCSCSS...</td>\n",
       "    </tr>\n",
       "    <tr>\n",
       "      <th>male</th>\n",
       "      <td>262043</td>\n",
       "      <td>109</td>\n",
       "      <td>1379</td>\n",
       "      <td>Braund, Mr. Owen HarrisAllen, Mr. William Henr...</td>\n",
       "      <td>13919.17</td>\n",
       "      <td>248</td>\n",
       "      <td>136</td>\n",
       "      <td>A/5 2117137345033087717463349909A/5. 215134708...</td>\n",
       "      <td>14727.2865</td>\n",
       "      <td>E46D56A6C23 C25 C27B30C52C83F G73E31A5D10 D12D...</td>\n",
       "      <td>SSQSSSSQSSSSCSSCSCSCSCSQCSSCSCSCSSCCSSSSCSSSSS...</td>\n",
       "    </tr>\n",
       "  </tbody>\n",
       "</table>\n",
       "</div>"
      ],
      "text/plain": [
       "        PassengerId  Survived  Pclass  \\\n",
       "Sex                                     \n",
       "female       135343       233     678   \n",
       "male         262043       109    1379   \n",
       "\n",
       "                                                     Name       Age  SibSp  \\\n",
       "Sex                                                                          \n",
       "female  Cumings, Mrs. John Bradley (Florence Briggs Th...   7286.00    218   \n",
       "male    Braund, Mr. Owen HarrisAllen, Mr. William Henr...  13919.17    248   \n",
       "\n",
       "        Parch                                             Ticket        Fare  \\\n",
       "Sex                                                                            \n",
       "female    204  PC 17599STON/O2. 3101282113803347742237736PP 9...  13966.6628   \n",
       "male      136  A/5 2117137345033087717463349909A/5. 215134708...  14727.2865   \n",
       "\n",
       "                                                    Cabin  \\\n",
       "Sex                                                         \n",
       "female  C85C123G6C103B78D33B28F33C23 C25 C27E101F E69D...   \n",
       "male    E46D56A6C23 C25 C27B30C52C83F G73E31A5D10 D12D...   \n",
       "\n",
       "                                                 Embarked  \n",
       "Sex                                                        \n",
       "female  CSSSCSSSSSCQSSQCQSCSSCQQSCSSSSSSSQSSSSSSQCSCSS...  \n",
       "male    SSQSSSSQSSSSCSSCSCSCSCSQCSSCSCSCSSCCSSSSCSSSSS...  "
      ]
     },
     "execution_count": 13,
     "metadata": {},
     "output_type": "execute_result"
    }
   ],
   "source": [
    "#after applying a function to the groupby object you get a dataframe\n",
    "df1=df.groupby('Sex').sum()\n",
    "print(type(df1))\n",
    "df1"
   ]
  },
  {
   "cell_type": "code",
   "execution_count": 12,
   "id": "9effade3-059d-4a5c-bdb0-5c0108f50c1f",
   "metadata": {},
   "outputs": [
    {
     "data": {
      "text/html": [
       "<div>\n",
       "<style scoped>\n",
       "    .dataframe tbody tr th:only-of-type {\n",
       "        vertical-align: middle;\n",
       "    }\n",
       "\n",
       "    .dataframe tbody tr th {\n",
       "        vertical-align: top;\n",
       "    }\n",
       "\n",
       "    .dataframe thead th {\n",
       "        text-align: right;\n",
       "    }\n",
       "</style>\n",
       "<table border=\"1\" class=\"dataframe\">\n",
       "  <thead>\n",
       "    <tr style=\"text-align: right;\">\n",
       "      <th></th>\n",
       "      <th>Sex</th>\n",
       "      <th>PassengerId</th>\n",
       "      <th>Survived</th>\n",
       "      <th>Pclass</th>\n",
       "      <th>Name</th>\n",
       "      <th>Age</th>\n",
       "      <th>SibSp</th>\n",
       "      <th>Parch</th>\n",
       "      <th>Ticket</th>\n",
       "      <th>Fare</th>\n",
       "      <th>Cabin</th>\n",
       "      <th>Embarked</th>\n",
       "    </tr>\n",
       "  </thead>\n",
       "  <tbody>\n",
       "    <tr>\n",
       "      <th>0</th>\n",
       "      <td>female</td>\n",
       "      <td>135343</td>\n",
       "      <td>233</td>\n",
       "      <td>678</td>\n",
       "      <td>Cumings, Mrs. John Bradley (Florence Briggs Th...</td>\n",
       "      <td>7286.00</td>\n",
       "      <td>218</td>\n",
       "      <td>204</td>\n",
       "      <td>PC 17599STON/O2. 3101282113803347742237736PP 9...</td>\n",
       "      <td>13966.6628</td>\n",
       "      <td>C85C123G6C103B78D33B28F33C23 C25 C27E101F E69D...</td>\n",
       "      <td>CSSSCSSSSSCQSSQCQSCSSCQQSCSSSSSSSQSSSSSSQCSCSS...</td>\n",
       "    </tr>\n",
       "    <tr>\n",
       "      <th>1</th>\n",
       "      <td>male</td>\n",
       "      <td>262043</td>\n",
       "      <td>109</td>\n",
       "      <td>1379</td>\n",
       "      <td>Braund, Mr. Owen HarrisAllen, Mr. William Henr...</td>\n",
       "      <td>13919.17</td>\n",
       "      <td>248</td>\n",
       "      <td>136</td>\n",
       "      <td>A/5 2117137345033087717463349909A/5. 215134708...</td>\n",
       "      <td>14727.2865</td>\n",
       "      <td>E46D56A6C23 C25 C27B30C52C83F G73E31A5D10 D12D...</td>\n",
       "      <td>SSQSSSSQSSSSCSSCSCSCSCSQCSSCSCSCSSCCSSSSCSSSSS...</td>\n",
       "    </tr>\n",
       "  </tbody>\n",
       "</table>\n",
       "</div>"
      ],
      "text/plain": [
       "      Sex  PassengerId  Survived  Pclass  \\\n",
       "0  female       135343       233     678   \n",
       "1    male       262043       109    1379   \n",
       "\n",
       "                                                Name       Age  SibSp  Parch  \\\n",
       "0  Cumings, Mrs. John Bradley (Florence Briggs Th...   7286.00    218    204   \n",
       "1  Braund, Mr. Owen HarrisAllen, Mr. William Henr...  13919.17    248    136   \n",
       "\n",
       "                                              Ticket        Fare  \\\n",
       "0  PC 17599STON/O2. 3101282113803347742237736PP 9...  13966.6628   \n",
       "1  A/5 2117137345033087717463349909A/5. 215134708...  14727.2865   \n",
       "\n",
       "                                               Cabin  \\\n",
       "0  C85C123G6C103B78D33B28F33C23 C25 C27E101F E69D...   \n",
       "1  E46D56A6C23 C25 C27B30C52C83F G73E31A5D10 D12D...   \n",
       "\n",
       "                                            Embarked  \n",
       "0  CSSSCSSSSSCQSSQCQSCSSCQQSCSSSSSSSQSSSSSSQCSCSS...  \n",
       "1  SSQSSSSQSSSSCSSCSCSCSCSQCSSCSCSCSSCCSSSSCSSSSS...  "
      ]
     },
     "execution_count": 12,
     "metadata": {},
     "output_type": "execute_result"
    }
   ],
   "source": [
    "df2=df.groupby('Sex').sum().reset_index()\n",
    "df2"
   ]
  },
  {
   "cell_type": "code",
   "execution_count": 7,
   "id": "c2a61952-b5be-46fe-8e05-73712567d213",
   "metadata": {},
   "outputs": [
    {
     "data": {
      "text/plain": [
       "Sex\n",
       "female    308\n",
       "male      142\n",
       "Name: Survived, dtype: int64"
      ]
     },
     "execution_count": 7,
     "metadata": {},
     "output_type": "execute_result"
    }
   ],
   "source": [
    "# adding up Ages is not helpful, neither is SexCode, lets just see who survived\n",
    "df1.Survived\n",
    "# df1.iloc[:,1]  #same as above"
   ]
  },
  {
   "cell_type": "code",
   "execution_count": 8,
   "id": "7e56df1b-2be6-4384-9bb1-c207a71970b6",
   "metadata": {},
   "outputs": [
    {
     "data": {
      "text/plain": [
       "(2, 3)"
      ]
     },
     "execution_count": 8,
     "metadata": {},
     "output_type": "execute_result"
    }
   ],
   "source": [
    "# Note that this DataFrame has summary stats only, it's not hiding any of the other data\n",
    "df1.shape"
   ]
  },
  {
   "cell_type": "code",
   "execution_count": 9,
   "id": "c31f2e12-fd9b-4993-a1e3-b2a2c27ac081",
   "metadata": {},
   "outputs": [
    {
     "data": {
      "text/plain": [
       "Age         14514.71\n",
       "Survived      142.00\n",
       "SexCode         0.00\n",
       "Name: male, dtype: float64"
      ]
     },
     "execution_count": 9,
     "metadata": {},
     "output_type": "execute_result"
    }
   ],
   "source": [
    "df1.index\n",
    "df1.loc['male']"
   ]
  },
  {
   "cell_type": "markdown",
   "id": "7afaed3c-acbd-402f-8831-1dfe09c1d435",
   "metadata": {},
   "source": [
    "## Lets see who survived based on Sex and PClass.  "
   ]
  },
  {
   "cell_type": "code",
   "execution_count": 10,
   "id": "666ad32b-c79f-48d6-b5b6-fae498a329d7",
   "metadata": {},
   "outputs": [
    {
     "data": {
      "text/html": [
       "<div>\n",
       "<style scoped>\n",
       "    .dataframe tbody tr th:only-of-type {\n",
       "        vertical-align: middle;\n",
       "    }\n",
       "\n",
       "    .dataframe tbody tr th {\n",
       "        vertical-align: top;\n",
       "    }\n",
       "\n",
       "    .dataframe thead th {\n",
       "        text-align: right;\n",
       "    }\n",
       "</style>\n",
       "<table border=\"1\" class=\"dataframe\">\n",
       "  <thead>\n",
       "    <tr style=\"text-align: right;\">\n",
       "      <th></th>\n",
       "      <th></th>\n",
       "      <th>Name</th>\n",
       "      <th>Age</th>\n",
       "      <th>Survived</th>\n",
       "      <th>SexCode</th>\n",
       "    </tr>\n",
       "    <tr>\n",
       "      <th>Sex</th>\n",
       "      <th>PClass</th>\n",
       "      <th></th>\n",
       "      <th></th>\n",
       "      <th></th>\n",
       "      <th></th>\n",
       "    </tr>\n",
       "  </thead>\n",
       "  <tbody>\n",
       "    <tr>\n",
       "      <th rowspan=\"3\" valign=\"top\">female</th>\n",
       "      <th>1st</th>\n",
       "      <td>143</td>\n",
       "      <td>101</td>\n",
       "      <td>143</td>\n",
       "      <td>143</td>\n",
       "    </tr>\n",
       "    <tr>\n",
       "      <th>2nd</th>\n",
       "      <td>107</td>\n",
       "      <td>85</td>\n",
       "      <td>107</td>\n",
       "      <td>107</td>\n",
       "    </tr>\n",
       "    <tr>\n",
       "      <th>3rd</th>\n",
       "      <td>212</td>\n",
       "      <td>102</td>\n",
       "      <td>212</td>\n",
       "      <td>212</td>\n",
       "    </tr>\n",
       "    <tr>\n",
       "      <th rowspan=\"4\" valign=\"top\">male</th>\n",
       "      <th>*</th>\n",
       "      <td>1</td>\n",
       "      <td>0</td>\n",
       "      <td>1</td>\n",
       "      <td>1</td>\n",
       "    </tr>\n",
       "    <tr>\n",
       "      <th>1st</th>\n",
       "      <td>179</td>\n",
       "      <td>125</td>\n",
       "      <td>179</td>\n",
       "      <td>179</td>\n",
       "    </tr>\n",
       "    <tr>\n",
       "      <th>2nd</th>\n",
       "      <td>172</td>\n",
       "      <td>127</td>\n",
       "      <td>172</td>\n",
       "      <td>172</td>\n",
       "    </tr>\n",
       "    <tr>\n",
       "      <th>3rd</th>\n",
       "      <td>499</td>\n",
       "      <td>216</td>\n",
       "      <td>499</td>\n",
       "      <td>499</td>\n",
       "    </tr>\n",
       "  </tbody>\n",
       "</table>\n",
       "</div>"
      ],
      "text/plain": [
       "               Name  Age  Survived  SexCode\n",
       "Sex    PClass                              \n",
       "female 1st      143  101       143      143\n",
       "       2nd      107   85       107      107\n",
       "       3rd      212  102       212      212\n",
       "male   *          1    0         1        1\n",
       "       1st      179  125       179      179\n",
       "       2nd      172  127       172      172\n",
       "       3rd      499  216       499      499"
      ]
     },
     "execution_count": 10,
     "metadata": {},
     "output_type": "execute_result"
    }
   ],
   "source": [
    "df.groupby(['Sex','PClass']).count()"
   ]
  },
  {
   "cell_type": "code",
   "execution_count": 11,
   "id": "2c89fbd5-007d-4328-b3df-5647df4585b3",
   "metadata": {},
   "outputs": [
    {
     "data": {
      "text/html": [
       "<div>\n",
       "<style scoped>\n",
       "    .dataframe tbody tr th:only-of-type {\n",
       "        vertical-align: middle;\n",
       "    }\n",
       "\n",
       "    .dataframe tbody tr th {\n",
       "        vertical-align: top;\n",
       "    }\n",
       "\n",
       "    .dataframe thead th {\n",
       "        text-align: right;\n",
       "    }\n",
       "</style>\n",
       "<table border=\"1\" class=\"dataframe\">\n",
       "  <thead>\n",
       "    <tr style=\"text-align: right;\">\n",
       "      <th></th>\n",
       "      <th></th>\n",
       "      <th>Age</th>\n",
       "      <th>Survived</th>\n",
       "      <th>SexCode</th>\n",
       "    </tr>\n",
       "    <tr>\n",
       "      <th>Sex</th>\n",
       "      <th>PClass</th>\n",
       "      <th></th>\n",
       "      <th></th>\n",
       "      <th></th>\n",
       "    </tr>\n",
       "  </thead>\n",
       "  <tbody>\n",
       "    <tr>\n",
       "      <th rowspan=\"3\" valign=\"top\">female</th>\n",
       "      <th>1st</th>\n",
       "      <td>3815.00</td>\n",
       "      <td>134</td>\n",
       "      <td>143</td>\n",
       "    </tr>\n",
       "    <tr>\n",
       "      <th>2nd</th>\n",
       "      <td>2328.00</td>\n",
       "      <td>94</td>\n",
       "      <td>107</td>\n",
       "    </tr>\n",
       "    <tr>\n",
       "      <th>3rd</th>\n",
       "      <td>2323.17</td>\n",
       "      <td>80</td>\n",
       "      <td>212</td>\n",
       "    </tr>\n",
       "    <tr>\n",
       "      <th rowspan=\"4\" valign=\"top\">male</th>\n",
       "      <th>*</th>\n",
       "      <td>0.00</td>\n",
       "      <td>0</td>\n",
       "      <td>0</td>\n",
       "    </tr>\n",
       "    <tr>\n",
       "      <th>1st</th>\n",
       "      <td>5149.92</td>\n",
       "      <td>59</td>\n",
       "      <td>0</td>\n",
       "    </tr>\n",
       "    <tr>\n",
       "      <th>2nd</th>\n",
       "      <td>3671.63</td>\n",
       "      <td>25</td>\n",
       "      <td>0</td>\n",
       "    </tr>\n",
       "    <tr>\n",
       "      <th>3rd</th>\n",
       "      <td>5693.16</td>\n",
       "      <td>58</td>\n",
       "      <td>0</td>\n",
       "    </tr>\n",
       "  </tbody>\n",
       "</table>\n",
       "</div>"
      ],
      "text/plain": [
       "                   Age  Survived  SexCode\n",
       "Sex    PClass                            \n",
       "female 1st     3815.00       134      143\n",
       "       2nd     2328.00        94      107\n",
       "       3rd     2323.17        80      212\n",
       "male   *          0.00         0        0\n",
       "       1st     5149.92        59        0\n",
       "       2nd     3671.63        25        0\n",
       "       3rd     5693.16        58        0"
      ]
     },
     "execution_count": 11,
     "metadata": {},
     "output_type": "execute_result"
    }
   ],
   "source": [
    "#Note that the grouping has changed\n",
    "df2=df.groupby(['Sex','PClass']).sum()\n",
    "df2\n",
    "\n",
    "# df2.iloc[:,1]"
   ]
  },
  {
   "cell_type": "code",
   "execution_count": 12,
   "id": "632b55e0-ee8c-45de-acb3-2286ca6958ca",
   "metadata": {},
   "outputs": [
    {
     "data": {
      "text/plain": [
       "MultiIndex([('female', '1st'),\n",
       "            ('female', '2nd'),\n",
       "            ('female', '3rd'),\n",
       "            (  'male',   '*'),\n",
       "            (  'male', '1st'),\n",
       "            (  'male', '2nd'),\n",
       "            (  'male', '3rd')],\n",
       "           names=['Sex', 'PClass'])"
      ]
     },
     "execution_count": 12,
     "metadata": {},
     "output_type": "execute_result"
    }
   ],
   "source": [
    "#want to select just 1 row from above multiindexed dataframe?\n",
    "#first need to know how to get the index, ask for it\n",
    "df2.index"
   ]
  },
  {
   "cell_type": "code",
   "execution_count": 13,
   "id": "bd5e909f-91fc-47d6-aaf9-bdcf2435830e",
   "metadata": {},
   "outputs": [
    {
     "data": {
      "text/html": [
       "<div>\n",
       "<style scoped>\n",
       "    .dataframe tbody tr th:only-of-type {\n",
       "        vertical-align: middle;\n",
       "    }\n",
       "\n",
       "    .dataframe tbody tr th {\n",
       "        vertical-align: top;\n",
       "    }\n",
       "\n",
       "    .dataframe thead th {\n",
       "        text-align: right;\n",
       "    }\n",
       "</style>\n",
       "<table border=\"1\" class=\"dataframe\">\n",
       "  <thead>\n",
       "    <tr style=\"text-align: right;\">\n",
       "      <th></th>\n",
       "      <th></th>\n",
       "      <th>Age</th>\n",
       "      <th>Survived</th>\n",
       "      <th>SexCode</th>\n",
       "    </tr>\n",
       "    <tr>\n",
       "      <th>Sex</th>\n",
       "      <th>PClass</th>\n",
       "      <th></th>\n",
       "      <th></th>\n",
       "      <th></th>\n",
       "    </tr>\n",
       "  </thead>\n",
       "  <tbody>\n",
       "    <tr>\n",
       "      <th>female</th>\n",
       "      <th>1st</th>\n",
       "      <td>3815.0</td>\n",
       "      <td>134</td>\n",
       "      <td>143</td>\n",
       "    </tr>\n",
       "  </tbody>\n",
       "</table>\n",
       "</div>"
      ],
      "text/plain": [
       "                  Age  Survived  SexCode\n",
       "Sex    PClass                           \n",
       "female 1st     3815.0       134      143"
      ]
     },
     "execution_count": 13,
     "metadata": {},
     "output_type": "execute_result"
    }
   ],
   "source": [
    "#to get the first row\n",
    "df2.loc[[('female','1st')]]"
   ]
  },
  {
   "cell_type": "code",
   "execution_count": 14,
   "id": "175b6b9b-3521-47f1-8da4-678f5726563f",
   "metadata": {},
   "outputs": [
    {
     "data": {
      "text/html": [
       "<div>\n",
       "<style scoped>\n",
       "    .dataframe tbody tr th:only-of-type {\n",
       "        vertical-align: middle;\n",
       "    }\n",
       "\n",
       "    .dataframe tbody tr th {\n",
       "        vertical-align: top;\n",
       "    }\n",
       "\n",
       "    .dataframe thead th {\n",
       "        text-align: right;\n",
       "    }\n",
       "</style>\n",
       "<table border=\"1\" class=\"dataframe\">\n",
       "  <thead>\n",
       "    <tr style=\"text-align: right;\">\n",
       "      <th></th>\n",
       "      <th>Name</th>\n",
       "      <th>PClass</th>\n",
       "      <th>Age</th>\n",
       "      <th>Sex</th>\n",
       "      <th>Survived</th>\n",
       "      <th>SexCode</th>\n",
       "    </tr>\n",
       "  </thead>\n",
       "  <tbody>\n",
       "    <tr>\n",
       "      <th>456</th>\n",
       "      <td>Jacobsohn Mr Samuel</td>\n",
       "      <td>*</td>\n",
       "      <td>NaN</td>\n",
       "      <td>male</td>\n",
       "      <td>0</td>\n",
       "      <td>0</td>\n",
       "    </tr>\n",
       "  </tbody>\n",
       "</table>\n",
       "</div>"
      ],
      "text/plain": [
       "                    Name PClass  Age   Sex  Survived  SexCode\n",
       "456  Jacobsohn Mr Samuel      *  NaN  male         0        0"
      ]
     },
     "execution_count": 14,
     "metadata": {},
     "output_type": "execute_result"
    }
   ],
   "source": [
    "#what is that *?  Apparently it's a mistyped passenger class\n",
    "#short any other info (were there other Jacobsons onboard?) it's hard to tell what his PClass is\n",
    "df[df.PClass=='*']"
   ]
  },
  {
   "cell_type": "code",
   "execution_count": 15,
   "id": "b1a76b77-7278-40c0-b7e0-531d90a1ab05",
   "metadata": {},
   "outputs": [],
   "source": [
    "#start here 1/30/23"
   ]
  },
  {
   "cell_type": "markdown",
   "id": "c9f55dfc-a7ee-4b49-823d-1f3beb0e5568",
   "metadata": {},
   "source": [
    "## You do not have to use the built in functions for groupby.  You can make your own.\n",
    "Use groupby's apply() method, <mark>It takes a DataFrame and returns a DataFrame, or a Series or scaler"
   ]
  },
  {
   "cell_type": "code",
   "execution_count": 16,
   "id": "110b311e-4857-46ac-b430-1bda507e417a",
   "metadata": {},
   "outputs": [
    {
     "data": {
      "text/html": [
       "<div>\n",
       "<style scoped>\n",
       "    .dataframe tbody tr th:only-of-type {\n",
       "        vertical-align: middle;\n",
       "    }\n",
       "\n",
       "    .dataframe tbody tr th {\n",
       "        vertical-align: top;\n",
       "    }\n",
       "\n",
       "    .dataframe thead th {\n",
       "        text-align: right;\n",
       "    }\n",
       "</style>\n",
       "<table border=\"1\" class=\"dataframe\">\n",
       "  <thead>\n",
       "    <tr style=\"text-align: right;\">\n",
       "      <th></th>\n",
       "      <th>Name</th>\n",
       "      <th>Age</th>\n",
       "    </tr>\n",
       "    <tr>\n",
       "      <th>Sex</th>\n",
       "      <th></th>\n",
       "      <th></th>\n",
       "    </tr>\n",
       "  </thead>\n",
       "  <tbody>\n",
       "    <tr>\n",
       "      <th>female</th>\n",
       "      <td>Crosby, Mrs Edward Gifford (Catherine Elizabet...</td>\n",
       "      <td>69.0</td>\n",
       "    </tr>\n",
       "    <tr>\n",
       "      <th>male</th>\n",
       "      <td>Goldschmidt, Mr George B</td>\n",
       "      <td>71.0</td>\n",
       "    </tr>\n",
       "  </tbody>\n",
       "</table>\n",
       "</div>"
      ],
      "text/plain": [
       "                                                     Name   Age\n",
       "Sex                                                            \n",
       "female  Crosby, Mrs Edward Gifford (Catherine Elizabet...  69.0\n",
       "male                             Goldschmidt, Mr George B  71.0"
      ]
     },
     "execution_count": 16,
     "metadata": {},
     "output_type": "execute_result"
    }
   ],
   "source": [
    "#lets find the oldest male and female\n",
    "def fun1(df):\n",
    "    #this function finds the oldest male and female passenger\n",
    "    #sort by age, this returns a series with just age\n",
    "    # return (df.Age.sort_values(ascending=False).iloc[0])\n",
    "\n",
    "    #sort by age, return the name and age column\n",
    "    return (df.sort_values(by='Age',ascending=False).iloc[0,[0,2]])\n",
    "\n",
    "\n",
    "df.groupby('Sex').apply(fun1)"
   ]
  },
  {
   "cell_type": "code",
   "execution_count": 17,
   "id": "75594a3c-2cb2-43d8-98b1-7217e0d4006d",
   "metadata": {},
   "outputs": [
    {
     "data": {
      "text/html": [
       "<div>\n",
       "<style scoped>\n",
       "    .dataframe tbody tr th:only-of-type {\n",
       "        vertical-align: middle;\n",
       "    }\n",
       "\n",
       "    .dataframe tbody tr th {\n",
       "        vertical-align: top;\n",
       "    }\n",
       "\n",
       "    .dataframe thead th {\n",
       "        text-align: right;\n",
       "    }\n",
       "</style>\n",
       "<table border=\"1\" class=\"dataframe\">\n",
       "  <thead>\n",
       "    <tr style=\"text-align: right;\">\n",
       "      <th></th>\n",
       "      <th></th>\n",
       "      <th>Name</th>\n",
       "      <th>Age</th>\n",
       "    </tr>\n",
       "    <tr>\n",
       "      <th>Sex</th>\n",
       "      <th>Survived</th>\n",
       "      <th></th>\n",
       "      <th></th>\n",
       "    </tr>\n",
       "  </thead>\n",
       "  <tbody>\n",
       "    <tr>\n",
       "      <th rowspan=\"2\" valign=\"top\">female</th>\n",
       "      <th>0</th>\n",
       "      <td>Straus, Mrs Isidor (Ida Blun)</td>\n",
       "      <td>63.0</td>\n",
       "    </tr>\n",
       "    <tr>\n",
       "      <th>1</th>\n",
       "      <td>Crosby, Mrs Edward Gifford (Catherine Elizabet...</td>\n",
       "      <td>69.0</td>\n",
       "    </tr>\n",
       "    <tr>\n",
       "      <th rowspan=\"2\" valign=\"top\">male</th>\n",
       "      <th>0</th>\n",
       "      <td>Artagaveytia, Mr Ramon</td>\n",
       "      <td>71.0</td>\n",
       "    </tr>\n",
       "    <tr>\n",
       "      <th>1</th>\n",
       "      <td>Frolicher-Stehli, Mr Maxmillian</td>\n",
       "      <td>60.0</td>\n",
       "    </tr>\n",
       "  </tbody>\n",
       "</table>\n",
       "</div>"
      ],
      "text/plain": [
       "                                                              Name   Age\n",
       "Sex    Survived                                                         \n",
       "female 0                             Straus, Mrs Isidor (Ida Blun)  63.0\n",
       "       1         Crosby, Mrs Edward Gifford (Catherine Elizabet...  69.0\n",
       "male   0                                    Artagaveytia, Mr Ramon  71.0\n",
       "       1                           Frolicher-Stehli, Mr Maxmillian  60.0"
      ]
     },
     "execution_count": 17,
     "metadata": {},
     "output_type": "execute_result"
    }
   ],
   "source": [
    "#lets find the oldest male and female, who died and survived \n",
    "def fun1(df):\n",
    "    #this function finds the oldest male and female passenger\n",
    "    #sort by age, this returns a series with just age\n",
    "    # return (df.Age.sort_values(ascending=False).iloc[0])\n",
    "\n",
    "    #sort by age, return the name and age column\n",
    "    return (df.sort_values(by='Age',ascending=False).iloc[0,[0,2]])\n",
    "\n",
    "\n",
    "df1=df.groupby(['Sex','Survived']).apply(fun1)\n",
    "df1"
   ]
  },
  {
   "cell_type": "code",
   "execution_count": 27,
   "id": "8c554e37-1ae5-4923-9b32-03f9426f87d2",
   "metadata": {},
   "outputs": [
    {
     "data": {
      "text/plain": [
       "MultiIndex([('female', 0),\n",
       "            ('female', 1),\n",
       "            (  'male', 0),\n",
       "            (  'male', 1)],\n",
       "           names=['Sex', 'Survived'])"
      ]
     },
     "execution_count": 27,
     "metadata": {},
     "output_type": "execute_result"
    }
   ],
   "source": [
    "#what to use to dereference\n",
    "df1.index"
   ]
  },
  {
   "cell_type": "code",
   "execution_count": null,
   "id": "c6d3673e-4f12-47f3-af5b-7cb0401be2cd",
   "metadata": {},
   "outputs": [],
   "source": []
  },
  {
   "cell_type": "code",
   "execution_count": 28,
   "id": "9f23206f-ee09-4e82-889e-af3c86a259cd",
   "metadata": {},
   "outputs": [
    {
     "data": {
      "text/html": [
       "<div>\n",
       "<style scoped>\n",
       "    .dataframe tbody tr th:only-of-type {\n",
       "        vertical-align: middle;\n",
       "    }\n",
       "\n",
       "    .dataframe tbody tr th {\n",
       "        vertical-align: top;\n",
       "    }\n",
       "\n",
       "    .dataframe thead th {\n",
       "        text-align: right;\n",
       "    }\n",
       "</style>\n",
       "<table border=\"1\" class=\"dataframe\">\n",
       "  <thead>\n",
       "    <tr style=\"text-align: right;\">\n",
       "      <th></th>\n",
       "      <th></th>\n",
       "      <th>Name</th>\n",
       "      <th>Age</th>\n",
       "    </tr>\n",
       "    <tr>\n",
       "      <th>Sex</th>\n",
       "      <th>Survived</th>\n",
       "      <th></th>\n",
       "      <th></th>\n",
       "    </tr>\n",
       "  </thead>\n",
       "  <tbody>\n",
       "    <tr>\n",
       "      <th>female</th>\n",
       "      <th>0</th>\n",
       "      <td>Straus, Mrs Isidor (Ida Blun)</td>\n",
       "      <td>63.0</td>\n",
       "    </tr>\n",
       "  </tbody>\n",
       "</table>\n",
       "</div>"
      ],
      "text/plain": [
       "                                          Name   Age\n",
       "Sex    Survived                                     \n",
       "female 0         Straus, Mrs Isidor (Ida Blun)  63.0"
      ]
     },
     "execution_count": 28,
     "metadata": {},
     "output_type": "execute_result"
    }
   ],
   "source": [
    "df1.query(\"Sex=='female' & Survived==0\")\n",
    "# df1.query(\"Survived==0\")"
   ]
  },
  {
   "cell_type": "markdown",
   "id": "ddd48432-5b60-40e3-b23e-47f75d946d7c",
   "metadata": {},
   "source": [
    "## Does gender or passenger class affect your chances?\n",
    "\n",
    "We want percentages here not absolute numbers, for instance number of femal 1st class passengers who survived divided by total number of female first class passengers.\n"
   ]
  },
  {
   "cell_type": "code",
   "execution_count": 18,
   "id": "86725907-12d2-4116-a3f1-96923233593c",
   "metadata": {},
   "outputs": [
    {
     "data": {
      "text/plain": [
       "Sex     PClass\n",
       "female  1st       0.937063\n",
       "        2nd       0.878505\n",
       "        3rd       0.377358\n",
       "male    *         0.000000\n",
       "        1st       0.329609\n",
       "        2nd       0.145349\n",
       "        3rd       0.116232\n",
       "dtype: float64"
      ]
     },
     "execution_count": 18,
     "metadata": {},
     "output_type": "execute_result"
    }
   ],
   "source": [
    "#survival based on class\n",
    "def fun3(df):\n",
    "    #each dataframe passed to this function will contain \n",
    "    #all rows of 1 gender (M,F) in one of the PClasses (1st, 2nd, 3rd) \n",
    "    #just divide the len of the dataframe by the number who survived to see\n",
    "    #survival rate\n",
    "    return df.Survived.sum()/len(df)\n",
    "\n",
    "\n",
    "res=df.groupby(['Sex','PClass']).apply(fun3)\n",
    "res"
   ]
  },
  {
   "cell_type": "code",
   "execution_count": 19,
   "id": "4ff363c9-4083-4958-8a98-6fa194ac8156",
   "metadata": {},
   "outputs": [
    {
     "data": {
      "text/plain": [
       "Sex     PClass\n",
       "female  1st       0.937063\n",
       "        2nd       0.878505\n",
       "        3rd       0.377358\n",
       "male    *         0.000000\n",
       "        1st       0.329609\n",
       "        2nd       0.145349\n",
       "        3rd       0.116232\n",
       "dtype: float64"
      ]
     },
     "execution_count": 19,
     "metadata": {},
     "output_type": "execute_result"
    }
   ],
   "source": [
    "#can also do it this way\n",
    "tmp=df.groupby(['Sex','PClass'])   #create a groupby object\n",
    "tmp.sum().loc[:,'Survived']/tmp.count().SexCode  #divide total number survivors by total number"
   ]
  },
  {
   "cell_type": "code",
   "execution_count": 20,
   "id": "ceb04c37-4538-462c-a585-dc2a57727ec7",
   "metadata": {},
   "outputs": [
    {
     "data": {
      "text/plain": [
       "pandas.core.groupby.generic.DataFrameGroupBy"
      ]
     },
     "execution_count": 20,
     "metadata": {},
     "output_type": "execute_result"
    }
   ],
   "source": [
    "type(tmp)"
   ]
  },
  {
   "cell_type": "markdown",
   "id": "46fe753d-8ca7-44bc-9898-214d532f2ef1",
   "metadata": {},
   "source": [
    "## I would like to graph this but my indexes are a pain, reset_index to the rescue!\n",
    "It will create a dataframe from this Series and save the multiindex as columns"
   ]
  },
  {
   "cell_type": "code",
   "execution_count": 21,
   "id": "f5777fef-46af-4db9-8d8f-986f28ce2283",
   "metadata": {},
   "outputs": [
    {
     "data": {
      "text/html": [
       "<div>\n",
       "<style scoped>\n",
       "    .dataframe tbody tr th:only-of-type {\n",
       "        vertical-align: middle;\n",
       "    }\n",
       "\n",
       "    .dataframe tbody tr th {\n",
       "        vertical-align: top;\n",
       "    }\n",
       "\n",
       "    .dataframe thead th {\n",
       "        text-align: right;\n",
       "    }\n",
       "</style>\n",
       "<table border=\"1\" class=\"dataframe\">\n",
       "  <thead>\n",
       "    <tr style=\"text-align: right;\">\n",
       "      <th></th>\n",
       "      <th>Sex</th>\n",
       "      <th>PClass</th>\n",
       "      <th>0</th>\n",
       "    </tr>\n",
       "  </thead>\n",
       "  <tbody>\n",
       "    <tr>\n",
       "      <th>0</th>\n",
       "      <td>female</td>\n",
       "      <td>1st</td>\n",
       "      <td>0.937063</td>\n",
       "    </tr>\n",
       "    <tr>\n",
       "      <th>1</th>\n",
       "      <td>female</td>\n",
       "      <td>2nd</td>\n",
       "      <td>0.878505</td>\n",
       "    </tr>\n",
       "    <tr>\n",
       "      <th>2</th>\n",
       "      <td>female</td>\n",
       "      <td>3rd</td>\n",
       "      <td>0.377358</td>\n",
       "    </tr>\n",
       "    <tr>\n",
       "      <th>3</th>\n",
       "      <td>male</td>\n",
       "      <td>*</td>\n",
       "      <td>0.000000</td>\n",
       "    </tr>\n",
       "    <tr>\n",
       "      <th>4</th>\n",
       "      <td>male</td>\n",
       "      <td>1st</td>\n",
       "      <td>0.329609</td>\n",
       "    </tr>\n",
       "    <tr>\n",
       "      <th>5</th>\n",
       "      <td>male</td>\n",
       "      <td>2nd</td>\n",
       "      <td>0.145349</td>\n",
       "    </tr>\n",
       "    <tr>\n",
       "      <th>6</th>\n",
       "      <td>male</td>\n",
       "      <td>3rd</td>\n",
       "      <td>0.116232</td>\n",
       "    </tr>\n",
       "  </tbody>\n",
       "</table>\n",
       "</div>"
      ],
      "text/plain": [
       "      Sex PClass         0\n",
       "0  female    1st  0.937063\n",
       "1  female    2nd  0.878505\n",
       "2  female    3rd  0.377358\n",
       "3    male      *  0.000000\n",
       "4    male    1st  0.329609\n",
       "5    male    2nd  0.145349\n",
       "6    male    3rd  0.116232"
      ]
     },
     "execution_count": 21,
     "metadata": {},
     "output_type": "execute_result"
    }
   ],
   "source": [
    "res1=res.reset_index()\n",
    "res1"
   ]
  },
  {
   "cell_type": "code",
   "execution_count": 22,
   "id": "a9993412-6430-46f7-b3e4-d2bd5b9b00c9",
   "metadata": {},
   "outputs": [
    {
     "data": {
      "text/html": [
       "<div>\n",
       "<style scoped>\n",
       "    .dataframe tbody tr th:only-of-type {\n",
       "        vertical-align: middle;\n",
       "    }\n",
       "\n",
       "    .dataframe tbody tr th {\n",
       "        vertical-align: top;\n",
       "    }\n",
       "\n",
       "    .dataframe thead th {\n",
       "        text-align: right;\n",
       "    }\n",
       "</style>\n",
       "<table border=\"1\" class=\"dataframe\">\n",
       "  <thead>\n",
       "    <tr style=\"text-align: right;\">\n",
       "      <th></th>\n",
       "      <th>Sex</th>\n",
       "      <th>PClass</th>\n",
       "      <th>0</th>\n",
       "    </tr>\n",
       "  </thead>\n",
       "  <tbody>\n",
       "    <tr>\n",
       "      <th>0</th>\n",
       "      <td>female</td>\n",
       "      <td>1st</td>\n",
       "      <td>0.937063</td>\n",
       "    </tr>\n",
       "    <tr>\n",
       "      <th>1</th>\n",
       "      <td>female</td>\n",
       "      <td>2nd</td>\n",
       "      <td>0.878505</td>\n",
       "    </tr>\n",
       "    <tr>\n",
       "      <th>2</th>\n",
       "      <td>female</td>\n",
       "      <td>3rd</td>\n",
       "      <td>0.377358</td>\n",
       "    </tr>\n",
       "    <tr>\n",
       "      <th>4</th>\n",
       "      <td>male</td>\n",
       "      <td>1st</td>\n",
       "      <td>0.329609</td>\n",
       "    </tr>\n",
       "    <tr>\n",
       "      <th>5</th>\n",
       "      <td>male</td>\n",
       "      <td>2nd</td>\n",
       "      <td>0.145349</td>\n",
       "    </tr>\n",
       "    <tr>\n",
       "      <th>6</th>\n",
       "      <td>male</td>\n",
       "      <td>3rd</td>\n",
       "      <td>0.116232</td>\n",
       "    </tr>\n",
       "  </tbody>\n",
       "</table>\n",
       "</div>"
      ],
      "text/plain": [
       "      Sex PClass         0\n",
       "0  female    1st  0.937063\n",
       "1  female    2nd  0.878505\n",
       "2  female    3rd  0.377358\n",
       "4    male    1st  0.329609\n",
       "5    male    2nd  0.145349\n",
       "6    male    3rd  0.116232"
      ]
     },
     "execution_count": 22,
     "metadata": {},
     "output_type": "execute_result"
    }
   ],
   "source": [
    "#get rid of that *\n",
    "res1.drop([3],inplace=True)\n",
    "res1"
   ]
  },
  {
   "cell_type": "code",
   "execution_count": 23,
   "id": "47c73aae-8f04-4697-8fc8-9c09fc280600",
   "metadata": {},
   "outputs": [
    {
     "data": {
      "text/html": [
       "<div>\n",
       "<style scoped>\n",
       "    .dataframe tbody tr th:only-of-type {\n",
       "        vertical-align: middle;\n",
       "    }\n",
       "\n",
       "    .dataframe tbody tr th {\n",
       "        vertical-align: top;\n",
       "    }\n",
       "\n",
       "    .dataframe thead th {\n",
       "        text-align: right;\n",
       "    }\n",
       "</style>\n",
       "<table border=\"1\" class=\"dataframe\">\n",
       "  <thead>\n",
       "    <tr style=\"text-align: right;\">\n",
       "      <th></th>\n",
       "      <th>Sex</th>\n",
       "      <th>PClass</th>\n",
       "      <th>Survival rate %</th>\n",
       "    </tr>\n",
       "  </thead>\n",
       "  <tbody>\n",
       "    <tr>\n",
       "      <th>0</th>\n",
       "      <td>female</td>\n",
       "      <td>1st</td>\n",
       "      <td>93.706294</td>\n",
       "    </tr>\n",
       "    <tr>\n",
       "      <th>1</th>\n",
       "      <td>female</td>\n",
       "      <td>2nd</td>\n",
       "      <td>87.850467</td>\n",
       "    </tr>\n",
       "    <tr>\n",
       "      <th>2</th>\n",
       "      <td>female</td>\n",
       "      <td>3rd</td>\n",
       "      <td>37.735849</td>\n",
       "    </tr>\n",
       "    <tr>\n",
       "      <th>4</th>\n",
       "      <td>male</td>\n",
       "      <td>1st</td>\n",
       "      <td>32.960894</td>\n",
       "    </tr>\n",
       "    <tr>\n",
       "      <th>5</th>\n",
       "      <td>male</td>\n",
       "      <td>2nd</td>\n",
       "      <td>14.534884</td>\n",
       "    </tr>\n",
       "    <tr>\n",
       "      <th>6</th>\n",
       "      <td>male</td>\n",
       "      <td>3rd</td>\n",
       "      <td>11.623246</td>\n",
       "    </tr>\n",
       "  </tbody>\n",
       "</table>\n",
       "</div>"
      ],
      "text/plain": [
       "      Sex PClass  Survival rate %\n",
       "0  female    1st        93.706294\n",
       "1  female    2nd        87.850467\n",
       "2  female    3rd        37.735849\n",
       "4    male    1st        32.960894\n",
       "5    male    2nd        14.534884\n",
       "6    male    3rd        11.623246"
      ]
     },
     "execution_count": 23,
     "metadata": {},
     "output_type": "execute_result"
    }
   ],
   "source": [
    "res1 = res1.rename(columns = {0 : 'Survival rate %'})\n",
    "res1['Survival rate %'] = res1['Survival rate %']*100\n",
    "res1.columns\n",
    "res1"
   ]
  },
  {
   "cell_type": "code",
   "execution_count": 24,
   "id": "7f0dffc9-fe32-48a9-87a8-8f71ab5e9a26",
   "metadata": {},
   "outputs": [
    {
     "data": {
      "image/png": "[encoded data removed]",
      "text/plain": [
       "<Figure size 640x480 with 1 Axes>"
      ]
     },
     "metadata": {},
     "output_type": "display_data"
    }
   ],
   "source": [
    "#lets graph this, oh no? what to do with the index?  And what I have is a series\n",
    "sns.barplot(data=res1,x=\"Sex\",y='Survival rate %',  hue=\"PClass\" );"
   ]
  },
  {
   "cell_type": "code",
   "execution_count": null,
   "id": "22990d2b-fd06-4edc-b951-f797cc30d3e5",
   "metadata": {},
   "outputs": [],
   "source": []
  }
 ],
 "metadata": {
  "kernelspec": {
   "display_name": "Python 3 (ipykernel)",
   "language": "python",
   "name": "python3"
  },
  "language_info": {
   "codemirror_mode": {
    "name": "ipython",
    "version": 3
   },
   "file_extension": ".py",
   "mimetype": "text/x-python",
   "name": "python",
   "nbconvert_exporter": "python",
   "pygments_lexer": "ipython3",
   "version": "3.11.5"
  },
  "widgets": {
   "application/vnd.jupyter.widget-state+json": {
    "state": {},
    "version_major": 2,
    "version_minor": 0
   }
  }
 },
 "nbformat": 4,
 "nbformat_minor": 5
}
