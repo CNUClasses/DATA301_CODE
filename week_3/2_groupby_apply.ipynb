{
 "cells": [
  {
   "cell_type": "markdown",
   "id": "7d2c3949-9339-46b2-bdd8-ea5510f43a24",
   "metadata": {},
   "source": [
    "# Groupby and apply\n",
    "Powerful data query mechanisms\n",
    "see '3.13 Grouping Rows by Values' in Albon"
   ]
  },
  {
   "cell_type": "markdown",
   "id": "32c6e5ec-8c58-42f3-a279-8c584bfc6dfd",
   "metadata": {},
   "source": [
    "## Load a dataset"
   ]
  },
  {
   "cell_type": "code",
   "execution_count": 75,
   "id": "1adce5e5-2807-48d3-aa7e-179549646d1b",
   "metadata": {},
   "outputs": [],
   "source": [
    "import pandas as pd\n",
    "import seaborn as sns\n",
    "url=\"https://raw.githubusercontent.com/chrisalbon/simulated_datasets/master/titanic.csv\"\n",
    "df = pd.read_csv(url)"
   ]
  },
  {
   "cell_type": "code",
   "execution_count": 9,
   "id": "18e5a34e-cea9-4515-90b3-08004b1e67b8",
   "metadata": {},
   "outputs": [
    {
     "name": "stdout",
     "output_type": "stream",
     "text": [
      "1313\n"
     ]
    },
    {
     "data": {
      "text/html": [
       "<div>\n",
       "<style scoped>\n",
       "    .dataframe tbody tr th:only-of-type {\n",
       "        vertical-align: middle;\n",
       "    }\n",
       "\n",
       "    .dataframe tbody tr th {\n",
       "        vertical-align: top;\n",
       "    }\n",
       "\n",
       "    .dataframe thead th {\n",
       "        text-align: right;\n",
       "    }\n",
       "</style>\n",
       "<table border=\"1\" class=\"dataframe\">\n",
       "  <thead>\n",
       "    <tr style=\"text-align: right;\">\n",
       "      <th></th>\n",
       "      <th>Name</th>\n",
       "      <th>PClass</th>\n",
       "      <th>Age</th>\n",
       "      <th>Sex</th>\n",
       "      <th>Survived</th>\n",
       "      <th>SexCode</th>\n",
       "    </tr>\n",
       "  </thead>\n",
       "  <tbody>\n",
       "    <tr>\n",
       "      <th>0</th>\n",
       "      <td>Allen, Miss Elisabeth Walton</td>\n",
       "      <td>1st</td>\n",
       "      <td>29.00</td>\n",
       "      <td>female</td>\n",
       "      <td>1</td>\n",
       "      <td>1</td>\n",
       "    </tr>\n",
       "    <tr>\n",
       "      <th>1</th>\n",
       "      <td>Allison, Miss Helen Loraine</td>\n",
       "      <td>1st</td>\n",
       "      <td>2.00</td>\n",
       "      <td>female</td>\n",
       "      <td>0</td>\n",
       "      <td>1</td>\n",
       "    </tr>\n",
       "    <tr>\n",
       "      <th>2</th>\n",
       "      <td>Allison, Mr Hudson Joshua Creighton</td>\n",
       "      <td>1st</td>\n",
       "      <td>30.00</td>\n",
       "      <td>male</td>\n",
       "      <td>0</td>\n",
       "      <td>0</td>\n",
       "    </tr>\n",
       "    <tr>\n",
       "      <th>3</th>\n",
       "      <td>Allison, Mrs Hudson JC (Bessie Waldo Daniels)</td>\n",
       "      <td>1st</td>\n",
       "      <td>25.00</td>\n",
       "      <td>female</td>\n",
       "      <td>0</td>\n",
       "      <td>1</td>\n",
       "    </tr>\n",
       "    <tr>\n",
       "      <th>4</th>\n",
       "      <td>Allison, Master Hudson Trevor</td>\n",
       "      <td>1st</td>\n",
       "      <td>0.92</td>\n",
       "      <td>male</td>\n",
       "      <td>1</td>\n",
       "      <td>0</td>\n",
       "    </tr>\n",
       "  </tbody>\n",
       "</table>\n",
       "</div>"
      ],
      "text/plain": [
       "                                            Name PClass    Age     Sex  \\\n",
       "0                   Allen, Miss Elisabeth Walton    1st  29.00  female   \n",
       "1                    Allison, Miss Helen Loraine    1st   2.00  female   \n",
       "2            Allison, Mr Hudson Joshua Creighton    1st  30.00    male   \n",
       "3  Allison, Mrs Hudson JC (Bessie Waldo Daniels)    1st  25.00  female   \n",
       "4                  Allison, Master Hudson Trevor    1st   0.92    male   \n",
       "\n",
       "   Survived  SexCode  \n",
       "0         1        1  \n",
       "1         0        1  \n",
       "2         0        0  \n",
       "3         0        1  \n",
       "4         1        0  "
      ]
     },
     "execution_count": 9,
     "metadata": {},
     "output_type": "execute_result"
    }
   ],
   "source": [
    "#how many rows in DataFrame\n",
    "print(len(df))\n",
    "\n",
    "#look at first few\n",
    "df.head()"
   ]
  },
  {
   "cell_type": "code",
   "execution_count": 67,
   "id": "1ffccb2e-a576-4cc9-9cf1-77a42bfd7c94",
   "metadata": {},
   "outputs": [
    {
     "data": {
      "text/plain": [
       "Name         object\n",
       "PClass       object\n",
       "Age         float64\n",
       "Sex          object\n",
       "Survived      int64\n",
       "SexCode       int64\n",
       "dtype: object"
      ]
     },
     "execution_count": 67,
     "metadata": {},
     "output_type": "execute_result"
    }
   ],
   "source": [
    "#lets see what type of data is in each column\n",
    "df.dtypes\n",
    "\n",
    "#This DataFrame has 3 numerical types(Age, Survived, and Sexcode) \n",
    "# and three object types (Name, PClass and Sex).\n",
    "# The object type in this case is a string"
   ]
  },
  {
   "cell_type": "markdown",
   "id": "a37bde74-3706-4ec7-a800-3be072c09865",
   "metadata": {},
   "source": [
    "## 'Groupby' allows you to separate your data by some selector or combination of selectors and then apply a function over each of these groups to calculate a statistic.\n",
    "\n",
    "The function will only apply to the fields where it makes sense (which means numerical data.)\n"
   ]
  },
  {
   "cell_type": "markdown",
   "id": "653edfc1-80cc-4410-b56f-17c6215143ba",
   "metadata": {},
   "source": [
    "## Lets see who survived based on Sex.  \n",
    "I'm grouping all the rows by sex, and then adding up all the values in numerical fields"
   ]
  },
  {
   "cell_type": "code",
   "execution_count": 34,
   "id": "4c063bbd-fec8-453e-a325-c428a0d058f8",
   "metadata": {},
   "outputs": [
    {
     "name": "stdout",
     "output_type": "stream",
     "text": [
      "<class 'pandas.core.groupby.generic.DataFrameGroupBy'>\n"
     ]
    }
   ],
   "source": [
    "#this is a groupby object, you can't do anything with it until you apply a function to it\n",
    "gb = df.groupby('Sex')\n",
    "print(type(gb))"
   ]
  },
  {
   "cell_type": "code",
   "execution_count": null,
   "id": "131d3bbc-0993-4dc9-aebe-07c50867e7c9",
   "metadata": {},
   "outputs": [
    {
     "name": "stdout",
     "output_type": "stream",
     "text": [
      "<class 'pandas.core.frame.DataFrame'>\n"
     ]
    },
    {
     "data": {
      "text/html": [
       "<div>\n",
       "<style scoped>\n",
       "    .dataframe tbody tr th:only-of-type {\n",
       "        vertical-align: middle;\n",
       "    }\n",
       "\n",
       "    .dataframe tbody tr th {\n",
       "        vertical-align: top;\n",
       "    }\n",
       "\n",
       "    .dataframe thead th {\n",
       "        text-align: right;\n",
       "    }\n",
       "</style>\n",
       "<table border=\"1\" class=\"dataframe\">\n",
       "  <thead>\n",
       "    <tr style=\"text-align: right;\">\n",
       "      <th></th>\n",
       "      <th>Age</th>\n",
       "      <th>Survived</th>\n",
       "      <th>SexCode</th>\n",
       "    </tr>\n",
       "    <tr>\n",
       "      <th>Sex</th>\n",
       "      <th></th>\n",
       "      <th></th>\n",
       "      <th></th>\n",
       "    </tr>\n",
       "  </thead>\n",
       "  <tbody>\n",
       "    <tr>\n",
       "      <th>female</th>\n",
       "      <td>8466.17</td>\n",
       "      <td>308</td>\n",
       "      <td>462</td>\n",
       "    </tr>\n",
       "    <tr>\n",
       "      <th>male</th>\n",
       "      <td>14514.71</td>\n",
       "      <td>142</td>\n",
       "      <td>0</td>\n",
       "    </tr>\n",
       "  </tbody>\n",
       "</table>\n",
       "</div>"
      ],
      "text/plain": [
       "             Age  Survived  SexCode\n",
       "Sex                                \n",
       "female   8466.17       308      462\n",
       "male    14514.71       142        0"
      ]
     },
     "execution_count": 33,
     "metadata": {},
     "output_type": "execute_result"
    }
   ],
   "source": [
    "#after applying a function to the groupby object you get a dataframe\n",
    "df1=df.groupby('Sex').sum()\n",
    "print(type(df1))\n",
    "dgb"
   ]
  },
  {
   "cell_type": "code",
   "execution_count": 38,
   "id": "c2a61952-b5be-46fe-8e05-73712567d213",
   "metadata": {},
   "outputs": [
    {
     "data": {
      "text/plain": [
       "Sex\n",
       "female    308\n",
       "male      142\n",
       "Name: Survived, dtype: int64"
      ]
     },
     "execution_count": 38,
     "metadata": {},
     "output_type": "execute_result"
    }
   ],
   "source": [
    "# adding up Ages is not helpful, neither is SexCode, lets just see who survived\n",
    "df1.iloc[:,1]"
   ]
  },
  {
   "cell_type": "code",
   "execution_count": 40,
   "id": "7e56df1b-2be6-4384-9bb1-c207a71970b6",
   "metadata": {},
   "outputs": [
    {
     "data": {
      "text/plain": [
       "(2, 3)"
      ]
     },
     "execution_count": 40,
     "metadata": {},
     "output_type": "execute_result"
    }
   ],
   "source": [
    "# Note that this DataFrame has summary stats only, it's not hiding any of the other data\n",
    "df1.shape"
   ]
  },
  {
   "cell_type": "markdown",
   "id": "7afaed3c-acbd-402f-8831-1dfe09c1d435",
   "metadata": {},
   "source": [
    "## Lets see who survived based on Sex and PClass.  "
   ]
  },
  {
   "cell_type": "code",
   "execution_count": 43,
   "id": "2c89fbd5-007d-4328-b3df-5647df4585b3",
   "metadata": {},
   "outputs": [
    {
     "data": {
      "text/html": [
       "<div>\n",
       "<style scoped>\n",
       "    .dataframe tbody tr th:only-of-type {\n",
       "        vertical-align: middle;\n",
       "    }\n",
       "\n",
       "    .dataframe tbody tr th {\n",
       "        vertical-align: top;\n",
       "    }\n",
       "\n",
       "    .dataframe thead th {\n",
       "        text-align: right;\n",
       "    }\n",
       "</style>\n",
       "<table border=\"1\" class=\"dataframe\">\n",
       "  <thead>\n",
       "    <tr style=\"text-align: right;\">\n",
       "      <th></th>\n",
       "      <th></th>\n",
       "      <th>Age</th>\n",
       "      <th>Survived</th>\n",
       "      <th>SexCode</th>\n",
       "    </tr>\n",
       "    <tr>\n",
       "      <th>Sex</th>\n",
       "      <th>PClass</th>\n",
       "      <th></th>\n",
       "      <th></th>\n",
       "      <th></th>\n",
       "    </tr>\n",
       "  </thead>\n",
       "  <tbody>\n",
       "    <tr>\n",
       "      <th rowspan=\"3\" valign=\"top\">female</th>\n",
       "      <th>1st</th>\n",
       "      <td>3815.00</td>\n",
       "      <td>134</td>\n",
       "      <td>143</td>\n",
       "    </tr>\n",
       "    <tr>\n",
       "      <th>2nd</th>\n",
       "      <td>2328.00</td>\n",
       "      <td>94</td>\n",
       "      <td>107</td>\n",
       "    </tr>\n",
       "    <tr>\n",
       "      <th>3rd</th>\n",
       "      <td>2323.17</td>\n",
       "      <td>80</td>\n",
       "      <td>212</td>\n",
       "    </tr>\n",
       "    <tr>\n",
       "      <th rowspan=\"4\" valign=\"top\">male</th>\n",
       "      <th>*</th>\n",
       "      <td>0.00</td>\n",
       "      <td>0</td>\n",
       "      <td>0</td>\n",
       "    </tr>\n",
       "    <tr>\n",
       "      <th>1st</th>\n",
       "      <td>5149.92</td>\n",
       "      <td>59</td>\n",
       "      <td>0</td>\n",
       "    </tr>\n",
       "    <tr>\n",
       "      <th>2nd</th>\n",
       "      <td>3671.63</td>\n",
       "      <td>25</td>\n",
       "      <td>0</td>\n",
       "    </tr>\n",
       "    <tr>\n",
       "      <th>3rd</th>\n",
       "      <td>5693.16</td>\n",
       "      <td>58</td>\n",
       "      <td>0</td>\n",
       "    </tr>\n",
       "  </tbody>\n",
       "</table>\n",
       "</div>"
      ],
      "text/plain": [
       "                   Age  Survived  SexCode\n",
       "Sex    PClass                            \n",
       "female 1st     3815.00       134      143\n",
       "       2nd     2328.00        94      107\n",
       "       3rd     2323.17        80      212\n",
       "male   *          0.00         0        0\n",
       "       1st     5149.92        59        0\n",
       "       2nd     3671.63        25        0\n",
       "       3rd     5693.16        58        0"
      ]
     },
     "execution_count": 43,
     "metadata": {},
     "output_type": "execute_result"
    }
   ],
   "source": [
    "#Note that the grouping has changed\n",
    "df2=df.groupby(['Sex','PClass']).sum()\n",
    "df2\n",
    "# df2.iloc[:,1]"
   ]
  },
  {
   "cell_type": "code",
   "execution_count": 45,
   "id": "175b6b9b-3521-47f1-8da4-678f5726563f",
   "metadata": {},
   "outputs": [
    {
     "data": {
      "text/plain": [
       "Name        Jacobsohn Mr Samuel\n",
       "PClass                        *\n",
       "Age                         0.0\n",
       "Sex                        male\n",
       "Survived                      0\n",
       "SexCode                       0\n",
       "dtype: object"
      ]
     },
     "execution_count": 45,
     "metadata": {},
     "output_type": "execute_result"
    }
   ],
   "source": [
    "#what is that *?  Apparently it's a mistyped passenger class\n",
    "#short any other info (were there other Jacobsons onboard?) it's hard to tell what his PClass is\n",
    "df[df.PClass=='*'].sum()"
   ]
  },
  {
   "cell_type": "markdown",
   "id": "c9f55dfc-a7ee-4b49-823d-1f3beb0e5568",
   "metadata": {},
   "source": [
    "## You do not have to use the built in faunctions for groupby.  You can make your own.\n",
    "Use groupby's apply() method, <mark>It takes a DataFrame and returns a DataFrame, or a Series or scaler"
   ]
  },
  {
   "cell_type": "code",
   "execution_count": 64,
   "id": "110b311e-4857-46ac-b430-1bda507e417a",
   "metadata": {},
   "outputs": [
    {
     "data": {
      "text/html": [
       "<div>\n",
       "<style scoped>\n",
       "    .dataframe tbody tr th:only-of-type {\n",
       "        vertical-align: middle;\n",
       "    }\n",
       "\n",
       "    .dataframe tbody tr th {\n",
       "        vertical-align: top;\n",
       "    }\n",
       "\n",
       "    .dataframe thead th {\n",
       "        text-align: right;\n",
       "    }\n",
       "</style>\n",
       "<table border=\"1\" class=\"dataframe\">\n",
       "  <thead>\n",
       "    <tr style=\"text-align: right;\">\n",
       "      <th></th>\n",
       "      <th>Name</th>\n",
       "      <th>Age</th>\n",
       "    </tr>\n",
       "    <tr>\n",
       "      <th>Sex</th>\n",
       "      <th></th>\n",
       "      <th></th>\n",
       "    </tr>\n",
       "  </thead>\n",
       "  <tbody>\n",
       "    <tr>\n",
       "      <th>female</th>\n",
       "      <td>Crosby, Mrs Edward Gifford (Catherine Elizabet...</td>\n",
       "      <td>69.0</td>\n",
       "    </tr>\n",
       "    <tr>\n",
       "      <th>male</th>\n",
       "      <td>Goldschmidt, Mr George B</td>\n",
       "      <td>71.0</td>\n",
       "    </tr>\n",
       "  </tbody>\n",
       "</table>\n",
       "</div>"
      ],
      "text/plain": [
       "                                                     Name   Age\n",
       "Sex                                                            \n",
       "female  Crosby, Mrs Edward Gifford (Catherine Elizabet...  69.0\n",
       "male                             Goldschmidt, Mr George B  71.0"
      ]
     },
     "execution_count": 64,
     "metadata": {},
     "output_type": "execute_result"
    }
   ],
   "source": [
    "#lets find the oldest male and female\n",
    "def fun1(df):\n",
    "    #this function finds the oldest male and female passenger\n",
    "    #sort by age, this returns a series with just age\n",
    "    # return (df.Age.sort_values(ascending=False).iloc[0])\n",
    "\n",
    "    #sort by age, return the name and age column\n",
    "    return (df.sort_values('Age',ascending=False).iloc[0,[0,2]])\n",
    "\n",
    "\n",
    "df.groupby('Sex').apply(fun1)"
   ]
  },
  {
   "cell_type": "code",
   "execution_count": 65,
   "id": "b6acb198-dc31-4565-ac2b-5d7a69517778",
   "metadata": {},
   "outputs": [
    {
     "data": {
      "text/html": [
       "<div>\n",
       "<style scoped>\n",
       "    .dataframe tbody tr th:only-of-type {\n",
       "        vertical-align: middle;\n",
       "    }\n",
       "\n",
       "    .dataframe tbody tr th {\n",
       "        vertical-align: top;\n",
       "    }\n",
       "\n",
       "    .dataframe thead th {\n",
       "        text-align: right;\n",
       "    }\n",
       "</style>\n",
       "<table border=\"1\" class=\"dataframe\">\n",
       "  <thead>\n",
       "    <tr style=\"text-align: right;\">\n",
       "      <th></th>\n",
       "      <th></th>\n",
       "      <th>Name</th>\n",
       "      <th>Age</th>\n",
       "    </tr>\n",
       "    <tr>\n",
       "      <th>Sex</th>\n",
       "      <th>Survived</th>\n",
       "      <th></th>\n",
       "      <th></th>\n",
       "    </tr>\n",
       "  </thead>\n",
       "  <tbody>\n",
       "    <tr>\n",
       "      <th rowspan=\"2\" valign=\"top\">female</th>\n",
       "      <th>0</th>\n",
       "      <td>Straus, Mrs Isidor (Ida Blun)</td>\n",
       "      <td>63.0</td>\n",
       "    </tr>\n",
       "    <tr>\n",
       "      <th>1</th>\n",
       "      <td>Crosby, Mrs Edward Gifford (Catherine Elizabet...</td>\n",
       "      <td>69.0</td>\n",
       "    </tr>\n",
       "    <tr>\n",
       "      <th rowspan=\"2\" valign=\"top\">male</th>\n",
       "      <th>0</th>\n",
       "      <td>Artagaveytia, Mr Ramon</td>\n",
       "      <td>71.0</td>\n",
       "    </tr>\n",
       "    <tr>\n",
       "      <th>1</th>\n",
       "      <td>Frolicher-Stehli, Mr Maxmillian</td>\n",
       "      <td>60.0</td>\n",
       "    </tr>\n",
       "  </tbody>\n",
       "</table>\n",
       "</div>"
      ],
      "text/plain": [
       "                                                              Name   Age\n",
       "Sex    Survived                                                         \n",
       "female 0                             Straus, Mrs Isidor (Ida Blun)  63.0\n",
       "       1         Crosby, Mrs Edward Gifford (Catherine Elizabet...  69.0\n",
       "male   0                                    Artagaveytia, Mr Ramon  71.0\n",
       "       1                           Frolicher-Stehli, Mr Maxmillian  60.0"
      ]
     },
     "execution_count": 65,
     "metadata": {},
     "output_type": "execute_result"
    }
   ],
   "source": [
    "#oldest male and female who died/survived\n",
    "df.groupby(['Sex','Survived']).apply(fun1)"
   ]
  },
  {
   "cell_type": "markdown",
   "id": "ddd48432-5b60-40e3-b23e-47f75d946d7c",
   "metadata": {},
   "source": [
    "## Does gender or passenger class affect your chances?"
   ]
  },
  {
   "cell_type": "code",
   "execution_count": 74,
   "id": "86725907-12d2-4116-a3f1-96923233593c",
   "metadata": {},
   "outputs": [
    {
     "data": {
      "text/plain": [
       "Sex     PClass\n",
       "female  1st       0.937063\n",
       "        2nd       0.878505\n",
       "        3rd       0.377358\n",
       "male    *         0.000000\n",
       "        1st       0.329609\n",
       "        2nd       0.145349\n",
       "        3rd       0.116232\n",
       "dtype: float64"
      ]
     },
     "execution_count": 74,
     "metadata": {},
     "output_type": "execute_result"
    }
   ],
   "source": [
    "#survival based on class\n",
    "def fun3(df):\n",
    "    #each dataframe passed to this function will contain \n",
    "    #all rows of 1 gender (M,F) in one of the PClasses (1st, 2nd, 3rd) \n",
    "    #just divide the len of the dataframe by the number who survived to see\n",
    "    #survival rate\n",
    "    return df.Survived.sum()/len(df)\n",
    "\n",
    "\n",
    "res=df.groupby(['Sex','PClass']).apply(fun3)\n",
    "res"
   ]
  },
  {
   "cell_type": "markdown",
   "id": "46fe753d-8ca7-44bc-9898-214d532f2ef1",
   "metadata": {},
   "source": [
    "## I would like to graph this but my indexes are a pain, reset_index to the rescue!\n",
    "It will create a dataframe from this Series and save the multiindex as columns"
   ]
  },
  {
   "cell_type": "code",
   "execution_count": 86,
   "id": "f5777fef-46af-4db9-8d8f-986f28ce2283",
   "metadata": {},
   "outputs": [
    {
     "data": {
      "text/html": [
       "<div>\n",
       "<style scoped>\n",
       "    .dataframe tbody tr th:only-of-type {\n",
       "        vertical-align: middle;\n",
       "    }\n",
       "\n",
       "    .dataframe tbody tr th {\n",
       "        vertical-align: top;\n",
       "    }\n",
       "\n",
       "    .dataframe thead th {\n",
       "        text-align: right;\n",
       "    }\n",
       "</style>\n",
       "<table border=\"1\" class=\"dataframe\">\n",
       "  <thead>\n",
       "    <tr style=\"text-align: right;\">\n",
       "      <th></th>\n",
       "      <th>Sex</th>\n",
       "      <th>PClass</th>\n",
       "      <th>0</th>\n",
       "    </tr>\n",
       "  </thead>\n",
       "  <tbody>\n",
       "    <tr>\n",
       "      <th>0</th>\n",
       "      <td>female</td>\n",
       "      <td>1st</td>\n",
       "      <td>0.937063</td>\n",
       "    </tr>\n",
       "    <tr>\n",
       "      <th>1</th>\n",
       "      <td>female</td>\n",
       "      <td>2nd</td>\n",
       "      <td>0.878505</td>\n",
       "    </tr>\n",
       "    <tr>\n",
       "      <th>2</th>\n",
       "      <td>female</td>\n",
       "      <td>3rd</td>\n",
       "      <td>0.377358</td>\n",
       "    </tr>\n",
       "    <tr>\n",
       "      <th>3</th>\n",
       "      <td>male</td>\n",
       "      <td>*</td>\n",
       "      <td>0.000000</td>\n",
       "    </tr>\n",
       "    <tr>\n",
       "      <th>4</th>\n",
       "      <td>male</td>\n",
       "      <td>1st</td>\n",
       "      <td>0.329609</td>\n",
       "    </tr>\n",
       "    <tr>\n",
       "      <th>5</th>\n",
       "      <td>male</td>\n",
       "      <td>2nd</td>\n",
       "      <td>0.145349</td>\n",
       "    </tr>\n",
       "    <tr>\n",
       "      <th>6</th>\n",
       "      <td>male</td>\n",
       "      <td>3rd</td>\n",
       "      <td>0.116232</td>\n",
       "    </tr>\n",
       "  </tbody>\n",
       "</table>\n",
       "</div>"
      ],
      "text/plain": [
       "      Sex PClass         0\n",
       "0  female    1st  0.937063\n",
       "1  female    2nd  0.878505\n",
       "2  female    3rd  0.377358\n",
       "3    male      *  0.000000\n",
       "4    male    1st  0.329609\n",
       "5    male    2nd  0.145349\n",
       "6    male    3rd  0.116232"
      ]
     },
     "execution_count": 86,
     "metadata": {},
     "output_type": "execute_result"
    }
   ],
   "source": [
    "res1=res.reset_index()\n",
    "res1"
   ]
  },
  {
   "cell_type": "code",
   "execution_count": 87,
   "id": "a9993412-6430-46f7-b3e4-d2bd5b9b00c9",
   "metadata": {},
   "outputs": [
    {
     "data": {
      "text/html": [
       "<div>\n",
       "<style scoped>\n",
       "    .dataframe tbody tr th:only-of-type {\n",
       "        vertical-align: middle;\n",
       "    }\n",
       "\n",
       "    .dataframe tbody tr th {\n",
       "        vertical-align: top;\n",
       "    }\n",
       "\n",
       "    .dataframe thead th {\n",
       "        text-align: right;\n",
       "    }\n",
       "</style>\n",
       "<table border=\"1\" class=\"dataframe\">\n",
       "  <thead>\n",
       "    <tr style=\"text-align: right;\">\n",
       "      <th></th>\n",
       "      <th>Sex</th>\n",
       "      <th>PClass</th>\n",
       "      <th>0</th>\n",
       "    </tr>\n",
       "  </thead>\n",
       "  <tbody>\n",
       "    <tr>\n",
       "      <th>0</th>\n",
       "      <td>female</td>\n",
       "      <td>1st</td>\n",
       "      <td>0.937063</td>\n",
       "    </tr>\n",
       "    <tr>\n",
       "      <th>1</th>\n",
       "      <td>female</td>\n",
       "      <td>2nd</td>\n",
       "      <td>0.878505</td>\n",
       "    </tr>\n",
       "    <tr>\n",
       "      <th>2</th>\n",
       "      <td>female</td>\n",
       "      <td>3rd</td>\n",
       "      <td>0.377358</td>\n",
       "    </tr>\n",
       "    <tr>\n",
       "      <th>4</th>\n",
       "      <td>male</td>\n",
       "      <td>1st</td>\n",
       "      <td>0.329609</td>\n",
       "    </tr>\n",
       "    <tr>\n",
       "      <th>5</th>\n",
       "      <td>male</td>\n",
       "      <td>2nd</td>\n",
       "      <td>0.145349</td>\n",
       "    </tr>\n",
       "    <tr>\n",
       "      <th>6</th>\n",
       "      <td>male</td>\n",
       "      <td>3rd</td>\n",
       "      <td>0.116232</td>\n",
       "    </tr>\n",
       "  </tbody>\n",
       "</table>\n",
       "</div>"
      ],
      "text/plain": [
       "      Sex PClass         0\n",
       "0  female    1st  0.937063\n",
       "1  female    2nd  0.878505\n",
       "2  female    3rd  0.377358\n",
       "4    male    1st  0.329609\n",
       "5    male    2nd  0.145349\n",
       "6    male    3rd  0.116232"
      ]
     },
     "execution_count": 87,
     "metadata": {},
     "output_type": "execute_result"
    }
   ],
   "source": [
    "#get rid of that *\n",
    "res1.drop([3],inplace=True)\n",
    "res1"
   ]
  },
  {
   "cell_type": "code",
   "execution_count": 88,
   "id": "47c73aae-8f04-4697-8fc8-9c09fc280600",
   "metadata": {},
   "outputs": [
    {
     "name": "stdout",
     "output_type": "stream",
     "text": [
      "Index(['Sex', 'PClass', 0], dtype='object')\n"
     ]
    }
   ],
   "source": [
    "res1 = res1.rename(columns = {0 : 'Survival rate %'})\n",
    "res1['Survival rate %'] = res1['Survival rate %']*100"
   ]
  },
  {
   "cell_type": "code",
   "execution_count": 90,
   "id": "7f0dffc9-fe32-48a9-87a8-8f71ab5e9a26",
   "metadata": {},
   "outputs": [
    {
     "data": {
      "image/png": "[encoded data removed]",
      "text/plain": [
       "<Figure size 432x288 with 1 Axes>"
      ]
     },
     "metadata": {
      "needs_background": "light"
     },
     "output_type": "display_data"
    }
   ],
   "source": [
    "#lets graph this, oh no? what to do with the index?  And what I have is a series\n",
    "sns.barplot(data=res1,x=\"Sex\",y='Survival rate %',  hue=\"PClass\" );"
   ]
  },
  {
   "cell_type": "code",
   "execution_count": null,
   "id": "22990d2b-fd06-4edc-b951-f797cc30d3e5",
   "metadata": {},
   "outputs": [],
   "source": []
  }
 ],
 "metadata": {
  "kernelspec": {
   "display_name": "Python 3 (ipykernel)",
   "language": "python",
   "name": "python3"
  },
  "language_info": {
   "codemirror_mode": {
    "name": "ipython",
    "version": 3
   },
   "file_extension": ".py",
   "mimetype": "text/x-python",
   "name": "python",
   "nbconvert_exporter": "python",
   "pygments_lexer": "ipython3",
   "version": "3.9.7"
  }
 },
 "nbformat": 4,
 "nbformat_minor": 5
}
