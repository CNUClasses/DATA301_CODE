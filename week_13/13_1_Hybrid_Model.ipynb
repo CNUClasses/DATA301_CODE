{
 "cells": [
  {
   "cell_type": "markdown",
   "metadata": {},
   "source": [
    "# Hybrid Models\n",
    "\n",
    "There are generally 2 ways a regression algorithm can make predictions, either by feature based transforms, or target based transforms.<br>\n",
    "- Feature-transforming algorithms learn a transform that allow them to predict the target using some weighted combination of the input features. Linear regression and neural nets are of this kind.<br>\n",
    "- Target-transforming algorithms group the input features in the training set and generate a prediction based on the average of the groups target values. Decision trees and nearest neighbors are of this kind.\n",
    "\n",
    "A strength of linear regression is that it can extrapolate new values.  So it's great at following a trend even if it has never seen particular input values. A weakness is that it's an averaging algorithm, it's not good at accurately forcasting data that falls off it's hyperplane.<br>\n",
    "A strength of decision tree based algorithms is that they are particularly good at accurately forcasting data. A weakness is their predictions are bound by the averages found withen the original training set.  So they cannot extrapolate trend beyond what they have seen during training.<br>\n",
    "\n",
    "To utilize the strengths of both algorithms (and in the process minimize each weakness)<br>\n",
    "   1. Use linear regression to detrend data\n",
    "   2. Use a decision tree based algorithm to make predictions on the residuals left over from 1.\n",
    "   \n",
    "This can be done using a series of Jupyter notebook cells, but it's a bit more foolproof if we wrap these 2 algorithms in an object with a scikitlearn type of interface\n",
    "\n",
    "See <a href=\"https://www.kaggle.com/code/ryanholbrook/hybrid-models\">Hybrid Models</a> for original Kaggle lesson.<br>\n",
    "See <a href=\"https://www.kaggle.com/code/kperkins411/time-series-bonus-lesson-unofficial/edit\">Time Series Bonus Lesson (Unofficial)</a> for additional hybrid model insights"
   ]
  },
  {
   "cell_type": "code",
   "execution_count": 32,
   "metadata": {},
   "outputs": [],
   "source": [
    "import matplotlib.pyplot as plt\n",
    "import seaborn as sns\n",
    "\n",
    "import pandas as pd\n",
    "import numpy as np\n",
    "\n",
    "#the following gives access to utils folder\n",
    "#where utils package stores shared code\n",
    "import os\n",
    "import sys\n",
    "PROJECT_ROOT = os.path.abspath(os.path.join(\n",
    "                  os.getcwd(),\n",
    "                  os.pardir)\n",
    ")\n",
    "\n",
    "#only add it once\n",
    "if (PROJECT_ROOT not in sys.path):\n",
    "    sys.path.append(PROJECT_ROOT)\n",
    "    "
   ]
  },
  {
   "cell_type": "markdown",
   "metadata": {},
   "source": [
    "# Data\n",
    "Use the tunnel dataset from <a href=\"https://www.kaggle.com/competitions/store-sales-time-series-forecasting/data\">Kaggle</a>.   It tracks the number of cars traveling through through the Baregg Tunnel in Switzerland each day from November 2003 to November 2005"
   ]
  },
  {
   "cell_type": "code",
   "execution_count": 33,
   "metadata": {},
   "outputs": [
    {
     "data": {
      "text/plain": [
       "747"
      ]
     },
     "execution_count": 33,
     "metadata": {},
     "output_type": "execute_result"
    }
   ],
   "source": [
    "#read data convert the Day dolumn to pandas datetime\n",
    "df = pd.read_csv(\"../datasets/kaggle/tunnel.csv\", parse_dates=[\"Day\"])\n",
    "\n",
    "#day is really date, change column name\n",
    "df=df.rename(columns={\"Day\": \"Date\"})\n",
    "\n",
    "df=df.set_index(\"Date\")\n",
    "\n",
    "#set a time index (just an integer from 0 to len dataframe)\n",
    "df['Time']=np.arange(len(df))\n",
    "len(df)"
   ]
  },
  {
   "cell_type": "code",
   "execution_count": 34,
   "metadata": {},
   "outputs": [
    {
     "data": {
      "text/html": [
       "<div>\n",
       "<style scoped>\n",
       "    .dataframe tbody tr th:only-of-type {\n",
       "        vertical-align: middle;\n",
       "    }\n",
       "\n",
       "    .dataframe tbody tr th {\n",
       "        vertical-align: top;\n",
       "    }\n",
       "\n",
       "    .dataframe thead th {\n",
       "        text-align: right;\n",
       "    }\n",
       "</style>\n",
       "<table border=\"1\" class=\"dataframe\">\n",
       "  <thead>\n",
       "    <tr style=\"text-align: right;\">\n",
       "      <th></th>\n",
       "      <th>NumVehicles</th>\n",
       "      <th>Time</th>\n",
       "    </tr>\n",
       "    <tr>\n",
       "      <th>Date</th>\n",
       "      <th></th>\n",
       "      <th></th>\n",
       "    </tr>\n",
       "  </thead>\n",
       "  <tbody>\n",
       "    <tr>\n",
       "      <th>2003-11-01</th>\n",
       "      <td>103536</td>\n",
       "      <td>0</td>\n",
       "    </tr>\n",
       "    <tr>\n",
       "      <th>2003-11-02</th>\n",
       "      <td>92051</td>\n",
       "      <td>1</td>\n",
       "    </tr>\n",
       "    <tr>\n",
       "      <th>2003-11-03</th>\n",
       "      <td>100795</td>\n",
       "      <td>2</td>\n",
       "    </tr>\n",
       "    <tr>\n",
       "      <th>2003-11-04</th>\n",
       "      <td>102352</td>\n",
       "      <td>3</td>\n",
       "    </tr>\n",
       "    <tr>\n",
       "      <th>2003-11-05</th>\n",
       "      <td>106569</td>\n",
       "      <td>4</td>\n",
       "    </tr>\n",
       "  </tbody>\n",
       "</table>\n",
       "</div>"
      ],
      "text/plain": [
       "            NumVehicles  Time\n",
       "Date                         \n",
       "2003-11-01       103536     0\n",
       "2003-11-02        92051     1\n",
       "2003-11-03       100795     2\n",
       "2003-11-04       102352     3\n",
       "2003-11-05       106569     4"
      ]
     },
     "execution_count": 34,
     "metadata": {},
     "output_type": "execute_result"
    }
   ],
   "source": [
    "df.head()"
   ]
  },
  {
   "cell_type": "markdown",
   "metadata": {},
   "source": [
    "# Lags\n",
    "\n",
    "The <mark>partial autocorrelation (PACF)</mark>tells you the correlation of a lag accounting for all of the previous lags -- or the amount of \"new\" correlation the lag contributes. Plotting the partial autocorrelation can help you choose which lag features to use. "
   ]
  },
  {
   "cell_type": "markdown",
   "metadata": {},
   "source": [
    "## Are lags predictive?\n",
    "\n",
    "Lets see which lags are predictive.  Look at the Partial Autocorrelation plot since that shows the amount of new correlation to the target value that a lag contributes.  Lags inside theblue band are statistically insignificant."
   ]
  },
  {
   "cell_type": "code",
   "execution_count": 37,
   "metadata": {},
   "outputs": [
    {
     "data": {
      "image/png": "[encoded data removed]",
      "text/plain": [
       "<Figure size 2000x800 with 2 Axes>"
      ]
     },
     "metadata": {},
     "output_type": "display_data"
    }
   ],
   "source": [
    "from statsmodels.tsa.stattools import acf, pacf\n",
    "from statsmodels.graphics.tsaplots import plot_acf, plot_pacf\n",
    "\n",
    "# Calculate ACF and PACF upto 50 lags\n",
    "# acf_50 = acf(df.value, nlags=50)\n",
    "# pacf_50 = pacf(df.value, nlags=50)\n",
    "\n",
    "# Draw Plot\n",
    "fig = plt.figure(figsize=(20,8))\n",
    "layout = (1, 2)\n",
    "acf_ax = plt.subplot2grid(layout, (0, 0))\n",
    "pacf_ax = plt.subplot2grid(layout, (0, 1)) \n",
    "\n",
    "# fig, axes = plt.subplots(1,2,figsize=(16,3), dpi= 100)\n",
    "plot_acf(df.NumVehicles.tolist(), lags=50, ax=acf_ax)\n",
    "plot_pacf(df.NumVehicles.tolist(), lags=50, ax=pacf_ax)\n",
    "plt.tight_layout()  #removes the second plot"
   ]
  },
  {
   "cell_type": "markdown",
   "metadata": {},
   "source": [
    "These plots show that there is a weekly correlation (ie. Friday is correlated with Friday).  And withen 7 days, Lags 1,2,3,5,6 are correlated.  So use these."
   ]
  },
  {
   "cell_type": "markdown",
   "metadata": {
    "tags": []
   },
   "source": [
    "## Yes, add them to the dataframe\n",
    "These plots show that past values are predictive of future values, so add them to the dataset\n",
    "can do 7 or 14 or 21, start with 7"
   ]
  },
  {
   "cell_type": "code",
   "execution_count": 40,
   "metadata": {},
   "outputs": [
    {
     "data": {
      "text/plain": [
       "[0.32012639598617,\n",
       " -0.30790079858969155,\n",
       " -0.2832548179465564,\n",
       " -0.2788309472740366,\n",
       " -0.3265503254445124,\n",
       " 0.18599986146305403]"
      ]
     },
     "execution_count": 40,
     "metadata": {},
     "output_type": "execute_result"
    }
   ],
   "source": [
    "# def crosscorr(datax, datay, lag=0):\n",
    "#     \"\"\" Lag-N cross correlation. \n",
    "#     Parameters\n",
    "#     ----------\n",
    "#     lag : int, default 0\n",
    "#     datax, datay : pandas.Series objects of equal length\n",
    "\n",
    "#     Returns\n",
    "#     ----------\n",
    "#     crosscorr : float\n",
    "#     \"\"\"\n",
    "#     return datax.corr(datay.shift(lag))\n",
    "\n",
    "# corrs = [crosscorr(df_preds.NumVehicles,df_y.NumVehicles, lag=i) for i in range(1,7)]\n",
    "# corrs"
   ]
  },
  {
   "cell_type": "markdown",
   "metadata": {},
   "source": [
    "# Feature Engineering"
   ]
  },
  {
   "cell_type": "markdown",
   "metadata": {},
   "source": [
    "## Holidays seem to have an effect on tunnel traffic, add a holiday variable to indicate whether its a holiday or not"
   ]
  },
  {
   "cell_type": "markdown",
   "metadata": {},
   "source": [
    "### Create a calander to track local holidays"
   ]
  },
  {
   "cell_type": "code",
   "execution_count": 41,
   "metadata": {},
   "outputs": [
    {
     "data": {
      "text/html": [
       "<div>\n",
       "<style scoped>\n",
       "    .dataframe tbody tr th:only-of-type {\n",
       "        vertical-align: middle;\n",
       "    }\n",
       "\n",
       "    .dataframe tbody tr th {\n",
       "        vertical-align: top;\n",
       "    }\n",
       "\n",
       "    .dataframe thead th {\n",
       "        text-align: right;\n",
       "    }\n",
       "</style>\n",
       "<table border=\"1\" class=\"dataframe\">\n",
       "  <thead>\n",
       "    <tr style=\"text-align: right;\">\n",
       "      <th></th>\n",
       "      <th>NumVehicles</th>\n",
       "      <th>Time</th>\n",
       "    </tr>\n",
       "    <tr>\n",
       "      <th>Date</th>\n",
       "      <th></th>\n",
       "      <th></th>\n",
       "    </tr>\n",
       "  </thead>\n",
       "  <tbody>\n",
       "    <tr>\n",
       "      <th>2003-11-01</th>\n",
       "      <td>103536</td>\n",
       "      <td>0</td>\n",
       "    </tr>\n",
       "    <tr>\n",
       "      <th>2003-11-02</th>\n",
       "      <td>92051</td>\n",
       "      <td>1</td>\n",
       "    </tr>\n",
       "    <tr>\n",
       "      <th>2003-11-03</th>\n",
       "      <td>100795</td>\n",
       "      <td>2</td>\n",
       "    </tr>\n",
       "    <tr>\n",
       "      <th>2003-11-04</th>\n",
       "      <td>102352</td>\n",
       "      <td>3</td>\n",
       "    </tr>\n",
       "    <tr>\n",
       "      <th>2003-11-05</th>\n",
       "      <td>106569</td>\n",
       "      <td>4</td>\n",
       "    </tr>\n",
       "  </tbody>\n",
       "</table>\n",
       "</div>"
      ],
      "text/plain": [
       "            NumVehicles  Time\n",
       "Date                         \n",
       "2003-11-01       103536     0\n",
       "2003-11-02        92051     1\n",
       "2003-11-03       100795     2\n",
       "2003-11-04       102352     3\n",
       "2003-11-05       106569     4"
      ]
     },
     "execution_count": 41,
     "metadata": {},
     "output_type": "execute_result"
    }
   ],
   "source": [
    "df.head()"
   ]
  },
  {
   "cell_type": "code",
   "execution_count": 42,
   "metadata": {},
   "outputs": [],
   "source": [
    "# create a calander of swiss holidays to mark in the dataset\n",
    "#see https://sodocumentation.net/pandas/topic/7976/holiday-calendars\n",
    "from pandas.tseries.holiday import AbstractHolidayCalendar, Holiday, EasterMonday, Easter\n",
    "from pandas.tseries.offsets import Day, CustomBusinessDay\n",
    "\n",
    "#You can do this for any nationality, find all the holidays and create a Holiday calendar\n",
    "class SwissHolidayCalendar(AbstractHolidayCalendar):\n",
    "    \"\"\" Custom Holiday calendar for Swiss\n",
    "      - 1 January: New Year's Day\n",
    "      - Moveable Ascension Day (Thursday, 39 days after Easter Sunday)\n",
    "      - 1 August: National Day\n",
    "      - 25 December: Christmas Day\n",
    "    \"\"\"\n",
    "    rules = [\n",
    "        Holiday('New Years Day', month=1, day=1),\n",
    "        Holiday('Ascension Day', month=1, day=1, offset=[Easter(), Day(39)]),  #notice that this is 39 days after easter of the year in question\n",
    "        Holiday('National Day', month=8, day=1),\n",
    "        Holiday('Christmas Day', month=12, day=25)\n",
    "    ]\n",
    "    \n",
    "# want US holidays?  There is a package for that that operates like the custom calendar above\n",
    "from pandas.tseries.holiday import USFederalHolidayCalendar\n",
    "cal = USFederalHolidayCalendar()"
   ]
  },
  {
   "cell_type": "code",
   "execution_count": 43,
   "metadata": {},
   "outputs": [
    {
     "data": {
      "text/html": [
       "<div>\n",
       "<style scoped>\n",
       "    .dataframe tbody tr th:only-of-type {\n",
       "        vertical-align: middle;\n",
       "    }\n",
       "\n",
       "    .dataframe tbody tr th {\n",
       "        vertical-align: top;\n",
       "    }\n",
       "\n",
       "    .dataframe thead th {\n",
       "        text-align: right;\n",
       "    }\n",
       "</style>\n",
       "<table border=\"1\" class=\"dataframe\">\n",
       "  <thead>\n",
       "    <tr style=\"text-align: right;\">\n",
       "      <th></th>\n",
       "      <th>NumVehicles</th>\n",
       "      <th>Time</th>\n",
       "    </tr>\n",
       "    <tr>\n",
       "      <th>Date</th>\n",
       "      <th></th>\n",
       "      <th></th>\n",
       "    </tr>\n",
       "  </thead>\n",
       "  <tbody>\n",
       "    <tr>\n",
       "      <th>2005-11-12</th>\n",
       "      <td>104646</td>\n",
       "      <td>742</td>\n",
       "    </tr>\n",
       "    <tr>\n",
       "      <th>2005-11-13</th>\n",
       "      <td>94424</td>\n",
       "      <td>743</td>\n",
       "    </tr>\n",
       "    <tr>\n",
       "      <th>2005-11-14</th>\n",
       "      <td>112165</td>\n",
       "      <td>744</td>\n",
       "    </tr>\n",
       "    <tr>\n",
       "      <th>2005-11-15</th>\n",
       "      <td>114296</td>\n",
       "      <td>745</td>\n",
       "    </tr>\n",
       "    <tr>\n",
       "      <th>2005-11-16</th>\n",
       "      <td>114690</td>\n",
       "      <td>746</td>\n",
       "    </tr>\n",
       "  </tbody>\n",
       "</table>\n",
       "</div>"
      ],
      "text/plain": [
       "            NumVehicles  Time\n",
       "Date                         \n",
       "2005-11-12       104646   742\n",
       "2005-11-13        94424   743\n",
       "2005-11-14       112165   744\n",
       "2005-11-15       114296   745\n",
       "2005-11-16       114690   746"
      ]
     },
     "execution_count": 43,
     "metadata": {},
     "output_type": "execute_result"
    }
   ],
   "source": [
    "df.tail()"
   ]
  },
  {
   "cell_type": "code",
   "execution_count": 44,
   "metadata": {},
   "outputs": [
    {
     "data": {
      "text/plain": [
       "DatetimeIndex(['2003-12-25', '2004-01-01', '2004-05-20', '2004-08-01',\n",
       "               '2004-12-25', '2005-01-01', '2005-05-05', '2005-08-01'],\n",
       "              dtype='datetime64[ns]', freq=None)"
      ]
     },
     "execution_count": 44,
     "metadata": {},
     "output_type": "execute_result"
    }
   ],
   "source": [
    "# Creating a custom calendar\n",
    "cal = SwissHolidayCalendar()\n",
    "\n",
    "#Find all holidays in the tunnel traffic time series\n",
    "hols=cal.holidays(start=str(df.index[0]), end=str(df.index[len(df)-1]))\n",
    "hols"
   ]
  },
  {
   "cell_type": "markdown",
   "metadata": {},
   "source": [
    "### Add swiss holidays to dataframe"
   ]
  },
  {
   "cell_type": "code",
   "execution_count": 45,
   "metadata": {},
   "outputs": [],
   "source": [
    "def add_holidays(df,hols):\n",
    "    '''\n",
    "    adds a holiday column to df with a 1 if day is a holiday, 0 otherwise\n",
    "    returns modified df\n",
    "    '''\n",
    "    df['Holiday'] = df.index.isin(hols).astype(int)\n",
    "    return df\n",
    "df=add_holidays(df,hols)\n",
    "# df[50:60]"
   ]
  },
  {
   "cell_type": "markdown",
   "metadata": {},
   "source": [
    "### Travel days around a holiday are probably important as well"
   ]
  },
  {
   "cell_type": "code",
   "execution_count": 46,
   "metadata": {},
   "outputs": [],
   "source": [
    "#do people travel 2 or 3 days before holiday?\n",
    "#add another column which indicates travel days around holiday (default to 1 before and 1 after?)\n",
    "def add_holiday_travel_days(df,hols, numb_days=1):\n",
    "    '''\n",
    "    adds 'Holiday_travel_day' column to df with a 1 if withen x days of holiday, 0 otherwise\n",
    "    df\n",
    "    hols: holidays\n",
    "    numb_days: numb days around holiday to add\n",
    "    returns modified df\n",
    "    '''\n",
    "    df['Holiday_travel_day']=0\n",
    "    for hol in hols:\n",
    "        for i in range(1,numb_days+1):\n",
    "            df.loc[hol- pd.DateOffset(days=i),'Holiday_travel_day']=1\n",
    "            df.loc[hol+ pd.DateOffset(days=i),'Holiday_travel_day']=1\n",
    "    return df\n",
    "\n",
    "#mark travel days around holidays\n",
    "df=add_holiday_travel_days(df,hols,2)\n",
    "\n",
    "#shows Christmas and new years\n",
    "# df[40:60]"
   ]
  },
  {
   "cell_type": "code",
   "execution_count": 47,
   "metadata": {},
   "outputs": [
    {
     "data": {
      "text/html": [
       "<div>\n",
       "<style scoped>\n",
       "    .dataframe tbody tr th:only-of-type {\n",
       "        vertical-align: middle;\n",
       "    }\n",
       "\n",
       "    .dataframe tbody tr th {\n",
       "        vertical-align: top;\n",
       "    }\n",
       "\n",
       "    .dataframe thead th {\n",
       "        text-align: right;\n",
       "    }\n",
       "</style>\n",
       "<table border=\"1\" class=\"dataframe\">\n",
       "  <thead>\n",
       "    <tr style=\"text-align: right;\">\n",
       "      <th></th>\n",
       "      <th>NumVehicles</th>\n",
       "      <th>Time</th>\n",
       "      <th>Holiday</th>\n",
       "      <th>Holiday_travel_day</th>\n",
       "    </tr>\n",
       "    <tr>\n",
       "      <th>Date</th>\n",
       "      <th></th>\n",
       "      <th></th>\n",
       "      <th></th>\n",
       "      <th></th>\n",
       "    </tr>\n",
       "  </thead>\n",
       "  <tbody>\n",
       "    <tr>\n",
       "      <th>2003-11-01</th>\n",
       "      <td>103536</td>\n",
       "      <td>0</td>\n",
       "      <td>0</td>\n",
       "      <td>0</td>\n",
       "    </tr>\n",
       "    <tr>\n",
       "      <th>2003-11-02</th>\n",
       "      <td>92051</td>\n",
       "      <td>1</td>\n",
       "      <td>0</td>\n",
       "      <td>0</td>\n",
       "    </tr>\n",
       "    <tr>\n",
       "      <th>2003-11-03</th>\n",
       "      <td>100795</td>\n",
       "      <td>2</td>\n",
       "      <td>0</td>\n",
       "      <td>0</td>\n",
       "    </tr>\n",
       "    <tr>\n",
       "      <th>2003-11-04</th>\n",
       "      <td>102352</td>\n",
       "      <td>3</td>\n",
       "      <td>0</td>\n",
       "      <td>0</td>\n",
       "    </tr>\n",
       "    <tr>\n",
       "      <th>2003-11-05</th>\n",
       "      <td>106569</td>\n",
       "      <td>4</td>\n",
       "      <td>0</td>\n",
       "      <td>0</td>\n",
       "    </tr>\n",
       "  </tbody>\n",
       "</table>\n",
       "</div>"
      ],
      "text/plain": [
       "            NumVehicles  Time  Holiday  Holiday_travel_day\n",
       "Date                                                      \n",
       "2003-11-01       103536     0        0                   0\n",
       "2003-11-02        92051     1        0                   0\n",
       "2003-11-03       100795     2        0                   0\n",
       "2003-11-04       102352     3        0                   0\n",
       "2003-11-05       106569     4        0                   0"
      ]
     },
     "execution_count": 47,
     "metadata": {},
     "output_type": "execute_result"
    }
   ],
   "source": [
    "df.head()"
   ]
  },
  {
   "cell_type": "markdown",
   "metadata": {},
   "source": [
    "## It's helpful to know if it's a workday or a weekend, so add a column that indicates that"
   ]
  },
  {
   "cell_type": "code",
   "execution_count": 48,
   "metadata": {},
   "outputs": [
    {
     "data": {
      "text/plain": [
       "5"
      ]
     },
     "execution_count": 48,
     "metadata": {},
     "output_type": "execute_result"
    }
   ],
   "source": [
    "df.index[0].dayofweek"
   ]
  },
  {
   "cell_type": "code",
   "execution_count": 49,
   "metadata": {},
   "outputs": [],
   "source": [
    "## maybe mark whether its a workday or a weekend?  This information is probably encoded in the lags already\n",
    "#is it a workday or weekend\n",
    "df['wd'] = 1  #its a workday\n",
    "df.loc[df.index.dayofweek > 4, 'wd'] = 0  # >4 is weekend"
   ]
  },
  {
   "cell_type": "markdown",
   "metadata": {},
   "source": [
    "## Get train test split"
   ]
  },
  {
   "cell_type": "code",
   "execution_count": 50,
   "metadata": {},
   "outputs": [],
   "source": [
    "y=df['NumVehicles']\n",
    "df=df.drop(columns=['NumVehicles'])"
   ]
  },
  {
   "cell_type": "code",
   "execution_count": 53,
   "metadata": {},
   "outputs": [],
   "source": [
    "from sklearn.model_selection import train_test_split\n",
    "\n",
    "#shuffle=false means keep original dataset order and select first .9*len(df) to be in train and last .1*df to be in test\n",
    "X_train, X_test, y_train, y_test = train_test_split(df, y, test_size=0.1, random_state=42, shuffle=False)"
   ]
  },
  {
   "cell_type": "markdown",
   "metadata": {},
   "source": [
    "# The hybrid Model\n",
    "\n",
    "Predicts travel for the next day based on the current date, previous n lag values and holiday and holiday_travel_day values. \n",
    "The model has 2 methods:<br>\n",
    "fit:\n",
    "1. Fit a linear regressor (model_1) to a train set\n",
    "2. Calculate predictions (preds) on train set\n",
    "3. Calculate residuals (target-preds) to detrend the train set\n",
    "4. Fit catboost (model_2) on train set residuals \n",
    "\n",
    "predict:\n",
    "1. model_1.predict + model_2.predict\n",
    "\n",
    "Their are some problems however, the first is the lags, when predicting we have to have a list of n previous residuals. This means that the start of test set will be missing the end of the training sets lag values unless they are saved somehow.<br>\n",
    "The second problem is that the model_2 depends on the residulas calculated by the first model for the lags. Specifically model_2 works on the detrended data, these have to be calculated and saved, which means the model has to see the test data to calculate the lags.  This is not a problem in terms of leakage, it just makes keeping track of data and ensuring the model does not accidentally 'see' future or current data that much harder.\n"
   ]
  },
  {
   "cell_type": "code",
   "execution_count": 52,
   "metadata": {},
   "outputs": [],
   "source": [
    "from utils import BoostedHybrid"
   ]
  },
  {
   "cell_type": "markdown",
   "metadata": {},
   "source": [
    "## Partition dataset"
   ]
  },
  {
   "cell_type": "code",
   "execution_count": 54,
   "metadata": {},
   "outputs": [],
   "source": [
    "#get our target value, the training set for linear regression, and the training set for catboost\n",
    "X_1=X_train.loc[:,['Time']]\n",
    "X_2=X_train\n",
    "# X_2=X_train.loc[:,['Time','Holiday','Holiday_travel_day','wd']]\n",
    "# X_2=df.loc[:,['Time']]\n",
    "# display(y)\n",
    "# display(X_1)\n",
    "# display(X_2)"
   ]
  },
  {
   "cell_type": "code",
   "execution_count": 59,
   "metadata": {},
   "outputs": [
    {
     "data": {
      "text/html": [
       "<div>\n",
       "<style scoped>\n",
       "    .dataframe tbody tr th:only-of-type {\n",
       "        vertical-align: middle;\n",
       "    }\n",
       "\n",
       "    .dataframe tbody tr th {\n",
       "        vertical-align: top;\n",
       "    }\n",
       "\n",
       "    .dataframe thead th {\n",
       "        text-align: right;\n",
       "    }\n",
       "</style>\n",
       "<table border=\"1\" class=\"dataframe\">\n",
       "  <thead>\n",
       "    <tr style=\"text-align: right;\">\n",
       "      <th></th>\n",
       "      <th>Time</th>\n",
       "      <th>Holiday</th>\n",
       "      <th>Holiday_travel_day</th>\n",
       "      <th>wd</th>\n",
       "    </tr>\n",
       "    <tr>\n",
       "      <th>Date</th>\n",
       "      <th></th>\n",
       "      <th></th>\n",
       "      <th></th>\n",
       "      <th></th>\n",
       "    </tr>\n",
       "  </thead>\n",
       "  <tbody>\n",
       "    <tr>\n",
       "      <th>2003-11-01</th>\n",
       "      <td>0</td>\n",
       "      <td>0</td>\n",
       "      <td>0</td>\n",
       "      <td>0</td>\n",
       "    </tr>\n",
       "    <tr>\n",
       "      <th>2003-11-02</th>\n",
       "      <td>1</td>\n",
       "      <td>0</td>\n",
       "      <td>0</td>\n",
       "      <td>0</td>\n",
       "    </tr>\n",
       "    <tr>\n",
       "      <th>2003-11-03</th>\n",
       "      <td>2</td>\n",
       "      <td>0</td>\n",
       "      <td>0</td>\n",
       "      <td>1</td>\n",
       "    </tr>\n",
       "    <tr>\n",
       "      <th>2003-11-04</th>\n",
       "      <td>3</td>\n",
       "      <td>0</td>\n",
       "      <td>0</td>\n",
       "      <td>1</td>\n",
       "    </tr>\n",
       "    <tr>\n",
       "      <th>2003-11-05</th>\n",
       "      <td>4</td>\n",
       "      <td>0</td>\n",
       "      <td>0</td>\n",
       "      <td>1</td>\n",
       "    </tr>\n",
       "    <tr>\n",
       "      <th>...</th>\n",
       "      <td>...</td>\n",
       "      <td>...</td>\n",
       "      <td>...</td>\n",
       "      <td>...</td>\n",
       "    </tr>\n",
       "    <tr>\n",
       "      <th>2005-08-29</th>\n",
       "      <td>667</td>\n",
       "      <td>0</td>\n",
       "      <td>0</td>\n",
       "      <td>1</td>\n",
       "    </tr>\n",
       "    <tr>\n",
       "      <th>2005-08-30</th>\n",
       "      <td>668</td>\n",
       "      <td>0</td>\n",
       "      <td>0</td>\n",
       "      <td>1</td>\n",
       "    </tr>\n",
       "    <tr>\n",
       "      <th>2005-08-31</th>\n",
       "      <td>669</td>\n",
       "      <td>0</td>\n",
       "      <td>0</td>\n",
       "      <td>1</td>\n",
       "    </tr>\n",
       "    <tr>\n",
       "      <th>2005-09-01</th>\n",
       "      <td>670</td>\n",
       "      <td>0</td>\n",
       "      <td>0</td>\n",
       "      <td>1</td>\n",
       "    </tr>\n",
       "    <tr>\n",
       "      <th>2005-09-02</th>\n",
       "      <td>671</td>\n",
       "      <td>0</td>\n",
       "      <td>0</td>\n",
       "      <td>1</td>\n",
       "    </tr>\n",
       "  </tbody>\n",
       "</table>\n",
       "<p>672 rows × 4 columns</p>\n",
       "</div>"
      ],
      "text/plain": [
       "            Time  Holiday  Holiday_travel_day  wd\n",
       "Date                                             \n",
       "2003-11-01     0        0                   0   0\n",
       "2003-11-02     1        0                   0   0\n",
       "2003-11-03     2        0                   0   1\n",
       "2003-11-04     3        0                   0   1\n",
       "2003-11-05     4        0                   0   1\n",
       "...          ...      ...                 ...  ..\n",
       "2005-08-29   667        0                   0   1\n",
       "2005-08-30   668        0                   0   1\n",
       "2005-08-31   669        0                   0   1\n",
       "2005-09-01   670        0                   0   1\n",
       "2005-09-02   671        0                   0   1\n",
       "\n",
       "[672 rows x 4 columns]"
      ]
     },
     "execution_count": 59,
     "metadata": {},
     "output_type": "execute_result"
    }
   ],
   "source": [
    "X_2"
   ]
  },
  {
   "cell_type": "markdown",
   "metadata": {},
   "source": [
    "## Train the model on train set"
   ]
  },
  {
   "cell_type": "code",
   "execution_count": 60,
   "metadata": {},
   "outputs": [],
   "source": [
    "from sklearn import linear_model\n",
    "from catboost import CatBoostRegressor\n",
    "hm=BoostedHybrid(model_1 = linear_model.LinearRegression(), model_2=CatBoostRegressor(silent=True, random_state=42), num_lags=6)\n",
    "\n",
    "#fit the model\n",
    "hm.fit(X_1,X_2,y_train)"
   ]
  },
  {
   "cell_type": "markdown",
   "metadata": {},
   "source": [
    "## Get test set predictions and Rsquared"
   ]
  },
  {
   "cell_type": "code",
   "execution_count": 61,
   "metadata": {},
   "outputs": [],
   "source": [
    "#get our target value, the training set for linear regression, and the training set for catboost\n",
    "#get predictions on test set\n",
    "preds=hm.predict(X_test.loc[:,['Time']],X_test,y_test,False)\n",
    "# preds"
   ]
  },
  {
   "cell_type": "code",
   "execution_count": 62,
   "metadata": {},
   "outputs": [
    {
     "data": {
      "text/plain": [
       "0.9343259340014803"
      ]
     },
     "execution_count": 62,
     "metadata": {},
     "output_type": "execute_result"
    }
   ],
   "source": [
    "from utils import rsquared\n",
    "score=rsquared(preds, y_test[-len(preds):])\n",
    "score"
   ]
  },
  {
   "cell_type": "markdown",
   "metadata": {},
   "source": [
    "# Holy Moly!  Our last score was .67!  Did the holiday travel make the difference?\n",
    "\n",
    "Take out all the holiday and holiday_travel and week verses weekday features and see.  Or look at the permutation importance"
   ]
  },
  {
   "cell_type": "markdown",
   "metadata": {},
   "source": [
    "# Lets plot predictions verses actuals"
   ]
  },
  {
   "cell_type": "code",
   "execution_count": 63,
   "metadata": {},
   "outputs": [
    {
     "data": {
      "text/plain": [
       "<matplotlib.legend.Legend at 0x7f4b813f5950>"
      ]
     },
     "execution_count": 63,
     "metadata": {},
     "output_type": "execute_result"
    },
    {
     "data": {
      "image/png": "[encoded data removed]",
      "text/plain": [
       "<Figure size 1400x600 with 1 Axes>"
      ]
     },
     "metadata": {},
     "output_type": "display_data"
    }
   ],
   "source": [
    "df_preds = pd.DataFrame(index=df.index[-len(preds):])\n",
    "df_preds['NumVehicles']=preds\n",
    "df_y=pd.DataFrame(index=df.index[-len(preds):])\n",
    "df_y['NumVehicles']=y[-len(preds):]\n",
    "\n",
    "fig, ax1 = plt.subplots(figsize=(14,6))\n",
    "_=sns.lineplot(data=df_preds[:7], x=df_preds.index[:7], y='NumVehicles',ax=ax1)\n",
    "_=sns.lineplot(data=df_y[:7], x=df_y.index[:7], y='NumVehicles',ax=ax1)\n",
    "plt.legend(labels=[\"predicted\",\"actual\"])"
   ]
  },
  {
   "cell_type": "markdown",
   "metadata": {},
   "source": [
    "# <mark> Permutation Importance "
   ]
  },
  {
   "cell_type": "code",
   "execution_count": 64,
   "metadata": {},
   "outputs": [],
   "source": [
    "from sklearn.inspection import permutation_importance"
   ]
  },
  {
   "cell_type": "code",
   "execution_count": 65,
   "metadata": {},
   "outputs": [
    {
     "name": "stdout",
     "output_type": "stream",
     "text": [
      "CPU times: user 25 ms, sys: 15.3 ms, total: 40.3 ms\n",
      "Wall time: 945 ms\n"
     ]
    }
   ],
   "source": [
    "%%time\n",
    "feature_names=X_test.columns\n",
    "result = permutation_importance(\n",
    "    hm.model_2, X_test, y_test[-len(X_test):], n_repeats=10, random_state=42, n_jobs=2, scoring=None)\n",
    "forest_importances = pd.Series(result.importances_mean, index=feature_names)"
   ]
  },
  {
   "cell_type": "code",
   "execution_count": 66,
   "metadata": {},
   "outputs": [
    {
     "data": {
      "image/png": "[encoded data removed]",
      "text/plain": [
       "<Figure size 1000x700 with 1 Axes>"
      ]
     },
     "metadata": {},
     "output_type": "display_data"
    }
   ],
   "source": [
    "#plot em\n",
    "forest_importances = forest_importances.sort_values(ascending=False)\n",
    "\n",
    "fig, ax = plt.subplots(figsize=(10,7))\n",
    "forest_importances.plot.bar(yerr=result.importances_std, ax=ax)\n",
    "ax.set_title(\"Random Forest feature importance via permutation importance\")\n",
    "ax.set_ylabel(\"Mean accuracy decrease\")\n",
    "fig.tight_layout()\n",
    "plt.show()"
   ]
  },
  {
   "cell_type": "code",
   "execution_count": null,
   "metadata": {},
   "outputs": [],
   "source": []
  }
 ],
 "metadata": {
  "kernelspec": {
   "display_name": "Python 3 (ipykernel)",
   "language": "python",
   "name": "python3"
  },
  "language_info": {
   "codemirror_mode": {
    "name": "ipython",
    "version": 3
   },
   "file_extension": ".py",
   "mimetype": "text/x-python",
   "name": "python",
   "nbconvert_exporter": "python",
   "pygments_lexer": "ipython3",
   "version": "3.11.5"
  },
  "widgets": {
   "application/vnd.jupyter.widget-state+json": {
    "state": {},
    "version_major": 2,
    "version_minor": 0
   }
  }
 },
 "nbformat": 4,
 "nbformat_minor": 4
}
