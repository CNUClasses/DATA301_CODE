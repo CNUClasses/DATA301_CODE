{
 "cells": [
  {
   "cell_type": "markdown",
   "metadata": {},
   "source": [
    "# Big Iron\n",
    "\n",
    "See <a href=\"https://www.kaggle.com/competitions/bluebook-for-bulldozers/leaderboard\">Blue Book for Bulldozers</a> leaderboard page.\n",
    "\n",
    "BTW this notebook borrows heavily from <a href=\"https://github.com/fastai/fastbook/blob/master/09_tabular.ipynb\">chapter 9</a> of\n",
    "<a href=\"https://github.com/fastai/fastbook\">Fastai's FastBook.\n",
    "    \n",
    "<mark>Fastai also has a set of <a href=\"https://www.fast.ai/posts/2022-07-21-dl-coders-22.html\">online courses</a> and librarys (see below) designed to show regular people how to apply advanced machine and deep learning algorithms to real world problems.  Its extremely applied and fortunately, much of the complexity is handled by the library itself.  \n",
    "    \n",
    "<b>It is the best course I know of for teaching AI, Machine Learning and Data Science."
   ]
  },
  {
   "cell_type": "code",
   "execution_count": 324,
   "metadata": {},
   "outputs": [],
   "source": [
    "import matplotlib.pyplot as plt\n",
    "import seaborn as sns\n",
    "\n",
    "import pandas as pd\n",
    "import numpy as np\n",
    "# Set max rows and columns displayed in jupyter\n",
    "pd.set_option(\"display.max_rows\", 100)\n",
    "pd.set_option(\"display.max_columns\", 100)\n",
    "\n",
    "#the following gives access to utils folder\n",
    "#where utils package stores shared code\n",
    "import os\n",
    "import sys\n",
    "PROJECT_ROOT = os.path.abspath(os.path.join(\n",
    "                  os.getcwd(),\n",
    "                  os.pardir)\n",
    ")\n",
    "\n",
    "#only add it once\n",
    "if (PROJECT_ROOT not in sys.path):\n",
    "    sys.path.append(PROJECT_ROOT)\n",
    "    \n",
    "import utils as ut\n",
    "\n",
    "#want to use a subset of the data?\n",
    "use_latest=False\n",
    "latest_size=200000"
   ]
  },
  {
   "cell_type": "markdown",
   "metadata": {},
   "source": [
    "<mark>install fastai"
   ]
  },
  {
   "cell_type": "code",
   "execution_count": 325,
   "metadata": {},
   "outputs": [],
   "source": [
    "#install fastai library\n",
    "# !pip install fastai\n",
    "#or see https://pypi.org/project/fastai/"
   ]
  },
  {
   "cell_type": "markdown",
   "metadata": {},
   "source": [
    "# Get the data"
   ]
  },
  {
   "cell_type": "code",
   "execution_count": 326,
   "metadata": {},
   "outputs": [],
   "source": [
    "#install kaggle api\n",
    "# !pip install kaggle"
   ]
  },
  {
   "cell_type": "code",
   "execution_count": 327,
   "metadata": {},
   "outputs": [],
   "source": [
    "#if you have the Kaggle api installed then use it\n",
    "# !kaggle competitions download -c bluebook-for-bulldozers"
   ]
  },
  {
   "cell_type": "code",
   "execution_count": 328,
   "metadata": {},
   "outputs": [],
   "source": [
    "#uhoh...my key is exposed, get your key from kaggle place it in the noted folder\n",
    "# !chmod 600 /home/keith/.kaggle/kaggle.json"
   ]
  },
  {
   "cell_type": "markdown",
   "metadata": {},
   "source": [
    "# EDA"
   ]
  },
  {
   "cell_type": "code",
   "execution_count": 329,
   "metadata": {},
   "outputs": [
    {
     "name": "stdout",
     "output_type": "stream",
     "text": [
      "(412698, 53)\n"
     ]
    },
    {
     "name": "stderr",
     "output_type": "stream",
     "text": [
      "/tmp/ipykernel_74093/1701633161.py:1: DtypeWarning: Columns (13,39,40,41) have mixed types. Specify dtype option on import or set low_memory=False.\n",
      "  df=pd.read_csv('./data/TrainAndValid.csv')\n"
     ]
    }
   ],
   "source": [
    "df=pd.read_csv('./data/TrainAndValid.csv')\n",
    "print(df.shape)"
   ]
  },
  {
   "cell_type": "code",
   "execution_count": 330,
   "metadata": {},
   "outputs": [
    {
     "data": {
      "text/html": [
       "<div>\n",
       "<style scoped>\n",
       "    .dataframe tbody tr th:only-of-type {\n",
       "        vertical-align: middle;\n",
       "    }\n",
       "\n",
       "    .dataframe tbody tr th {\n",
       "        vertical-align: top;\n",
       "    }\n",
       "\n",
       "    .dataframe thead th {\n",
       "        text-align: right;\n",
       "    }\n",
       "</style>\n",
       "<table border=\"1\" class=\"dataframe\">\n",
       "  <thead>\n",
       "    <tr style=\"text-align: right;\">\n",
       "      <th></th>\n",
       "      <th>SalesID</th>\n",
       "      <th>SalePrice</th>\n",
       "      <th>MachineID</th>\n",
       "      <th>ModelID</th>\n",
       "      <th>datasource</th>\n",
       "      <th>auctioneerID</th>\n",
       "      <th>YearMade</th>\n",
       "      <th>MachineHoursCurrentMeter</th>\n",
       "      <th>UsageBand</th>\n",
       "      <th>saledate</th>\n",
       "      <th>fiModelDesc</th>\n",
       "      <th>fiBaseModel</th>\n",
       "      <th>fiSecondaryDesc</th>\n",
       "      <th>fiModelSeries</th>\n",
       "      <th>fiModelDescriptor</th>\n",
       "      <th>ProductSize</th>\n",
       "      <th>fiProductClassDesc</th>\n",
       "      <th>state</th>\n",
       "      <th>ProductGroup</th>\n",
       "      <th>ProductGroupDesc</th>\n",
       "      <th>Drive_System</th>\n",
       "      <th>Enclosure</th>\n",
       "      <th>Forks</th>\n",
       "      <th>Pad_Type</th>\n",
       "      <th>Ride_Control</th>\n",
       "      <th>Stick</th>\n",
       "      <th>Transmission</th>\n",
       "      <th>Turbocharged</th>\n",
       "      <th>Blade_Extension</th>\n",
       "      <th>Blade_Width</th>\n",
       "      <th>Enclosure_Type</th>\n",
       "      <th>Engine_Horsepower</th>\n",
       "      <th>Hydraulics</th>\n",
       "      <th>Pushblock</th>\n",
       "      <th>Ripper</th>\n",
       "      <th>Scarifier</th>\n",
       "      <th>Tip_Control</th>\n",
       "      <th>Tire_Size</th>\n",
       "      <th>Coupler</th>\n",
       "      <th>Coupler_System</th>\n",
       "      <th>Grouser_Tracks</th>\n",
       "      <th>Hydraulics_Flow</th>\n",
       "      <th>Track_Type</th>\n",
       "      <th>Undercarriage_Pad_Width</th>\n",
       "      <th>Stick_Length</th>\n",
       "      <th>Thumb</th>\n",
       "      <th>Pattern_Changer</th>\n",
       "      <th>Grouser_Type</th>\n",
       "      <th>Backhoe_Mounting</th>\n",
       "      <th>Blade_Type</th>\n",
       "      <th>Travel_Controls</th>\n",
       "      <th>Differential_Type</th>\n",
       "      <th>Steering_Controls</th>\n",
       "    </tr>\n",
       "  </thead>\n",
       "  <tbody>\n",
       "    <tr>\n",
       "      <th>0</th>\n",
       "      <td>1139246</td>\n",
       "      <td>66000.0</td>\n",
       "      <td>999089</td>\n",
       "      <td>3157</td>\n",
       "      <td>121</td>\n",
       "      <td>3.0</td>\n",
       "      <td>2004</td>\n",
       "      <td>68.0</td>\n",
       "      <td>Low</td>\n",
       "      <td>11/16/2006 0:00</td>\n",
       "      <td>521D</td>\n",
       "      <td>521</td>\n",
       "      <td>D</td>\n",
       "      <td>NaN</td>\n",
       "      <td>NaN</td>\n",
       "      <td>NaN</td>\n",
       "      <td>Wheel Loader - 110.0 to 120.0 Horsepower</td>\n",
       "      <td>Alabama</td>\n",
       "      <td>WL</td>\n",
       "      <td>Wheel Loader</td>\n",
       "      <td>NaN</td>\n",
       "      <td>EROPS w AC</td>\n",
       "      <td>None or Unspecified</td>\n",
       "      <td>NaN</td>\n",
       "      <td>None or Unspecified</td>\n",
       "      <td>NaN</td>\n",
       "      <td>NaN</td>\n",
       "      <td>NaN</td>\n",
       "      <td>NaN</td>\n",
       "      <td>NaN</td>\n",
       "      <td>NaN</td>\n",
       "      <td>NaN</td>\n",
       "      <td>2 Valve</td>\n",
       "      <td>NaN</td>\n",
       "      <td>NaN</td>\n",
       "      <td>NaN</td>\n",
       "      <td>NaN</td>\n",
       "      <td>None or Unspecified</td>\n",
       "      <td>None or Unspecified</td>\n",
       "      <td>NaN</td>\n",
       "      <td>NaN</td>\n",
       "      <td>NaN</td>\n",
       "      <td>NaN</td>\n",
       "      <td>NaN</td>\n",
       "      <td>NaN</td>\n",
       "      <td>NaN</td>\n",
       "      <td>NaN</td>\n",
       "      <td>NaN</td>\n",
       "      <td>NaN</td>\n",
       "      <td>NaN</td>\n",
       "      <td>NaN</td>\n",
       "      <td>Standard</td>\n",
       "      <td>Conventional</td>\n",
       "    </tr>\n",
       "    <tr>\n",
       "      <th>1</th>\n",
       "      <td>1139248</td>\n",
       "      <td>57000.0</td>\n",
       "      <td>117657</td>\n",
       "      <td>77</td>\n",
       "      <td>121</td>\n",
       "      <td>3.0</td>\n",
       "      <td>1996</td>\n",
       "      <td>4640.0</td>\n",
       "      <td>Low</td>\n",
       "      <td>3/26/2004 0:00</td>\n",
       "      <td>950FII</td>\n",
       "      <td>950</td>\n",
       "      <td>F</td>\n",
       "      <td>II</td>\n",
       "      <td>NaN</td>\n",
       "      <td>Medium</td>\n",
       "      <td>Wheel Loader - 150.0 to 175.0 Horsepower</td>\n",
       "      <td>North Carolina</td>\n",
       "      <td>WL</td>\n",
       "      <td>Wheel Loader</td>\n",
       "      <td>NaN</td>\n",
       "      <td>EROPS w AC</td>\n",
       "      <td>None or Unspecified</td>\n",
       "      <td>NaN</td>\n",
       "      <td>None or Unspecified</td>\n",
       "      <td>NaN</td>\n",
       "      <td>NaN</td>\n",
       "      <td>NaN</td>\n",
       "      <td>NaN</td>\n",
       "      <td>NaN</td>\n",
       "      <td>NaN</td>\n",
       "      <td>NaN</td>\n",
       "      <td>2 Valve</td>\n",
       "      <td>NaN</td>\n",
       "      <td>NaN</td>\n",
       "      <td>NaN</td>\n",
       "      <td>NaN</td>\n",
       "      <td>23.5</td>\n",
       "      <td>None or Unspecified</td>\n",
       "      <td>NaN</td>\n",
       "      <td>NaN</td>\n",
       "      <td>NaN</td>\n",
       "      <td>NaN</td>\n",
       "      <td>NaN</td>\n",
       "      <td>NaN</td>\n",
       "      <td>NaN</td>\n",
       "      <td>NaN</td>\n",
       "      <td>NaN</td>\n",
       "      <td>NaN</td>\n",
       "      <td>NaN</td>\n",
       "      <td>NaN</td>\n",
       "      <td>Standard</td>\n",
       "      <td>Conventional</td>\n",
       "    </tr>\n",
       "    <tr>\n",
       "      <th>2</th>\n",
       "      <td>1139249</td>\n",
       "      <td>10000.0</td>\n",
       "      <td>434808</td>\n",
       "      <td>7009</td>\n",
       "      <td>121</td>\n",
       "      <td>3.0</td>\n",
       "      <td>2001</td>\n",
       "      <td>2838.0</td>\n",
       "      <td>High</td>\n",
       "      <td>2/26/2004 0:00</td>\n",
       "      <td>226</td>\n",
       "      <td>226</td>\n",
       "      <td>NaN</td>\n",
       "      <td>NaN</td>\n",
       "      <td>NaN</td>\n",
       "      <td>NaN</td>\n",
       "      <td>Skid Steer Loader - 1351.0 to 1601.0 Lb Operating Capacity</td>\n",
       "      <td>New York</td>\n",
       "      <td>SSL</td>\n",
       "      <td>Skid Steer Loaders</td>\n",
       "      <td>NaN</td>\n",
       "      <td>OROPS</td>\n",
       "      <td>None or Unspecified</td>\n",
       "      <td>NaN</td>\n",
       "      <td>NaN</td>\n",
       "      <td>NaN</td>\n",
       "      <td>NaN</td>\n",
       "      <td>NaN</td>\n",
       "      <td>NaN</td>\n",
       "      <td>NaN</td>\n",
       "      <td>NaN</td>\n",
       "      <td>NaN</td>\n",
       "      <td>Auxiliary</td>\n",
       "      <td>NaN</td>\n",
       "      <td>NaN</td>\n",
       "      <td>NaN</td>\n",
       "      <td>NaN</td>\n",
       "      <td>NaN</td>\n",
       "      <td>None or Unspecified</td>\n",
       "      <td>None or Unspecified</td>\n",
       "      <td>None or Unspecified</td>\n",
       "      <td>Standard</td>\n",
       "      <td>NaN</td>\n",
       "      <td>NaN</td>\n",
       "      <td>NaN</td>\n",
       "      <td>NaN</td>\n",
       "      <td>NaN</td>\n",
       "      <td>NaN</td>\n",
       "      <td>NaN</td>\n",
       "      <td>NaN</td>\n",
       "      <td>NaN</td>\n",
       "      <td>NaN</td>\n",
       "      <td>NaN</td>\n",
       "    </tr>\n",
       "    <tr>\n",
       "      <th>3</th>\n",
       "      <td>1139251</td>\n",
       "      <td>38500.0</td>\n",
       "      <td>1026470</td>\n",
       "      <td>332</td>\n",
       "      <td>121</td>\n",
       "      <td>3.0</td>\n",
       "      <td>2001</td>\n",
       "      <td>3486.0</td>\n",
       "      <td>High</td>\n",
       "      <td>5/19/2011 0:00</td>\n",
       "      <td>PC120-6E</td>\n",
       "      <td>PC120</td>\n",
       "      <td>NaN</td>\n",
       "      <td>-6E</td>\n",
       "      <td>NaN</td>\n",
       "      <td>Small</td>\n",
       "      <td>Hydraulic Excavator, Track - 12.0 to 14.0 Metric Tons</td>\n",
       "      <td>Texas</td>\n",
       "      <td>TEX</td>\n",
       "      <td>Track Excavators</td>\n",
       "      <td>NaN</td>\n",
       "      <td>EROPS w AC</td>\n",
       "      <td>NaN</td>\n",
       "      <td>NaN</td>\n",
       "      <td>NaN</td>\n",
       "      <td>NaN</td>\n",
       "      <td>NaN</td>\n",
       "      <td>NaN</td>\n",
       "      <td>NaN</td>\n",
       "      <td>NaN</td>\n",
       "      <td>NaN</td>\n",
       "      <td>NaN</td>\n",
       "      <td>2 Valve</td>\n",
       "      <td>NaN</td>\n",
       "      <td>NaN</td>\n",
       "      <td>NaN</td>\n",
       "      <td>NaN</td>\n",
       "      <td>NaN</td>\n",
       "      <td>None or Unspecified</td>\n",
       "      <td>NaN</td>\n",
       "      <td>NaN</td>\n",
       "      <td>NaN</td>\n",
       "      <td>NaN</td>\n",
       "      <td>NaN</td>\n",
       "      <td>NaN</td>\n",
       "      <td>NaN</td>\n",
       "      <td>NaN</td>\n",
       "      <td>NaN</td>\n",
       "      <td>NaN</td>\n",
       "      <td>NaN</td>\n",
       "      <td>NaN</td>\n",
       "      <td>NaN</td>\n",
       "      <td>NaN</td>\n",
       "    </tr>\n",
       "    <tr>\n",
       "      <th>4</th>\n",
       "      <td>1139253</td>\n",
       "      <td>11000.0</td>\n",
       "      <td>1057373</td>\n",
       "      <td>17311</td>\n",
       "      <td>121</td>\n",
       "      <td>3.0</td>\n",
       "      <td>2007</td>\n",
       "      <td>722.0</td>\n",
       "      <td>Medium</td>\n",
       "      <td>7/23/2009 0:00</td>\n",
       "      <td>S175</td>\n",
       "      <td>S175</td>\n",
       "      <td>NaN</td>\n",
       "      <td>NaN</td>\n",
       "      <td>NaN</td>\n",
       "      <td>NaN</td>\n",
       "      <td>Skid Steer Loader - 1601.0 to 1751.0 Lb Operating Capacity</td>\n",
       "      <td>New York</td>\n",
       "      <td>SSL</td>\n",
       "      <td>Skid Steer Loaders</td>\n",
       "      <td>NaN</td>\n",
       "      <td>EROPS</td>\n",
       "      <td>None or Unspecified</td>\n",
       "      <td>NaN</td>\n",
       "      <td>NaN</td>\n",
       "      <td>NaN</td>\n",
       "      <td>NaN</td>\n",
       "      <td>NaN</td>\n",
       "      <td>NaN</td>\n",
       "      <td>NaN</td>\n",
       "      <td>NaN</td>\n",
       "      <td>NaN</td>\n",
       "      <td>Auxiliary</td>\n",
       "      <td>NaN</td>\n",
       "      <td>NaN</td>\n",
       "      <td>NaN</td>\n",
       "      <td>NaN</td>\n",
       "      <td>NaN</td>\n",
       "      <td>None or Unspecified</td>\n",
       "      <td>None or Unspecified</td>\n",
       "      <td>None or Unspecified</td>\n",
       "      <td>Standard</td>\n",
       "      <td>NaN</td>\n",
       "      <td>NaN</td>\n",
       "      <td>NaN</td>\n",
       "      <td>NaN</td>\n",
       "      <td>NaN</td>\n",
       "      <td>NaN</td>\n",
       "      <td>NaN</td>\n",
       "      <td>NaN</td>\n",
       "      <td>NaN</td>\n",
       "      <td>NaN</td>\n",
       "      <td>NaN</td>\n",
       "    </tr>\n",
       "  </tbody>\n",
       "</table>\n",
       "</div>"
      ],
      "text/plain": [
       "   SalesID  SalePrice  MachineID  ModelID  datasource  auctioneerID  YearMade  \\\n",
       "0  1139246    66000.0     999089     3157         121           3.0      2004   \n",
       "1  1139248    57000.0     117657       77         121           3.0      1996   \n",
       "2  1139249    10000.0     434808     7009         121           3.0      2001   \n",
       "3  1139251    38500.0    1026470      332         121           3.0      2001   \n",
       "4  1139253    11000.0    1057373    17311         121           3.0      2007   \n",
       "\n",
       "   MachineHoursCurrentMeter UsageBand         saledate fiModelDesc  \\\n",
       "0                      68.0       Low  11/16/2006 0:00        521D   \n",
       "1                    4640.0       Low   3/26/2004 0:00      950FII   \n",
       "2                    2838.0      High   2/26/2004 0:00         226   \n",
       "3                    3486.0      High   5/19/2011 0:00    PC120-6E   \n",
       "4                     722.0    Medium   7/23/2009 0:00        S175   \n",
       "\n",
       "  fiBaseModel fiSecondaryDesc fiModelSeries fiModelDescriptor ProductSize  \\\n",
       "0         521               D           NaN               NaN         NaN   \n",
       "1         950               F            II               NaN      Medium   \n",
       "2         226             NaN           NaN               NaN         NaN   \n",
       "3       PC120             NaN           -6E               NaN       Small   \n",
       "4        S175             NaN           NaN               NaN         NaN   \n",
       "\n",
       "                                           fiProductClassDesc           state  \\\n",
       "0                    Wheel Loader - 110.0 to 120.0 Horsepower         Alabama   \n",
       "1                    Wheel Loader - 150.0 to 175.0 Horsepower  North Carolina   \n",
       "2  Skid Steer Loader - 1351.0 to 1601.0 Lb Operating Capacity        New York   \n",
       "3       Hydraulic Excavator, Track - 12.0 to 14.0 Metric Tons           Texas   \n",
       "4  Skid Steer Loader - 1601.0 to 1751.0 Lb Operating Capacity        New York   \n",
       "\n",
       "  ProductGroup    ProductGroupDesc Drive_System   Enclosure  \\\n",
       "0           WL        Wheel Loader          NaN  EROPS w AC   \n",
       "1           WL        Wheel Loader          NaN  EROPS w AC   \n",
       "2          SSL  Skid Steer Loaders          NaN       OROPS   \n",
       "3          TEX    Track Excavators          NaN  EROPS w AC   \n",
       "4          SSL  Skid Steer Loaders          NaN       EROPS   \n",
       "\n",
       "                 Forks Pad_Type         Ride_Control Stick Transmission  \\\n",
       "0  None or Unspecified      NaN  None or Unspecified   NaN          NaN   \n",
       "1  None or Unspecified      NaN  None or Unspecified   NaN          NaN   \n",
       "2  None or Unspecified      NaN                  NaN   NaN          NaN   \n",
       "3                  NaN      NaN                  NaN   NaN          NaN   \n",
       "4  None or Unspecified      NaN                  NaN   NaN          NaN   \n",
       "\n",
       "  Turbocharged Blade_Extension Blade_Width Enclosure_Type Engine_Horsepower  \\\n",
       "0          NaN             NaN         NaN            NaN               NaN   \n",
       "1          NaN             NaN         NaN            NaN               NaN   \n",
       "2          NaN             NaN         NaN            NaN               NaN   \n",
       "3          NaN             NaN         NaN            NaN               NaN   \n",
       "4          NaN             NaN         NaN            NaN               NaN   \n",
       "\n",
       "  Hydraulics Pushblock Ripper Scarifier Tip_Control            Tire_Size  \\\n",
       "0    2 Valve       NaN    NaN       NaN         NaN  None or Unspecified   \n",
       "1    2 Valve       NaN    NaN       NaN         NaN                 23.5   \n",
       "2  Auxiliary       NaN    NaN       NaN         NaN                  NaN   \n",
       "3    2 Valve       NaN    NaN       NaN         NaN                  NaN   \n",
       "4  Auxiliary       NaN    NaN       NaN         NaN                  NaN   \n",
       "\n",
       "               Coupler       Coupler_System       Grouser_Tracks  \\\n",
       "0  None or Unspecified                  NaN                  NaN   \n",
       "1  None or Unspecified                  NaN                  NaN   \n",
       "2  None or Unspecified  None or Unspecified  None or Unspecified   \n",
       "3  None or Unspecified                  NaN                  NaN   \n",
       "4  None or Unspecified  None or Unspecified  None or Unspecified   \n",
       "\n",
       "  Hydraulics_Flow Track_Type Undercarriage_Pad_Width Stick_Length Thumb  \\\n",
       "0             NaN        NaN                     NaN          NaN   NaN   \n",
       "1             NaN        NaN                     NaN          NaN   NaN   \n",
       "2        Standard        NaN                     NaN          NaN   NaN   \n",
       "3             NaN        NaN                     NaN          NaN   NaN   \n",
       "4        Standard        NaN                     NaN          NaN   NaN   \n",
       "\n",
       "  Pattern_Changer Grouser_Type Backhoe_Mounting Blade_Type Travel_Controls  \\\n",
       "0             NaN          NaN              NaN        NaN             NaN   \n",
       "1             NaN          NaN              NaN        NaN             NaN   \n",
       "2             NaN          NaN              NaN        NaN             NaN   \n",
       "3             NaN          NaN              NaN        NaN             NaN   \n",
       "4             NaN          NaN              NaN        NaN             NaN   \n",
       "\n",
       "  Differential_Type Steering_Controls  \n",
       "0          Standard      Conventional  \n",
       "1          Standard      Conventional  \n",
       "2               NaN               NaN  \n",
       "3               NaN               NaN  \n",
       "4               NaN               NaN  "
      ]
     },
     "execution_count": 330,
     "metadata": {},
     "output_type": "execute_result"
    }
   ],
   "source": [
    "df.head()"
   ]
  },
  {
   "cell_type": "markdown",
   "metadata": {},
   "source": [
    "### Note the sale date, this is a time series problem, that changes how we split the data into train and validation set (cannot use random splitter)\n",
    "\n",
    "To split: Older data is training data, Newer data is validation data.  This keeps information from leaking from the validation set back to the training set."
   ]
  },
  {
   "cell_type": "markdown",
   "metadata": {},
   "source": [
    "### Lets see what the date range is"
   ]
  },
  {
   "cell_type": "code",
   "execution_count": 331,
   "metadata": {},
   "outputs": [],
   "source": [
    "df['saledate']=pd.to_datetime(df['saledate'])"
   ]
  },
  {
   "cell_type": "code",
   "execution_count": 332,
   "metadata": {},
   "outputs": [
    {
     "name": "stdout",
     "output_type": "stream",
     "text": [
      "earliest date= 1989-01-17 00:00:00, latest date=2012-04-28 00:00:00\n"
     ]
    }
   ],
   "source": [
    "print(f'earliest date= {df.saledate.min()}, latest date={df.saledate.max()}')"
   ]
  },
  {
   "cell_type": "markdown",
   "metadata": {},
   "source": [
    "### Sort the dataframe by saledate in preparation for splitting into train and validation sets\n",
    "<mark> train on oldest, test on newest"
   ]
  },
  {
   "cell_type": "code",
   "execution_count": 333,
   "metadata": {},
   "outputs": [
    {
     "data": {
      "text/plain": [
       "412698"
      ]
     },
     "execution_count": 333,
     "metadata": {},
     "output_type": "execute_result"
    }
   ],
   "source": [
    "df.sort_values(by=['saledate'], inplace=True)\n",
    "\n",
    "if(use_latest):\n",
    "    df=df[-latest_size:]\n",
    "len(df)"
   ]
  },
  {
   "cell_type": "markdown",
   "metadata": {},
   "source": [
    "### Add a Time field for the Linear regressor that we will use to subtract the trend"
   ]
  },
  {
   "cell_type": "code",
   "execution_count": 334,
   "metadata": {},
   "outputs": [],
   "source": [
    "dates=pd.DatetimeIndex(df.saledate)\n",
    "df['Time']=[(dates[i]-dates[0]).days for i in range(len(df))]\n",
    "\n",
    "# df[['saledate','Time']].head(20)"
   ]
  },
  {
   "cell_type": "markdown",
   "metadata": {},
   "source": [
    "## <mark>Hmmm.. this dataset has sales around 2007, when the almost great depression hit\n",
    "\n",
    "I wonder if a vix entry would help?  Goto <a href=\"https://www.macrotrends.net/2603/vix-volatility-index-historical-chart\">VIX Volatility Index - Historical Chart</a> to grab this data, get all years and download the csv.  See if it helps, if so keep it, if not dont.\n",
    "    \n",
    "While we are at it. Lets get a few more: \n",
    "    \n",
    "1.<a href=\"https://www.macrotrends.net/2534/wheat-prices-historical-chart-data\">Wheat Prices - 40 Year Historical Chart</a><br>\n",
    "2.<a href=\"https://www.macrotrends.net/2015/fed-funds-rate-historical-chart\">Federal Funds Rate - 62 Year Historical Chart</a>  "
   ]
  },
  {
   "cell_type": "code",
   "execution_count": 335,
   "metadata": {},
   "outputs": [],
   "source": [
    "#create a little function to preprocess, scale and add to df\n",
    "from sklearn.preprocessing import StandardScaler\n",
    "def get_df(df,filename,new_col_name):\n",
    "    dfn=pd.read_csv(filename,skiprows=15)\n",
    "    dfn['date'] =  pd.to_datetime(dfn['date'])\n",
    "    dfn.rename(columns={' value':new_col_name},inplace=True)\n",
    "    \n",
    "    #scale it\n",
    "    dfn[new_col_name]=StandardScaler().fit_transform(dfn[[new_col_name]])\n",
    "    \n",
    "    #now merge\n",
    "    df = pd.merge(df,dfn, left_on='saledate', right_on='date', how='left')\n",
    "    df.drop(columns=['date'],inplace=True)\n",
    "    df[new_col_name].fillna(method='backfill',inplace=True)\n",
    "    df[new_col_name].fillna(method='ffill',inplace=True)\n",
    "    return df\n",
    "\n",
    "# df=get_df(df,'./vix-volatility-index-historical-chart.csv','vix')\n",
    "# df=get_df(df,'./wheat-prices-historical-chart-data.csv','wheat')\n",
    "# df=get_df(df,'./fed-funds-rate-historical-chart.csv','fedrate')"
   ]
  },
  {
   "cell_type": "markdown",
   "metadata": {},
   "source": [
    "### <mark>Split Dates into more useful features\n",
    "\n",
    "Its hard for a random forest to use a datetime object since it has a lot of encoded information (the year,the month, the day of the week, weekday, weekend, holiday, end of quarter etc.).  We can slog through and manually create these features, or use fastai, a library that already does this."
   ]
  },
  {
   "cell_type": "code",
   "execution_count": 336,
   "metadata": {},
   "outputs": [
    {
     "data": {
      "text/plain": [
       "['saleYear',\n",
       " 'saleMonth',\n",
       " 'saleWeek',\n",
       " 'saleDay',\n",
       " 'saleDayofweek',\n",
       " 'saleDayofyear',\n",
       " 'saleIs_month_end',\n",
       " 'saleIs_month_start',\n",
       " 'saleIs_quarter_end',\n",
       " 'saleIs_quarter_start',\n",
       " 'saleIs_year_end',\n",
       " 'saleIs_year_start',\n",
       " 'saleElapsed']"
      ]
     },
     "execution_count": 336,
     "metadata": {},
     "output_type": "execute_result"
    }
   ],
   "source": [
    "#using a fastai helper function to get ALL the date info\n",
    "from fastai.tabular import core\n",
    "df = core.add_datepart(df, 'saledate')\n",
    "\n",
    "#look at all those additional sale columns\n",
    "[col for col in df.columns if 'sale' in col]"
   ]
  },
  {
   "cell_type": "markdown",
   "metadata": {},
   "source": [
    "Any obvious outliers?"
   ]
  },
  {
   "cell_type": "code",
   "execution_count": 337,
   "metadata": {},
   "outputs": [
    {
     "data": {
      "text/html": [
       "<div>\n",
       "<style scoped>\n",
       "    .dataframe tbody tr th:only-of-type {\n",
       "        vertical-align: middle;\n",
       "    }\n",
       "\n",
       "    .dataframe tbody tr th {\n",
       "        vertical-align: top;\n",
       "    }\n",
       "\n",
       "    .dataframe thead th {\n",
       "        text-align: right;\n",
       "    }\n",
       "</style>\n",
       "<table border=\"1\" class=\"dataframe\">\n",
       "  <thead>\n",
       "    <tr style=\"text-align: right;\">\n",
       "      <th></th>\n",
       "      <th>SalesID</th>\n",
       "      <th>SalePrice</th>\n",
       "      <th>MachineID</th>\n",
       "      <th>ModelID</th>\n",
       "      <th>datasource</th>\n",
       "      <th>auctioneerID</th>\n",
       "      <th>YearMade</th>\n",
       "      <th>MachineHoursCurrentMeter</th>\n",
       "      <th>Time</th>\n",
       "      <th>saleYear</th>\n",
       "      <th>saleMonth</th>\n",
       "      <th>saleWeek</th>\n",
       "      <th>saleDay</th>\n",
       "      <th>saleDayofweek</th>\n",
       "      <th>saleDayofyear</th>\n",
       "      <th>saleElapsed</th>\n",
       "    </tr>\n",
       "  </thead>\n",
       "  <tbody>\n",
       "    <tr>\n",
       "      <th>count</th>\n",
       "      <td>4.126980e+05</td>\n",
       "      <td>412698.000000</td>\n",
       "      <td>4.126980e+05</td>\n",
       "      <td>412698.000000</td>\n",
       "      <td>412698.000000</td>\n",
       "      <td>392562.000000</td>\n",
       "      <td>412698.000000</td>\n",
       "      <td>1.475040e+05</td>\n",
       "      <td>412698.000000</td>\n",
       "      <td>412698.000000</td>\n",
       "      <td>412698.000000</td>\n",
       "      <td>412698.000000</td>\n",
       "      <td>412698.000000</td>\n",
       "      <td>412698.000000</td>\n",
       "      <td>412698.000000</td>\n",
       "      <td>4.126980e+05</td>\n",
       "    </tr>\n",
       "    <tr>\n",
       "      <th>mean</th>\n",
       "      <td>2.011161e+06</td>\n",
       "      <td>31215.181414</td>\n",
       "      <td>1.230061e+06</td>\n",
       "      <td>6947.201828</td>\n",
       "      <td>135.169361</td>\n",
       "      <td>6.585268</td>\n",
       "      <td>1899.049637</td>\n",
       "      <td>3.522988e+03</td>\n",
       "      <td>5754.079366</td>\n",
       "      <td>2004.317382</td>\n",
       "      <td>6.300268</td>\n",
       "      <td>25.721191</td>\n",
       "      <td>16.152894</td>\n",
       "      <td>2.594338</td>\n",
       "      <td>176.784094</td>\n",
       "      <td>1.098151e+09</td>\n",
       "    </tr>\n",
       "    <tr>\n",
       "      <th>std</th>\n",
       "      <td>1.080068e+06</td>\n",
       "      <td>23141.743695</td>\n",
       "      <td>4.539533e+05</td>\n",
       "      <td>6280.824982</td>\n",
       "      <td>9.646749</td>\n",
       "      <td>17.158409</td>\n",
       "      <td>292.190243</td>\n",
       "      <td>2.716993e+04</td>\n",
       "      <td>2123.225527</td>\n",
       "      <td>5.821090</td>\n",
       "      <td>3.437276</td>\n",
       "      <td>14.841265</td>\n",
       "      <td>8.429510</td>\n",
       "      <td>1.417971</td>\n",
       "      <td>103.910718</td>\n",
       "      <td>1.834467e+08</td>\n",
       "    </tr>\n",
       "    <tr>\n",
       "      <th>min</th>\n",
       "      <td>1.139246e+06</td>\n",
       "      <td>4750.000000</td>\n",
       "      <td>0.000000e+00</td>\n",
       "      <td>28.000000</td>\n",
       "      <td>121.000000</td>\n",
       "      <td>0.000000</td>\n",
       "      <td>1000.000000</td>\n",
       "      <td>0.000000e+00</td>\n",
       "      <td>0.000000</td>\n",
       "      <td>1989.000000</td>\n",
       "      <td>1.000000</td>\n",
       "      <td>1.000000</td>\n",
       "      <td>1.000000</td>\n",
       "      <td>0.000000</td>\n",
       "      <td>1.000000</td>\n",
       "      <td>6.009984e+08</td>\n",
       "    </tr>\n",
       "    <tr>\n",
       "      <th>25%</th>\n",
       "      <td>1.421898e+06</td>\n",
       "      <td>14500.000000</td>\n",
       "      <td>1.088593e+06</td>\n",
       "      <td>3261.000000</td>\n",
       "      <td>132.000000</td>\n",
       "      <td>1.000000</td>\n",
       "      <td>1985.000000</td>\n",
       "      <td>0.000000e+00</td>\n",
       "      <td>4341.000000</td>\n",
       "      <td>2000.000000</td>\n",
       "      <td>3.000000</td>\n",
       "      <td>12.000000</td>\n",
       "      <td>9.000000</td>\n",
       "      <td>2.000000</td>\n",
       "      <td>82.000000</td>\n",
       "      <td>9.760608e+08</td>\n",
       "    </tr>\n",
       "    <tr>\n",
       "      <th>50%</th>\n",
       "      <td>1.645852e+06</td>\n",
       "      <td>24000.000000</td>\n",
       "      <td>1.284397e+06</td>\n",
       "      <td>4605.000000</td>\n",
       "      <td>132.000000</td>\n",
       "      <td>2.000000</td>\n",
       "      <td>1995.000000</td>\n",
       "      <td>0.000000e+00</td>\n",
       "      <td>6371.000000</td>\n",
       "      <td>2006.000000</td>\n",
       "      <td>6.000000</td>\n",
       "      <td>24.000000</td>\n",
       "      <td>16.000000</td>\n",
       "      <td>3.000000</td>\n",
       "      <td>165.000000</td>\n",
       "      <td>1.151453e+09</td>\n",
       "    </tr>\n",
       "    <tr>\n",
       "      <th>75%</th>\n",
       "      <td>2.261012e+06</td>\n",
       "      <td>40000.000000</td>\n",
       "      <td>1.478079e+06</td>\n",
       "      <td>8899.000000</td>\n",
       "      <td>136.000000</td>\n",
       "      <td>4.000000</td>\n",
       "      <td>2001.000000</td>\n",
       "      <td>3.209000e+03</td>\n",
       "      <td>7436.000000</td>\n",
       "      <td>2009.000000</td>\n",
       "      <td>9.000000</td>\n",
       "      <td>39.000000</td>\n",
       "      <td>23.000000</td>\n",
       "      <td>3.000000</td>\n",
       "      <td>270.000000</td>\n",
       "      <td>1.243469e+09</td>\n",
       "    </tr>\n",
       "    <tr>\n",
       "      <th>max</th>\n",
       "      <td>6.333349e+06</td>\n",
       "      <td>142000.000000</td>\n",
       "      <td>2.486330e+06</td>\n",
       "      <td>37198.000000</td>\n",
       "      <td>173.000000</td>\n",
       "      <td>99.000000</td>\n",
       "      <td>2014.000000</td>\n",
       "      <td>2.483300e+06</td>\n",
       "      <td>8502.000000</td>\n",
       "      <td>2012.000000</td>\n",
       "      <td>12.000000</td>\n",
       "      <td>53.000000</td>\n",
       "      <td>31.000000</td>\n",
       "      <td>6.000000</td>\n",
       "      <td>365.000000</td>\n",
       "      <td>1.335571e+09</td>\n",
       "    </tr>\n",
       "  </tbody>\n",
       "</table>\n",
       "</div>"
      ],
      "text/plain": [
       "            SalesID      SalePrice     MachineID        ModelID  \\\n",
       "count  4.126980e+05  412698.000000  4.126980e+05  412698.000000   \n",
       "mean   2.011161e+06   31215.181414  1.230061e+06    6947.201828   \n",
       "std    1.080068e+06   23141.743695  4.539533e+05    6280.824982   \n",
       "min    1.139246e+06    4750.000000  0.000000e+00      28.000000   \n",
       "25%    1.421898e+06   14500.000000  1.088593e+06    3261.000000   \n",
       "50%    1.645852e+06   24000.000000  1.284397e+06    4605.000000   \n",
       "75%    2.261012e+06   40000.000000  1.478079e+06    8899.000000   \n",
       "max    6.333349e+06  142000.000000  2.486330e+06   37198.000000   \n",
       "\n",
       "          datasource   auctioneerID       YearMade  MachineHoursCurrentMeter  \\\n",
       "count  412698.000000  392562.000000  412698.000000              1.475040e+05   \n",
       "mean      135.169361       6.585268    1899.049637              3.522988e+03   \n",
       "std         9.646749      17.158409     292.190243              2.716993e+04   \n",
       "min       121.000000       0.000000    1000.000000              0.000000e+00   \n",
       "25%       132.000000       1.000000    1985.000000              0.000000e+00   \n",
       "50%       132.000000       2.000000    1995.000000              0.000000e+00   \n",
       "75%       136.000000       4.000000    2001.000000              3.209000e+03   \n",
       "max       173.000000      99.000000    2014.000000              2.483300e+06   \n",
       "\n",
       "                Time       saleYear      saleMonth       saleWeek  \\\n",
       "count  412698.000000  412698.000000  412698.000000  412698.000000   \n",
       "mean     5754.079366    2004.317382       6.300268      25.721191   \n",
       "std      2123.225527       5.821090       3.437276      14.841265   \n",
       "min         0.000000    1989.000000       1.000000       1.000000   \n",
       "25%      4341.000000    2000.000000       3.000000      12.000000   \n",
       "50%      6371.000000    2006.000000       6.000000      24.000000   \n",
       "75%      7436.000000    2009.000000       9.000000      39.000000   \n",
       "max      8502.000000    2012.000000      12.000000      53.000000   \n",
       "\n",
       "             saleDay  saleDayofweek  saleDayofyear   saleElapsed  \n",
       "count  412698.000000  412698.000000  412698.000000  4.126980e+05  \n",
       "mean       16.152894       2.594338     176.784094  1.098151e+09  \n",
       "std         8.429510       1.417971     103.910718  1.834467e+08  \n",
       "min         1.000000       0.000000       1.000000  6.009984e+08  \n",
       "25%         9.000000       2.000000      82.000000  9.760608e+08  \n",
       "50%        16.000000       3.000000     165.000000  1.151453e+09  \n",
       "75%        23.000000       3.000000     270.000000  1.243469e+09  \n",
       "max        31.000000       6.000000     365.000000  1.335571e+09  "
      ]
     },
     "execution_count": 337,
     "metadata": {},
     "output_type": "execute_result"
    }
   ],
   "source": [
    "df.describe()"
   ]
  },
  {
   "cell_type": "markdown",
   "metadata": {},
   "source": [
    "### <mark>YearMade has some tractors made in the year 1000, how to fix this?"
   ]
  },
  {
   "cell_type": "code",
   "execution_count": 338,
   "metadata": {},
   "outputs": [
    {
     "data": {
      "text/plain": [
       "<AxesSubplot:xlabel='YearMade', ylabel='Count'>"
      ]
     },
     "execution_count": 338,
     "metadata": {},
     "output_type": "execute_result"
    },
    {
     "data": {
      "image/png": "[encoded data removed]",
      "text/plain": [
       "<Figure size 640x480 with 1 Axes>"
      ]
     },
     "metadata": {},
     "output_type": "display_data"
    }
   ],
   "source": [
    "sns.histplot(df,x='YearMade')"
   ]
  },
  {
   "cell_type": "code",
   "execution_count": 339,
   "metadata": {},
   "outputs": [
    {
     "data": {
      "text/plain": [
       "39542"
      ]
     },
     "execution_count": 339,
     "metadata": {},
     "output_type": "execute_result"
    }
   ],
   "source": [
    "#how many made before 1950?\n",
    "n=df.loc[df.YearMade<1950]\n",
    "n.shape[0]"
   ]
  },
  {
   "cell_type": "markdown",
   "metadata": {},
   "source": [
    "### Maybe we can use groupby to infer the incorrect YearMades?"
   ]
  },
  {
   "cell_type": "code",
   "execution_count": 340,
   "metadata": {},
   "outputs": [
    {
     "data": {
      "text/plain": [
       "fiModelDesc                0\n",
       "ModelID                    0\n",
       "fiBaseModel                0\n",
       "fiModelSeries         354031\n",
       "fiModelDescriptor     337882\n",
       "fiProductClassDesc         0\n",
       "dtype: int64"
      ]
     },
     "execution_count": 340,
     "metadata": {},
     "output_type": "execute_result"
    }
   ],
   "source": [
    "#look for good columns to groupby, dont use ones with a lot of NaNs\n",
    "\n",
    "# df.nunique().sort_values()\n",
    "# df.select_dtypes(include=['object'])\n",
    "# df.select_dtypes(include=['object']).dtypes\n",
    "\n",
    "#find good columns to groupby\n",
    "tmp=df.loc[:,['fiModelDesc','ModelID','fiBaseModel','fiModelSeries','fiModelDescriptor','fiProductClassDesc']]\n",
    "\n",
    "#want few nulls\n",
    "tmp.isnull().sum()"
   ]
  },
  {
   "cell_type": "code",
   "execution_count": 341,
   "metadata": {},
   "outputs": [],
   "source": [
    "#ok no 'fiModelSeries','fiModelDescriptor'\n",
    "tmp=tmp.drop(columns=['fiModelSeries','fiModelDescriptor'])"
   ]
  },
  {
   "cell_type": "code",
   "execution_count": 342,
   "metadata": {},
   "outputs": [],
   "source": [
    "def impute_YearMade(df,year=1950):\n",
    "    '''\n",
    "    replace any YearMade<year with the max for the below groupby or year\n",
    "\n",
    "    df: dataframe to impute YearMade on\n",
    "    year: anything below this year is imputed, if cannot be imputed set to year\n",
    "    '''\n",
    "    #lets try fiBaseModel and fiProductClassDesc for mean YearBuilt\n",
    "    estimates=df.groupby(['fiModelDesc','fiProductClassDesc']).YearMade.max()\n",
    "    \n",
    "    #for a given row, look up and return the mean YearMade\n",
    "    def impute_yb(x):\n",
    "        est=estimates[(x['fiModelDesc'],  x['fiProductClassDesc'])]\n",
    "        if est is np.nan or est < year:\n",
    "            est=year\n",
    "        return est\n",
    "  \n",
    "    df['YearMade']=df.apply(lambda x:impute_yb(x) if x.YearMade<year else x.YearMade,axis=1)   \n",
    "    return df"
   ]
  },
  {
   "cell_type": "code",
   "execution_count": 343,
   "metadata": {},
   "outputs": [],
   "source": [
    "df=impute_YearMade(df)"
   ]
  },
  {
   "cell_type": "markdown",
   "metadata": {},
   "source": [
    "### See what the most sales dates are"
   ]
  },
  {
   "cell_type": "code",
   "execution_count": 344,
   "metadata": {},
   "outputs": [
    {
     "data": {
      "text/plain": [
       "<AxesSubplot:>"
      ]
     },
     "execution_count": 344,
     "metadata": {},
     "output_type": "execute_result"
    },
    {
     "data": {
      "image/png": "[encoded data removed]",
      "text/plain": [
       "<Figure size 640x480 with 1 Axes>"
      ]
     },
     "metadata": {},
     "output_type": "display_data"
    }
   ],
   "source": [
    "df.saleYear.hist()"
   ]
  },
  {
   "cell_type": "markdown",
   "metadata": {},
   "source": [
    "### Maybe the older data is not as relevant?  Drop everything <2004\n",
    "\n",
    "Also not as much of it"
   ]
  },
  {
   "cell_type": "code",
   "execution_count": 345,
   "metadata": {},
   "outputs": [],
   "source": [
    "filt=df['saleYear']>2004\n",
    "df=df[filt]"
   ]
  },
  {
   "cell_type": "code",
   "execution_count": 346,
   "metadata": {},
   "outputs": [
    {
     "data": {
      "text/plain": [
       "(238132, 66)"
      ]
     },
     "execution_count": 346,
     "metadata": {},
     "output_type": "execute_result"
    }
   ],
   "source": [
    "df.shape"
   ]
  },
  {
   "cell_type": "markdown",
   "metadata": {},
   "source": [
    "## Prepare the rest of the data (the super easy way)\n",
    "\n",
    "Use FastAI's TabularPandas class to prepare data"
   ]
  },
  {
   "cell_type": "markdown",
   "metadata": {},
   "source": [
    "### Dependant var\n",
    "\n",
    "We are trying to predict 'SalePrice'.  Specifically the root mean squared log error (RMSLE) between the actual and predicted values.  Start by taking the log of the dependant variable (the L of RMSLE) "
   ]
  },
  {
   "cell_type": "code",
   "execution_count": 347,
   "metadata": {},
   "outputs": [],
   "source": [
    "dep_var = 'SalePrice'\n",
    "#take the log of dependant var since that is what the contest wants\n",
    "df[dep_var] = np.log(df[dep_var])"
   ]
  },
  {
   "cell_type": "markdown",
   "metadata": {},
   "source": [
    "## Get the indexes of train and test\n",
    "\n",
    "Its a time series, the latest entries are the test set, the earlier ones, the train set.  Everything later than Oct 2010 is test"
   ]
  },
  {
   "cell_type": "code",
   "execution_count": 348,
   "metadata": {},
   "outputs": [],
   "source": [
    "cond = (df.saleYear<2012 )\n",
    "train_idx = np.where( cond)[0]\n",
    "valid_idx = np.where(~cond)[0]\n",
    "\n",
    "splits = (list(train_idx),list(valid_idx))"
   ]
  },
  {
   "cell_type": "markdown",
   "metadata": {},
   "source": [
    "### What do they look like BTW\n",
    "\n",
    "Lets also see what the vix and some commodity prices are"
   ]
  },
  {
   "cell_type": "code",
   "execution_count": 349,
   "metadata": {},
   "outputs": [
    {
     "data": {
      "image/png": "[encoded data removed]",
      "text/plain": [
       "<Figure size 1400x600 with 4 Axes>"
      ]
     },
     "metadata": {},
     "output_type": "display_data"
    }
   ],
   "source": [
    "# trn_subset=train_idx[-500:]\n",
    "# valid_subset=valid_idx[:500]\n",
    "trn_subset=train_idx\n",
    "valid_subset=valid_idx\n",
    "trn_and_valid_subset=np.append(trn_subset,valid_subset)\n",
    "\n",
    "fig, (ax1,ax2,ax3,ax4) = plt.subplots(nrows=4,figsize=(14,6))\n",
    "\n",
    "# the following 2 take a long time to plot we only want to see where they begin and end\n",
    "trn_subset = np.random.choice(trn_subset, 1000)\n",
    "valid_subset=np.random.choice(valid_subset, 1000)\n",
    "_=sns.scatterplot(x=df.iloc[trn_subset].Time, y=df.iloc[trn_subset].SalePrice,ax=ax1,  marker=\"o\")\n",
    "_=sns.scatterplot(x=df.iloc[valid_subset].Time, y=df.iloc[valid_subset].SalePrice,ax=ax1,  marker=\"+\")\n",
    "\n",
    "# _=sns.scatterplot(x=df.iloc[trn_and_valid_subset].Time, y=df.iloc[trn_and_valid_subset].vix,ax=ax2,  marker=\"+\")\n",
    "# _=sns.scatterplot(x=df.iloc[trn_and_valid_subset].Time, y=df.iloc[trn_and_valid_subset].wheat,ax=ax3,  marker=\"o\")\n",
    "# _=sns.scatterplot(x=df.iloc[trn_and_valid_subset].Time, y=df.iloc[trn_and_valid_subset].fedrate,ax=ax4,  marker=\"o\")"
   ]
  },
  {
   "cell_type": "markdown",
   "metadata": {},
   "source": [
    "### Obvious ordinal Categorical"
   ]
  },
  {
   "cell_type": "code",
   "execution_count": 350,
   "metadata": {},
   "outputs": [
    {
     "data": {
      "text/plain": [
       "array(['Large / Medium', 'Medium', 'Small', nan, 'Mini', 'Large',\n",
       "       'Compact'], dtype=object)"
      ]
     },
     "execution_count": 350,
     "metadata": {},
     "output_type": "execute_result"
    }
   ],
   "source": [
    "df['ProductSize'].unique()"
   ]
  },
  {
   "cell_type": "code",
   "execution_count": 351,
   "metadata": {},
   "outputs": [],
   "source": [
    "szs=[ 'Large','Large / Medium','Medium','Compact','Small','Mini']\n",
    "szs_to_i={i:v for v,i in enumerate(szs)}\n",
    "df['ProductSize'] = df['ProductSize'].map(szs_to_i)"
   ]
  },
  {
   "cell_type": "markdown",
   "metadata": {},
   "source": [
    "### <mark>What are the other categorical and the continuous variables?\n",
    "\n",
    "Easy to ID: cat columns are objects or ints with small cardinality, continuous are ints with large cardinality or floats.  \n",
    "\n",
    "We can get this easily using dtypes and nunique, or we can use a fastai function that does it for us in 1 go."
   ]
  },
  {
   "cell_type": "code",
   "execution_count": 352,
   "metadata": {},
   "outputs": [],
   "source": [
    "# using these? \n",
    "# df.dtypes\n",
    "# df.SalesID.nunique()"
   ]
  },
  {
   "cell_type": "code",
   "execution_count": 353,
   "metadata": {},
   "outputs": [],
   "source": [
    "from fastai.tabular.all import *\n",
    "cont,cat = cont_cat_split(df,max_card=1, dep_var=dep_var)"
   ]
  },
  {
   "cell_type": "markdown",
   "metadata": {},
   "source": [
    "### Some transforms for the data"
   ]
  },
  {
   "cell_type": "code",
   "execution_count": 354,
   "metadata": {},
   "outputs": [],
   "source": [
    "from fastai.tabular.all import *\n",
    "\n",
    "#Categorify transform- replaces a column with a numeric categorical column\n",
    "#FillMissing - replaces missing values with median for the column and creates \n",
    "#a new Boolean column that is set to True for any row where the value was missing. \n",
    "procs = [Categorify, FillMissing]"
   ]
  },
  {
   "cell_type": "markdown",
   "metadata": {},
   "source": [
    "## Now lets create a TabularDataFrame that will autotransform columns for our model\n",
    "\n",
    "Its mostly a wrapper around a DataFrame that does some work for us"
   ]
  },
  {
   "cell_type": "code",
   "execution_count": 355,
   "metadata": {},
   "outputs": [],
   "source": [
    "to = TabularPandas(df, procs, cat, cont, y_names=dep_var, splits=splits)"
   ]
  },
  {
   "cell_type": "code",
   "execution_count": 356,
   "metadata": {},
   "outputs": [
    {
     "data": {
      "text/plain": [
       "(226559, 11573)"
      ]
     },
     "execution_count": 356,
     "metadata": {},
     "output_type": "execute_result"
    }
   ],
   "source": [
    "len(to.train),len(to.valid)"
   ]
  },
  {
   "cell_type": "code",
   "execution_count": 357,
   "metadata": {},
   "outputs": [
    {
     "data": {
      "text/html": [
       "<table border=\"1\" class=\"dataframe\">\n",
       "  <thead>\n",
       "    <tr style=\"text-align: right;\">\n",
       "      <th></th>\n",
       "      <th>UsageBand</th>\n",
       "      <th>fiModelDesc</th>\n",
       "      <th>fiBaseModel</th>\n",
       "      <th>fiSecondaryDesc</th>\n",
       "      <th>fiModelSeries</th>\n",
       "      <th>fiModelDescriptor</th>\n",
       "      <th>fiProductClassDesc</th>\n",
       "      <th>state</th>\n",
       "      <th>ProductGroup</th>\n",
       "      <th>ProductGroupDesc</th>\n",
       "      <th>Drive_System</th>\n",
       "      <th>Enclosure</th>\n",
       "      <th>Forks</th>\n",
       "      <th>Pad_Type</th>\n",
       "      <th>Ride_Control</th>\n",
       "      <th>Stick</th>\n",
       "      <th>Transmission</th>\n",
       "      <th>Turbocharged</th>\n",
       "      <th>Blade_Extension</th>\n",
       "      <th>Blade_Width</th>\n",
       "      <th>Enclosure_Type</th>\n",
       "      <th>Engine_Horsepower</th>\n",
       "      <th>Hydraulics</th>\n",
       "      <th>Pushblock</th>\n",
       "      <th>Ripper</th>\n",
       "      <th>Scarifier</th>\n",
       "      <th>Tip_Control</th>\n",
       "      <th>Tire_Size</th>\n",
       "      <th>Coupler</th>\n",
       "      <th>Coupler_System</th>\n",
       "      <th>Grouser_Tracks</th>\n",
       "      <th>Hydraulics_Flow</th>\n",
       "      <th>Track_Type</th>\n",
       "      <th>Undercarriage_Pad_Width</th>\n",
       "      <th>Stick_Length</th>\n",
       "      <th>Thumb</th>\n",
       "      <th>Pattern_Changer</th>\n",
       "      <th>Grouser_Type</th>\n",
       "      <th>Backhoe_Mounting</th>\n",
       "      <th>Blade_Type</th>\n",
       "      <th>Travel_Controls</th>\n",
       "      <th>Differential_Type</th>\n",
       "      <th>Steering_Controls</th>\n",
       "      <th>saleIs_month_end</th>\n",
       "      <th>saleIs_month_start</th>\n",
       "      <th>saleIs_quarter_end</th>\n",
       "      <th>saleIs_quarter_start</th>\n",
       "      <th>saleIs_year_end</th>\n",
       "      <th>saleIs_year_start</th>\n",
       "      <th>auctioneerID_na</th>\n",
       "      <th>MachineHoursCurrentMeter_na</th>\n",
       "      <th>ProductSize_na</th>\n",
       "      <th>SalesID</th>\n",
       "      <th>MachineID</th>\n",
       "      <th>ModelID</th>\n",
       "      <th>datasource</th>\n",
       "      <th>auctioneerID</th>\n",
       "      <th>YearMade</th>\n",
       "      <th>MachineHoursCurrentMeter</th>\n",
       "      <th>ProductSize</th>\n",
       "      <th>Time</th>\n",
       "      <th>saleYear</th>\n",
       "      <th>saleMonth</th>\n",
       "      <th>saleWeek</th>\n",
       "      <th>saleDay</th>\n",
       "      <th>saleDayofweek</th>\n",
       "      <th>saleDayofyear</th>\n",
       "      <th>saleElapsed</th>\n",
       "      <th>SalePrice</th>\n",
       "    </tr>\n",
       "  </thead>\n",
       "  <tbody>\n",
       "    <tr>\n",
       "      <th>10704</th>\n",
       "      <td>Medium</td>\n",
       "      <td>EC280LC</td>\n",
       "      <td>EC280</td>\n",
       "      <td>#na#</td>\n",
       "      <td>#na#</td>\n",
       "      <td>LC</td>\n",
       "      <td>Hydraulic Excavator, Track - 28.0 to 33.0 Metric Tons</td>\n",
       "      <td>Connecticut</td>\n",
       "      <td>TEX</td>\n",
       "      <td>Track Excavators</td>\n",
       "      <td>#na#</td>\n",
       "      <td>EROPS</td>\n",
       "      <td>#na#</td>\n",
       "      <td>#na#</td>\n",
       "      <td>#na#</td>\n",
       "      <td>#na#</td>\n",
       "      <td>#na#</td>\n",
       "      <td>#na#</td>\n",
       "      <td>#na#</td>\n",
       "      <td>#na#</td>\n",
       "      <td>#na#</td>\n",
       "      <td>#na#</td>\n",
       "      <td>Standard</td>\n",
       "      <td>#na#</td>\n",
       "      <td>#na#</td>\n",
       "      <td>#na#</td>\n",
       "      <td>#na#</td>\n",
       "      <td>#na#</td>\n",
       "      <td>Manual</td>\n",
       "      <td>#na#</td>\n",
       "      <td>#na#</td>\n",
       "      <td>#na#</td>\n",
       "      <td>Steel</td>\n",
       "      <td>None or Unspecified</td>\n",
       "      <td>None or Unspecified</td>\n",
       "      <td>None or Unspecified</td>\n",
       "      <td>None or Unspecified</td>\n",
       "      <td>Double</td>\n",
       "      <td>#na#</td>\n",
       "      <td>#na#</td>\n",
       "      <td>#na#</td>\n",
       "      <td>#na#</td>\n",
       "      <td>#na#</td>\n",
       "      <td>False</td>\n",
       "      <td>False</td>\n",
       "      <td>False</td>\n",
       "      <td>False</td>\n",
       "      <td>False</td>\n",
       "      <td>False</td>\n",
       "      <td>False</td>\n",
       "      <td>False</td>\n",
       "      <td>False</td>\n",
       "      <td>1174825</td>\n",
       "      <td>1056544</td>\n",
       "      <td>22911</td>\n",
       "      <td>121</td>\n",
       "      <td>3.0</td>\n",
       "      <td>1998</td>\n",
       "      <td>4401.0</td>\n",
       "      <td>1.0</td>\n",
       "      <td>5837</td>\n",
       "      <td>2005</td>\n",
       "      <td>1</td>\n",
       "      <td>2</td>\n",
       "      <td>10</td>\n",
       "      <td>0</td>\n",
       "      <td>10</td>\n",
       "      <td>1.105315e+09</td>\n",
       "      <td>11.018629</td>\n",
       "    </tr>\n",
       "    <tr>\n",
       "      <th>10644</th>\n",
       "      <td>Low</td>\n",
       "      <td>980B</td>\n",
       "      <td>980</td>\n",
       "      <td>B</td>\n",
       "      <td>#na#</td>\n",
       "      <td>#na#</td>\n",
       "      <td>Wheel Loader - 275.0 to 350.0 Horsepower</td>\n",
       "      <td>California</td>\n",
       "      <td>WL</td>\n",
       "      <td>Wheel Loader</td>\n",
       "      <td>#na#</td>\n",
       "      <td>OROPS</td>\n",
       "      <td>None or Unspecified</td>\n",
       "      <td>#na#</td>\n",
       "      <td>None or Unspecified</td>\n",
       "      <td>#na#</td>\n",
       "      <td>#na#</td>\n",
       "      <td>#na#</td>\n",
       "      <td>#na#</td>\n",
       "      <td>#na#</td>\n",
       "      <td>#na#</td>\n",
       "      <td>#na#</td>\n",
       "      <td>2 Valve</td>\n",
       "      <td>#na#</td>\n",
       "      <td>#na#</td>\n",
       "      <td>#na#</td>\n",
       "      <td>#na#</td>\n",
       "      <td>None or Unspecified</td>\n",
       "      <td>None or Unspecified</td>\n",
       "      <td>#na#</td>\n",
       "      <td>#na#</td>\n",
       "      <td>#na#</td>\n",
       "      <td>#na#</td>\n",
       "      <td>#na#</td>\n",
       "      <td>#na#</td>\n",
       "      <td>#na#</td>\n",
       "      <td>#na#</td>\n",
       "      <td>#na#</td>\n",
       "      <td>#na#</td>\n",
       "      <td>#na#</td>\n",
       "      <td>#na#</td>\n",
       "      <td>Standard</td>\n",
       "      <td>Conventional</td>\n",
       "      <td>False</td>\n",
       "      <td>False</td>\n",
       "      <td>False</td>\n",
       "      <td>False</td>\n",
       "      <td>False</td>\n",
       "      <td>False</td>\n",
       "      <td>False</td>\n",
       "      <td>False</td>\n",
       "      <td>False</td>\n",
       "      <td>1174686</td>\n",
       "      <td>1038563</td>\n",
       "      <td>3876</td>\n",
       "      <td>121</td>\n",
       "      <td>3.0</td>\n",
       "      <td>1970</td>\n",
       "      <td>3067.0</td>\n",
       "      <td>2.0</td>\n",
       "      <td>5838</td>\n",
       "      <td>2005</td>\n",
       "      <td>1</td>\n",
       "      <td>2</td>\n",
       "      <td>11</td>\n",
       "      <td>1</td>\n",
       "      <td>11</td>\n",
       "      <td>1.105402e+09</td>\n",
       "      <td>9.132379</td>\n",
       "    </tr>\n",
       "    <tr>\n",
       "      <th>10646</th>\n",
       "      <td>Medium</td>\n",
       "      <td>315L</td>\n",
       "      <td>315</td>\n",
       "      <td>#na#</td>\n",
       "      <td>#na#</td>\n",
       "      <td>L</td>\n",
       "      <td>Hydraulic Excavator, Track - 14.0 to 16.0 Metric Tons</td>\n",
       "      <td>New Jersey</td>\n",
       "      <td>TEX</td>\n",
       "      <td>Track Excavators</td>\n",
       "      <td>#na#</td>\n",
       "      <td>EROPS</td>\n",
       "      <td>#na#</td>\n",
       "      <td>#na#</td>\n",
       "      <td>#na#</td>\n",
       "      <td>#na#</td>\n",
       "      <td>#na#</td>\n",
       "      <td>#na#</td>\n",
       "      <td>#na#</td>\n",
       "      <td>#na#</td>\n",
       "      <td>#na#</td>\n",
       "      <td>#na#</td>\n",
       "      <td>Standard</td>\n",
       "      <td>#na#</td>\n",
       "      <td>#na#</td>\n",
       "      <td>#na#</td>\n",
       "      <td>#na#</td>\n",
       "      <td>#na#</td>\n",
       "      <td>None or Unspecified</td>\n",
       "      <td>#na#</td>\n",
       "      <td>#na#</td>\n",
       "      <td>#na#</td>\n",
       "      <td>Steel</td>\n",
       "      <td>24 inch</td>\n",
       "      <td>None or Unspecified</td>\n",
       "      <td>None or Unspecified</td>\n",
       "      <td>None or Unspecified</td>\n",
       "      <td>Double</td>\n",
       "      <td>#na#</td>\n",
       "      <td>#na#</td>\n",
       "      <td>#na#</td>\n",
       "      <td>#na#</td>\n",
       "      <td>#na#</td>\n",
       "      <td>False</td>\n",
       "      <td>False</td>\n",
       "      <td>False</td>\n",
       "      <td>False</td>\n",
       "      <td>False</td>\n",
       "      <td>False</td>\n",
       "      <td>False</td>\n",
       "      <td>False</td>\n",
       "      <td>False</td>\n",
       "      <td>1174694</td>\n",
       "      <td>1018458</td>\n",
       "      <td>1133</td>\n",
       "      <td>121</td>\n",
       "      <td>3.0</td>\n",
       "      <td>1995</td>\n",
       "      <td>7835.0</td>\n",
       "      <td>4.0</td>\n",
       "      <td>5840</td>\n",
       "      <td>2005</td>\n",
       "      <td>1</td>\n",
       "      <td>2</td>\n",
       "      <td>13</td>\n",
       "      <td>3</td>\n",
       "      <td>13</td>\n",
       "      <td>1.105574e+09</td>\n",
       "      <td>10.545341</td>\n",
       "    </tr>\n",
       "    <tr>\n",
       "      <th>10727</th>\n",
       "      <td>Medium</td>\n",
       "      <td>416C</td>\n",
       "      <td>416</td>\n",
       "      <td>C</td>\n",
       "      <td>#na#</td>\n",
       "      <td>#na#</td>\n",
       "      <td>Backhoe Loader - 14.0 to 15.0 Ft Standard Digging Depth</td>\n",
       "      <td>North Carolina</td>\n",
       "      <td>BL</td>\n",
       "      <td>Backhoe Loaders</td>\n",
       "      <td>Two Wheel Drive</td>\n",
       "      <td>OROPS</td>\n",
       "      <td>Yes</td>\n",
       "      <td>None or Unspecified</td>\n",
       "      <td>No</td>\n",
       "      <td>Standard</td>\n",
       "      <td>Standard</td>\n",
       "      <td>None or Unspecified</td>\n",
       "      <td>#na#</td>\n",
       "      <td>#na#</td>\n",
       "      <td>#na#</td>\n",
       "      <td>#na#</td>\n",
       "      <td>#na#</td>\n",
       "      <td>#na#</td>\n",
       "      <td>#na#</td>\n",
       "      <td>#na#</td>\n",
       "      <td>#na#</td>\n",
       "      <td>#na#</td>\n",
       "      <td>#na#</td>\n",
       "      <td>#na#</td>\n",
       "      <td>#na#</td>\n",
       "      <td>#na#</td>\n",
       "      <td>#na#</td>\n",
       "      <td>#na#</td>\n",
       "      <td>#na#</td>\n",
       "      <td>#na#</td>\n",
       "      <td>#na#</td>\n",
       "      <td>#na#</td>\n",
       "      <td>#na#</td>\n",
       "      <td>#na#</td>\n",
       "      <td>#na#</td>\n",
       "      <td>#na#</td>\n",
       "      <td>#na#</td>\n",
       "      <td>False</td>\n",
       "      <td>False</td>\n",
       "      <td>False</td>\n",
       "      <td>False</td>\n",
       "      <td>False</td>\n",
       "      <td>False</td>\n",
       "      <td>False</td>\n",
       "      <td>False</td>\n",
       "      <td>True</td>\n",
       "      <td>1174885</td>\n",
       "      <td>112264</td>\n",
       "      <td>3538</td>\n",
       "      <td>121</td>\n",
       "      <td>3.0</td>\n",
       "      <td>2000</td>\n",
       "      <td>2312.0</td>\n",
       "      <td>2.0</td>\n",
       "      <td>5840</td>\n",
       "      <td>2005</td>\n",
       "      <td>1</td>\n",
       "      <td>2</td>\n",
       "      <td>13</td>\n",
       "      <td>3</td>\n",
       "      <td>13</td>\n",
       "      <td>1.105574e+09</td>\n",
       "      <td>10.126631</td>\n",
       "    </tr>\n",
       "    <tr>\n",
       "      <th>90708</th>\n",
       "      <td>#na#</td>\n",
       "      <td>226</td>\n",
       "      <td>226</td>\n",
       "      <td>#na#</td>\n",
       "      <td>#na#</td>\n",
       "      <td>#na#</td>\n",
       "      <td>Skid Steer Loader - 1351.0 to 1601.0 Lb Operating Capacity</td>\n",
       "      <td>Unspecified</td>\n",
       "      <td>SSL</td>\n",
       "      <td>Skid Steer Loaders</td>\n",
       "      <td>#na#</td>\n",
       "      <td>OROPS</td>\n",
       "      <td>None or Unspecified</td>\n",
       "      <td>#na#</td>\n",
       "      <td>#na#</td>\n",
       "      <td>#na#</td>\n",
       "      <td>#na#</td>\n",
       "      <td>#na#</td>\n",
       "      <td>#na#</td>\n",
       "      <td>#na#</td>\n",
       "      <td>#na#</td>\n",
       "      <td>#na#</td>\n",
       "      <td>Standard</td>\n",
       "      <td>#na#</td>\n",
       "      <td>#na#</td>\n",
       "      <td>#na#</td>\n",
       "      <td>#na#</td>\n",
       "      <td>#na#</td>\n",
       "      <td>None or Unspecified</td>\n",
       "      <td>None or Unspecified</td>\n",
       "      <td>None or Unspecified</td>\n",
       "      <td>Standard</td>\n",
       "      <td>#na#</td>\n",
       "      <td>#na#</td>\n",
       "      <td>#na#</td>\n",
       "      <td>#na#</td>\n",
       "      <td>#na#</td>\n",
       "      <td>#na#</td>\n",
       "      <td>#na#</td>\n",
       "      <td>#na#</td>\n",
       "      <td>#na#</td>\n",
       "      <td>#na#</td>\n",
       "      <td>#na#</td>\n",
       "      <td>False</td>\n",
       "      <td>False</td>\n",
       "      <td>False</td>\n",
       "      <td>False</td>\n",
       "      <td>False</td>\n",
       "      <td>False</td>\n",
       "      <td>False</td>\n",
       "      <td>True</td>\n",
       "      <td>True</td>\n",
       "      <td>1399078</td>\n",
       "      <td>1398984</td>\n",
       "      <td>7009</td>\n",
       "      <td>132</td>\n",
       "      <td>3.0</td>\n",
       "      <td>2002</td>\n",
       "      <td>0.0</td>\n",
       "      <td>2.0</td>\n",
       "      <td>5840</td>\n",
       "      <td>2005</td>\n",
       "      <td>1</td>\n",
       "      <td>2</td>\n",
       "      <td>13</td>\n",
       "      <td>3</td>\n",
       "      <td>13</td>\n",
       "      <td>1.105574e+09</td>\n",
       "      <td>9.510445</td>\n",
       "    </tr>\n",
       "  </tbody>\n",
       "</table>"
      ],
      "text/plain": [
       "<IPython.core.display.HTML object>"
      ]
     },
     "metadata": {},
     "output_type": "display_data"
    }
   ],
   "source": [
    "#strings still displayed\n",
    "to.show(5)"
   ]
  },
  {
   "cell_type": "code",
   "execution_count": 358,
   "metadata": {},
   "outputs": [
    {
     "data": {
      "text/html": [
       "<div>\n",
       "<style scoped>\n",
       "    .dataframe tbody tr th:only-of-type {\n",
       "        vertical-align: middle;\n",
       "    }\n",
       "\n",
       "    .dataframe tbody tr th {\n",
       "        vertical-align: top;\n",
       "    }\n",
       "\n",
       "    .dataframe thead th {\n",
       "        text-align: right;\n",
       "    }\n",
       "</style>\n",
       "<table border=\"1\" class=\"dataframe\">\n",
       "  <thead>\n",
       "    <tr style=\"text-align: right;\">\n",
       "      <th></th>\n",
       "      <th>SalesID</th>\n",
       "      <th>SalePrice</th>\n",
       "      <th>MachineID</th>\n",
       "      <th>ModelID</th>\n",
       "      <th>datasource</th>\n",
       "      <th>auctioneerID</th>\n",
       "      <th>YearMade</th>\n",
       "      <th>MachineHoursCurrentMeter</th>\n",
       "      <th>UsageBand</th>\n",
       "      <th>fiModelDesc</th>\n",
       "      <th>fiBaseModel</th>\n",
       "      <th>fiSecondaryDesc</th>\n",
       "      <th>fiModelSeries</th>\n",
       "      <th>fiModelDescriptor</th>\n",
       "      <th>ProductSize</th>\n",
       "      <th>fiProductClassDesc</th>\n",
       "      <th>state</th>\n",
       "      <th>ProductGroup</th>\n",
       "      <th>ProductGroupDesc</th>\n",
       "      <th>Drive_System</th>\n",
       "      <th>Enclosure</th>\n",
       "      <th>Forks</th>\n",
       "      <th>Pad_Type</th>\n",
       "      <th>Ride_Control</th>\n",
       "      <th>Stick</th>\n",
       "      <th>Transmission</th>\n",
       "      <th>Turbocharged</th>\n",
       "      <th>Blade_Extension</th>\n",
       "      <th>Blade_Width</th>\n",
       "      <th>Enclosure_Type</th>\n",
       "      <th>Engine_Horsepower</th>\n",
       "      <th>Hydraulics</th>\n",
       "      <th>Pushblock</th>\n",
       "      <th>Ripper</th>\n",
       "      <th>Scarifier</th>\n",
       "      <th>Tip_Control</th>\n",
       "      <th>Tire_Size</th>\n",
       "      <th>Coupler</th>\n",
       "      <th>Coupler_System</th>\n",
       "      <th>Grouser_Tracks</th>\n",
       "      <th>Hydraulics_Flow</th>\n",
       "      <th>Track_Type</th>\n",
       "      <th>Undercarriage_Pad_Width</th>\n",
       "      <th>Stick_Length</th>\n",
       "      <th>Thumb</th>\n",
       "      <th>Pattern_Changer</th>\n",
       "      <th>Grouser_Type</th>\n",
       "      <th>Backhoe_Mounting</th>\n",
       "      <th>Blade_Type</th>\n",
       "      <th>Travel_Controls</th>\n",
       "      <th>Differential_Type</th>\n",
       "      <th>Steering_Controls</th>\n",
       "      <th>Time</th>\n",
       "      <th>saleYear</th>\n",
       "      <th>saleMonth</th>\n",
       "      <th>saleWeek</th>\n",
       "      <th>saleDay</th>\n",
       "      <th>saleDayofweek</th>\n",
       "      <th>saleDayofyear</th>\n",
       "      <th>saleIs_month_end</th>\n",
       "      <th>saleIs_month_start</th>\n",
       "      <th>saleIs_quarter_end</th>\n",
       "      <th>saleIs_quarter_start</th>\n",
       "      <th>saleIs_year_end</th>\n",
       "      <th>saleIs_year_start</th>\n",
       "      <th>saleElapsed</th>\n",
       "      <th>auctioneerID_na</th>\n",
       "      <th>MachineHoursCurrentMeter_na</th>\n",
       "      <th>ProductSize_na</th>\n",
       "    </tr>\n",
       "  </thead>\n",
       "  <tbody>\n",
       "    <tr>\n",
       "      <th>10704</th>\n",
       "      <td>1174825</td>\n",
       "      <td>11.018629</td>\n",
       "      <td>1056544</td>\n",
       "      <td>22911</td>\n",
       "      <td>121</td>\n",
       "      <td>3.0</td>\n",
       "      <td>1998</td>\n",
       "      <td>4401.0</td>\n",
       "      <td>3</td>\n",
       "      <td>2339</td>\n",
       "      <td>710</td>\n",
       "      <td>0</td>\n",
       "      <td>0</td>\n",
       "      <td>64</td>\n",
       "      <td>1.0</td>\n",
       "      <td>16</td>\n",
       "      <td>7</td>\n",
       "      <td>4</td>\n",
       "      <td>4</td>\n",
       "      <td>0</td>\n",
       "      <td>1</td>\n",
       "      <td>0</td>\n",
       "      <td>0</td>\n",
       "      <td>0</td>\n",
       "      <td>0</td>\n",
       "      <td>0</td>\n",
       "      <td>0</td>\n",
       "      <td>0</td>\n",
       "      <td>0</td>\n",
       "      <td>0</td>\n",
       "      <td>0</td>\n",
       "      <td>12</td>\n",
       "      <td>0</td>\n",
       "      <td>0</td>\n",
       "      <td>0</td>\n",
       "      <td>0</td>\n",
       "      <td>0</td>\n",
       "      <td>2</td>\n",
       "      <td>0</td>\n",
       "      <td>0</td>\n",
       "      <td>0</td>\n",
       "      <td>2</td>\n",
       "      <td>19</td>\n",
       "      <td>28</td>\n",
       "      <td>3</td>\n",
       "      <td>2</td>\n",
       "      <td>1</td>\n",
       "      <td>0</td>\n",
       "      <td>0</td>\n",
       "      <td>0</td>\n",
       "      <td>0</td>\n",
       "      <td>0</td>\n",
       "      <td>5837</td>\n",
       "      <td>2005</td>\n",
       "      <td>1</td>\n",
       "      <td>2</td>\n",
       "      <td>10</td>\n",
       "      <td>0</td>\n",
       "      <td>10</td>\n",
       "      <td>1</td>\n",
       "      <td>1</td>\n",
       "      <td>1</td>\n",
       "      <td>1</td>\n",
       "      <td>1</td>\n",
       "      <td>1</td>\n",
       "      <td>1.105315e+09</td>\n",
       "      <td>1</td>\n",
       "      <td>1</td>\n",
       "      <td>1</td>\n",
       "    </tr>\n",
       "    <tr>\n",
       "      <th>10644</th>\n",
       "      <td>1174686</td>\n",
       "      <td>9.132379</td>\n",
       "      <td>1038563</td>\n",
       "      <td>3876</td>\n",
       "      <td>121</td>\n",
       "      <td>3.0</td>\n",
       "      <td>1970</td>\n",
       "      <td>3067.0</td>\n",
       "      <td>2</td>\n",
       "      <td>1652</td>\n",
       "      <td>493</td>\n",
       "      <td>21</td>\n",
       "      <td>0</td>\n",
       "      <td>0</td>\n",
       "      <td>2.0</td>\n",
       "      <td>67</td>\n",
       "      <td>5</td>\n",
       "      <td>6</td>\n",
       "      <td>6</td>\n",
       "      <td>0</td>\n",
       "      <td>6</td>\n",
       "      <td>1</td>\n",
       "      <td>0</td>\n",
       "      <td>2</td>\n",
       "      <td>0</td>\n",
       "      <td>0</td>\n",
       "      <td>0</td>\n",
       "      <td>0</td>\n",
       "      <td>0</td>\n",
       "      <td>0</td>\n",
       "      <td>0</td>\n",
       "      <td>1</td>\n",
       "      <td>0</td>\n",
       "      <td>0</td>\n",
       "      <td>0</td>\n",
       "      <td>0</td>\n",
       "      <td>16</td>\n",
       "      <td>3</td>\n",
       "      <td>0</td>\n",
       "      <td>0</td>\n",
       "      <td>0</td>\n",
       "      <td>0</td>\n",
       "      <td>0</td>\n",
       "      <td>0</td>\n",
       "      <td>0</td>\n",
       "      <td>0</td>\n",
       "      <td>0</td>\n",
       "      <td>0</td>\n",
       "      <td>0</td>\n",
       "      <td>0</td>\n",
       "      <td>4</td>\n",
       "      <td>2</td>\n",
       "      <td>5838</td>\n",
       "      <td>2005</td>\n",
       "      <td>1</td>\n",
       "      <td>2</td>\n",
       "      <td>11</td>\n",
       "      <td>1</td>\n",
       "      <td>11</td>\n",
       "      <td>1</td>\n",
       "      <td>1</td>\n",
       "      <td>1</td>\n",
       "      <td>1</td>\n",
       "      <td>1</td>\n",
       "      <td>1</td>\n",
       "      <td>1.105402e+09</td>\n",
       "      <td>1</td>\n",
       "      <td>1</td>\n",
       "      <td>1</td>\n",
       "    </tr>\n",
       "    <tr>\n",
       "      <th>10646</th>\n",
       "      <td>1174694</td>\n",
       "      <td>10.545341</td>\n",
       "      <td>1018458</td>\n",
       "      <td>1133</td>\n",
       "      <td>121</td>\n",
       "      <td>3.0</td>\n",
       "      <td>1995</td>\n",
       "      <td>7835.0</td>\n",
       "      <td>3</td>\n",
       "      <td>486</td>\n",
       "      <td>164</td>\n",
       "      <td>0</td>\n",
       "      <td>0</td>\n",
       "      <td>63</td>\n",
       "      <td>4.0</td>\n",
       "      <td>9</td>\n",
       "      <td>30</td>\n",
       "      <td>4</td>\n",
       "      <td>4</td>\n",
       "      <td>0</td>\n",
       "      <td>1</td>\n",
       "      <td>0</td>\n",
       "      <td>0</td>\n",
       "      <td>0</td>\n",
       "      <td>0</td>\n",
       "      <td>0</td>\n",
       "      <td>0</td>\n",
       "      <td>0</td>\n",
       "      <td>0</td>\n",
       "      <td>0</td>\n",
       "      <td>0</td>\n",
       "      <td>12</td>\n",
       "      <td>0</td>\n",
       "      <td>0</td>\n",
       "      <td>0</td>\n",
       "      <td>0</td>\n",
       "      <td>0</td>\n",
       "      <td>3</td>\n",
       "      <td>0</td>\n",
       "      <td>0</td>\n",
       "      <td>0</td>\n",
       "      <td>2</td>\n",
       "      <td>7</td>\n",
       "      <td>28</td>\n",
       "      <td>3</td>\n",
       "      <td>2</td>\n",
       "      <td>1</td>\n",
       "      <td>0</td>\n",
       "      <td>0</td>\n",
       "      <td>0</td>\n",
       "      <td>0</td>\n",
       "      <td>0</td>\n",
       "      <td>5840</td>\n",
       "      <td>2005</td>\n",
       "      <td>1</td>\n",
       "      <td>2</td>\n",
       "      <td>13</td>\n",
       "      <td>3</td>\n",
       "      <td>13</td>\n",
       "      <td>1</td>\n",
       "      <td>1</td>\n",
       "      <td>1</td>\n",
       "      <td>1</td>\n",
       "      <td>1</td>\n",
       "      <td>1</td>\n",
       "      <td>1.105574e+09</td>\n",
       "      <td>1</td>\n",
       "      <td>1</td>\n",
       "      <td>1</td>\n",
       "    </tr>\n",
       "    <tr>\n",
       "      <th>10727</th>\n",
       "      <td>1174885</td>\n",
       "      <td>10.126631</td>\n",
       "      <td>112264</td>\n",
       "      <td>3538</td>\n",
       "      <td>121</td>\n",
       "      <td>3.0</td>\n",
       "      <td>2000</td>\n",
       "      <td>2312.0</td>\n",
       "      <td>3</td>\n",
       "      <td>674</td>\n",
       "      <td>218</td>\n",
       "      <td>30</td>\n",
       "      <td>0</td>\n",
       "      <td>0</td>\n",
       "      <td>2.0</td>\n",
       "      <td>2</td>\n",
       "      <td>33</td>\n",
       "      <td>1</td>\n",
       "      <td>1</td>\n",
       "      <td>4</td>\n",
       "      <td>6</td>\n",
       "      <td>2</td>\n",
       "      <td>2</td>\n",
       "      <td>1</td>\n",
       "      <td>2</td>\n",
       "      <td>8</td>\n",
       "      <td>1</td>\n",
       "      <td>0</td>\n",
       "      <td>0</td>\n",
       "      <td>0</td>\n",
       "      <td>0</td>\n",
       "      <td>0</td>\n",
       "      <td>0</td>\n",
       "      <td>0</td>\n",
       "      <td>0</td>\n",
       "      <td>0</td>\n",
       "      <td>0</td>\n",
       "      <td>0</td>\n",
       "      <td>0</td>\n",
       "      <td>0</td>\n",
       "      <td>0</td>\n",
       "      <td>0</td>\n",
       "      <td>0</td>\n",
       "      <td>0</td>\n",
       "      <td>0</td>\n",
       "      <td>0</td>\n",
       "      <td>0</td>\n",
       "      <td>0</td>\n",
       "      <td>0</td>\n",
       "      <td>0</td>\n",
       "      <td>0</td>\n",
       "      <td>0</td>\n",
       "      <td>5840</td>\n",
       "      <td>2005</td>\n",
       "      <td>1</td>\n",
       "      <td>2</td>\n",
       "      <td>13</td>\n",
       "      <td>3</td>\n",
       "      <td>13</td>\n",
       "      <td>1</td>\n",
       "      <td>1</td>\n",
       "      <td>1</td>\n",
       "      <td>1</td>\n",
       "      <td>1</td>\n",
       "      <td>1</td>\n",
       "      <td>1.105574e+09</td>\n",
       "      <td>1</td>\n",
       "      <td>1</td>\n",
       "      <td>2</td>\n",
       "    </tr>\n",
       "    <tr>\n",
       "      <th>90708</th>\n",
       "      <td>1399078</td>\n",
       "      <td>9.510445</td>\n",
       "      <td>1398984</td>\n",
       "      <td>7009</td>\n",
       "      <td>132</td>\n",
       "      <td>3.0</td>\n",
       "      <td>2002</td>\n",
       "      <td>0.0</td>\n",
       "      <td>0</td>\n",
       "      <td>305</td>\n",
       "      <td>100</td>\n",
       "      <td>0</td>\n",
       "      <td>0</td>\n",
       "      <td>0</td>\n",
       "      <td>2.0</td>\n",
       "      <td>39</td>\n",
       "      <td>45</td>\n",
       "      <td>3</td>\n",
       "      <td>3</td>\n",
       "      <td>0</td>\n",
       "      <td>6</td>\n",
       "      <td>1</td>\n",
       "      <td>0</td>\n",
       "      <td>0</td>\n",
       "      <td>0</td>\n",
       "      <td>0</td>\n",
       "      <td>0</td>\n",
       "      <td>0</td>\n",
       "      <td>0</td>\n",
       "      <td>0</td>\n",
       "      <td>0</td>\n",
       "      <td>12</td>\n",
       "      <td>0</td>\n",
       "      <td>0</td>\n",
       "      <td>0</td>\n",
       "      <td>0</td>\n",
       "      <td>0</td>\n",
       "      <td>3</td>\n",
       "      <td>1</td>\n",
       "      <td>1</td>\n",
       "      <td>3</td>\n",
       "      <td>0</td>\n",
       "      <td>0</td>\n",
       "      <td>0</td>\n",
       "      <td>0</td>\n",
       "      <td>0</td>\n",
       "      <td>0</td>\n",
       "      <td>0</td>\n",
       "      <td>0</td>\n",
       "      <td>0</td>\n",
       "      <td>0</td>\n",
       "      <td>0</td>\n",
       "      <td>5840</td>\n",
       "      <td>2005</td>\n",
       "      <td>1</td>\n",
       "      <td>2</td>\n",
       "      <td>13</td>\n",
       "      <td>3</td>\n",
       "      <td>13</td>\n",
       "      <td>1</td>\n",
       "      <td>1</td>\n",
       "      <td>1</td>\n",
       "      <td>1</td>\n",
       "      <td>1</td>\n",
       "      <td>1</td>\n",
       "      <td>1.105574e+09</td>\n",
       "      <td>1</td>\n",
       "      <td>2</td>\n",
       "      <td>2</td>\n",
       "    </tr>\n",
       "  </tbody>\n",
       "</table>\n",
       "</div>"
      ],
      "text/plain": [
       "       SalesID  SalePrice  MachineID  ModelID  datasource  auctioneerID  \\\n",
       "10704  1174825  11.018629    1056544    22911         121           3.0   \n",
       "10644  1174686   9.132379    1038563     3876         121           3.0   \n",
       "10646  1174694  10.545341    1018458     1133         121           3.0   \n",
       "10727  1174885  10.126631     112264     3538         121           3.0   \n",
       "90708  1399078   9.510445    1398984     7009         132           3.0   \n",
       "\n",
       "       YearMade  MachineHoursCurrentMeter  UsageBand  fiModelDesc  \\\n",
       "10704      1998                    4401.0          3         2339   \n",
       "10644      1970                    3067.0          2         1652   \n",
       "10646      1995                    7835.0          3          486   \n",
       "10727      2000                    2312.0          3          674   \n",
       "90708      2002                       0.0          0          305   \n",
       "\n",
       "       fiBaseModel  fiSecondaryDesc  fiModelSeries  fiModelDescriptor  \\\n",
       "10704          710                0              0                 64   \n",
       "10644          493               21              0                  0   \n",
       "10646          164                0              0                 63   \n",
       "10727          218               30              0                  0   \n",
       "90708          100                0              0                  0   \n",
       "\n",
       "       ProductSize  fiProductClassDesc  state  ProductGroup  ProductGroupDesc  \\\n",
       "10704          1.0                  16      7             4                 4   \n",
       "10644          2.0                  67      5             6                 6   \n",
       "10646          4.0                   9     30             4                 4   \n",
       "10727          2.0                   2     33             1                 1   \n",
       "90708          2.0                  39     45             3                 3   \n",
       "\n",
       "       Drive_System  Enclosure  Forks  Pad_Type  Ride_Control  Stick  \\\n",
       "10704             0          1      0         0             0      0   \n",
       "10644             0          6      1         0             2      0   \n",
       "10646             0          1      0         0             0      0   \n",
       "10727             4          6      2         2             1      2   \n",
       "90708             0          6      1         0             0      0   \n",
       "\n",
       "       Transmission  Turbocharged  Blade_Extension  Blade_Width  \\\n",
       "10704             0             0                0            0   \n",
       "10644             0             0                0            0   \n",
       "10646             0             0                0            0   \n",
       "10727             8             1                0            0   \n",
       "90708             0             0                0            0   \n",
       "\n",
       "       Enclosure_Type  Engine_Horsepower  Hydraulics  Pushblock  Ripper  \\\n",
       "10704               0                  0          12          0       0   \n",
       "10644               0                  0           1          0       0   \n",
       "10646               0                  0          12          0       0   \n",
       "10727               0                  0           0          0       0   \n",
       "90708               0                  0          12          0       0   \n",
       "\n",
       "       Scarifier  Tip_Control  Tire_Size  Coupler  Coupler_System  \\\n",
       "10704          0            0          0        2               0   \n",
       "10644          0            0         16        3               0   \n",
       "10646          0            0          0        3               0   \n",
       "10727          0            0          0        0               0   \n",
       "90708          0            0          0        3               1   \n",
       "\n",
       "       Grouser_Tracks  Hydraulics_Flow  Track_Type  Undercarriage_Pad_Width  \\\n",
       "10704               0                0           2                       19   \n",
       "10644               0                0           0                        0   \n",
       "10646               0                0           2                        7   \n",
       "10727               0                0           0                        0   \n",
       "90708               1                3           0                        0   \n",
       "\n",
       "       Stick_Length  Thumb  Pattern_Changer  Grouser_Type  Backhoe_Mounting  \\\n",
       "10704            28      3                2             1                 0   \n",
       "10644             0      0                0             0                 0   \n",
       "10646            28      3                2             1                 0   \n",
       "10727             0      0                0             0                 0   \n",
       "90708             0      0                0             0                 0   \n",
       "\n",
       "       Blade_Type  Travel_Controls  Differential_Type  Steering_Controls  \\\n",
       "10704           0                0                  0                  0   \n",
       "10644           0                0                  4                  2   \n",
       "10646           0                0                  0                  0   \n",
       "10727           0                0                  0                  0   \n",
       "90708           0                0                  0                  0   \n",
       "\n",
       "       Time  saleYear  saleMonth  saleWeek  saleDay  saleDayofweek  \\\n",
       "10704  5837      2005          1         2       10              0   \n",
       "10644  5838      2005          1         2       11              1   \n",
       "10646  5840      2005          1         2       13              3   \n",
       "10727  5840      2005          1         2       13              3   \n",
       "90708  5840      2005          1         2       13              3   \n",
       "\n",
       "       saleDayofyear  saleIs_month_end  saleIs_month_start  \\\n",
       "10704             10                 1                   1   \n",
       "10644             11                 1                   1   \n",
       "10646             13                 1                   1   \n",
       "10727             13                 1                   1   \n",
       "90708             13                 1                   1   \n",
       "\n",
       "       saleIs_quarter_end  saleIs_quarter_start  saleIs_year_end  \\\n",
       "10704                   1                     1                1   \n",
       "10644                   1                     1                1   \n",
       "10646                   1                     1                1   \n",
       "10727                   1                     1                1   \n",
       "90708                   1                     1                1   \n",
       "\n",
       "       saleIs_year_start   saleElapsed  auctioneerID_na  \\\n",
       "10704                  1  1.105315e+09                1   \n",
       "10644                  1  1.105402e+09                1   \n",
       "10646                  1  1.105574e+09                1   \n",
       "10727                  1  1.105574e+09                1   \n",
       "90708                  1  1.105574e+09                1   \n",
       "\n",
       "       MachineHoursCurrentMeter_na  ProductSize_na  \n",
       "10704                            1               1  \n",
       "10644                            1               1  \n",
       "10646                            1               1  \n",
       "10727                            1               2  \n",
       "90708                            2               2  "
      ]
     },
     "execution_count": 358,
     "metadata": {},
     "output_type": "execute_result"
    }
   ],
   "source": [
    "#grab the DataFrame though and you see that its been transformed\n",
    "to.items.head()\n",
    "# type(to.items)"
   ]
  },
  {
   "cell_type": "markdown",
   "metadata": {},
   "source": [
    "## Lets get our train and test sets"
   ]
  },
  {
   "cell_type": "code",
   "execution_count": 359,
   "metadata": {},
   "outputs": [],
   "source": [
    "xs,y = to.train.xs,to.train.y\n",
    "valid_xs,valid_y = to.valid.xs,to.valid.y"
   ]
  },
  {
   "cell_type": "code",
   "execution_count": 360,
   "metadata": {},
   "outputs": [],
   "source": [
    "#dataset for the linear regressor part of the BoostedHybrid model\n",
    "xs_linreg=xs.loc[:,['Time']]\n",
    "valid_xs_linreg=valid_xs.loc[:,['Time']]"
   ]
  },
  {
   "cell_type": "markdown",
   "metadata": {},
   "source": [
    "# Train model\n",
    "\n",
    "The same one we have been using for other time series analysis, no lags though, they are not appropriate for this problem"
   ]
  },
  {
   "cell_type": "code",
   "execution_count": 361,
   "metadata": {},
   "outputs": [],
   "source": [
    "from sklearn import linear_model\n",
    "from catboost import CatBoostRegressor\n",
    "\n",
    "#if you have optuna trial parameters from below then plug in here (**trial.params,silent=True, random_state=42)\n",
    "hm=ut.BoostedHybrid(model_1 = linear_model.LinearRegression(), model_2=CatBoostRegressor(silent=True, random_state=42), num_lags=0)"
   ]
  },
  {
   "cell_type": "code",
   "execution_count": 362,
   "metadata": {},
   "outputs": [],
   "source": [
    "#fit it\n",
    "hm.fit(xs_linreg,xs,y)"
   ]
  },
  {
   "cell_type": "markdown",
   "metadata": {},
   "source": [
    "## Get test set predictions and competition metric error, rmse"
   ]
  },
  {
   "cell_type": "code",
   "execution_count": 363,
   "metadata": {},
   "outputs": [],
   "source": [
    "#get our target value, the training set for linear regression, and the training set for catboost\n",
    "#get predictions on test set\n",
    "preds=hm.predict(valid_xs_linreg,valid_xs,valid_y,False)"
   ]
  },
  {
   "cell_type": "markdown",
   "metadata": {},
   "source": [
    "Create a function to check the root mean squared error of our model (`m_rmse`), since that's how the competition was judged:"
   ]
  },
  {
   "cell_type": "code",
   "execution_count": 364,
   "metadata": {},
   "outputs": [],
   "source": [
    "def r_mse(pred,y): return round(math.sqrt(((pred-y)**2).mean()), 6)"
   ]
  },
  {
   "cell_type": "code",
   "execution_count": 365,
   "metadata": {},
   "outputs": [
    {
     "data": {
      "text/plain": [
       "0.247487"
      ]
     },
     "execution_count": 365,
     "metadata": {},
     "output_type": "execute_result"
    }
   ],
   "source": [
    "r_mse(preds, valid_y)"
   ]
  },
  {
   "cell_type": "markdown",
   "metadata": {},
   "source": [
    "# <mark> Permutation Importance "
   ]
  },
  {
   "cell_type": "code",
   "execution_count": 366,
   "metadata": {},
   "outputs": [],
   "source": [
    "from sklearn.inspection import permutation_importance\n",
    "feature_names=valid_xs.columns\n",
    "result = permutation_importance(\n",
    "    hm.model_2, valid_xs, valid_y[-len(valid_xs):], n_repeats=10, random_state=42, n_jobs=8, scoring=None)\n",
    "forest_importances = pd.Series(result.importances_mean, index=feature_names)"
   ]
  },
  {
   "cell_type": "code",
   "execution_count": 367,
   "metadata": {},
   "outputs": [
    {
     "data": {
      "image/png": "[encoded data removed]",
      "text/plain": [
       "<Figure size 1000x700 with 1 Axes>"
      ]
     },
     "metadata": {},
     "output_type": "display_data"
    }
   ],
   "source": [
    "#plot em\n",
    "forest_importances = forest_importances.sort_values(ascending=False)\n",
    "\n",
    "fig, ax = plt.subplots(figsize=(10,7))\n",
    "forest_importances.plot.bar(yerr=result.importances_std, ax=ax)\n",
    "ax.set_title(\"Random Forest feature importance via permutation importance\")\n",
    "ax.set_ylabel(\"Mean accuracy decrease\")\n",
    "fig.tight_layout()\n",
    "plt.show()"
   ]
  },
  {
   "cell_type": "code",
   "execution_count": 368,
   "metadata": {},
   "outputs": [],
   "source": [
    "#lets get rid of all importences <0 (because Time is 0 and we need it for the boosted hybrid model)\n",
    "columns_to_keep=forest_importances[forest_importances>=0].index.values"
   ]
  },
  {
   "cell_type": "code",
   "execution_count": 369,
   "metadata": {},
   "outputs": [],
   "source": [
    "#lets drop em in the train and validation set\n",
    "xs_perm = xs[columns_to_keep].copy()\n",
    "valid_xs_perm= valid_xs[columns_to_keep].copy()"
   ]
  },
  {
   "cell_type": "markdown",
   "metadata": {},
   "source": [
    "### Lets see if we can drop any corelated columns"
   ]
  },
  {
   "cell_type": "code",
   "execution_count": 370,
   "metadata": {},
   "outputs": [],
   "source": [
    "def get_score(col_to_drop=None):\n",
    "    hm.fit(xs_linreg,xs_perm.drop(col_to_drop,axis=1),y)\n",
    "    preds=hm.predict(valid_xs_linreg,valid_xs_perm.drop(col_to_drop,axis=1),valid_y,False)\n",
    "    print(f'{col_to_drop}: {r_mse(preds, valid_y)}')"
   ]
  },
  {
   "cell_type": "code",
   "execution_count": 377,
   "metadata": {},
   "outputs": [
    {
     "data": {
      "text/plain": [
       "[('fiBaseModel', 'fiModelDesc'),\n",
       " ('saleWeek', 'saleDayofyear'),\n",
       " ('saleMonth', 'saleDayofyear'),\n",
       " ('saleMonth', 'saleWeek'),\n",
       " ('saleElapsed', 'Time')]"
      ]
     },
     "execution_count": 377,
     "metadata": {},
     "output_type": "execute_result"
    }
   ],
   "source": [
    "ut.get_correlated_columns(xs_perm,correlation_threshold=.99)"
   ]
  },
  {
   "cell_type": "markdown",
   "metadata": {},
   "source": [
    "## Not bad, and this is before we do any other data augmentaton or hyperparameter tuning using Optuna\n",
    "\n",
    "<mark>Also this score would place at 15th out of 474 teams IFF our validation set is like the test set that only Kaggle has.\n"
   ]
  },
  {
   "cell_type": "code",
   "execution_count": 378,
   "metadata": {},
   "outputs": [
    {
     "name": "stdout",
     "output_type": "stream",
     "text": [
      "fiModelDesc: 0.25213\n",
      "saleElapsed: 0.253519\n"
     ]
    }
   ],
   "source": [
    "#there are a bunch,lets drop 1 at a time and see how our score is affected\n",
    "for col in [ 'fiModelDesc','saleElapsed']:\n",
    "    get_score(col)"
   ]
  },
  {
   "cell_type": "code",
   "execution_count": 379,
   "metadata": {},
   "outputs": [],
   "source": [
    "xs_perm.drop(columns=['fiModelDesc','saleElapsed'],inplace=True)\n",
    "valid_xs_perm.drop(columns=['fiModelDesc','saleElapsed'],inplace=True)"
   ]
  },
  {
   "cell_type": "code",
   "execution_count": 380,
   "metadata": {},
   "outputs": [
    {
     "name": "stdout",
     "output_type": "stream",
     "text": [
      " 0.252466\n"
     ]
    }
   ],
   "source": [
    "hm.fit(xs_linreg,xs_perm,y)\n",
    "preds=hm.predict(valid_xs_linreg,valid_xs_perm,valid_y,False)\n",
    "print(f' {r_mse(preds, valid_y)}')"
   ]
  },
  {
   "cell_type": "markdown",
   "metadata": {},
   "source": [
    "### Maybe we can fine tune the catboost regressor?"
   ]
  },
  {
   "cell_type": "code",
   "execution_count": 135,
   "metadata": {},
   "outputs": [],
   "source": [
    "#see what we have now, helps set ranges for optuna\n",
    "# hm.model_2.get_all_params()"
   ]
  },
  {
   "cell_type": "code",
   "execution_count": 381,
   "metadata": {},
   "outputs": [
    {
     "name": "stderr",
     "output_type": "stream",
     "text": [
      "\u001b[32m[I 2023-04-21 01:24:31,541]\u001b[0m A new study created in memory with name: no-name-3ad191f9-79a4-45c3-8087-2f4ad85eb68b\u001b[0m\n",
      "\u001b[32m[I 2023-04-21 01:24:37,449]\u001b[0m Trial 0 finished with value: 0.326281 and parameters: {'learning_rate': 0.022000000000000002, 'depth': 4, 'l2_leaf_reg': 2.5}. Best is trial 0 with value: 0.326281.\u001b[0m\n",
      "\u001b[32m[I 2023-04-21 01:24:51,579]\u001b[0m Trial 1 finished with value: 0.243452 and parameters: {'learning_rate': 0.082, 'depth': 9, 'l2_leaf_reg': 4.5}. Best is trial 1 with value: 0.243452.\u001b[0m\n",
      "\u001b[32m[I 2023-04-21 01:25:03,435]\u001b[0m Trial 2 finished with value: 0.244747 and parameters: {'learning_rate': 0.10500000000000001, 'depth': 8, 'l2_leaf_reg': 5.0}. Best is trial 1 with value: 0.243452.\u001b[0m\n",
      "\u001b[32m[I 2023-04-21 01:26:02,068]\u001b[0m Trial 3 finished with value: 0.292664 and parameters: {'learning_rate': 0.006, 'depth': 12, 'l2_leaf_reg': 2.5}. Best is trial 1 with value: 0.243452.\u001b[0m\n",
      "\u001b[32m[I 2023-04-21 01:26:40,025]\u001b[0m Trial 4 finished with value: 0.258431 and parameters: {'learning_rate': 0.02, 'depth': 11, 'l2_leaf_reg': 3.5}. Best is trial 1 with value: 0.243452.\u001b[0m\n"
     ]
    },
    {
     "name": "stdout",
     "output_type": "stream",
     "text": [
      "root_mean_squared_error: 0.243452\n",
      "Best hyperparameters: {'learning_rate': 0.082, 'depth': 9, 'l2_leaf_reg': 4.5}\n",
      "CPU times: user 25min 58s, sys: 14.1 s, total: 26min 12s\n",
      "Wall time: 2min 8s\n"
     ]
    }
   ],
   "source": [
    "%%time\n",
    "from sklearn.metrics import mean_squared_error\n",
    "import optuna\n",
    "import sklearn\n",
    "def objective(trial):\n",
    "    #these are the parameters I want to optimize\n",
    "    params = {\n",
    "        'learning_rate':trial.suggest_discrete_uniform(\"learning_rate\", 0.001, 0.11, 0.001),\n",
    "        'depth': trial.suggest_int(\"depth\", 1, 12),\n",
    "        'l2_leaf_reg':trial.suggest_discrete_uniform('l2_leaf_reg', 1.0, 5.5, 0.5),\n",
    "        'iterations':1000,\n",
    "        'silent':True,\n",
    "        'random_state':42\n",
    "    }\n",
    " \n",
    "    # Define the model. Pass in params to be tuned\n",
    "    clf=ut.BoostedHybrid(model_1 = linear_model.LinearRegression(), model_2=CatBoostRegressor(**params), num_lags=0)\n",
    "    \n",
    "    #fit it\n",
    "    clf.fit(xs_linreg,xs_perm,y)\n",
    "    \n",
    "    #get preds\n",
    "    preds=clf.predict(valid_xs_linreg,valid_xs_perm,valid_y,False)\n",
    "\n",
    "    return r_mse(preds,valid_y)\n",
    " \n",
    "study = optuna.create_study(direction='minimize')\n",
    "study.optimize(objective, n_trials=5)\n",
    "\n",
    "trial = study.best_trial\n",
    "\n",
    "print('root_mean_squared_error: {}'.format(trial.value))\n",
    "print(\"Best hyperparameters: {}\".format(trial.params))"
   ]
  },
  {
   "cell_type": "code",
   "execution_count": 44,
   "metadata": {},
   "outputs": [
    {
     "data": {
      "text/plain": [
       "{'learning_rate': 0.065, 'depth': 11, 'l2_leaf_reg': 5.0}"
      ]
     },
     "execution_count": 44,
     "metadata": {},
     "output_type": "execute_result"
    }
   ],
   "source": [
    "#plug these into model above and try again\n",
    "trial.params"
   ]
  },
  {
   "cell_type": "code",
   "execution_count": 382,
   "metadata": {},
   "outputs": [
    {
     "name": "stderr",
     "output_type": "stream",
     "text": [
      "\u001b[32m[I 2023-04-21 01:27:08,414]\u001b[0m Trial 5 finished with value: 0.282916 and parameters: {'learning_rate': 0.068, 'depth': 4, 'l2_leaf_reg': 3.0}. Best is trial 1 with value: 0.243452.\u001b[0m\n",
      "\u001b[32m[I 2023-04-21 01:27:19,920]\u001b[0m Trial 6 finished with value: 0.306964 and parameters: {'learning_rate': 0.010000000000000002, 'depth': 8, 'l2_leaf_reg': 3.0}. Best is trial 1 with value: 0.243452.\u001b[0m\n",
      "\u001b[32m[I 2023-04-21 01:27:25,713]\u001b[0m Trial 7 finished with value: 0.470479 and parameters: {'learning_rate': 0.003, 'depth': 3, 'l2_leaf_reg': 2.0}. Best is trial 1 with value: 0.243452.\u001b[0m\n",
      "\u001b[32m[I 2023-04-21 01:27:35,259]\u001b[0m Trial 8 finished with value: 0.259424 and parameters: {'learning_rate': 0.054, 'depth': 7, 'l2_leaf_reg': 5.0}. Best is trial 1 with value: 0.243452.\u001b[0m\n",
      "\u001b[32m[I 2023-04-21 01:27:47,067]\u001b[0m Trial 9 finished with value: 0.249011 and parameters: {'learning_rate': 0.067, 'depth': 8, 'l2_leaf_reg': 4.5}. Best is trial 1 with value: 0.243452.\u001b[0m\n",
      "\u001b[32m[I 2023-04-21 01:27:51,360]\u001b[0m Trial 10 finished with value: 0.381498 and parameters: {'learning_rate': 0.10500000000000001, 'depth': 1, 'l2_leaf_reg': 4.0}. Best is trial 1 with value: 0.243452.\u001b[0m\n",
      "\u001b[32m[I 2023-04-21 01:28:18,581]\u001b[0m Trial 11 finished with value: 0.241556 and parameters: {'learning_rate': 0.108, 'depth': 10, 'l2_leaf_reg': 5.5}. Best is trial 11 with value: 0.241556.\u001b[0m\n",
      "\u001b[32m[I 2023-04-21 01:28:46,824]\u001b[0m Trial 12 finished with value: 0.244047 and parameters: {'learning_rate': 0.085, 'depth': 10, 'l2_leaf_reg': 5.5}. Best is trial 11 with value: 0.241556.\u001b[0m\n",
      "\u001b[32m[I 2023-04-21 01:29:13,443]\u001b[0m Trial 13 finished with value: 0.244047 and parameters: {'learning_rate': 0.085, 'depth': 10, 'l2_leaf_reg': 5.5}. Best is trial 11 with value: 0.241556.\u001b[0m\n",
      "\u001b[32m[I 2023-04-21 01:29:40,233]\u001b[0m Trial 14 finished with value: 0.242873 and parameters: {'learning_rate': 0.089, 'depth': 10, 'l2_leaf_reg': 1.0}. Best is trial 11 with value: 0.241556.\u001b[0m\n"
     ]
    }
   ],
   "source": [
    "#not satisfied?  Keep on optimizing from where you left off above\n",
    "study.optimize(objective, n_trials=10)"
   ]
  },
  {
   "cell_type": "code",
   "execution_count": 46,
   "metadata": {},
   "outputs": [
    {
     "data": {
      "text/plain": [
       "{'learning_rate': 0.065, 'depth': 11, 'l2_leaf_reg': 5.0}"
      ]
     },
     "execution_count": 46,
     "metadata": {},
     "output_type": "execute_result"
    }
   ],
   "source": [
    "#plug these into model above and try again\n",
    "trial.params"
   ]
  },
  {
   "cell_type": "markdown",
   "metadata": {},
   "source": [
    "## The best score from above Optuna run is .241556\n",
    "\n",
    "<mark>This is pretty good given the best Kaggle score is .22909.  This score would put us in 24th place"
   ]
  },
  {
   "cell_type": "markdown",
   "metadata": {},
   "source": [
    "## How would a plain boosted tree do?"
   ]
  },
  {
   "cell_type": "code",
   "execution_count": 389,
   "metadata": {},
   "outputs": [
    {
     "data": {
      "text/plain": [
       "0.244155"
      ]
     },
     "execution_count": 389,
     "metadata": {},
     "output_type": "execute_result"
    }
   ],
   "source": [
    "from catboost import CatBoostRegressor\n",
    "clf1 = CatBoostRegressor(**trial.params,silent=True, random_state=42)\n",
    "clf1.fit(xs_perm,y)\n",
    "preds1=clf1.predict(valid_xs_perm)\n",
    "r_mse(preds1,valid_y)"
   ]
  },
  {
   "cell_type": "markdown",
   "metadata": {},
   "source": [
    "## How about a random Forest?"
   ]
  },
  {
   "cell_type": "code",
   "execution_count": 388,
   "metadata": {},
   "outputs": [
    {
     "data": {
      "text/plain": [
       "0.244155"
      ]
     },
     "execution_count": 388,
     "metadata": {},
     "output_type": "execute_result"
    }
   ],
   "source": [
    "from sklearn.ensemble import RandomForestRegressor\n",
    "clf2 = RandomForestRegressor(n_estimators=100, random_state=42)\n",
    "clf2.fit(xs_perm, y)\n",
    "preds2=clf2.predict(valid_xs_perm)\n",
    "r_mse(preds2,valid_y)"
   ]
  },
  {
   "cell_type": "markdown",
   "metadata": {},
   "source": [
    "## Whats next? \n",
    "\n",
    "Making several models and averageing their results.  This is called bagging.  The problem is that we dont want to combine a Boosted tree with a random forest since the boosted tree is usually a little better so the random forest will probably just make things worse.\n",
    "\n",
    "A better idea is to average 2 different kinds of models, like a neural network and a boosted tree.  But thats a topic for another class"
   ]
  },
  {
   "cell_type": "code",
   "execution_count": null,
   "metadata": {},
   "outputs": [],
   "source": []
  }
 ],
 "metadata": {
  "kernelspec": {
   "display_name": "Python 3 (ipykernel)",
   "language": "python",
   "name": "python3"
  },
  "language_info": {
   "codemirror_mode": {
    "name": "ipython",
    "version": 3
   },
   "file_extension": ".py",
   "mimetype": "text/x-python",
   "name": "python",
   "nbconvert_exporter": "python",
   "pygments_lexer": "ipython3",
   "version": "3.9.15"
  },
  "widgets": {
   "application/vnd.jupyter.widget-state+json": {
    "state": {},
    "version_major": 2,
    "version_minor": 0
   }
  }
 },
 "nbformat": 4,
 "nbformat_minor": 4
}
