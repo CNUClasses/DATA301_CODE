{
 "cells": [
  {
   "cell_type": "markdown",
   "metadata": {},
   "source": [
    "From https://stackoverflow.com/questions/52673285/performance-of-pandas-apply-vs-np-vectorize-to-create-new-column-from-existing-c"
   ]
  },
  {
   "cell_type": "code",
   "execution_count": 19,
   "metadata": {},
   "outputs": [],
   "source": [
    "import pandas as pd\n",
    "import numpy as np\n",
    "import time\n",
    "\n",
    "def divide(a, b):\n",
    "    if b == 0:\n",
    "        return 0.0\n",
    "    return float(a)/b\n",
    "\n",
    "# A_list = np.random.randint(1, 100, N)\n",
    "# B_list = np.random.randint(1, 100, N)\n",
    "# df = pd.DataFrame({'A': A_list, 'B': B_list})"
   ]
  },
  {
   "cell_type": "code",
   "execution_count": 22,
   "metadata": {},
   "outputs": [
    {
     "name": "stdout",
     "output_type": "stream",
     "text": [
      "\n",
      "CPU times: user 22.7 ms, sys: 995 μs, total: 23.7 ms\n",
      "Wall time: 23.4 ms\n",
      "CPU times: user 1.84 ms, sys: 0 ns, total: 1.84 ms\n",
      "Wall time: 1.86 ms\n",
      "\n",
      "CPU times: user 221 ms, sys: 994 μs, total: 222 ms\n",
      "Wall time: 223 ms\n",
      "CPU times: user 9.25 ms, sys: 0 ns, total: 9.25 ms\n",
      "Wall time: 9.28 ms\n",
      "\n",
      "CPU times: user 2.16 s, sys: 7.93 ms, total: 2.17 s\n",
      "Wall time: 2.18 s\n",
      "CPU times: user 85.9 ms, sys: 5 μs, total: 85.9 ms\n",
      "Wall time: 86.2 ms\n",
      "\n",
      "CPU times: user 21.4 s, sys: 78.8 ms, total: 21.5 s\n",
      "Wall time: 21.6 s\n",
      "CPU times: user 849 ms, sys: 25.9 ms, total: 875 ms\n",
      "Wall time: 879 ms\n"
     ]
    }
   ],
   "source": [
    "for N in [1000, 10000, 100000, 1000000]:    \n",
    "\n",
    "    print ('')\n",
    "\n",
    "    #create some random data, put in a dataframe\n",
    "    A_list = np.random.randint(1, 100, N)\n",
    "    B_list = np.random.randint(1, 100, N)\n",
    "    df = pd.DataFrame({'A': A_list, 'B': B_list})\n",
    "    \n",
    "    %time df['result'] = df.apply(lambda row: divide(row['A'], row['B']), axis=1)\n",
    "    %time df['result2'] = np.vectorize(divide)(df['A'], df['B'])\n",
    "\n",
    "    # Make sure results from df.apply and np.vectorize match.\n",
    "    assert(df['result'].equals(df['result2']))"
   ]
  },
  {
   "cell_type": "code",
   "execution_count": 6,
   "metadata": {},
   "outputs": [
    {
     "name": "stdout",
     "output_type": "stream",
     "text": [
      "CPU times: user 140 ms, sys: 18.7 ms, total: 159 ms\n",
      "Wall time: 158 ms\n",
      "CPU times: user 123 ms, sys: 14.8 ms, total: 138 ms\n",
      "Wall time: 139 ms\n",
      "CPU times: user 163 ms, sys: 9.85 ms, total: 173 ms\n",
      "Wall time: 174 ms\n",
      "CPU times: user 367 ms, sys: 4.99 ms, total: 372 ms\n",
      "Wall time: 374 ms\n",
      "CPU times: user 3.35 s, sys: 12 μs, total: 3.35 s\n",
      "Wall time: 3.37 s\n",
      "CPU times: user 2.96 s, sys: 40.8 ms, total: 3 s\n",
      "Wall time: 3.01 s\n",
      "CPU times: user 4.71 s, sys: 53.6 ms, total: 4.77 s\n",
      "Wall time: 4.79 s\n",
      "CPU times: user 20.9 s, sys: 24 ms, total: 21 s\n",
      "Wall time: 21.1 s\n"
     ]
    }
   ],
   "source": [
    "np.random.seed(0)\n",
    "N = 10**5\n",
    "\n",
    "%time list(map(divide, df['A'], df['B']))                                   # 43.9 ms\n",
    "%time np.vectorize(divide)(df['A'], df['B'])                                # 48.1 ms\n",
    "%time [divide(a, b) for a, b in zip(df['A'], df['B'])];                     # 49.4 ms\n",
    "%time [divide(a, b) for a, b in df[['A', 'B']].itertuples(index=False)]     # 112 ms\n",
    "\n",
    "dfab=df[['A','B']]\n",
    "%time dfab.apply(lambda row: divide(*row), axis=1, raw=True)                  # 760 ms\n",
    "%time dfab.apply(lambda row: divide(*row), axis=1)              # 4.83 s\n",
    "%time df.apply(lambda row: divide(row['A'], row['B']), axis=1)              # 4.83 s\n",
    "%time [divide(row['A'], row['B']) for _, row in df[['A', 'B']].iterrows()]; # 11.6 s"
   ]
  },
  {
   "cell_type": "code",
   "execution_count": 7,
   "metadata": {},
   "outputs": [
    {
     "name": "stdout",
     "output_type": "stream",
     "text": [
      "CPU times: user 785 μs, sys: 2.95 ms, total: 3.74 ms\n",
      "Wall time: 2.33 ms\n"
     ]
    }
   ],
   "source": [
    "#ignore divide by 0 and possible np.inf\n",
    "%time (df['A'] / df['B']);"
   ]
  },
  {
   "cell_type": "code",
   "execution_count": 8,
   "metadata": {},
   "outputs": [
    {
     "name": "stdout",
     "output_type": "stream",
     "text": [
      "CPU times: user 4.68 ms, sys: 2.96 ms, total: 7.64 ms\n",
      "Wall time: 6.33 ms\n",
      "CPU times: user 2.82 ms, sys: 19 μs, total: 2.84 ms\n",
      "Wall time: 2.8 ms\n"
     ]
    }
   ],
   "source": [
    "# true vecorization\n",
    "%time (df['A'] / df['B']).replace([np.inf,-np.inf],0);  # .644 ms\n",
    "%time np.where(df['B'] == 0, 0, df['A'] / df['B']);     # .644 ms"
   ]
  },
  {
   "cell_type": "code",
   "execution_count": 28,
   "metadata": {},
   "outputs": [
    {
     "name": "stdout",
     "output_type": "stream",
     "text": [
      "20.5 μs ± 45 ns per loop (mean ± std. dev. of 7 runs, 10,000 loops each)\n"
     ]
    }
   ],
   "source": [
    "#want more speedup? compile to C\n",
    "from numba import njit\n",
    "\n",
    "@njit\n",
    "def divide(a, b):\n",
    "    res = np.empty(a.shape)\n",
    "    for i in range(len(a)):\n",
    "        if b[i] != 0:\n",
    "            res[i] = a[i] / b[i]\n",
    "        else:\n",
    "            res[i] = 0\n",
    "    return res\n",
    "\n",
    "%timeit divide(df['A'].values, df['B'].values);  # 717 µs"
   ]
  },
  {
   "cell_type": "code",
   "execution_count": null,
   "metadata": {},
   "outputs": [],
   "source": [
    "# Using @njit(parallel=True) may provide a further boost for larger arrays."
   ]
  }
 ],
 "metadata": {
  "kernelspec": {
   "display_name": "p311",
   "language": "python",
   "name": "python3"
  },
  "language_info": {
   "codemirror_mode": {
    "name": "ipython",
    "version": 3
   },
   "file_extension": ".py",
   "mimetype": "text/x-python",
   "name": "python",
   "nbconvert_exporter": "python",
   "pygments_lexer": "ipython3",
   "version": "3.11.9"
  },
  "widgets": {
   "application/vnd.jupyter.widget-state+json": {
    "state": {},
    "version_major": 2,
    "version_minor": 0
   }
  }
 },
 "nbformat": 4,
 "nbformat_minor": 4
}
