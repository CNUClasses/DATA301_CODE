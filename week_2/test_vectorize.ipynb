{
 "cells": [
  {
   "cell_type": "markdown",
   "metadata": {},
   "source": [
    "From https://stackoverflow.com/questions/52673285/performance-of-pandas-apply-vs-np-vectorize-to-create-new-column-from-existing-c"
   ]
  },
  {
   "cell_type": "code",
   "execution_count": 1,
   "metadata": {},
   "outputs": [],
   "source": [
    "import pandas as pd\n",
    "import numpy as np\n",
    "import time\n",
    "\n",
    "def divide(a, b):\n",
    "    if b == 0:\n",
    "        return 0.0\n",
    "    return float(a)/b\n",
    "\n",
    "# A_list = np.random.randint(1, 100, N)\n",
    "# B_list = np.random.randint(1, 100, N)\n",
    "# df = pd.DataFrame({'A': A_list, 'B': B_list})"
   ]
  },
  {
   "cell_type": "code",
   "execution_count": 2,
   "metadata": {},
   "outputs": [
    {
     "name": "stdout",
     "output_type": "stream",
     "text": [
      "\n",
      "CPU times: user 20 ms, sys: 32 µs, total: 20 ms\n",
      "Wall time: 19.3 ms\n",
      "CPU times: user 895 µs, sys: 230 µs, total: 1.12 ms\n",
      "Wall time: 945 µs\n",
      "\n",
      "CPU times: user 201 ms, sys: 0 ns, total: 201 ms\n",
      "Wall time: 201 ms\n",
      "CPU times: user 3.79 ms, sys: 0 ns, total: 3.79 ms\n",
      "Wall time: 3.73 ms\n",
      "\n",
      "CPU times: user 1.5 s, sys: 8.76 ms, total: 1.51 s\n",
      "Wall time: 1.51 s\n",
      "CPU times: user 51.4 ms, sys: 0 ns, total: 51.4 ms\n",
      "Wall time: 51.3 ms\n",
      "\n",
      "CPU times: user 14.3 s, sys: 129 ms, total: 14.4 s\n",
      "Wall time: 14.4 s\n",
      "CPU times: user 321 ms, sys: 16 ms, total: 337 ms\n",
      "Wall time: 337 ms\n"
     ]
    }
   ],
   "source": [
    "for N in [1000, 10000, 100000, 1000000]:    \n",
    "\n",
    "    print ('')\n",
    "\n",
    "    #create some random data, put in a dataframe\n",
    "    A_list = np.random.randint(1, 100, N)\n",
    "    B_list = np.random.randint(1, 100, N)\n",
    "    df = pd.DataFrame({'A': A_list, 'B': B_list})\n",
    "    \n",
    "    %time df['result'] = df.apply(lambda row: divide(row['A'], row['B']), axis=1)\n",
    "    %time df['result2'] = np.vectorize(divide)(df['A'], df['B'])\n",
    "\n",
    "    # Make sure results from df.apply and np.vectorize match.\n",
    "    assert(df['result'].equals(df['result2']))"
   ]
  },
  {
   "cell_type": "code",
   "execution_count": 6,
   "metadata": {},
   "outputs": [
    {
     "name": "stdout",
     "output_type": "stream",
     "text": [
      "CPU times: user 140 ms, sys: 18.7 ms, total: 159 ms\n",
      "Wall time: 158 ms\n",
      "CPU times: user 123 ms, sys: 14.8 ms, total: 138 ms\n",
      "Wall time: 139 ms\n",
      "CPU times: user 163 ms, sys: 9.85 ms, total: 173 ms\n",
      "Wall time: 174 ms\n",
      "CPU times: user 367 ms, sys: 4.99 ms, total: 372 ms\n",
      "Wall time: 374 ms\n",
      "CPU times: user 3.35 s, sys: 12 μs, total: 3.35 s\n",
      "Wall time: 3.37 s\n",
      "CPU times: user 2.96 s, sys: 40.8 ms, total: 3 s\n",
      "Wall time: 3.01 s\n",
      "CPU times: user 4.71 s, sys: 53.6 ms, total: 4.77 s\n",
      "Wall time: 4.79 s\n",
      "CPU times: user 20.9 s, sys: 24 ms, total: 21 s\n",
      "Wall time: 21.1 s\n"
     ]
    }
   ],
   "source": [
    "np.random.seed(0)\n",
    "N = 10**5\n",
    "\n",
    "%time list(map(divide, df['A'], df['B']))                                   # 43.9 ms\n",
    "%time np.vectorize(divide)(df['A'], df['B'])                                # 48.1 ms\n",
    "%time [divide(a, b) for a, b in zip(df['A'], df['B'])];                     # 49.4 ms\n",
    "%time [divide(a, b) for a, b in df[['A', 'B']].itertuples(index=False)]     # 112 ms\n",
    "\n",
    "dfab=df[['A','B']]\n",
    "%time dfab.apply(lambda row: divide(*row), axis=1, raw=True)                  # 760 ms\n",
    "%time dfab.apply(lambda row: divide(*row), axis=1)              # 4.83 s\n",
    "%time df.apply(lambda row: divide(row['A'], row['B']), axis=1)              # 4.83 s\n",
    "%time [divide(row['A'], row['B']) for _, row in df[['A', 'B']].iterrows()]; # 11.6 s"
   ]
  },
  {
   "cell_type": "code",
   "execution_count": 5,
   "metadata": {},
   "outputs": [
    {
     "name": "stdout",
     "output_type": "stream",
     "text": [
      "CPU times: user 11 ms, sys: 3.96 ms, total: 15 ms\n",
      "Wall time: 9.64 ms\n"
     ]
    }
   ],
   "source": [
    "#ignore divide by 0 and possible np.inf\n",
    "%time (df['A'] / df['B']);"
   ]
  },
  {
   "cell_type": "code",
   "execution_count": 4,
   "metadata": {},
   "outputs": [
    {
     "name": "stdout",
     "output_type": "stream",
     "text": [
      "CPU times: user 37.5 ms, sys: 12.1 ms, total: 49.6 ms\n",
      "Wall time: 47.2 ms\n",
      "CPU times: user 17.7 ms, sys: 655 µs, total: 18.4 ms\n",
      "Wall time: 18.4 ms\n"
     ]
    }
   ],
   "source": [
    "# true vecorization\n",
    "%time (df['A'] / df['B']).replace([np.inf,-np.inf],0);  # .644 ms\n",
    "%time np.where(df['B'] == 0, 0, df['A'] / df['B']);     # .644 ms"
   ]
  },
  {
   "cell_type": "code",
   "execution_count": 3,
   "metadata": {},
   "outputs": [
    {
     "name": "stdout",
     "output_type": "stream",
     "text": [
      "3.38 ms ± 353 µs per loop (mean ± std. dev. of 7 runs, 1 loop each)\n"
     ]
    }
   ],
   "source": [
    "#want more speedup? compile to C\n",
    "from numba import njit\n",
    "\n",
    "@njit\n",
    "def divide(a, b):\n",
    "    res = np.empty(a.shape)\n",
    "    for i in range(len(a)):\n",
    "        if b[i] != 0:\n",
    "            res[i] = a[i] / b[i]\n",
    "        else:\n",
    "            res[i] = 0\n",
    "    return res\n",
    "\n",
    "%timeit divide(df['A'].values, df['B'].values);  # 717 µs"
   ]
  },
  {
   "cell_type": "code",
   "execution_count": null,
   "metadata": {},
   "outputs": [],
   "source": [
    "# Using @njit(parallel=True) may provide a further boost for larger arrays."
   ]
  }
 ],
 "metadata": {
  "kernelspec": {
   "display_name": "p311",
   "language": "python",
   "name": "python3"
  },
  "language_info": {
   "codemirror_mode": {
    "name": "ipython",
    "version": 3
   },
   "file_extension": ".py",
   "mimetype": "text/x-python",
   "name": "python",
   "nbconvert_exporter": "python",
   "pygments_lexer": "ipython3",
   "version": "3.11.5"
  },
  "widgets": {
   "application/vnd.jupyter.widget-state+json": {
    "state": {},
    "version_major": 2,
    "version_minor": 0
   }
  }
 },
 "nbformat": 4,
 "nbformat_minor": 4
}
