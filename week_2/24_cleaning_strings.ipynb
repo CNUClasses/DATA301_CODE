{
 "cells": [
  {
   "cell_type": "markdown",
   "metadata": {},
   "source": [
    "# Cleaning string data\n",
    "Data cleaning is the process of fixing or removing incorrect, corrupted, incorrectly formatted, duplicate, or incomplete data within a dataset.\n",
    "For strings this process starts by applying a list of common functions (lower, strip).  Then handling missing and duplicate entries. And finally applying custom functions as needed."
   ]
  },
  {
   "cell_type": "code",
   "execution_count": 43,
   "metadata": {},
   "outputs": [],
   "source": [
    "import matplotlib.pyplot as plt\n",
    "import seaborn as sns\n",
    "plt.style.use('ggplot')\n",
    "import pandas as pd\n",
    "import numpy as np\n",
    "\n",
    "# Display all cell outputs\n",
    "from IPython.core.interactiveshell import InteractiveShell\n",
    "InteractiveShell.ast_node_interactivity = 'all'\n",
    "\n",
    "from IPython import get_ipython\n",
    "ipython = get_ipython()\n",
    "\n",
    "%matplotlib inline\n",
    "%config InlineBackend.figure_format = 'svg'\n",
    "\n",
    "# autoreload extension\n",
    "if 'autoreload' not in ipython.extension_manager.loaded:\n",
    "    %load_ext autoreload\n",
    "\n",
    "%autoreload 2\n",
    "\n",
    "# Set max rows and columns displayed in jupyter\n",
    "# pd.set_option(\"display.max_rows\", 100)\n",
    "# pd.set_option(\"display.max_columns\", 20)"
   ]
  },
  {
   "cell_type": "markdown",
   "metadata": {},
   "source": [
    "## Load a dataset"
   ]
  },
  {
   "cell_type": "code",
   "execution_count": 44,
   "metadata": {},
   "outputs": [],
   "source": [
    "FILE_RAW = '../projects/proj1/data/Ask A Manager Salary Survey 2021 (Responses) - Form Responses 1.csv'\n",
    "FILE_FEATHER = '../projects/proj1/data/AskAManagerSalarySurvey2021-Form Responses1.feather'"
   ]
  },
  {
   "cell_type": "code",
   "execution_count": 45,
   "metadata": {
    "tags": []
   },
   "outputs": [
    {
     "data": {
      "text/html": [
       "<div>\n",
       "<style scoped>\n",
       "    .dataframe tbody tr th:only-of-type {\n",
       "        vertical-align: middle;\n",
       "    }\n",
       "\n",
       "    .dataframe tbody tr th {\n",
       "        vertical-align: top;\n",
       "    }\n",
       "\n",
       "    .dataframe thead th {\n",
       "        text-align: right;\n",
       "    }\n",
       "</style>\n",
       "<table border=\"1\" class=\"dataframe\">\n",
       "  <thead>\n",
       "    <tr style=\"text-align: right;\">\n",
       "      <th></th>\n",
       "      <th>Timestamp</th>\n",
       "      <th>How old are you?</th>\n",
       "      <th>Industry</th>\n",
       "      <th>Job title</th>\n",
       "      <th>Additional context on job title</th>\n",
       "      <th>Annual salary</th>\n",
       "      <th>Other monetary comp</th>\n",
       "      <th>Currency</th>\n",
       "      <th>Currency - other</th>\n",
       "      <th>Additional context on income</th>\n",
       "      <th>Country</th>\n",
       "      <th>State</th>\n",
       "      <th>City</th>\n",
       "      <th>Overall years of professional experience</th>\n",
       "      <th>Years of experience in field</th>\n",
       "      <th>Highest level of education completed</th>\n",
       "      <th>Gender</th>\n",
       "      <th>Race</th>\n",
       "    </tr>\n",
       "  </thead>\n",
       "  <tbody>\n",
       "    <tr>\n",
       "      <th>0</th>\n",
       "      <td>4/27/2021 11:02:10</td>\n",
       "      <td>25-34</td>\n",
       "      <td>Education (Higher Education)</td>\n",
       "      <td>Research and Instruction Librarian</td>\n",
       "      <td>NaN</td>\n",
       "      <td>55,000</td>\n",
       "      <td>0.0</td>\n",
       "      <td>USD</td>\n",
       "      <td>NaN</td>\n",
       "      <td>NaN</td>\n",
       "      <td>United States</td>\n",
       "      <td>Massachusetts</td>\n",
       "      <td>Boston</td>\n",
       "      <td>5-7 years</td>\n",
       "      <td>5-7 years</td>\n",
       "      <td>Master's degree</td>\n",
       "      <td>Woman</td>\n",
       "      <td>White</td>\n",
       "    </tr>\n",
       "    <tr>\n",
       "      <th>1</th>\n",
       "      <td>4/27/2021 11:02:22</td>\n",
       "      <td>25-34</td>\n",
       "      <td>Computing or Tech</td>\n",
       "      <td>Change &amp; Internal Communications Manager</td>\n",
       "      <td>NaN</td>\n",
       "      <td>54,600</td>\n",
       "      <td>4000.0</td>\n",
       "      <td>GBP</td>\n",
       "      <td>NaN</td>\n",
       "      <td>NaN</td>\n",
       "      <td>United Kingdom</td>\n",
       "      <td>NaN</td>\n",
       "      <td>Cambridge</td>\n",
       "      <td>8 - 10 years</td>\n",
       "      <td>5-7 years</td>\n",
       "      <td>College degree</td>\n",
       "      <td>Non-binary</td>\n",
       "      <td>White</td>\n",
       "    </tr>\n",
       "    <tr>\n",
       "      <th>2</th>\n",
       "      <td>4/27/2021 11:02:38</td>\n",
       "      <td>25-34</td>\n",
       "      <td>Accounting, Banking &amp; Finance</td>\n",
       "      <td>Marketing Specialist</td>\n",
       "      <td>NaN</td>\n",
       "      <td>34,000</td>\n",
       "      <td>NaN</td>\n",
       "      <td>USD</td>\n",
       "      <td>NaN</td>\n",
       "      <td>NaN</td>\n",
       "      <td>US</td>\n",
       "      <td>Tennessee</td>\n",
       "      <td>Chattanooga</td>\n",
       "      <td>2 - 4 years</td>\n",
       "      <td>2 - 4 years</td>\n",
       "      <td>College degree</td>\n",
       "      <td>Woman</td>\n",
       "      <td>White</td>\n",
       "    </tr>\n",
       "    <tr>\n",
       "      <th>3</th>\n",
       "      <td>4/27/2021 11:02:41</td>\n",
       "      <td>25-34</td>\n",
       "      <td>Nonprofits</td>\n",
       "      <td>Program Manager</td>\n",
       "      <td>NaN</td>\n",
       "      <td>62,000</td>\n",
       "      <td>3000.0</td>\n",
       "      <td>USD</td>\n",
       "      <td>NaN</td>\n",
       "      <td>NaN</td>\n",
       "      <td>USA</td>\n",
       "      <td>Wisconsin</td>\n",
       "      <td>Milwaukee</td>\n",
       "      <td>8 - 10 years</td>\n",
       "      <td>5-7 years</td>\n",
       "      <td>College degree</td>\n",
       "      <td>Woman</td>\n",
       "      <td>White</td>\n",
       "    </tr>\n",
       "    <tr>\n",
       "      <th>4</th>\n",
       "      <td>4/27/2021 11:02:42</td>\n",
       "      <td>25-34</td>\n",
       "      <td>Accounting, Banking &amp; Finance</td>\n",
       "      <td>Accounting Manager</td>\n",
       "      <td>NaN</td>\n",
       "      <td>60,000</td>\n",
       "      <td>7000.0</td>\n",
       "      <td>USD</td>\n",
       "      <td>NaN</td>\n",
       "      <td>NaN</td>\n",
       "      <td>US</td>\n",
       "      <td>South Carolina</td>\n",
       "      <td>Greenville</td>\n",
       "      <td>8 - 10 years</td>\n",
       "      <td>5-7 years</td>\n",
       "      <td>College degree</td>\n",
       "      <td>Woman</td>\n",
       "      <td>White</td>\n",
       "    </tr>\n",
       "  </tbody>\n",
       "</table>\n",
       "</div>"
      ],
      "text/plain": [
       "            Timestamp How old are you?                       Industry  \\\n",
       "0  4/27/2021 11:02:10            25-34   Education (Higher Education)   \n",
       "1  4/27/2021 11:02:22            25-34              Computing or Tech   \n",
       "2  4/27/2021 11:02:38            25-34  Accounting, Banking & Finance   \n",
       "3  4/27/2021 11:02:41            25-34                     Nonprofits   \n",
       "4  4/27/2021 11:02:42            25-34  Accounting, Banking & Finance   \n",
       "\n",
       "                                  Job title Additional context on job title  \\\n",
       "0        Research and Instruction Librarian                             NaN   \n",
       "1  Change & Internal Communications Manager                             NaN   \n",
       "2                      Marketing Specialist                             NaN   \n",
       "3                           Program Manager                             NaN   \n",
       "4                        Accounting Manager                             NaN   \n",
       "\n",
       "  Annual salary  Other monetary comp Currency Currency - other  \\\n",
       "0        55,000                  0.0      USD              NaN   \n",
       "1        54,600               4000.0      GBP              NaN   \n",
       "2        34,000                  NaN      USD              NaN   \n",
       "3        62,000               3000.0      USD              NaN   \n",
       "4        60,000               7000.0      USD              NaN   \n",
       "\n",
       "  Additional context on income         Country           State         City  \\\n",
       "0                          NaN   United States   Massachusetts       Boston   \n",
       "1                          NaN  United Kingdom             NaN    Cambridge   \n",
       "2                          NaN              US       Tennessee  Chattanooga   \n",
       "3                          NaN             USA       Wisconsin    Milwaukee   \n",
       "4                          NaN              US  South Carolina   Greenville   \n",
       "\n",
       "  Overall years of professional experience Years of experience in field  \\\n",
       "0                                5-7 years                    5-7 years   \n",
       "1                             8 - 10 years                    5-7 years   \n",
       "2                              2 - 4 years                  2 - 4 years   \n",
       "3                             8 - 10 years                    5-7 years   \n",
       "4                             8 - 10 years                    5-7 years   \n",
       "\n",
       "  Highest level of education completed      Gender   Race  \n",
       "0                      Master's degree       Woman  White  \n",
       "1                       College degree  Non-binary  White  \n",
       "2                       College degree       Woman  White  \n",
       "3                       College degree       Woman  White  \n",
       "4                       College degree       Woman  White  "
      ]
     },
     "execution_count": 45,
     "metadata": {},
     "output_type": "execute_result"
    },
    {
     "name": "stdout",
     "output_type": "stream",
     "text": [
      "(27609, 18)\n"
     ]
    }
   ],
   "source": [
    "df=pd.read_csv(FILE_RAW)\n",
    "df.head()\n",
    "print(df.shape)"
   ]
  },
  {
   "cell_type": "code",
   "execution_count": 46,
   "metadata": {
    "tags": []
   },
   "outputs": [
    {
     "data": {
      "text/plain": [
       "Timestamp                                    object\n",
       "How old are you?                             object\n",
       "Industry                                     object\n",
       "Job title                                    object\n",
       "Additional context on job title              object\n",
       "Annual salary                                object\n",
       "Other monetary comp                         float64\n",
       "Currency                                     object\n",
       "Currency - other                             object\n",
       "Additional context on income                 object\n",
       "Country                                      object\n",
       "State                                        object\n",
       "City                                         object\n",
       "Overall years of professional experience     object\n",
       "Years of experience in field                 object\n",
       "Highest level of education completed         object\n",
       "Gender                                       object\n",
       "Race                                         object\n",
       "dtype: object"
      ]
     },
     "execution_count": 46,
     "metadata": {},
     "output_type": "execute_result"
    }
   ],
   "source": [
    "# what type is country?  if object then it's a string\n",
    "df.dtypes"
   ]
  },
  {
   "cell_type": "code",
   "execution_count": 47,
   "metadata": {
    "tags": []
   },
   "outputs": [
    {
     "data": {
      "text/plain": [
       "array([' New Zealand', ' U.S.', ' US', ' United States',\n",
       "       '$2,175.84/year is deducted for benefits',\n",
       "       'ARGENTINA BUT MY ORG IS IN THAILAND', 'Afghanistan', 'Africa',\n",
       "       'America', 'Aotearoa New Zealand', 'Argentina', 'Australi',\n",
       "       'Australia', 'Australia ', 'Australian ', 'Austria',\n",
       "       'Austria, but I work remotely for a Dutch/British company',\n",
       "       'Bangladesh', 'Bangladesh ', 'Belgium', 'Belgium ', 'Bermuda',\n",
       "       'Brasil', 'Brazil', 'Brazil ', 'Britain ', 'Bulgaria', 'CANADA',\n",
       "       'CANADA ', 'California ', 'Cambodia', 'Can', 'Canad', 'Canada',\n",
       "       'Canada ', 'Canada and USA', 'Canada, Ottawa, ontario', 'Canadw',\n",
       "       'Canadá', 'Canda', 'Catalonia', 'Cayman Islands', 'Chile', 'China',\n",
       "       'Colombia', 'Company in Germany. I work from Pakistan.', 'Congo',\n",
       "       'Contracts', 'Costa Rica', \"Cote d'Ivoire\"], dtype=object)"
      ]
     },
     "execution_count": 47,
     "metadata": {},
     "output_type": "execute_result"
    }
   ],
   "source": [
    "x=df['Country'].unique()\n",
    "x.sort()\n",
    "x[:50]"
   ]
  },
  {
   "cell_type": "markdown",
   "metadata": {},
   "source": [
    "## Lets handle missing Country data first to ensure below algorithms run correctly.  \n",
    "Lots of ways to do this, I'm going to do it the simple way, replace NaN with UNKNOWN\n",
    "\n",
    "This is not a good idea in general, especially if you have a way to figure out the country from the other data present"
   ]
  },
  {
   "cell_type": "code",
   "execution_count": 48,
   "metadata": {},
   "outputs": [
    {
     "data": {
      "text/plain": [
       "0"
      ]
     },
     "execution_count": 48,
     "metadata": {},
     "output_type": "execute_result"
    }
   ],
   "source": [
    "#how many missing Countries\n",
    "df.Country.isnull().sum()"
   ]
  },
  {
   "cell_type": "code",
   "execution_count": 49,
   "metadata": {},
   "outputs": [],
   "source": [
    "# None missing, if there were you could fill with a Sentinal value for now, \n",
    "# like UNKNOWN, makes it easy to find and deal with later, also ensures that\n",
    "# calculations do not fail because of NaNs\n",
    "df.Country = df.Country.fillna('UNKNOWN')"
   ]
  },
  {
   "cell_type": "code",
   "execution_count": 50,
   "metadata": {},
   "outputs": [
    {
     "data": {
      "text/plain": [
       "0"
      ]
     },
     "execution_count": 50,
     "metadata": {},
     "output_type": "execute_result"
    }
   ],
   "source": [
    "(df.Country=='UNKNOWN').sum()"
   ]
  },
  {
   "cell_type": "markdown",
   "metadata": {},
   "source": [
    "## There is a country column, lets use it to get all the USA entries.  Take a look at the number of unique entries"
   ]
  },
  {
   "cell_type": "code",
   "execution_count": 51,
   "metadata": {},
   "outputs": [
    {
     "name": "stdout",
     "output_type": "stream",
     "text": [
      "There are now 364 unique Country entries\n"
     ]
    }
   ],
   "source": [
    "#a small functions to see the number of unique country names\n",
    "def p_unique(df=df,col='Country'):print(f'There are now {df[col].nunique()} unique {col} entries')\n",
    "p_unique()"
   ]
  },
  {
   "cell_type": "code",
   "execution_count": 52,
   "metadata": {},
   "outputs": [
    {
     "name": "stdout",
     "output_type": "stream",
     "text": [
      "There are now 364 unique Country entries\n"
     ]
    }
   ],
   "source": [
    "#how many different countries are there\n",
    "start_with_this_many__unique_countries = df.Country.nunique()\n",
    "p_unique()"
   ]
  },
  {
   "cell_type": "markdown",
   "metadata": {},
   "source": [
    "## How many occurrences for each unique entry?"
   ]
  },
  {
   "cell_type": "code",
   "execution_count": 53,
   "metadata": {},
   "outputs": [
    {
     "name": "stdout",
     "output_type": "stream",
     "text": [
      "There are 364 unique entries\n"
     ]
    },
    {
     "data": {
      "text/plain": [
       "United States                8844\n",
       "USA                          7847\n",
       "US                           2572\n",
       "Canada                       1549\n",
       "United States                 652\n",
       "U.S.                          571\n",
       "UK                            566\n",
       "United Kingdom                540\n",
       "USA                           468\n",
       "Usa                           441\n",
       "United States of America      421\n",
       "Australia                     312\n",
       "United states                 203\n",
       "usa                           180\n",
       "Germany                       168\n",
       "England                       134\n",
       "united states                 113\n",
       "Us                            103\n",
       "Ireland                       102\n",
       "New Zealand                    94\n",
       "Uk                             84\n",
       "Canada                         75\n",
       "Australia                      67\n",
       "United Kingdom                 65\n",
       "France                         63\n",
       "U.S.A.                         46\n",
       "United States of America       43\n",
       "Spain                          40\n",
       "Netherlands                    40\n",
       "Scotland                       39\n",
       "Sweden                         34\n",
       "us                             34\n",
       "Belgium                        32\n",
       "England                        31\n",
       "Switzerland                    29\n",
       "canada                         27\n",
       "Japan                          26\n",
       "The Netherlands                25\n",
       "UK                             22\n",
       "U.S                            21\n",
       "New Zealand                    20\n",
       "America                        20\n",
       "United State                   19\n",
       "Germany                        19\n",
       "Ireland                        19\n",
       "US                             18\n",
       "Denmark                        17\n",
       "Usa                            17\n",
       "U.S.                           16\n",
       "Austria                        16\n",
       "Name: Country, dtype: int64"
      ]
     },
     "execution_count": 53,
     "metadata": {},
     "output_type": "execute_result"
    }
   ],
   "source": [
    "#lets see what we have\n",
    "vc=df.Country.value_counts()\n",
    "print(f'There are {len(vc)} unique entries')\n",
    "vc[:50]\n",
    "# vc[50:100]"
   ]
  },
  {
   "cell_type": "markdown",
   "metadata": {},
   "source": [
    "## It looks like there was no filtering on what a user could enter in the Country field, ANyway lets get to it"
   ]
  },
  {
   "cell_type": "markdown",
   "metadata": {},
   "source": [
    "## Apply lower and strip to get the easy gains"
   ]
  },
  {
   "cell_type": "code",
   "execution_count": 54,
   "metadata": {},
   "outputs": [
    {
     "name": "stdout",
     "output_type": "stream",
     "text": [
      "There are now 250 unique Country entries\n"
     ]
    }
   ],
   "source": [
    "df.Country = df.Country.map(str.lower).map(str.strip)\n",
    "\n",
    "p_unique()"
   ]
  },
  {
   "cell_type": "markdown",
   "metadata": {},
   "source": [
    "## Looks like a lot of punctuation, get rid of it all\n",
    "Use regular expressions"
   ]
  },
  {
   "cell_type": "code",
   "execution_count": 55,
   "metadata": {},
   "outputs": [],
   "source": [
    "import re"
   ]
  },
  {
   "cell_type": "code",
   "execution_count": 56,
   "metadata": {},
   "outputs": [
    {
     "name": "stdout",
     "output_type": "stream",
     "text": [
      "There are now 236 unique Country entries\n"
     ]
    }
   ],
   "source": [
    "#the regular expressions package\n",
    "import re\n",
    "punc = \"[!\\\"#$%&\\'()*+,-./:;<=>?@[\\\\]^_{|}~\\`]\"  #this is the punctuation to get rid of\n",
    "\n",
    "#or a function\n",
    "def fun1(x):\n",
    "    #re.sub will remove any punction char found in punc \n",
    "    return re.sub(punc, '', x)\n",
    "\n",
    "df.Country = df.Country.map(fun1)\n",
    "\n",
    "#can do the same thing with a lambda\n",
    "# df.Country = df.Country.map(lambda x: re.sub(punc, '', x))\n",
    "\n",
    "p_unique()"
   ]
  },
  {
   "cell_type": "code",
   "execution_count": 57,
   "metadata": {
    "tags": []
   },
   "outputs": [
    {
     "name": "stdout",
     "output_type": "stream",
     "text": [
      "There are now 236 unique Country entries\n"
     ]
    }
   ],
   "source": [
    "#start here Friday 1/20/22\n",
    "# type(df.Country.unique())  #what is it?\n",
    "p_unique()\n",
    "# np.sort(df.Country.unique())"
   ]
  },
  {
   "cell_type": "code",
   "execution_count": 58,
   "metadata": {},
   "outputs": [
    {
     "data": {
      "text/plain": [
       "united states             9842\n",
       "usa                       9014\n",
       "us                        3349\n",
       "canada                    1656\n",
       "uk                         695\n",
       "                          ... \n",
       "is                           3\n",
       "taiwan                       3\n",
       "romania                      3\n",
       "england united kingdom       3\n",
       "isa                          3\n",
       "Name: Country, Length: 68, dtype: int64"
      ]
     },
     "execution_count": 58,
     "metadata": {},
     "output_type": "execute_result"
    }
   ],
   "source": [
    "#lets see all unique country names that occur at leat twice\n",
    "ds=df.Country.value_counts()\n",
    "\n",
    "#filter 1 offs\n",
    "ds[ds>2]"
   ]
  },
  {
   "cell_type": "code",
   "execution_count": 59,
   "metadata": {},
   "outputs": [
    {
     "data": {
      "text/plain": [
       "217584year is deducted for benefits      1\n",
       "afghanistan                              1\n",
       "africa                                   1\n",
       "america                                 21\n",
       "aotearoa new zealand                     1\n",
       "argentina                                5\n",
       "argentina but my org is in thailand      1\n",
       "australi                                 1\n",
       "australia                              382\n",
       "australian                               1\n",
       "Name: Country, dtype: int64"
      ]
     },
     "execution_count": 59,
     "metadata": {},
     "output_type": "execute_result"
    }
   ],
   "source": [
    "#sort by index if you want \n",
    "ds1=ds.sort_index()\n",
    "ds1[:10]  #if you do them all then the really long index entry will knacker the output\n",
    "\n",
    "#turn index into column, turns series into dataframe\n",
    "# can access Country now like any other column\n",
    "# df1=ds.reset_index()\n",
    "# df1.sort_values(by=['index'])"
   ]
  },
  {
   "cell_type": "markdown",
   "metadata": {},
   "source": [
    "## Looks like a lot of variations of 'united state'\n",
    "\n",
    "Another easy gain, lets replace all strings with 'united state' in them with 'usa' "
   ]
  },
  {
   "cell_type": "code",
   "execution_count": 60,
   "metadata": {},
   "outputs": [],
   "source": [
    "def fun(x):\n",
    "    \"\"\"\n",
    "    replaces any string that contains 'united state' with 'usa'\n",
    "    BUT 'united state' and 'usa' are hardcoded, what if we wanted to use other values?\n",
    "    \"\"\"\n",
    "    if 'united state' in x:\n",
    "        return 'usa'\n",
    "    return x\n",
    "\n",
    "#dont do this yet there is a better more general way below\n",
    "# df.Country = df.Country.map(fun);"
   ]
  },
  {
   "cell_type": "markdown",
   "metadata": {},
   "source": [
    "## But you might want to do something similar with other strings, do you write another function?  Or do something a little more general?\n",
    "Be general, always, use a python closure."
   ]
  },
  {
   "cell_type": "markdown",
   "metadata": {},
   "source": [
    "## Closures\n",
    "The problem we face is that map takes a function that takes 1 parameter, and we want it to take 3; The string value passed by map (call it x), the string to search for in x (call it str_to_find), and the string to replace x with if we find str_to_find in x (call it str_replacement).\n",
    "\n",
    "We can't get around the fact that map only passes 1 parameter to the function.  But we can create a function that  already knows what str_to_find and str_replacement are.  Its called a closure"
   ]
  },
  {
   "cell_type": "code",
   "execution_count": 61,
   "metadata": {},
   "outputs": [],
   "source": [
    "def fun1(str_to_find, str_replacement):\n",
    "    \"\"\"\n",
    "    creates findandreplace Closure, which is a stateful function\n",
    "    that remembers str_to_find and str_replacement values\n",
    "    returns: findandreplace\n",
    "    \"\"\"\n",
    "    def findandreplace(x):\n",
    "        if str_to_find in x:\n",
    "            return str_replacement\n",
    "        return x\n",
    "    # in python functions are first class objects\n",
    "    # we are returning findandreplace, it in turn knows the value of \n",
    "    # str_to_find and str_replacement and takes an argument to search thru,x\n",
    "    return findandreplace\n",
    "\n",
    "#using the closure\n",
    "fn= fun1('us', 'usa')   #Uh Ohh, what about Australia? Or Austria or Belarus or Cyprus or Russia\n",
    "                        #careful with this sort of thing!\n",
    "# df.Country = df.Country.map(fn)"
   ]
  },
  {
   "cell_type": "code",
   "execution_count": 62,
   "metadata": {},
   "outputs": [],
   "source": [
    "#using the closure one at a time\n",
    "\n",
    "# fn= fun1('usa', 'usa')\n",
    "# df.Country = df.Country.map(fn)\n",
    "\n",
    "# fn= fun1('us', 'usa')\n",
    "# df.Country = df.Country.map(fn)\n",
    "\n",
    "# fn= fun1('u s', 'usa')\n",
    "# df.Country = df.Country.map(fn)\n",
    "\n",
    "# fn= fun1('unites states', 'usa')  #its a bit suspicious that 17 people made this mistake\n",
    "# df.Country = df.Country.map(fn)\n",
    "\n",
    "# fn= fun1('united sates', 'usa')\n",
    "# df.Country = df.Country.map(fn)\n",
    "\n",
    "# fn= fun1('unitedstates', 'usa')\n",
    "# df.Country = df.Country.map(fn)\n",
    "\n",
    "# fn= fun1('united stares', 'usa')\n",
    "# df.Country = df.Country.map(fn)\n",
    "#and so on"
   ]
  },
  {
   "cell_type": "code",
   "execution_count": 63,
   "metadata": {},
   "outputs": [
    {
     "name": "stdout",
     "output_type": "stream",
     "text": [
      "There are now 199 unique Country entries\n"
     ]
    }
   ],
   "source": [
    "#OR you can simplify the above with a list of str_to_find\n",
    "#and just iterate over it\n",
    "vals=['usa',  'u s', 'unites states', 'united sates', 'unitedstates', 'united stares', 'united stat', 'america']\n",
    "for val in vals:\n",
    "    fn= fun1(val, 'usa')\n",
    "    df.Country = df.Country.map(fn)\n",
    "p_unique()"
   ]
  },
  {
   "cell_type": "markdown",
   "metadata": {},
   "source": [
    "## Once you get down to the bottom of the unique values you will probably get a lot of one offs\n",
    "For instance lets see what the the values are"
   ]
  },
  {
   "cell_type": "code",
   "execution_count": 66,
   "metadata": {},
   "outputs": [
    {
     "data": {
      "text/plain": [
       "mainland china                                                                                                                                                                         1\n",
       "csnada                                                                                                                                                                                 1\n",
       "japan us gov position                                                                                                                                                                  1\n",
       "hartford                                                                                                                                                                               1\n",
       "new zealand aotearoa                                                                                                                                                                   1\n",
       "uniteed states                                                                                                                                                                         1\n",
       "uss                                                                                                                                                                                    1\n",
       "united arab emirates                                                                                                                                                                   1\n",
       "afghanistan                                                                                                                                                                            1\n",
       "virginia                                                                                                                                                                               1\n",
       "jersey channel islands                                                                                                                                                                 1\n",
       "italy south                                                                                                                                                                            1\n",
       "217584year is deducted for benefits                                                                                                                                                    1\n",
       "catalonia                                                                                                                                                                              1\n",
       "united kindom                                                                                                                                                                          1\n",
       "turkey                                                                                                                                                                                 1\n",
       "uxz                                                                                                                                                                                    1\n",
       "currently finance                                                                                                                                                                      1\n",
       "i am located in canada but i work for a company in the us                                                                                                                              1\n",
       "cayman islands                                                                                                                                                                         1\n",
       "russia                                                                                                                                                                                 1\n",
       "trinidad and tobago                                                                                                                                                                    1\n",
       "costa rica                                                                                                                                                                             1\n",
       "i earn commission on sales if i meet quota im guaranteed another 16k min last year i earned an additional 27k its not uncommon for people in my space to earn 100k after commission    1\n",
       "worldwide based in us but short term trips aroudn the world                                                                                                                            1\n",
       "the bahamas                                                                                                                                                                            1\n",
       "international                                                                                                                                                                          1\n",
       "bonus based on meeting yearly goals set w my supervisor                                                                                                                                1\n",
       "uae                                                                                                                                                                                    1\n",
       "englang                                                                                                                                                                                1\n",
       "sierra leone                                                                                                                                                                           1\n",
       "canadw                                                                                                                                                                                 1\n",
       "slovakia                                                                                                                                                                               1\n",
       "nederland                                                                                                                                                                              1\n",
       "nl                                                                                                                                                                                     1\n",
       "uk northern england                                                                                                                                                                    1\n",
       "danmark                                                                                                                                                                                1\n",
       "england gb                                                                                                                                                                             1\n",
       "wales united kingdom                                                                                                                                                                   1\n",
       "somalia                                                                                                                                                                                1\n",
       "from romania but for an us based company                                                                                                                                               1\n",
       "cote divoire                                                                                                                                                                           1\n",
       "australi                                                                                                                                                                               1\n",
       "slovenia                                                                                                                                                                               1\n",
       "cuba                                                                                                                                                                                   1\n",
       "united kingdomk                                                                                                                                                                        1\n",
       "colombia                                                                                                                                                                               1\n",
       "eritrea                                                                                                                                                                                1\n",
       "unted states                                                                                                                                                                           1\n",
       "canadá                                                                                                                                                                                 1\n",
       "Name: Country, dtype: int64"
      ]
     },
     "execution_count": 66,
     "metadata": {},
     "output_type": "execute_result"
    }
   ],
   "source": [
    "# vals=df.Country.unique()\n",
    "# vals.sort()\n",
    "# vals\n",
    "df.Country.value_counts()[-50:]"
   ]
  },
  {
   "cell_type": "markdown",
   "metadata": {},
   "source": [
    "## Notice there are a lot of united states ish entries at the bottom, lets see if fuzzy wuzzy helps"
   ]
  },
  {
   "cell_type": "code",
   "execution_count": null,
   "metadata": {
    "tags": []
   },
   "outputs": [],
   "source": [
    "# this package lives in the conda forge\n",
    "# !conda install -c conda-forge fuzzywuzzy -y"
   ]
  },
  {
   "cell_type": "code",
   "execution_count": 67,
   "metadata": {},
   "outputs": [],
   "source": [
    "# helpful modules\n",
    "import fuzzywuzzy\n",
    "from fuzzywuzzy import process"
   ]
  },
  {
   "cell_type": "code",
   "execution_count": 68,
   "metadata": {
    "tags": []
   },
   "outputs": [
    {
     "data": {
      "text/plain": [
       "[('united y', 67, 22822),\n",
       " ('kuwait', 60, 1915),\n",
       " ('unite states', 50, 10447),\n",
       " ('unite states', 50, 13362),\n",
       " ('united sttes', 50, 14113),\n",
       " ('united kindom', 47, 7156),\n",
       " ('uniter statez', 47, 16890),\n",
       " ('unitef stated', 47, 20206),\n",
       " ('united  states', 47, 26059),\n",
       " ('lithuania', 46, 11426),\n",
       " ('lithuania', 46, 20695),\n",
       " ('united kingdom', 44, 1),\n",
       " ('united kingdom', 44, 15),\n",
       " ('united kingdom', 44, 59),\n",
       " ('united kingdom', 44, 93),\n",
       " ('united kingdom', 44, 114),\n",
       " ('united kingdom', 44, 126),\n",
       " ('united kingdom', 44, 147),\n",
       " ('united kingdom', 44, 177),\n",
       " ('united kingdom', 44, 207),\n",
       " ('united kingdom', 44, 295),\n",
       " ('united kingdom', 44, 301),\n",
       " ('united kingdom', 44, 339),\n",
       " ('india', 44, 434),\n",
       " ('united kingdom', 44, 493),\n",
       " ('united kingdom', 44, 518),\n",
       " ('united kingdom', 44, 641),\n",
       " ('united kingdom', 44, 648),\n",
       " ('united kingdom', 44, 664),\n",
       " ('united kingdom', 44, 682),\n",
       " ('united kingdom', 44, 699),\n",
       " ('united kingdom', 44, 785),\n",
       " ('united kingdom', 44, 877),\n",
       " ('united kingdom', 44, 953),\n",
       " ('united kingdom', 44, 957),\n",
       " ('united kingdom', 44, 1005),\n",
       " ('united kingdom', 44, 1016),\n",
       " ('united kingdom', 44, 1144),\n",
       " ('united kingdom', 44, 1148),\n",
       " ('united kingdom', 44, 1149),\n",
       " ('united kingdom', 44, 1199),\n",
       " ('united kingdom', 44, 1232),\n",
       " ('united kingdom', 44, 1257),\n",
       " ('united kingdom', 44, 1284),\n",
       " ('united kingdom', 44, 1360),\n",
       " ('united kingdom', 44, 1371),\n",
       " ('united kingdom', 44, 1404),\n",
       " ('united kingdom', 44, 1472),\n",
       " ('united kingdom', 44, 1512),\n",
       " ('united kingdom', 44, 1519)]"
      ]
     },
     "execution_count": 68,
     "metadata": {},
     "output_type": "execute_result"
    }
   ],
   "source": [
    "#looking for strings similar to 'unit', for return list\n",
    "# first is the match, second is the score, third is the index in the dataframe\n",
    "matches = fuzzywuzzy.process.extract(\"unit\", df.Country, limit=50, scorer=fuzzywuzzy.fuzz.token_sort_ratio)\n",
    "matches"
   ]
  },
  {
   "cell_type": "code",
   "execution_count": 69,
   "metadata": {},
   "outputs": [
    {
     "data": {
      "text/plain": [
       "'united y'"
      ]
     },
     "execution_count": 69,
     "metadata": {},
     "output_type": "execute_result"
    }
   ],
   "source": [
    "#get the first match to prove that the index is the index in the dataframe\n",
    "df.iloc[ matches[0][2]].Country"
   ]
  },
  {
   "cell_type": "code",
   "execution_count": 70,
   "metadata": {},
   "outputs": [
    {
     "name": "stdout",
     "output_type": "stream",
     "text": [
      "{'uniter statez', 'united kingdom', 'kuwait', 'unitef stated', 'united kindom', 'india', 'unite states', 'lithuania', 'united y', 'united  states', 'united sttes'}\n"
     ]
    }
   ],
   "source": [
    "#they look pretty good, except for the united kingdom, kuwait (kuwait???), india\n",
    "#lets get all the unique matches in matches\n",
    "#first all matches\n",
    "l=[]\n",
    "for mtch in matches:\n",
    "    l.append(mtch[0])\n",
    "\n",
    "# get unique values\n",
    "l = set(l)\n",
    "print(l)"
   ]
  },
  {
   "cell_type": "code",
   "execution_count": 71,
   "metadata": {},
   "outputs": [
    {
     "name": "stdout",
     "output_type": "stream",
     "text": [
      "{'uniter statez', 'unitef stated', 'unite states', 'united y', 'united  states', 'united sttes'}\n",
      "There are now 193 unique Country entries\n"
     ]
    }
   ],
   "source": [
    "#eyeball to get a list of bogus values\n",
    "dont_sub_these=['lithuania','kuwait','united kingdom', 'india', 'united kindom']\n",
    "\n",
    "#remove from l\n",
    "for v in dont_sub_these:\n",
    "    try:\n",
    "        l.remove(v)\n",
    "    except KeyError as e:\n",
    "        pass\n",
    "print(l)\n",
    "\n",
    "#now call the above closure\n",
    "for v in l:\n",
    "    fn= fun1(v, 'usa')\n",
    "    df.Country = df.Country.map(fn)\n",
    "\n",
    "p_unique()"
   ]
  },
  {
   "cell_type": "markdown",
   "metadata": {},
   "source": [
    "## Add a new column to track the changed columns\n",
    "<mark> HOMEWORK: A better way would be to rename 'Country' to 'Country_original' and add a new column 'Country_computed' so we lose no data. <br>\n",
    "    For this you need access to 2 columns in the dataframe, so map will not work, you should use apply"
   ]
  },
  {
   "cell_type": "code",
   "execution_count": null,
   "metadata": {
    "tags": []
   },
   "outputs": [],
   "source": [
    "df.head()"
   ]
  },
  {
   "cell_type": "code",
   "execution_count": null,
   "metadata": {},
   "outputs": [],
   "source": [
    "#will receive a row of data and return a single value\n",
    "def fun2(row):\n",
    "    #have whole row to operate on\n",
    "    if row.Country == 'usa':\n",
    "        return True\n",
    "    return False\n",
    "\n",
    "\n",
    "#record whether usa has been found yet or not\n",
    "df['found_in_db'] = df.apply(fun2, axis=1)"
   ]
  },
  {
   "cell_type": "code",
   "execution_count": null,
   "metadata": {},
   "outputs": [],
   "source": [
    "print((df.found_in_db == True).sum())\n",
    "print((df.found_in_db == False).sum())"
   ]
  },
  {
   "cell_type": "markdown",
   "metadata": {
    "tags": []
   },
   "source": [
    "# Lets see if we can do this for other countries.  It will be easier if we have a package that has a list of countries.\n",
    "\n",
    "<a href=\"https://pypi.org/project/pycountry/\">pycountry</a> is perfect.  It has a list of countries and a fuzzy lookup API. \n"
   ]
  },
  {
   "cell_type": "code",
   "execution_count": null,
   "metadata": {
    "tags": []
   },
   "outputs": [],
   "source": [
    "# !conda install -c conda-forge pycountry -y"
   ]
  },
  {
   "cell_type": "code",
   "execution_count": 72,
   "metadata": {},
   "outputs": [],
   "source": [
    "import pycountry"
   ]
  },
  {
   "cell_type": "markdown",
   "metadata": {},
   "source": [
    "### Demonstrate Pycountry: The following pycountry call will return a tupple if the country found, otherwise it will throw a LookupError"
   ]
  },
  {
   "cell_type": "code",
   "execution_count": 73,
   "metadata": {},
   "outputs": [
    {
     "data": {
      "text/plain": [
       "Country(alpha_2='DE', alpha_3='DEU', name='Germany', numeric='276', official_name='Federal Republic of Germany')"
      ]
     },
     "execution_count": 73,
     "metadata": {},
     "output_type": "execute_result"
    },
    {
     "data": {
      "text/plain": [
       "Country(alpha_2='DE', alpha_3='DEU', name='Germany', numeric='276', official_name='Federal Republic of Germany')"
      ]
     },
     "execution_count": 73,
     "metadata": {},
     "output_type": "execute_result"
    },
    {
     "data": {
      "text/plain": [
       "'USA'"
      ]
     },
     "execution_count": 73,
     "metadata": {},
     "output_type": "execute_result"
    },
    {
     "data": {
      "text/plain": [
       "Country(alpha_2='US', alpha_3='USA', name='United States', numeric='840', official_name='United States of America')"
      ]
     },
     "execution_count": 73,
     "metadata": {},
     "output_type": "execute_result"
    }
   ],
   "source": [
    "pycountry.countries.lookup('de')\n",
    "pycountry.countries.lookup('germany')\n",
    "pycountry.countries.lookup('usa').alpha_3\n",
    "pycountry.countries.lookup('United States of America')\n",
    "# pycountry.countries.lookup('united sates') #fails"
   ]
  },
  {
   "cell_type": "code",
   "execution_count": 74,
   "metadata": {},
   "outputs": [
    {
     "data": {
      "text/plain": [
       "[Country(alpha_2='GB', alpha_3='GBR', name='United Kingdom', numeric='826', official_name='United Kingdom of Great Britain and Northern Ireland'),\n",
       " Country(alpha_2='AU', alpha_3='AUS', name='Australia', numeric='036')]"
      ]
     },
     "execution_count": 74,
     "metadata": {},
     "output_type": "execute_result"
    }
   ],
   "source": [
    "#lets try a fuzzy search to seee if we get a few more\n",
    "pycountry.countries.search_fuzzy('wales')"
   ]
  },
  {
   "cell_type": "markdown",
   "metadata": {},
   "source": [
    "## Lets apply this to the entire DataFrame"
   ]
  },
  {
   "cell_type": "code",
   "execution_count": null,
   "metadata": {},
   "outputs": [],
   "source": [
    "from tqdm.auto import tqdm  #tqdm gives you the neat little status bar, useful for very long running operations\n",
    "tqdm.pandas()"
   ]
  },
  {
   "cell_type": "code",
   "execution_count": null,
   "metadata": {
    "tags": []
   },
   "outputs": [],
   "source": [
    "def fix(df, i, cont, search_type):\n",
    "    '''\n",
    "    df: dataframe\n",
    "    i: row\n",
    "    cont: tuple from pycountry lookup hit \n",
    "    search_type: unused-what type of pycountry search was used ()\n",
    "    '''\n",
    "    # print(f' {search_type} {cont.alpha_3} for {df.loc[i, \"Country\"]}')\n",
    "    df.loc[i, 'found_in_db'] = True  #found column\n",
    "    df.loc[i, 'Country']=cont.alpha_3  #save the 3 letter alpha character for the country\n",
    "def find_countries(df):\n",
    "    #record whether pycountry finds result or not\n",
    "    for i in tqdm(range(len(df))):  # for every row\n",
    "        try:\n",
    "            #try the most accurate lookup first\n",
    "            res = pycountry.countries.lookup(df.loc[i, 'Country']) \n",
    "            #if you get here lookup returned result, use it\n",
    "            fix(df, i, res, \"Accurate swap\")\n",
    "        except LookupError as le:\n",
    "            #lookup above failed, try fuzzy, you may get many results\n",
    "            try:\n",
    "                res = pycountry.countries.search_fuzzy(df.loc[i, 'Country'])\n",
    "                #if you get here search_fuzzy returned result, should you use it?\n",
    "                #SHOULD CHECK CONFIDENCE, THIS CODE DOES NOT\n",
    "                fix(df, i, res[0], \"Fuzzy swap\")\n",
    "            except LookupError as le:\n",
    "                pass\n",
    "    return df\n",
    "\n",
    "\n",
    "df = find_countries(df)"
   ]
  },
  {
   "cell_type": "code",
   "execution_count": null,
   "metadata": {},
   "outputs": [],
   "source": [
    "df.Country.value_counts()\n",
    "p_unique()"
   ]
  },
  {
   "cell_type": "markdown",
   "metadata": {},
   "source": [
    "## Final Tally"
   ]
  },
  {
   "cell_type": "code",
   "execution_count": null,
   "metadata": {},
   "outputs": [],
   "source": [
    "numb_found = df.found_in_db.sum()\n",
    "print(f' Number countries identified {numb_found}')\n",
    "print(f' Number countries unidentified {len(df)-numb_found}')\n",
    "print(f' Number unique countries {df.Country.nunique()}')"
   ]
  },
  {
   "cell_type": "code",
   "execution_count": null,
   "metadata": {
    "tags": []
   },
   "outputs": [],
   "source": [
    "df[df['found_in_db']==False].Country.value_counts()"
   ]
  },
  {
   "cell_type": "markdown",
   "metadata": {},
   "source": [
    "## Lets see what the top 10 countries are"
   ]
  },
  {
   "cell_type": "code",
   "execution_count": null,
   "metadata": {},
   "outputs": [],
   "source": [
    "df_tt=df.groupby('Country').count().sort_values(by='found_in_db',ascending=False)\n",
    "df_tt"
   ]
  },
  {
   "cell_type": "code",
   "execution_count": null,
   "metadata": {},
   "outputs": [],
   "source": [
    "# sns.histplot(data=df_tt.iloc[:3,:], x='found_in_db',  hue=df_tt.index[:3]);\n",
    "# sns.displot(data=df_tt.iloc[:3,:], x='found_in_db',  hue=df_tt.index[:3], kind='hist', fill=True);\n",
    "df_tmp=df_tt.iloc[:10,:]\n",
    "sns.barplot(data=df_tmp,x=df_tmp.index, y='found_in_db');"
   ]
  },
  {
   "cell_type": "markdown",
   "metadata": {},
   "source": [
    "## When finished saved processed data for further evaluation"
   ]
  },
  {
   "cell_type": "code",
   "execution_count": null,
   "metadata": {},
   "outputs": [],
   "source": [
    "# save to feather format\n",
    "df.to_feather(FILE_FEATHER)"
   ]
  }
 ],
 "metadata": {
  "kernelspec": {
   "display_name": "Python 3 (ipykernel)",
   "language": "python",
   "name": "python3"
  },
  "language_info": {
   "codemirror_mode": {
    "name": "ipython",
    "version": 3
   },
   "file_extension": ".py",
   "mimetype": "text/x-python",
   "name": "python",
   "nbconvert_exporter": "python",
   "pygments_lexer": "ipython3",
   "version": "3.9.15"
  },
  "toc-autonumbering": true,
  "widgets": {
   "application/vnd.jupyter.widget-state+json": {
    "state": {
     "16db4f6d59974063a9bc8860079adaf9": {
      "model_module": "@jupyter-widgets/controls",
      "model_module_version": "1.5.0",
      "model_name": "FloatProgressModel",
      "state": {
       "bar_style": "success",
       "layout": "IPY_MODEL_59b2ce9b4ad44e87a5b83adf2ae9112b",
       "max": 27609,
       "style": "IPY_MODEL_4efd2d9d6d6749e6a410eed8982c4548",
       "value": 27609
      }
     },
     "29894e788f3a412aacdccea5e04afb00": {
      "model_module": "@jupyter-widgets/base",
      "model_module_version": "1.2.0",
      "model_name": "LayoutModel",
      "state": {}
     },
     "3b6f6c3347e44b4084214f56a8448672": {
      "model_module": "@jupyter-widgets/controls",
      "model_module_version": "1.5.0",
      "model_name": "HTMLModel",
      "state": {
       "layout": "IPY_MODEL_29894e788f3a412aacdccea5e04afb00",
       "style": "IPY_MODEL_e7a091c358974b4da4f54621a0daefbe",
       "value": "100%"
      }
     },
     "4efd2d9d6d6749e6a410eed8982c4548": {
      "model_module": "@jupyter-widgets/controls",
      "model_module_version": "1.5.0",
      "model_name": "ProgressStyleModel",
      "state": {
       "description_width": ""
      }
     },
     "59b2ce9b4ad44e87a5b83adf2ae9112b": {
      "model_module": "@jupyter-widgets/base",
      "model_module_version": "1.2.0",
      "model_name": "LayoutModel",
      "state": {}
     },
     "80e0d72b74384b80a73ff8986961cc30": {
      "model_module": "@jupyter-widgets/controls",
      "model_module_version": "1.5.0",
      "model_name": "HTMLModel",
      "state": {
       "layout": "IPY_MODEL_bfeb9fc6bd5947e6af4fb23af7c8a86e",
       "style": "IPY_MODEL_a69072fa9d2e4601aa34666400f40396",
       "value": " 27609/27609 [00:31&lt;00:00, 1265.59it/s]"
      }
     },
     "a69072fa9d2e4601aa34666400f40396": {
      "model_module": "@jupyter-widgets/controls",
      "model_module_version": "1.5.0",
      "model_name": "DescriptionStyleModel",
      "state": {
       "description_width": ""
      }
     },
     "b4d06629cdf448549faceb7629ce52a5": {
      "model_module": "@jupyter-widgets/base",
      "model_module_version": "1.2.0",
      "model_name": "LayoutModel",
      "state": {}
     },
     "bfeb9fc6bd5947e6af4fb23af7c8a86e": {
      "model_module": "@jupyter-widgets/base",
      "model_module_version": "1.2.0",
      "model_name": "LayoutModel",
      "state": {}
     },
     "c52316552b5c4562bb99f219f8dd2408": {
      "model_module": "@jupyter-widgets/controls",
      "model_module_version": "1.5.0",
      "model_name": "HBoxModel",
      "state": {
       "children": [
        "IPY_MODEL_3b6f6c3347e44b4084214f56a8448672",
        "IPY_MODEL_16db4f6d59974063a9bc8860079adaf9",
        "IPY_MODEL_80e0d72b74384b80a73ff8986961cc30"
       ],
       "layout": "IPY_MODEL_b4d06629cdf448549faceb7629ce52a5"
      }
     },
     "e7a091c358974b4da4f54621a0daefbe": {
      "model_module": "@jupyter-widgets/controls",
      "model_module_version": "1.5.0",
      "model_name": "DescriptionStyleModel",
      "state": {
       "description_width": ""
      }
     }
    },
    "version_major": 2,
    "version_minor": 0
   }
  }
 },
 "nbformat": 4,
 "nbformat_minor": 4
}
