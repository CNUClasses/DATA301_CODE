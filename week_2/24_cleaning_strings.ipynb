{
 "cells": [
  {
   "cell_type": "markdown",
   "metadata": {},
   "source": [
    "# Cleaning string data\n",
    "Data cleaning is the process of fixing or removing incorrect, corrupted, incorrectly formatted, duplicate, or incomplete data within a dataset.\n",
    "For strings this process starts by applying a list of common functions (lower, strip).  Then handling missing and duplicate entries. And finally applying custom functions as needed."
   ]
  },
  {
   "cell_type": "code",
   "execution_count": 69,
   "metadata": {},
   "outputs": [
    {
     "name": "stdout",
     "output_type": "stream",
     "text": [
      "The autoreload extension is already loaded. To reload it, use:\n",
      "  %reload_ext autoreload\n"
     ]
    }
   ],
   "source": [
    "import matplotlib.pyplot as plt\n",
    "import seaborn as sns\n",
    "plt.style.use('ggplot')\n",
    "import pandas as pd\n",
    "import numpy as np\n",
    "\n",
    "# Display all cell outputs\n",
    "from IPython.core.interactiveshell import InteractiveShell\n",
    "InteractiveShell.ast_node_interactivity = 'all'\n",
    "\n",
    "from IPython import get_ipython\n",
    "ipython = get_ipython()\n",
    "\n",
    "%matplotlib inline\n",
    "%config InlineBackend.figure_format = 'svg'\n",
    "\n",
    "# autoreload extension\n",
    "if 'autoreload' not in ipython.extension_manager.loaded:\n",
    "    %load_ext autoreload\n",
    "\n",
    "%autoreload 2\n",
    "\n",
    "# Set max rows and columns displayed in jupyter\n",
    "# pd.set_option(\"display.max_rows\", 100)\n",
    "# pd.set_option(\"display.max_columns\", 20)"
   ]
  },
  {
   "cell_type": "markdown",
   "metadata": {},
   "source": [
    "## Load a dataset"
   ]
  },
  {
   "cell_type": "code",
   "execution_count": 70,
   "metadata": {},
   "outputs": [],
   "source": [
    "FILE_RAW = '../projects/proj1/data/Ask A Manager Salary Survey 2021 (Responses) - Form Responses 1.csv'\n",
    "FILE_FEATHER = '../projects/proj1/data/AskAManagerSalarySurvey2021-Form Responses1.feather'\n",
    "\n",
    "\n",
    "# FILE_RAW = '../projects/proj1/data/AAMFR.csv'\n",
    "# FILE_FEATHER = '../projects/proj1/data/AAMFR.feather'"
   ]
  },
  {
   "cell_type": "code",
   "execution_count": 71,
   "metadata": {
    "tags": []
   },
   "outputs": [
    {
     "data": {
      "text/html": [
       "<div>\n",
       "<style scoped>\n",
       "    .dataframe tbody tr th:only-of-type {\n",
       "        vertical-align: middle;\n",
       "    }\n",
       "\n",
       "    .dataframe tbody tr th {\n",
       "        vertical-align: top;\n",
       "    }\n",
       "\n",
       "    .dataframe thead th {\n",
       "        text-align: right;\n",
       "    }\n",
       "</style>\n",
       "<table border=\"1\" class=\"dataframe\">\n",
       "  <thead>\n",
       "    <tr style=\"text-align: right;\">\n",
       "      <th></th>\n",
       "      <th>Timestamp</th>\n",
       "      <th>How old are you?</th>\n",
       "      <th>Industry</th>\n",
       "      <th>Job title</th>\n",
       "      <th>Additional context on job title</th>\n",
       "      <th>Annual salary</th>\n",
       "      <th>Other monetary comp</th>\n",
       "      <th>Currency</th>\n",
       "      <th>Currency - other</th>\n",
       "      <th>Additional context on income</th>\n",
       "      <th>Country</th>\n",
       "      <th>State</th>\n",
       "      <th>City</th>\n",
       "      <th>Overall years of professional experience</th>\n",
       "      <th>Years of experience in field</th>\n",
       "      <th>Highest level of education completed</th>\n",
       "      <th>Gender</th>\n",
       "      <th>Race</th>\n",
       "    </tr>\n",
       "  </thead>\n",
       "  <tbody>\n",
       "    <tr>\n",
       "      <th>0</th>\n",
       "      <td>4/27/2021 11:02:10</td>\n",
       "      <td>25-34</td>\n",
       "      <td>Education (Higher Education)</td>\n",
       "      <td>Research and Instruction Librarian</td>\n",
       "      <td>NaN</td>\n",
       "      <td>55,000</td>\n",
       "      <td>0.0</td>\n",
       "      <td>USD</td>\n",
       "      <td>NaN</td>\n",
       "      <td>NaN</td>\n",
       "      <td>United States</td>\n",
       "      <td>Massachusetts</td>\n",
       "      <td>Boston</td>\n",
       "      <td>5-7 years</td>\n",
       "      <td>5-7 years</td>\n",
       "      <td>Master's degree</td>\n",
       "      <td>Woman</td>\n",
       "      <td>White</td>\n",
       "    </tr>\n",
       "    <tr>\n",
       "      <th>1</th>\n",
       "      <td>4/27/2021 11:02:22</td>\n",
       "      <td>25-34</td>\n",
       "      <td>Computing or Tech</td>\n",
       "      <td>Change &amp; Internal Communications Manager</td>\n",
       "      <td>NaN</td>\n",
       "      <td>54,600</td>\n",
       "      <td>4000.0</td>\n",
       "      <td>GBP</td>\n",
       "      <td>NaN</td>\n",
       "      <td>NaN</td>\n",
       "      <td>United Kingdom</td>\n",
       "      <td>NaN</td>\n",
       "      <td>Cambridge</td>\n",
       "      <td>8 - 10 years</td>\n",
       "      <td>5-7 years</td>\n",
       "      <td>College degree</td>\n",
       "      <td>Non-binary</td>\n",
       "      <td>White</td>\n",
       "    </tr>\n",
       "    <tr>\n",
       "      <th>2</th>\n",
       "      <td>4/27/2021 11:02:38</td>\n",
       "      <td>25-34</td>\n",
       "      <td>Accounting, Banking &amp; Finance</td>\n",
       "      <td>Marketing Specialist</td>\n",
       "      <td>NaN</td>\n",
       "      <td>34,000</td>\n",
       "      <td>NaN</td>\n",
       "      <td>USD</td>\n",
       "      <td>NaN</td>\n",
       "      <td>NaN</td>\n",
       "      <td>US</td>\n",
       "      <td>Tennessee</td>\n",
       "      <td>Chattanooga</td>\n",
       "      <td>2 - 4 years</td>\n",
       "      <td>2 - 4 years</td>\n",
       "      <td>College degree</td>\n",
       "      <td>Woman</td>\n",
       "      <td>White</td>\n",
       "    </tr>\n",
       "    <tr>\n",
       "      <th>3</th>\n",
       "      <td>4/27/2021 11:02:41</td>\n",
       "      <td>25-34</td>\n",
       "      <td>Nonprofits</td>\n",
       "      <td>Program Manager</td>\n",
       "      <td>NaN</td>\n",
       "      <td>62,000</td>\n",
       "      <td>3000.0</td>\n",
       "      <td>USD</td>\n",
       "      <td>NaN</td>\n",
       "      <td>NaN</td>\n",
       "      <td>USA</td>\n",
       "      <td>Wisconsin</td>\n",
       "      <td>Milwaukee</td>\n",
       "      <td>8 - 10 years</td>\n",
       "      <td>5-7 years</td>\n",
       "      <td>College degree</td>\n",
       "      <td>Woman</td>\n",
       "      <td>White</td>\n",
       "    </tr>\n",
       "    <tr>\n",
       "      <th>4</th>\n",
       "      <td>4/27/2021 11:02:42</td>\n",
       "      <td>25-34</td>\n",
       "      <td>Accounting, Banking &amp; Finance</td>\n",
       "      <td>Accounting Manager</td>\n",
       "      <td>NaN</td>\n",
       "      <td>60,000</td>\n",
       "      <td>7000.0</td>\n",
       "      <td>USD</td>\n",
       "      <td>NaN</td>\n",
       "      <td>NaN</td>\n",
       "      <td>US</td>\n",
       "      <td>South Carolina</td>\n",
       "      <td>Greenville</td>\n",
       "      <td>8 - 10 years</td>\n",
       "      <td>5-7 years</td>\n",
       "      <td>College degree</td>\n",
       "      <td>Woman</td>\n",
       "      <td>White</td>\n",
       "    </tr>\n",
       "  </tbody>\n",
       "</table>\n",
       "</div>"
      ],
      "text/plain": [
       "            Timestamp How old are you?                       Industry  \\\n",
       "0  4/27/2021 11:02:10            25-34   Education (Higher Education)   \n",
       "1  4/27/2021 11:02:22            25-34              Computing or Tech   \n",
       "2  4/27/2021 11:02:38            25-34  Accounting, Banking & Finance   \n",
       "3  4/27/2021 11:02:41            25-34                     Nonprofits   \n",
       "4  4/27/2021 11:02:42            25-34  Accounting, Banking & Finance   \n",
       "\n",
       "                                  Job title Additional context on job title  \\\n",
       "0        Research and Instruction Librarian                             NaN   \n",
       "1  Change & Internal Communications Manager                             NaN   \n",
       "2                      Marketing Specialist                             NaN   \n",
       "3                           Program Manager                             NaN   \n",
       "4                        Accounting Manager                             NaN   \n",
       "\n",
       "  Annual salary  Other monetary comp Currency Currency - other  \\\n",
       "0        55,000                  0.0      USD              NaN   \n",
       "1        54,600               4000.0      GBP              NaN   \n",
       "2        34,000                  NaN      USD              NaN   \n",
       "3        62,000               3000.0      USD              NaN   \n",
       "4        60,000               7000.0      USD              NaN   \n",
       "\n",
       "  Additional context on income         Country           State         City  \\\n",
       "0                          NaN   United States   Massachusetts       Boston   \n",
       "1                          NaN  United Kingdom             NaN    Cambridge   \n",
       "2                          NaN              US       Tennessee  Chattanooga   \n",
       "3                          NaN             USA       Wisconsin    Milwaukee   \n",
       "4                          NaN              US  South Carolina   Greenville   \n",
       "\n",
       "  Overall years of professional experience Years of experience in field  \\\n",
       "0                                5-7 years                    5-7 years   \n",
       "1                             8 - 10 years                    5-7 years   \n",
       "2                              2 - 4 years                  2 - 4 years   \n",
       "3                             8 - 10 years                    5-7 years   \n",
       "4                             8 - 10 years                    5-7 years   \n",
       "\n",
       "  Highest level of education completed      Gender   Race  \n",
       "0                      Master's degree       Woman  White  \n",
       "1                       College degree  Non-binary  White  \n",
       "2                       College degree       Woman  White  \n",
       "3                       College degree       Woman  White  \n",
       "4                       College degree       Woman  White  "
      ]
     },
     "execution_count": 71,
     "metadata": {},
     "output_type": "execute_result"
    },
    {
     "name": "stdout",
     "output_type": "stream",
     "text": [
      "(27609, 18)\n"
     ]
    }
   ],
   "source": [
    "df=pd.read_csv(FILE_RAW)\n",
    "df.head()\n",
    "print(df.shape)"
   ]
  },
  {
   "cell_type": "code",
   "execution_count": 72,
   "metadata": {
    "tags": []
   },
   "outputs": [
    {
     "data": {
      "text/plain": [
       "Timestamp                                    object\n",
       "How old are you?                             object\n",
       "Industry                                     object\n",
       "Job title                                    object\n",
       "Additional context on job title              object\n",
       "Annual salary                                object\n",
       "Other monetary comp                         float64\n",
       "Currency                                     object\n",
       "Currency - other                             object\n",
       "Additional context on income                 object\n",
       "Country                                      object\n",
       "State                                        object\n",
       "City                                         object\n",
       "Overall years of professional experience     object\n",
       "Years of experience in field                 object\n",
       "Highest level of education completed         object\n",
       "Gender                                       object\n",
       "Race                                         object\n",
       "dtype: object"
      ]
     },
     "execution_count": 72,
     "metadata": {},
     "output_type": "execute_result"
    }
   ],
   "source": [
    "# what type is country?  if object then it's a string\n",
    "df.dtypes"
   ]
  },
  {
   "cell_type": "code",
   "execution_count": 73,
   "metadata": {
    "tags": []
   },
   "outputs": [
    {
     "data": {
      "text/plain": [
       "array([' New Zealand', ' U.S.', ' US', ' United States',\n",
       "       '$2,175.84/year is deducted for benefits',\n",
       "       'ARGENTINA BUT MY ORG IS IN THAILAND', 'Afghanistan', 'Africa',\n",
       "       'America', 'Aotearoa New Zealand', 'Argentina', 'Australi',\n",
       "       'Australia', 'Australia ', 'Australian ', 'Austria',\n",
       "       'Austria, but I work remotely for a Dutch/British company',\n",
       "       'Bangladesh', 'Bangladesh ', 'Belgium', 'Belgium ', 'Bermuda',\n",
       "       'Brasil', 'Brazil', 'Brazil ', 'Britain ', 'Bulgaria', 'CANADA',\n",
       "       'CANADA ', 'California ', 'Cambodia', 'Can', 'Canad', 'Canada',\n",
       "       'Canada ', 'Canada and USA', 'Canada, Ottawa, ontario', 'Canadw',\n",
       "       'Canadá', 'Canda', 'Catalonia', 'Cayman Islands', 'Chile', 'China',\n",
       "       'Colombia', 'Company in Germany. I work from Pakistan.', 'Congo',\n",
       "       'Contracts', 'Costa Rica', \"Cote d'Ivoire\", 'Croatia ', 'Csnada',\n",
       "       'Cuba', 'Currently finance', 'Cyprus', 'Czech Republic',\n",
       "       'Czech Republic ', 'Czech republic', 'Czechia', 'Danmark',\n",
       "       'Denmark', 'Denmark ', 'ENGLAND', 'Ecuador', 'England', 'England ',\n",
       "       'England, Gb', 'England, UK', 'England, UK.',\n",
       "       'England, United Kingdom', 'England, United Kingdom ',\n",
       "       'England/UK', 'Englang', 'Eritrea', 'Estonia', 'FRANCE', 'Finland',\n",
       "       'For the United States government, but posted overseas', 'France',\n",
       "       'France ', 'From New Zealand but on projects across APAC',\n",
       "       'From Romania, but for an US based company', 'Germany', 'Germany ',\n",
       "       'Ghana', 'Global', 'Great Britain', 'Great Britain ', 'Greece',\n",
       "       'Hartford', 'Hong Kong', 'Hong Kong ', 'Hungary',\n",
       "       'I am located in Canada but I work for a company in the US',\n",
       "       \"I earn commission on sales. If I meet quota, I'm guaranteed another 16k min. Last year i earned an additional 27k. It's not uncommon for people in my space to earn 100k+ after commission. \",\n",
       "       'I was brought in on this salary to help with the EHR and very quickly was promoted to current position but compensation was not altered. ',\n",
       "       'I work for a UAE-based organization, though I am personally in the US.',\n",
       "       \"I work for an US based company but I'm from Argentina.\", 'I.S.',\n",
       "       'IS', 'ISA', 'India', 'Indonesia', 'International ', 'Ireland',\n",
       "       'Ireland ', 'Isle of Man', 'Israel', 'Italy', 'Italy (South)',\n",
       "       'Jamaica', 'Japan', 'Japan ', 'Japan, US Gov position',\n",
       "       'Jersey, Channel islands', 'Jordan', 'Kenya', 'Kuwait', 'Latvia',\n",
       "       'Liechtenstein', 'Lithuania', 'Luxembourg', 'Luxemburg',\n",
       "       'Mainland China', 'Malaysia', 'Malaysia ', 'Malta', 'Mexico',\n",
       "       'Mexico ', 'Morocco', 'México', 'NL', 'NZ', 'Nederland',\n",
       "       'Netherlands', 'Netherlands ', 'New Zealand', 'New Zealand ',\n",
       "       'New Zealand Aotearoa', 'New zealand', 'Nigeria',\n",
       "       'Northern Ireland', 'Northern Ireland ',\n",
       "       'Northern Ireland, United Kingdom', 'Norway', 'Norway ',\n",
       "       'Pakistan', 'Panamá', 'Philippines', 'Poland', 'Policy',\n",
       "       'Portugal', 'Portugal ', 'Puerto Rico', 'Puerto Rico ', 'Qatar',\n",
       "       'Remote', 'Remote (philippines)', 'Romania', 'Russia ', 'Rwanda',\n",
       "       'SWITZERLAND', 'San Francisco', 'Saudi Arabia', 'Scotland',\n",
       "       'Scotland ', 'Scotland, UK', 'Serbia', 'Sierra Leone', 'Singapore',\n",
       "       'Singapore ', 'Slovakia', 'Slovenia', 'Somalia', 'South Africa',\n",
       "       'South Africa ', 'South Korea', 'South Korea ', 'South africa',\n",
       "       'Spain', 'Spain ', 'Sri Lanka', 'Sri lanka', 'Sweden', 'Sweden ',\n",
       "       'Switzerland', 'Switzerland ', 'Taiwan', 'Thailand',\n",
       "       'The Bahamas ', 'The Netherlands', 'The Netherlands ', 'The US',\n",
       "       'The United States', 'The netherlands', 'Trinidad and Tobago',\n",
       "       'Turkey', 'U. S ', 'U. S.', 'U. S. ', 'U.A.', 'U.K', 'U.K.',\n",
       "       'U.K. ', 'U.K. (northern England)', 'U.S', 'U.S.', 'U.S. ',\n",
       "       'U.S.A', 'U.S.A ', 'U.S.A.', 'U.S.A. ', 'U.S>', 'U.SA', 'U.s.',\n",
       "       'U.s.a.', 'UA', 'UAE', 'UK', 'UK ', 'UK (England)',\n",
       "       'UK (Northern Ireland)', 'UK for U.S. company',\n",
       "       'UK, but for globally fully remote company', 'UK, remote',\n",
       "       'UNITED STATES', 'UNited States', 'US', 'US ',\n",
       "       'US govt employee overseas, country withheld', 'US of A', 'USA',\n",
       "       'USA ', 'USA (company is based in a US territory, I work remote)',\n",
       "       'USA tomorrow ', \"USA, but for foreign gov't\",\n",
       "       'USA-- Virgin Islands', 'USAB', 'USD', 'USS', 'USaa', 'UXZ',\n",
       "       'Uganda', 'Uk', 'Uk ', 'Ukraine ', 'Uniited States',\n",
       "       'Unite States', 'United  States', 'United Arab Emirates ',\n",
       "       'United Kindom', 'United Kingdom', 'United Kingdom ',\n",
       "       'United Kingdom (England)', 'United Kingdom.', 'United Kingdomk',\n",
       "       'United STates', 'United Sates', 'United Sates of America',\n",
       "       'United Stares', 'United Stares ', 'United State',\n",
       "       'United State of America', 'United Statea', 'United Stated',\n",
       "       'United Stateds', 'United Statees', 'United States',\n",
       "       'United States ',\n",
       "       'United States (I work from home and my clients are all over the US/Canada/PR',\n",
       "       'United States Of America', 'United States is America',\n",
       "       'United States of America', 'United States of America ',\n",
       "       'United States of American', 'United States of American ',\n",
       "       'United States of Americas', 'United States of america',\n",
       "       'United States of america ', 'United States- Puerto Rico',\n",
       "       'United Statesp', 'United Statss', 'United Stattes',\n",
       "       'United Statues', 'United Status', 'United Statws', 'United Sttes',\n",
       "       'United kingdom', 'United kingdom ', 'United states',\n",
       "       'United states ', 'United states of America',\n",
       "       'United states of America ', 'United states of america',\n",
       "       'United statew', 'United y', 'UnitedStates', 'Uniteed States',\n",
       "       'Unitef Stated', 'Uniter Statez', 'Unites States',\n",
       "       'Unites States ', 'Unites kingdom ', 'Unites states ',\n",
       "       'Unitied States', 'Uniyed states', 'Uniyes States', 'Unted States',\n",
       "       'Untied States', 'Uruguay', 'Us', 'Us ', 'UsA', 'Usa', 'Usa ',\n",
       "       'Usat', 'Vietnam', 'Virginia', 'Wales', 'Wales (UK)',\n",
       "       'Wales (United Kingdom)', 'Wales, UK',\n",
       "       \"We don't get raises, we get quarterly bonuses, but they periodically asses income in the area you work, so I got a raise because a 3rd party assessment showed I was paid too little for the area we were located\",\n",
       "       'Worldwide (based in US but short term trips aroudn the world)',\n",
       "       'Y', 'Zimbabwe', 'america', 'australia',\n",
       "       'bonus based on meeting yearly goals set w/ my supervisor',\n",
       "       'canada', 'croatia', 'czech republic', 'denmark', 'england',\n",
       "       'europe', 'finland', 'france', 'germany', 'hong konh', 'ireland',\n",
       "       'japan', 'n/a (remote from wherever I want)', 'na', 'netherlands',\n",
       "       'new zealand', 'singapore', 'spain', 'switzerland',\n",
       "       'the Netherlands', 'the netherlands', 'u.s.', 'uS', 'uSA', 'uk',\n",
       "       'united States', 'united kingdom', 'united stated',\n",
       "       'united states', 'united states ', 'united states of america',\n",
       "       'us', 'usa', 'usa ', '🇺🇸 '], dtype=object)"
      ]
     },
     "execution_count": 73,
     "metadata": {},
     "output_type": "execute_result"
    }
   ],
   "source": [
    "x=df['Country'].unique()\n",
    "x.sort()\n",
    "x"
   ]
  },
  {
   "cell_type": "code",
   "execution_count": 74,
   "metadata": {},
   "outputs": [
    {
     "data": {
      "text/plain": [
       "364"
      ]
     },
     "execution_count": 74,
     "metadata": {},
     "output_type": "execute_result"
    }
   ],
   "source": [
    "df['Country'].nunique()\n"
   ]
  },
  {
   "cell_type": "code",
   "execution_count": 75,
   "metadata": {},
   "outputs": [
    {
     "data": {
      "text/plain": [
       "Country\n",
       "United States                                                    8844\n",
       "USA                                                              7847\n",
       "US                                                               2572\n",
       "Canada                                                           1549\n",
       "United States                                                     652\n",
       "                                                                 ... \n",
       "Can                                                                 1\n",
       "Sri Lanka                                                           1\n",
       "Worldwide (based in US but short term trips aroudn the world)       1\n",
       "Danmark                                                             1\n",
       "U.S.A                                                               1\n",
       "Name: count, Length: 364, dtype: int64"
      ]
     },
     "execution_count": 75,
     "metadata": {},
     "output_type": "execute_result"
    }
   ],
   "source": [
    "df['Country'].value_counts()"
   ]
  },
  {
   "cell_type": "markdown",
   "metadata": {},
   "source": [
    "## Lets handle missing Country data first to ensure below algorithms run correctly.  \n",
    "Lots of ways to do this, I'm going to do it the simple way, replace NaN with UNKNOWN\n",
    "\n",
    "This is not a good idea in general, especially if you have a way to figure out the country from the other data present"
   ]
  },
  {
   "cell_type": "code",
   "execution_count": 76,
   "metadata": {},
   "outputs": [
    {
     "data": {
      "text/plain": [
       "0"
      ]
     },
     "execution_count": 76,
     "metadata": {},
     "output_type": "execute_result"
    }
   ],
   "source": [
    "#how many missing Countries\n",
    "df.Country.isnull().sum()"
   ]
  },
  {
   "cell_type": "code",
   "execution_count": 8,
   "metadata": {},
   "outputs": [],
   "source": [
    "# None missing, if there were you could fill with a Sentinal value for now, \n",
    "# like UNKNOWN, makes it easy to find and deal with later, also ensures that\n",
    "# calculations do not fail because of NaNs\n",
    "df.Country = df.Country.fillna('UNKNOWN')"
   ]
  },
  {
   "cell_type": "code",
   "execution_count": null,
   "metadata": {},
   "outputs": [],
   "source": [
    "(df.Country=='UNKNOWN').sum()"
   ]
  },
  {
   "cell_type": "markdown",
   "metadata": {},
   "source": [
    "## There is a Country column, lets use it to get all the USA entries.  Take a look at the number of unique entries"
   ]
  },
  {
   "cell_type": "code",
   "execution_count": 77,
   "metadata": {},
   "outputs": [
    {
     "name": "stdout",
     "output_type": "stream",
     "text": [
      "There are now 364 unique Country entries\n"
     ]
    }
   ],
   "source": [
    "#a small functions to see the number of unique country names\n",
    "def p_unique(df=df,col='Country'):\n",
    "    print(f'There are now {df[col].nunique()} unique {col} entries')\n",
    "p_unique()"
   ]
  },
  {
   "cell_type": "code",
   "execution_count": 78,
   "metadata": {},
   "outputs": [
    {
     "name": "stdout",
     "output_type": "stream",
     "text": [
      "There are now 364 unique Country entries\n"
     ]
    }
   ],
   "source": [
    "#how many different countries are there\n",
    "start_with_this_many__unique_countries = df.Country.nunique()\n",
    "p_unique()"
   ]
  },
  {
   "cell_type": "markdown",
   "metadata": {},
   "source": [
    "## How many occurrences for each unique entry?"
   ]
  },
  {
   "cell_type": "code",
   "execution_count": 79,
   "metadata": {},
   "outputs": [
    {
     "name": "stdout",
     "output_type": "stream",
     "text": [
      "There are 364 unique entries\n"
     ]
    },
    {
     "data": {
      "text/plain": [
       "Country\n",
       "United States              8844\n",
       "USA                        7847\n",
       "US                         2572\n",
       "Canada                     1549\n",
       "United States               652\n",
       "                           ... \n",
       "New zealand                   4\n",
       "United State of America       4\n",
       "U. S.                         4\n",
       "united States                 4\n",
       "Great Britain                 3\n",
       "Name: count, Length: 100, dtype: int64"
      ]
     },
     "execution_count": 79,
     "metadata": {},
     "output_type": "execute_result"
    }
   ],
   "source": [
    "#lets see what we have\n",
    "vc=df.Country.value_counts()\n",
    "print(f'There are {len(vc)} unique entries')\n",
    "# vc[-150:]\n",
    "vc[:100]\n",
    "# vc[50:100]"
   ]
  },
  {
   "cell_type": "markdown",
   "metadata": {},
   "source": [
    "## It looks like there was no filtering on what a user could enter in the Country field, ANyway lets get to it"
   ]
  },
  {
   "cell_type": "markdown",
   "metadata": {},
   "source": [
    "## Apply lower and strip to get the easy gains"
   ]
  },
  {
   "cell_type": "code",
   "execution_count": null,
   "metadata": {},
   "outputs": [],
   "source": [
    "df.Country.unique()"
   ]
  },
  {
   "cell_type": "code",
   "execution_count": 80,
   "metadata": {},
   "outputs": [
    {
     "name": "stdout",
     "output_type": "stream",
     "text": [
      "There are now 250 unique Country entries\n"
     ]
    }
   ],
   "source": [
    "df.Country = df.Country.map(str.lower).map(str.strip)\n",
    "\n",
    "p_unique()"
   ]
  },
  {
   "cell_type": "code",
   "execution_count": 81,
   "metadata": {},
   "outputs": [
    {
     "data": {
      "text/plain": [
       "Country\n",
       "united states          9842\n",
       "usa                    8956\n",
       "us                     2734\n",
       "canada                 1656\n",
       "uk                      683\n",
       "                       ... \n",
       "mainland china            1\n",
       "uk for u.s. company       1\n",
       "canad                     1\n",
       "cambodia                  1\n",
       "canadá                    1\n",
       "Name: count, Length: 250, dtype: int64"
      ]
     },
     "execution_count": 81,
     "metadata": {},
     "output_type": "execute_result"
    }
   ],
   "source": [
    "df.Country.value_counts()"
   ]
  },
  {
   "cell_type": "markdown",
   "metadata": {},
   "source": [
    "## If have punctuation, get rid of it all\n",
    "Use regular expressions"
   ]
  },
  {
   "cell_type": "code",
   "execution_count": 15,
   "metadata": {},
   "outputs": [],
   "source": [
    "import re"
   ]
  },
  {
   "cell_type": "code",
   "execution_count": 82,
   "metadata": {},
   "outputs": [
    {
     "name": "stdout",
     "output_type": "stream",
     "text": [
      "There are now 236 unique Country entries\n"
     ]
    }
   ],
   "source": [
    "#the regular expressions package\n",
    "import re\n",
    "punc = \"[!\\\"#$%&\\'()*+,-./:;<=>?@[\\\\]^_{|}~\\`]\"  #this is the punctuation to get rid of\n",
    "\n",
    "#or a function\n",
    "def fun1(x):\n",
    "    #re.sub will remove any punction char found in punc \n",
    "    return re.sub(punc, '', x)\n",
    "\n",
    "df.Country = df.Country.map(fun1)\n",
    "\n",
    "#can do the same thing with a lambda\n",
    "# df.Country = df.Country.map(lambda x: re.sub(punc, '', x))\n",
    "\n",
    "p_unique()"
   ]
  },
  {
   "cell_type": "code",
   "execution_count": 83,
   "metadata": {},
   "outputs": [
    {
     "data": {
      "text/plain": [
       "Country\n",
       "united states        9842\n",
       "usa                  9014\n",
       "us                   3349\n",
       "canada               1656\n",
       "uk                    695\n",
       "                     ... \n",
       "uk for us company       1\n",
       "canad                   1\n",
       "cambodia                1\n",
       "eritrea                 1\n",
       "canadá                  1\n",
       "Name: count, Length: 236, dtype: int64"
      ]
     },
     "execution_count": 83,
     "metadata": {},
     "output_type": "execute_result"
    },
    {
     "data": {
      "text/plain": [
       "Country\n",
       "united states               9842\n",
       "usa                         9014\n",
       "us                          3349\n",
       "canada                      1656\n",
       "uk                           695\n",
       "united kingdom               626\n",
       "united states of america     481\n",
       "australia                    382\n",
       "germany                      190\n",
       "england                      168\n",
       "ireland                      124\n",
       "new zealand                  121\n",
       "france                        66\n",
       "netherlands                   54\n",
       "scotland                      45\n",
       "spain                         44\n",
       "sweden                        41\n",
       "switzerland                   38\n",
       "belgium                       34\n",
       "the netherlands               31\n",
       "japan                         29\n",
       "denmark                       22\n",
       "america                       21\n",
       "united state                  19\n",
       "south africa                  17\n",
       "unites states                 17\n",
       "austria                       16\n",
       "finland                       16\n",
       "india                         14\n",
       "singapore                     14\n",
       "norway                        14\n",
       "italy                         14\n",
       "israel                        14\n",
       "malaysia                      13\n",
       "brazil                        11\n",
       "Name: count, dtype: int64"
      ]
     },
     "execution_count": 83,
     "metadata": {},
     "output_type": "execute_result"
    }
   ],
   "source": [
    "#lets see all unique country names that occur at leat n times\n",
    "ds=df.Country.value_counts()\n",
    "ds\n",
    "#filter 1 offs\n",
    "ds[ds>10]"
   ]
  },
  {
   "cell_type": "code",
   "execution_count": null,
   "metadata": {},
   "outputs": [],
   "source": []
  },
  {
   "cell_type": "code",
   "execution_count": 84,
   "metadata": {},
   "outputs": [
    {
     "data": {
      "text/plain": [
       "205"
      ]
     },
     "execution_count": 84,
     "metadata": {},
     "output_type": "execute_result"
    }
   ],
   "source": [
    "#longest index\n",
    "max([len(val) for val in ds.index])\n"
   ]
  },
  {
   "cell_type": "code",
   "execution_count": 85,
   "metadata": {},
   "outputs": [
    {
     "name": "stdout",
     "output_type": "stream",
     "text": [
      "we dont get raises we get quarterly bonuses but they periodically asses income in the area you work so i got a raise because a 3rd party assessment showed i was paid too little for the area we were located\n"
     ]
    }
   ],
   "source": [
    "longest_index = max(ds.index, key=len)\n",
    "print(longest_index)"
   ]
  },
  {
   "cell_type": "code",
   "execution_count": 86,
   "metadata": {
    "tags": []
   },
   "outputs": [
    {
     "data": {
      "text/plain": [
       "Country\n",
       "217584year is deducted for benefits                           1\n",
       "afghanistan                                                   1\n",
       "africa                                                        1\n",
       "america                                                      21\n",
       "aotearoa new zealand                                          1\n",
       "argentina                                                     5\n",
       "argentina but my org is in thailand                           1\n",
       "australi                                                      1\n",
       "australia                                                   382\n",
       "australian                                                    1\n",
       "austria                                                      16\n",
       "austria but i work remotely for a dutchbritish company        1\n",
       "bangladesh                                                    2\n",
       "belgium                                                      34\n",
       "bermuda                                                       2\n",
       "bonus based on meeting yearly goals set w my supervisor       1\n",
       "brasil                                                        1\n",
       "brazil                                                       11\n",
       "britain                                                       1\n",
       "bulgaria                                                      2\n",
       "california                                                    1\n",
       "cambodia                                                      1\n",
       "can                                                           1\n",
       "canad                                                         1\n",
       "canada                                                     1656\n",
       "canada and usa                                                1\n",
       "canada ottawa ontario                                         1\n",
       "canadw                                                        1\n",
       "canadá                                                        1\n",
       "canda                                                         2\n",
       "catalonia                                                     1\n",
       "cayman islands                                                1\n",
       "chile                                                         1\n",
       "china                                                         7\n",
       "colombia                                                      1\n",
       "company in germany i work from pakistan                       1\n",
       "congo                                                         1\n",
       "contracts                                                     1\n",
       "costa rica                                                    1\n",
       "cote divoire                                                  1\n",
       "croatia                                                       2\n",
       "csnada                                                        1\n",
       "cuba                                                          1\n",
       "currently finance                                             1\n",
       "cyprus                                                        1\n",
       "czech republic                                                5\n",
       "czechia                                                       1\n",
       "danmark                                                       1\n",
       "denmark                                                      22\n",
       "ecuador                                                       1\n",
       "Name: count, dtype: int64"
      ]
     },
     "execution_count": 86,
     "metadata": {},
     "output_type": "execute_result"
    },
    {
     "data": {
      "text/html": [
       "<div>\n",
       "<style scoped>\n",
       "    .dataframe tbody tr th:only-of-type {\n",
       "        vertical-align: middle;\n",
       "    }\n",
       "\n",
       "    .dataframe tbody tr th {\n",
       "        vertical-align: top;\n",
       "    }\n",
       "\n",
       "    .dataframe thead th {\n",
       "        text-align: right;\n",
       "    }\n",
       "</style>\n",
       "<table border=\"1\" class=\"dataframe\">\n",
       "  <thead>\n",
       "    <tr style=\"text-align: right;\">\n",
       "      <th></th>\n",
       "      <th>Country</th>\n",
       "      <th>count</th>\n",
       "    </tr>\n",
       "  </thead>\n",
       "  <tbody>\n",
       "    <tr>\n",
       "      <th>0</th>\n",
       "      <td>united states</td>\n",
       "      <td>9842</td>\n",
       "    </tr>\n",
       "    <tr>\n",
       "      <th>1</th>\n",
       "      <td>usa</td>\n",
       "      <td>9014</td>\n",
       "    </tr>\n",
       "    <tr>\n",
       "      <th>2</th>\n",
       "      <td>us</td>\n",
       "      <td>3349</td>\n",
       "    </tr>\n",
       "    <tr>\n",
       "      <th>3</th>\n",
       "      <td>canada</td>\n",
       "      <td>1656</td>\n",
       "    </tr>\n",
       "    <tr>\n",
       "      <th>4</th>\n",
       "      <td>uk</td>\n",
       "      <td>695</td>\n",
       "    </tr>\n",
       "    <tr>\n",
       "      <th>...</th>\n",
       "      <td>...</td>\n",
       "      <td>...</td>\n",
       "    </tr>\n",
       "    <tr>\n",
       "      <th>231</th>\n",
       "      <td>uk for us company</td>\n",
       "      <td>1</td>\n",
       "    </tr>\n",
       "    <tr>\n",
       "      <th>232</th>\n",
       "      <td>canad</td>\n",
       "      <td>1</td>\n",
       "    </tr>\n",
       "    <tr>\n",
       "      <th>233</th>\n",
       "      <td>cambodia</td>\n",
       "      <td>1</td>\n",
       "    </tr>\n",
       "    <tr>\n",
       "      <th>234</th>\n",
       "      <td>eritrea</td>\n",
       "      <td>1</td>\n",
       "    </tr>\n",
       "    <tr>\n",
       "      <th>235</th>\n",
       "      <td>canadá</td>\n",
       "      <td>1</td>\n",
       "    </tr>\n",
       "  </tbody>\n",
       "</table>\n",
       "<p>236 rows × 2 columns</p>\n",
       "</div>"
      ],
      "text/plain": [
       "               Country  count\n",
       "0        united states   9842\n",
       "1                  usa   9014\n",
       "2                   us   3349\n",
       "3               canada   1656\n",
       "4                   uk    695\n",
       "..                 ...    ...\n",
       "231  uk for us company      1\n",
       "232              canad      1\n",
       "233           cambodia      1\n",
       "234            eritrea      1\n",
       "235             canadá      1\n",
       "\n",
       "[236 rows x 2 columns]"
      ]
     },
     "execution_count": 86,
     "metadata": {},
     "output_type": "execute_result"
    },
    {
     "data": {
      "text/html": [
       "<div>\n",
       "<style scoped>\n",
       "    .dataframe tbody tr th:only-of-type {\n",
       "        vertical-align: middle;\n",
       "    }\n",
       "\n",
       "    .dataframe tbody tr th {\n",
       "        vertical-align: top;\n",
       "    }\n",
       "\n",
       "    .dataframe thead th {\n",
       "        text-align: right;\n",
       "    }\n",
       "</style>\n",
       "<table border=\"1\" class=\"dataframe\">\n",
       "  <thead>\n",
       "    <tr style=\"text-align: right;\">\n",
       "      <th></th>\n",
       "      <th>Country</th>\n",
       "      <th>count</th>\n",
       "    </tr>\n",
       "  </thead>\n",
       "  <tbody>\n",
       "    <tr>\n",
       "      <th>199</th>\n",
       "      <td>217584year is deducted for benefits</td>\n",
       "      <td>1</td>\n",
       "    </tr>\n",
       "    <tr>\n",
       "      <th>222</th>\n",
       "      <td>afghanistan</td>\n",
       "      <td>1</td>\n",
       "    </tr>\n",
       "    <tr>\n",
       "      <th>142</th>\n",
       "      <td>africa</td>\n",
       "      <td>1</td>\n",
       "    </tr>\n",
       "    <tr>\n",
       "      <th>22</th>\n",
       "      <td>america</td>\n",
       "      <td>21</td>\n",
       "    </tr>\n",
       "    <tr>\n",
       "      <th>99</th>\n",
       "      <td>aotearoa new zealand</td>\n",
       "      <td>1</td>\n",
       "    </tr>\n",
       "    <tr>\n",
       "      <th>...</th>\n",
       "      <td>...</td>\n",
       "      <td>...</td>\n",
       "    </tr>\n",
       "    <tr>\n",
       "      <th>158</th>\n",
       "      <td>we dont get raises we get quarterly bonuses bu...</td>\n",
       "      <td>1</td>\n",
       "    </tr>\n",
       "    <tr>\n",
       "      <th>190</th>\n",
       "      <td>worldwide based in us but short term trips aro...</td>\n",
       "      <td>1</td>\n",
       "    </tr>\n",
       "    <tr>\n",
       "      <th>138</th>\n",
       "      <td>y</td>\n",
       "      <td>1</td>\n",
       "    </tr>\n",
       "    <tr>\n",
       "      <th>85</th>\n",
       "      <td>zimbabwe</td>\n",
       "      <td>2</td>\n",
       "    </tr>\n",
       "    <tr>\n",
       "      <th>53</th>\n",
       "      <td>🇺🇸</td>\n",
       "      <td>4</td>\n",
       "    </tr>\n",
       "  </tbody>\n",
       "</table>\n",
       "<p>236 rows × 2 columns</p>\n",
       "</div>"
      ],
      "text/plain": [
       "                                               Country  count\n",
       "199                217584year is deducted for benefits      1\n",
       "222                                        afghanistan      1\n",
       "142                                             africa      1\n",
       "22                                             america     21\n",
       "99                                aotearoa new zealand      1\n",
       "..                                                 ...    ...\n",
       "158  we dont get raises we get quarterly bonuses bu...      1\n",
       "190  worldwide based in us but short term trips aro...      1\n",
       "138                                                  y      1\n",
       "85                                            zimbabwe      2\n",
       "53                                                  🇺🇸      4\n",
       "\n",
       "[236 rows x 2 columns]"
      ]
     },
     "execution_count": 86,
     "metadata": {},
     "output_type": "execute_result"
    },
    {
     "data": {
      "text/html": [
       "<div>\n",
       "<style scoped>\n",
       "    .dataframe tbody tr th:only-of-type {\n",
       "        vertical-align: middle;\n",
       "    }\n",
       "\n",
       "    .dataframe tbody tr th {\n",
       "        vertical-align: top;\n",
       "    }\n",
       "\n",
       "    .dataframe thead th {\n",
       "        text-align: right;\n",
       "    }\n",
       "</style>\n",
       "<table border=\"1\" class=\"dataframe\">\n",
       "  <thead>\n",
       "    <tr style=\"text-align: right;\">\n",
       "      <th></th>\n",
       "      <th>Country</th>\n",
       "      <th>count</th>\n",
       "    </tr>\n",
       "  </thead>\n",
       "  <tbody>\n",
       "    <tr>\n",
       "      <th>0</th>\n",
       "      <td>united states</td>\n",
       "      <td>9842</td>\n",
       "    </tr>\n",
       "    <tr>\n",
       "      <th>1</th>\n",
       "      <td>usa</td>\n",
       "      <td>9014</td>\n",
       "    </tr>\n",
       "    <tr>\n",
       "      <th>2</th>\n",
       "      <td>us</td>\n",
       "      <td>3349</td>\n",
       "    </tr>\n",
       "    <tr>\n",
       "      <th>3</th>\n",
       "      <td>canada</td>\n",
       "      <td>1656</td>\n",
       "    </tr>\n",
       "    <tr>\n",
       "      <th>4</th>\n",
       "      <td>uk</td>\n",
       "      <td>695</td>\n",
       "    </tr>\n",
       "    <tr>\n",
       "      <th>...</th>\n",
       "      <td>...</td>\n",
       "      <td>...</td>\n",
       "    </tr>\n",
       "    <tr>\n",
       "      <th>141</th>\n",
       "      <td>uk but for globally fully remote company</td>\n",
       "      <td>1</td>\n",
       "    </tr>\n",
       "    <tr>\n",
       "      <th>142</th>\n",
       "      <td>africa</td>\n",
       "      <td>1</td>\n",
       "    </tr>\n",
       "    <tr>\n",
       "      <th>143</th>\n",
       "      <td>morocco</td>\n",
       "      <td>1</td>\n",
       "    </tr>\n",
       "    <tr>\n",
       "      <th>144</th>\n",
       "      <td>australian</td>\n",
       "      <td>1</td>\n",
       "    </tr>\n",
       "    <tr>\n",
       "      <th>235</th>\n",
       "      <td>canadá</td>\n",
       "      <td>1</td>\n",
       "    </tr>\n",
       "  </tbody>\n",
       "</table>\n",
       "<p>236 rows × 2 columns</p>\n",
       "</div>"
      ],
      "text/plain": [
       "                                      Country  count\n",
       "0                               united states   9842\n",
       "1                                         usa   9014\n",
       "2                                          us   3349\n",
       "3                                      canada   1656\n",
       "4                                          uk    695\n",
       "..                                        ...    ...\n",
       "141  uk but for globally fully remote company      1\n",
       "142                                    africa      1\n",
       "143                                   morocco      1\n",
       "144                                australian      1\n",
       "235                                    canadá      1\n",
       "\n",
       "[236 rows x 2 columns]"
      ]
     },
     "execution_count": 86,
     "metadata": {},
     "output_type": "execute_result"
    }
   ],
   "source": [
    "#sort by index if you want \n",
    "ds1=ds.sort_index(ascending=True)\n",
    "ds1[:50]  #if you do them all then the really long index entry will knacker the output\n",
    "# ds1\n",
    "\n",
    "#turn index into column, turns series into dataframe\n",
    "# can access Country now like any other column\n",
    "df1=ds.reset_index()\n",
    "df1\n",
    "df1.sort_values(by=['Country'])\n",
    "df1.sort_values(by=['count'],ascending=False)"
   ]
  },
  {
   "cell_type": "markdown",
   "metadata": {},
   "source": [
    "## Looks like a lot of variations of 'united state'\n",
    "\n",
    "Another easy gain, lets replace all strings with 'united state' in them with 'usa' "
   ]
  },
  {
   "cell_type": "code",
   "execution_count": 21,
   "metadata": {},
   "outputs": [],
   "source": [
    "def fun(x):\n",
    "    \"\"\"\n",
    "    replaces any string that contains 'united state' with 'usa'\n",
    "    BUT 'united state' and 'usa' are hardcoded, what if we wanted to use other values?\n",
    "    \"\"\"\n",
    "    if 'united state' in x:\n",
    "        return 'usa'\n",
    "    return x\n",
    "\n",
    "#dont do this yet there is a better more general way below\n",
    "# df.Country = df.Country.map(fun);"
   ]
  },
  {
   "cell_type": "markdown",
   "metadata": {},
   "source": [
    "## But you might want to do something similar with other strings, do you write another function?  Or do something a little more general?\n",
    "Be general, always ... use a python closure."
   ]
  },
  {
   "cell_type": "markdown",
   "metadata": {},
   "source": [
    "## Closures\n",
    "The problem we face is that map takes a function that takes 1 parameter, and we want it to take 3; The string value passed by map (call it x), the string to search for in x (call it str_to_find), and the string to replace x with if we find str_to_find in x (call it str_replacement).\n",
    "\n",
    "We can't get around the fact that map only passes 1 parameter to the function.  But we can create a function that  already knows what str_to_find and str_replacement are.  Its called a closure"
   ]
  },
  {
   "cell_type": "code",
   "execution_count": 87,
   "metadata": {},
   "outputs": [],
   "source": [
    "def fun1(str_to_find, str_replacement):\n",
    "    \"\"\"\n",
    "    creates findandreplace Closure, which is a stateful function\n",
    "    that remembers str_to_find and str_replacement values\n",
    "    returns: findandreplace\n",
    "    \"\"\"\n",
    "    def findandreplace(x):\n",
    "        if str_to_find in x:\n",
    "            return str_replacement\n",
    "        return x\n",
    "    # in python functions are first class objects\n",
    "    # we are returning findandreplace, it in turn knows the value of \n",
    "    # str_to_find and str_replacement and takes an argument to search thru,x\n",
    "    return findandreplace\n",
    "\n",
    "#using the closure\n",
    "# fn= fun1('us', 'usa')   #Uh Ohh, what about Australia? Or Austria or Belarus or Cyprus or Russia\n",
    "                        #careful with this sort of thing!\n",
    "# df.Country = df.Country.map(fn)"
   ]
  },
  {
   "cell_type": "code",
   "execution_count": 23,
   "metadata": {},
   "outputs": [],
   "source": [
    "#using the closure one at a time\n",
    "\n",
    "fn= fun1('usa', 'usa')\n",
    "df.Country = df.Country.map(fn)\n",
    "\n",
    "# fn= fun1('us', 'usa')#Uh Ohh, what about Australia? Or Austria or Belarus or Cyprus or Russia\n",
    "                        #careful with this sort of thing!\n",
    "df.Country = df.Country.map(fn)\n",
    "\n",
    "fn= fun1('u s', 'usa')\n",
    "df.Country = df.Country.map(fn)\n",
    "\n",
    "fn= fun1('unites states', 'usa')  #its a bit suspicious that 17 people made this mistake\n",
    "df.Country = df.Country.map(fn)\n",
    "\n",
    "fn= fun1('united sates', 'usa')\n",
    "df.Country = df.Country.map(fn)\n",
    "\n",
    "fn= fun1('unitedstates', 'usa')\n",
    "df.Country = df.Country.map(fn)\n",
    "\n",
    "fn= fun1('united stares', 'usa')\n",
    "df.Country = df.Country.map(fn)\n",
    "#and so on"
   ]
  },
  {
   "cell_type": "code",
   "execution_count": 88,
   "metadata": {},
   "outputs": [
    {
     "name": "stdout",
     "output_type": "stream",
     "text": [
      "There are now 236 unique Country entries\n"
     ]
    }
   ],
   "source": [
    "p_unique()"
   ]
  },
  {
   "cell_type": "code",
   "execution_count": 89,
   "metadata": {},
   "outputs": [
    {
     "name": "stdout",
     "output_type": "stream",
     "text": [
      "There are now 199 unique Country entries\n"
     ]
    }
   ],
   "source": [
    "#OR you can simplify the above with a list of str_to_find\n",
    "#and just iterate over it\n",
    "vals=['usa',  'u s', 'unites states', 'united sates', 'unitedstates', 'united stares', 'united stat', 'america']\n",
    "for val in vals:\n",
    "    fn= fun1(val, 'usa')\n",
    "    df.Country = df.Country.map(fn)\n",
    "p_unique()"
   ]
  },
  {
   "cell_type": "markdown",
   "metadata": {},
   "source": [
    "## Once you get down to the bottom of the unique values you will probably get a lot of one offs\n",
    "For instance lets see what the the values are\n",
    "\n"
   ]
  },
  {
   "cell_type": "code",
   "execution_count": 90,
   "metadata": {},
   "outputs": [
    {
     "data": {
      "text/plain": [
       "Country\n",
       "usa                       19466\n",
       "us                         3349\n",
       "canada                     1656\n",
       "uk                          695\n",
       "united kingdom              626\n",
       "australia                   382\n",
       "germany                     190\n",
       "england                     168\n",
       "ireland                     124\n",
       "new zealand                 121\n",
       "france                       66\n",
       "netherlands                  54\n",
       "scotland                     45\n",
       "spain                        44\n",
       "sweden                       41\n",
       "switzerland                  38\n",
       "belgium                      34\n",
       "the netherlands              31\n",
       "japan                        29\n",
       "denmark                      22\n",
       "south africa                 17\n",
       "finland                      16\n",
       "austria                      16\n",
       "israel                       14\n",
       "italy                        14\n",
       "singapore                    14\n",
       "india                        14\n",
       "norway                       14\n",
       "malaysia                     13\n",
       "brazil                       11\n",
       "philippines                   8\n",
       "poland                        8\n",
       "china                         7\n",
       "mexico                        7\n",
       "nz                            6\n",
       "england uk                    5\n",
       "portugal                      5\n",
       "greece                        5\n",
       "czech republic                5\n",
       "argentina                     5\n",
       "great britain                 5\n",
       "south korea                   5\n",
       "thailand                      5\n",
       "puerto rico                   4\n",
       "latvia                        4\n",
       "🇺🇸                            4\n",
       "pakistan                      4\n",
       "wales                         4\n",
       "hong kong                     4\n",
       "england united kingdom        3\n",
       "Name: count, dtype: int64"
      ]
     },
     "execution_count": 90,
     "metadata": {},
     "output_type": "execute_result"
    }
   ],
   "source": [
    "# vals=df.Country.unique()\n",
    "# vals.sort()\n",
    "# vals\n",
    "df.Country.value_counts()[:50]"
   ]
  },
  {
   "cell_type": "markdown",
   "metadata": {},
   "source": [
    "usa## Notice there are a lot of united states ish entries at the bottom, lets see if fuzzy wuzzy helps"
   ]
  },
  {
   "cell_type": "code",
   "execution_count": 27,
   "metadata": {},
   "outputs": [],
   "source": [
    "fn= fun1('usa', 'usa')\n",
    "df.Country = df.Country.map(fn)"
   ]
  },
  {
   "cell_type": "code",
   "execution_count": null,
   "metadata": {},
   "outputs": [],
   "source": [
    "# [val for val in df.Country if 'us' in val]\n",
    "ds2=pd.Series([val for val in df.Country if 'us' in val])\n",
    "ds2.value_counts()"
   ]
  },
  {
   "cell_type": "code",
   "execution_count": 91,
   "metadata": {},
   "outputs": [],
   "source": [
    "def fun2(str_to_find, str_replacement):\n",
    "    \"\"\"\n",
    "    creates findandreplace Closure, which is a stateful function\n",
    "    that remembers str_to_find and str_replacement values\n",
    "    returns: findandreplace\n",
    "    \"\"\"\n",
    "    def findandreplace(x):\n",
    "        if str_to_find == x:\n",
    "            return str_replacement\n",
    "        return x\n",
    "    # in python functions are first class objects\n",
    "    # we are returning findandreplace, it in turn knows the value of \n",
    "    # str_to_find and str_replacement and takes an argument to search thru,x\n",
    "    return findandreplace\n"
   ]
  },
  {
   "cell_type": "code",
   "execution_count": 92,
   "metadata": {},
   "outputs": [],
   "source": [
    "for val in ['us','the us','us govt employee overseas country withheld','we dont get raises we get quarterly bonuses but they periodically asses income in the area you work so i got a raise because a 3rd party assessment showed i was paid too little for the area we were located']:\n",
    "    fn= fun2(val, 'usa')\n",
    "    df.Country = df.Country.map(fn)"
   ]
  },
  {
   "cell_type": "code",
   "execution_count": 93,
   "metadata": {},
   "outputs": [
    {
     "name": "stdout",
     "output_type": "stream",
     "text": [
      "There are now 195 unique Country entries\n"
     ]
    }
   ],
   "source": [
    "p_unique()"
   ]
  },
  {
   "cell_type": "code",
   "execution_count": 32,
   "metadata": {
    "tags": []
   },
   "outputs": [],
   "source": [
    "# this package lives in the conda forge\n",
    "# !conda install -c conda-forge fuzzywuzzy -y"
   ]
  },
  {
   "cell_type": "code",
   "execution_count": 33,
   "metadata": {},
   "outputs": [],
   "source": [
    "# helpful modules\n",
    "import fuzzywuzzy\n",
    "from fuzzywuzzy import process"
   ]
  },
  {
   "cell_type": "code",
   "execution_count": null,
   "metadata": {},
   "outputs": [],
   "source": [
    "fuzzywuzzy.process.extract??"
   ]
  },
  {
   "cell_type": "code",
   "execution_count": null,
   "metadata": {
    "tags": []
   },
   "outputs": [],
   "source": [
    "#looking for strings similar to 'unit', for return list\n",
    "# first is the match, second is the score, third is the index in the dataframe\n",
    "matches = fuzzywuzzy.process.extract(\"unit\", df.Country, limit=150)\n",
    "matches"
   ]
  },
  {
   "cell_type": "code",
   "execution_count": null,
   "metadata": {},
   "outputs": [],
   "source": [
    "#get the first match to prove that the index is the index in the dataframe\n",
    "df.iloc[ matches[0][2]].Country"
   ]
  },
  {
   "cell_type": "code",
   "execution_count": null,
   "metadata": {},
   "outputs": [],
   "source": [
    "#they look pretty good, except for the united kingdom\n",
    "#lets get all the unique matches in matches\n",
    "#first all matches\n",
    "l=[]\n",
    "for mtch in matches:\n",
    "    l.append(mtch[0])\n",
    "\n",
    "# get unique values\n",
    "l = set(l)\n",
    "print(l)"
   ]
  },
  {
   "cell_type": "code",
   "execution_count": null,
   "metadata": {},
   "outputs": [],
   "source": [
    "#eyeball to get a list of bogus values\n",
    "dont_sub_these=['united kingdom england', 'united arab emirates',  'united kingdom', 'united kindom']\n",
    "\n",
    "#remove from l\n",
    "for v in dont_sub_these:\n",
    "    try:\n",
    "        l.remove(v)\n",
    "    except KeyError as e:\n",
    "        pass\n",
    "print(l)\n"
   ]
  },
  {
   "cell_type": "code",
   "execution_count": null,
   "metadata": {},
   "outputs": [],
   "source": [
    "\n",
    "#now call the above closure\n",
    "for v in l:\n",
    "    fn= fun1(v, 'usa')\n",
    "    df.Country = df.Country.map(fn)\n",
    "\n",
    "p_unique()"
   ]
  },
  {
   "cell_type": "markdown",
   "metadata": {},
   "source": [
    "## Add a new column to track the changed columns\n",
    "<mark> HOMEWORK: A better way would be to rename 'Country' to 'Country_original' and add a new column 'Country_computed' so we lose no data. <br>\n",
    "    For this you need access to 2 columns in the dataframe, so map will not work, you should use apply"
   ]
  },
  {
   "cell_type": "code",
   "execution_count": null,
   "metadata": {
    "tags": []
   },
   "outputs": [],
   "source": [
    "df.head()"
   ]
  },
  {
   "cell_type": "code",
   "execution_count": null,
   "metadata": {},
   "outputs": [],
   "source": [
    "%%time\n",
    "# will receive a row of data and return a single value\n",
    "def fun2(row):\n",
    "    #have whole row to operate on\n",
    "    if row.Country == 'usa':\n",
    "        return True\n",
    "    return False\n",
    "\n",
    "\n",
    "#record whether usa has been found yet or not\n",
    "df['found_in_db'] = df.apply(fun2, axis=1)"
   ]
  },
  {
   "cell_type": "code",
   "execution_count": null,
   "metadata": {},
   "outputs": [],
   "source": [
    "%%time\n",
    "#do it all with map, much faster\n",
    "df['found_in_db1'] = df.Country.map(lambda x: True if x=='usa' else False)"
   ]
  },
  {
   "cell_type": "code",
   "execution_count": null,
   "metadata": {},
   "outputs": [],
   "source": [
    "#verify the same results\n",
    "print((df.found_in_db1 == True).sum())\n",
    "print((df.found_in_db1 == False).sum())\n",
    "\n",
    "print((df.found_in_db == True).sum())\n",
    "print((df.found_in_db == False).sum())"
   ]
  },
  {
   "cell_type": "markdown",
   "metadata": {
    "tags": []
   },
   "source": [
    "# Lets see if we can do this for other countries.  It will be easier if we have a package that has a list of countries.\n",
    "\n",
    "<a href=\"https://pypi.org/project/pycountry/\">pycountry</a> is perfect.  It has a list of countries and a fuzzy lookup API. \n"
   ]
  },
  {
   "cell_type": "code",
   "execution_count": 44,
   "metadata": {
    "tags": []
   },
   "outputs": [],
   "source": [
    "# !conda install -c conda-forge pycountry -y"
   ]
  },
  {
   "cell_type": "code",
   "execution_count": 45,
   "metadata": {},
   "outputs": [],
   "source": [
    "import pycountry"
   ]
  },
  {
   "cell_type": "markdown",
   "metadata": {},
   "source": [
    "### Demonstrate Pycountry: The following pycountry call will return a tupple if the country found, otherwise it will throw a LookupError"
   ]
  },
  {
   "cell_type": "code",
   "execution_count": null,
   "metadata": {},
   "outputs": [],
   "source": [
    "pycountry.countries.lookup('de')\n",
    "pycountry.countries.lookup('germany')\n",
    "pycountry.countries.lookup('usa').alpha_3\n",
    "pycountry.countries.lookup('United States of America')\n",
    "# pycountry.countries.lookup('united sates') #fails"
   ]
  },
  {
   "cell_type": "code",
   "execution_count": null,
   "metadata": {},
   "outputs": [],
   "source": [
    "set([val[0] for val in fuzzywuzzy.process.extract(\"unitee\", df.Country, limit=150)])"
   ]
  },
  {
   "cell_type": "code",
   "execution_count": 48,
   "metadata": {},
   "outputs": [],
   "source": [
    "# for val in ['uniited states', 'unite states']:\n",
    "#     fn=fun2(val, 'usa')\n",
    "#     df.Country = df.Country.map(fn)\n"
   ]
  },
  {
   "cell_type": "code",
   "execution_count": null,
   "metadata": {},
   "outputs": [],
   "source": [
    "#lets try a fuzzy search to seee if we get a few more\n",
    "pycountry.countries.search_fuzzy('united')"
   ]
  },
  {
   "cell_type": "markdown",
   "metadata": {},
   "source": [
    "## Lets apply this to the entire DataFrame"
   ]
  },
  {
   "cell_type": "code",
   "execution_count": 50,
   "metadata": {},
   "outputs": [],
   "source": [
    "from tqdm.auto import tqdm  #tqdm gives you the neat little status bar, useful for very long running operations\n",
    "tqdm.pandas()"
   ]
  },
  {
   "cell_type": "code",
   "execution_count": null,
   "metadata": {
    "tags": []
   },
   "outputs": [],
   "source": [
    "def fix(df, i, cont, search_type):\n",
    "    '''\n",
    "    df: dataframe\n",
    "    i: row\n",
    "    cont: tuple from pycountry lookup hit \n",
    "    search_type: unused-what type of pycountry search was used ()\n",
    "    '''\n",
    "    # print(f' {search_type} {cont.alpha_3} for {df.loc[i, \"Country\"]}')\n",
    "    df.loc[i, 'found_in_db'] = True  #found column\n",
    "    df.loc[i, 'Country']=cont.alpha_3  #save the 3 letter alpha character for the country\n",
    "def find_countries(df):\n",
    "    #record whether pycountry finds result or not\n",
    "    for i in tqdm(range(len(df))):  # for every row\n",
    "        try:\n",
    "            #try the most accurate lookup first\n",
    "            res = pycountry.countries.lookup(df.loc[i, 'Country']) \n",
    "            #if you get here lookup returned result, use it\n",
    "            fix(df, i, res, \"Accurate swap\")\n",
    "        except LookupError as le:\n",
    "            #lookup above failed, try fuzzy, you may get many results\n",
    "            try:\n",
    "                res = pycountry.countries.search_fuzzy(df.loc[i, 'Country'])\n",
    "                #if you get here search_fuzzy returned result, should you use it?\n",
    "                #SHOULD CHECK CONFIDENCE, THIS CODE DOES NOT\n",
    "                fix(df, i, res[0], \"Fuzzy swap\")\n",
    "            except LookupError as le:\n",
    "                pass\n",
    "    return df\n",
    "\n",
    "\n",
    "df = find_countries(df)"
   ]
  },
  {
   "cell_type": "code",
   "execution_count": null,
   "metadata": {},
   "outputs": [],
   "source": [
    "df.head()"
   ]
  },
  {
   "cell_type": "code",
   "execution_count": null,
   "metadata": {},
   "outputs": [],
   "source": [
    "df.Country.value_counts()\n",
    "p_unique()"
   ]
  },
  {
   "cell_type": "markdown",
   "metadata": {},
   "source": [
    "## Final Tally"
   ]
  },
  {
   "cell_type": "code",
   "execution_count": null,
   "metadata": {},
   "outputs": [],
   "source": [
    "numb_found = df.found_in_db.sum()\n",
    "print(f' Number countries identified {numb_found}')\n",
    "print(f' Number countries unidentified {len(df)-numb_found}')\n",
    "print(f' Number unique countries {df.Country.nunique()}')"
   ]
  },
  {
   "cell_type": "code",
   "execution_count": null,
   "metadata": {
    "tags": []
   },
   "outputs": [],
   "source": [
    "df[df['found_in_db']==False].Country.value_counts()"
   ]
  },
  {
   "cell_type": "code",
   "execution_count": null,
   "metadata": {},
   "outputs": [],
   "source": [
    "pycountry.countries.search_fuzzy('United Kingdom')"
   ]
  },
  {
   "cell_type": "markdown",
   "metadata": {},
   "source": [
    "## Lets see what the top 10 countries are"
   ]
  },
  {
   "cell_type": "code",
   "execution_count": null,
   "metadata": {},
   "outputs": [],
   "source": [
    "df_tt=df.groupby('Country').count().sort_values(by='found_in_db',ascending=False)\n",
    "df_tt.found_in_db"
   ]
  },
  {
   "cell_type": "code",
   "execution_count": null,
   "metadata": {},
   "outputs": [],
   "source": [
    "\n",
    "df_tmp=df_tt.iloc[:10,:]\n",
    "sns.barplot(data=df_tmp,x=df_tmp.index, y='found_in_db');"
   ]
  },
  {
   "cell_type": "markdown",
   "metadata": {},
   "source": [
    "## When finished saved processed data for further evaluation"
   ]
  },
  {
   "cell_type": "code",
   "execution_count": 58,
   "metadata": {},
   "outputs": [],
   "source": [
    "# save to feather format\n",
    "df.to_feather(FILE_FEATHER)"
   ]
  },
  {
   "cell_type": "markdown",
   "metadata": {},
   "source": [
    "## testing"
   ]
  },
  {
   "cell_type": "code",
   "execution_count": null,
   "metadata": {},
   "outputs": [],
   "source": [
    "text=\"A big fish in a small pond\"\n",
    "STOPWORDS=['in','a']\n",
    "\" \".join([word for word in str(text).split() if word not in STOPWORDS])"
   ]
  },
  {
   "cell_type": "markdown",
   "metadata": {},
   "source": []
  }
 ],
 "metadata": {
  "kernelspec": {
   "display_name": "Python 3 (ipykernel)",
   "language": "python",
   "name": "python3"
  },
  "language_info": {
   "codemirror_mode": {
    "name": "ipython",
    "version": 3
   },
   "file_extension": ".py",
   "mimetype": "text/x-python",
   "name": "python",
   "nbconvert_exporter": "python",
   "pygments_lexer": "ipython3",
   "version": "3.11.5"
  },
  "toc-autonumbering": true,
  "widgets": {
   "application/vnd.jupyter.widget-state+json": {
    "state": {},
    "version_major": 2,
    "version_minor": 0
   }
  }
 },
 "nbformat": 4,
 "nbformat_minor": 4
}
