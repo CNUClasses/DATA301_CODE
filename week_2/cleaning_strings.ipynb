{
 "cells": [
  {
   "cell_type": "markdown",
   "metadata": {},
   "source": [
    "# Cleaning string data\n",
    "Data cleaning is the process of fixing or removing incorrect, corrupted, incorrectly formatted, duplicate, or incomplete data within a dataset.\n",
    "For strings this process starts by applying a list of common functions (lower, strip).  Then handling missing and duplicate entries. And finally applying custom functions as needed."
   ]
  },
  {
   "cell_type": "code",
   "execution_count": 375,
   "metadata": {},
   "outputs": [],
   "source": [
    "import matplotlib.pyplot as plt\n",
    "import seaborn as sns\n",
    "plt.style.use('ggplot')\n",
    "import pandas as pd\n",
    "import numpy as np\n",
    "\n",
    "# Display all cell outputs\n",
    "from IPython.core.interactiveshell import InteractiveShell\n",
    "InteractiveShell.ast_node_interactivity = 'all'\n",
    "\n",
    "from IPython import get_ipython\n",
    "ipython = get_ipython()\n",
    "\n",
    "%matplotlib inline\n",
    "%config InlineBackend.figure_format = 'svg'\n",
    "\n",
    "# autoreload extension\n",
    "if 'autoreload' not in ipython.extension_manager.loaded:\n",
    "    %load_ext autoreload\n",
    "\n",
    "%autoreload 2\n",
    "\n",
    "# Set max rows and columns displayed in jupyter\n",
    "pd.set_option(\"display.max_rows\", 100)\n",
    "pd.set_option(\"display.max_columns\", 20)"
   ]
  },
  {
   "cell_type": "markdown",
   "metadata": {},
   "source": [
    "## Load a dataset"
   ]
  },
  {
   "cell_type": "code",
   "execution_count": 376,
   "metadata": {},
   "outputs": [
    {
     "data": {
      "text/html": [
       "<div>\n",
       "<style scoped>\n",
       "    .dataframe tbody tr th:only-of-type {\n",
       "        vertical-align: middle;\n",
       "    }\n",
       "\n",
       "    .dataframe tbody tr th {\n",
       "        vertical-align: top;\n",
       "    }\n",
       "\n",
       "    .dataframe thead th {\n",
       "        text-align: right;\n",
       "    }\n",
       "</style>\n",
       "<table border=\"1\" class=\"dataframe\">\n",
       "  <thead>\n",
       "    <tr style=\"text-align: right;\">\n",
       "      <th></th>\n",
       "      <th>Timestamp</th>\n",
       "      <th>How old are you?</th>\n",
       "      <th>Industry</th>\n",
       "      <th>Job title</th>\n",
       "      <th>Additional context on job title</th>\n",
       "      <th>Annual salary</th>\n",
       "      <th>Other monetary comp</th>\n",
       "      <th>Currency</th>\n",
       "      <th>Currency - other</th>\n",
       "      <th>Additional context on income</th>\n",
       "      <th>Country</th>\n",
       "      <th>State</th>\n",
       "      <th>City</th>\n",
       "      <th>Overall years of professional experience</th>\n",
       "      <th>Years of experience in field</th>\n",
       "      <th>Highest level of education completed</th>\n",
       "      <th>Gender</th>\n",
       "      <th>Race</th>\n",
       "    </tr>\n",
       "  </thead>\n",
       "  <tbody>\n",
       "    <tr>\n",
       "      <th>0</th>\n",
       "      <td>4/27/2021 11:02:10</td>\n",
       "      <td>25-34</td>\n",
       "      <td>Education (Higher Education)</td>\n",
       "      <td>Research and Instruction Librarian</td>\n",
       "      <td>NaN</td>\n",
       "      <td>55,000</td>\n",
       "      <td>0.0</td>\n",
       "      <td>USD</td>\n",
       "      <td>NaN</td>\n",
       "      <td>NaN</td>\n",
       "      <td>United States</td>\n",
       "      <td>Massachusetts</td>\n",
       "      <td>Boston</td>\n",
       "      <td>5-7 years</td>\n",
       "      <td>5-7 years</td>\n",
       "      <td>Master's degree</td>\n",
       "      <td>Woman</td>\n",
       "      <td>White</td>\n",
       "    </tr>\n",
       "    <tr>\n",
       "      <th>1</th>\n",
       "      <td>4/27/2021 11:02:22</td>\n",
       "      <td>25-34</td>\n",
       "      <td>Computing or Tech</td>\n",
       "      <td>Change &amp; Internal Communications Manager</td>\n",
       "      <td>NaN</td>\n",
       "      <td>54,600</td>\n",
       "      <td>4000.0</td>\n",
       "      <td>GBP</td>\n",
       "      <td>NaN</td>\n",
       "      <td>NaN</td>\n",
       "      <td>United Kingdom</td>\n",
       "      <td>NaN</td>\n",
       "      <td>Cambridge</td>\n",
       "      <td>8 - 10 years</td>\n",
       "      <td>5-7 years</td>\n",
       "      <td>College degree</td>\n",
       "      <td>Non-binary</td>\n",
       "      <td>White</td>\n",
       "    </tr>\n",
       "    <tr>\n",
       "      <th>2</th>\n",
       "      <td>4/27/2021 11:02:38</td>\n",
       "      <td>25-34</td>\n",
       "      <td>Accounting, Banking &amp; Finance</td>\n",
       "      <td>Marketing Specialist</td>\n",
       "      <td>NaN</td>\n",
       "      <td>34,000</td>\n",
       "      <td>NaN</td>\n",
       "      <td>USD</td>\n",
       "      <td>NaN</td>\n",
       "      <td>NaN</td>\n",
       "      <td>US</td>\n",
       "      <td>Tennessee</td>\n",
       "      <td>Chattanooga</td>\n",
       "      <td>2 - 4 years</td>\n",
       "      <td>2 - 4 years</td>\n",
       "      <td>College degree</td>\n",
       "      <td>Woman</td>\n",
       "      <td>White</td>\n",
       "    </tr>\n",
       "    <tr>\n",
       "      <th>3</th>\n",
       "      <td>4/27/2021 11:02:41</td>\n",
       "      <td>25-34</td>\n",
       "      <td>Nonprofits</td>\n",
       "      <td>Program Manager</td>\n",
       "      <td>NaN</td>\n",
       "      <td>62,000</td>\n",
       "      <td>3000.0</td>\n",
       "      <td>USD</td>\n",
       "      <td>NaN</td>\n",
       "      <td>NaN</td>\n",
       "      <td>USA</td>\n",
       "      <td>Wisconsin</td>\n",
       "      <td>Milwaukee</td>\n",
       "      <td>8 - 10 years</td>\n",
       "      <td>5-7 years</td>\n",
       "      <td>College degree</td>\n",
       "      <td>Woman</td>\n",
       "      <td>White</td>\n",
       "    </tr>\n",
       "    <tr>\n",
       "      <th>4</th>\n",
       "      <td>4/27/2021 11:02:42</td>\n",
       "      <td>25-34</td>\n",
       "      <td>Accounting, Banking &amp; Finance</td>\n",
       "      <td>Accounting Manager</td>\n",
       "      <td>NaN</td>\n",
       "      <td>60,000</td>\n",
       "      <td>7000.0</td>\n",
       "      <td>USD</td>\n",
       "      <td>NaN</td>\n",
       "      <td>NaN</td>\n",
       "      <td>US</td>\n",
       "      <td>South Carolina</td>\n",
       "      <td>Greenville</td>\n",
       "      <td>8 - 10 years</td>\n",
       "      <td>5-7 years</td>\n",
       "      <td>College degree</td>\n",
       "      <td>Woman</td>\n",
       "      <td>White</td>\n",
       "    </tr>\n",
       "  </tbody>\n",
       "</table>\n",
       "</div>"
      ],
      "text/plain": [
       "            Timestamp How old are you?                       Industry  \\\n",
       "0  4/27/2021 11:02:10            25-34   Education (Higher Education)   \n",
       "1  4/27/2021 11:02:22            25-34              Computing or Tech   \n",
       "2  4/27/2021 11:02:38            25-34  Accounting, Banking & Finance   \n",
       "3  4/27/2021 11:02:41            25-34                     Nonprofits   \n",
       "4  4/27/2021 11:02:42            25-34  Accounting, Banking & Finance   \n",
       "\n",
       "                                  Job title Additional context on job title  \\\n",
       "0        Research and Instruction Librarian                             NaN   \n",
       "1  Change & Internal Communications Manager                             NaN   \n",
       "2                      Marketing Specialist                             NaN   \n",
       "3                           Program Manager                             NaN   \n",
       "4                        Accounting Manager                             NaN   \n",
       "\n",
       "  Annual salary  Other monetary comp Currency Currency - other  \\\n",
       "0        55,000                  0.0      USD              NaN   \n",
       "1        54,600               4000.0      GBP              NaN   \n",
       "2        34,000                  NaN      USD              NaN   \n",
       "3        62,000               3000.0      USD              NaN   \n",
       "4        60,000               7000.0      USD              NaN   \n",
       "\n",
       "  Additional context on income         Country           State         City  \\\n",
       "0                          NaN   United States   Massachusetts       Boston   \n",
       "1                          NaN  United Kingdom             NaN    Cambridge   \n",
       "2                          NaN              US       Tennessee  Chattanooga   \n",
       "3                          NaN             USA       Wisconsin    Milwaukee   \n",
       "4                          NaN              US  South Carolina   Greenville   \n",
       "\n",
       "  Overall years of professional experience Years of experience in field  \\\n",
       "0                                5-7 years                    5-7 years   \n",
       "1                             8 - 10 years                    5-7 years   \n",
       "2                              2 - 4 years                  2 - 4 years   \n",
       "3                             8 - 10 years                    5-7 years   \n",
       "4                             8 - 10 years                    5-7 years   \n",
       "\n",
       "  Highest level of education completed      Gender   Race  \n",
       "0                      Master's degree       Woman  White  \n",
       "1                       College degree  Non-binary  White  \n",
       "2                       College degree       Woman  White  \n",
       "3                       College degree       Woman  White  \n",
       "4                       College degree       Woman  White  "
      ]
     },
     "execution_count": 376,
     "metadata": {},
     "output_type": "execute_result"
    },
    {
     "name": "stdout",
     "output_type": "stream",
     "text": [
      "(27609, 18)\n"
     ]
    }
   ],
   "source": [
    "df=pd.read_csv('../projects/proj1/data/Ask A Manager Salary Survey 2021 (Responses) - Form Responses 1.csv')\n",
    "df.head()\n",
    "print(df.shape)"
   ]
  },
  {
   "cell_type": "code",
   "execution_count": 377,
   "metadata": {
    "tags": []
   },
   "outputs": [
    {
     "data": {
      "text/plain": [
       "Timestamp                                    object\n",
       "How old are you?                             object\n",
       "Industry                                     object\n",
       "Job title                                    object\n",
       "Additional context on job title              object\n",
       "Annual salary                                object\n",
       "Other monetary comp                         float64\n",
       "Currency                                     object\n",
       "Currency - other                             object\n",
       "Additional context on income                 object\n",
       "Country                                      object\n",
       "State                                        object\n",
       "City                                         object\n",
       "Overall years of professional experience     object\n",
       "Years of experience in field                 object\n",
       "Highest level of education completed         object\n",
       "Gender                                       object\n",
       "Race                                         object\n",
       "dtype: object"
      ]
     },
     "execution_count": 377,
     "metadata": {},
     "output_type": "execute_result"
    }
   ],
   "source": [
    "# what type is country?  if object then it's a string\n",
    "df.dtypes"
   ]
  },
  {
   "cell_type": "code",
   "execution_count": 378,
   "metadata": {
    "tags": []
   },
   "outputs": [
    {
     "data": {
      "text/plain": [
       "array([' New Zealand', ' U.S.', ' US', ' United States',\n",
       "       '$2,175.84/year is deducted for benefits',\n",
       "       'ARGENTINA BUT MY ORG IS IN THAILAND', 'Afghanistan', 'Africa',\n",
       "       'America', 'Aotearoa New Zealand', 'Argentina', 'Australi',\n",
       "       'Australia', 'Australia ', 'Australian ', 'Austria',\n",
       "       'Austria, but I work remotely for a Dutch/British company',\n",
       "       'Bangladesh', 'Bangladesh ', 'Belgium', 'Belgium ', 'Bermuda',\n",
       "       'Brasil', 'Brazil', 'Brazil ', 'Britain ', 'Bulgaria', 'CANADA',\n",
       "       'CANADA ', 'California ', 'Cambodia', 'Can', 'Canad', 'Canada',\n",
       "       'Canada ', 'Canada and USA', 'Canada, Ottawa, ontario', 'Canadw',\n",
       "       'Canadá', 'Canda', 'Catalonia', 'Cayman Islands', 'Chile', 'China',\n",
       "       'Colombia', 'Company in Germany. I work from Pakistan.', 'Congo',\n",
       "       'Contracts', 'Costa Rica', \"Cote d'Ivoire\"], dtype=object)"
      ]
     },
     "execution_count": 378,
     "metadata": {},
     "output_type": "execute_result"
    }
   ],
   "source": [
    "x=df['Country'].unique()\n",
    "x.sort()\n",
    "x[:50]"
   ]
  },
  {
   "cell_type": "markdown",
   "metadata": {},
   "source": [
    "## Lets handle missing Country data first to ensure below algorithms run correctly.  \n",
    "Lots of ways to do this, I'm going to do it the simple way, replace NaN with UNKNOWN\n",
    "\n",
    "This is not a good idea in general, especially if you have a way to figure out the country from the other data present"
   ]
  },
  {
   "cell_type": "code",
   "execution_count": 379,
   "metadata": {},
   "outputs": [
    {
     "data": {
      "text/plain": [
       "0"
      ]
     },
     "execution_count": 379,
     "metadata": {},
     "output_type": "execute_result"
    }
   ],
   "source": [
    "#how many missing Countries\n",
    "df.Country.isnull().sum()"
   ]
  },
  {
   "cell_type": "code",
   "execution_count": 380,
   "metadata": {},
   "outputs": [],
   "source": [
    "# fill missing with UNKNOWN as a sentinal value, makes it easy to find and deal with later\n",
    "df.Country = df.Country.fillna('UNKNOWN')"
   ]
  },
  {
   "cell_type": "markdown",
   "metadata": {},
   "source": [
    "## There is a country column, lets use it to get all the USA entries.  Take a look at the number of unique entries"
   ]
  },
  {
   "cell_type": "code",
   "execution_count": 381,
   "metadata": {},
   "outputs": [
    {
     "name": "stdout",
     "output_type": "stream",
     "text": [
      "364\n"
     ]
    }
   ],
   "source": [
    "#how many different countries are there\n",
    "start_with_this_many__unique_countries = df.Country.nunique()\n",
    "print(start_with_this_many__unique_countries)"
   ]
  },
  {
   "cell_type": "markdown",
   "metadata": {},
   "source": [
    "## How many occurrences for each unique entry?"
   ]
  },
  {
   "cell_type": "code",
   "execution_count": 382,
   "metadata": {},
   "outputs": [
    {
     "name": "stdout",
     "output_type": "stream",
     "text": [
      "There are 364 unique entries\n"
     ]
    },
    {
     "data": {
      "text/plain": [
       "United States                8844\n",
       "USA                          7847\n",
       "US                           2572\n",
       "Canada                       1549\n",
       "United States                 652\n",
       "U.S.                          571\n",
       "UK                            566\n",
       "United Kingdom                540\n",
       "USA                           468\n",
       "Usa                           441\n",
       "United States of America      421\n",
       "Australia                     312\n",
       "United states                 203\n",
       "usa                           180\n",
       "Germany                       168\n",
       "England                       134\n",
       "united states                 113\n",
       "Us                            103\n",
       "Ireland                       102\n",
       "New Zealand                    94\n",
       "Uk                             84\n",
       "Canada                         75\n",
       "Australia                      67\n",
       "United Kingdom                 65\n",
       "France                         63\n",
       "U.S.A.                         46\n",
       "United States of America       43\n",
       "Spain                          40\n",
       "Netherlands                    40\n",
       "Scotland                       39\n",
       "Sweden                         34\n",
       "us                             34\n",
       "Belgium                        32\n",
       "England                        31\n",
       "Switzerland                    29\n",
       "canada                         27\n",
       "Japan                          26\n",
       "The Netherlands                25\n",
       "UK                             22\n",
       "U.S                            21\n",
       "New Zealand                    20\n",
       "America                        20\n",
       "United State                   19\n",
       "Germany                        19\n",
       "Ireland                        19\n",
       "US                             18\n",
       "Denmark                        17\n",
       "Usa                            17\n",
       "U.S.                           16\n",
       "Austria                        16\n",
       "Name: Country, dtype: int64"
      ]
     },
     "execution_count": 382,
     "metadata": {},
     "output_type": "execute_result"
    }
   ],
   "source": [
    "#lets see what we have\n",
    "vc=df.Country.value_counts()\n",
    "print(f'There are {len(vc)} unique entries')\n",
    "vc[:50]\n",
    "# vc[50:100]"
   ]
  },
  {
   "cell_type": "markdown",
   "metadata": {},
   "source": [
    "## It looks like there was no filtering on what a user could enter in the Country field, ANyway lets get to it"
   ]
  },
  {
   "cell_type": "markdown",
   "metadata": {},
   "source": [
    "## Apply lower and strip to get the easy gains"
   ]
  },
  {
   "cell_type": "code",
   "execution_count": 383,
   "metadata": {},
   "outputs": [
    {
     "name": "stdout",
     "output_type": "stream",
     "text": [
      "There are now 250 unique Country entries\n"
     ]
    }
   ],
   "source": [
    "df.Country = df.Country.map(str.lower).map(str.strip)\n",
    "\n",
    "#how many different countries are there now\n",
    "print(f'There are now {df.Country.nunique()} unique Country entries')"
   ]
  },
  {
   "cell_type": "markdown",
   "metadata": {},
   "source": [
    "## Looks like a lot of punctuation, get rid of it all\n",
    "Use regular expressions"
   ]
  },
  {
   "cell_type": "code",
   "execution_count": 384,
   "metadata": {},
   "outputs": [
    {
     "name": "stdout",
     "output_type": "stream",
     "text": [
      "There are now 236 unique Country entries\n"
     ]
    }
   ],
   "source": [
    "#the regular expressions package\n",
    "import re\n",
    "punc = \"[!\\\"#$%&\\'()*+,-./:;<=>?@[\\\\]^_{|}~\\`]\"  #this is the punctuation to get rid of\n",
    "\n",
    "#or a function\n",
    "def fun1(x):\n",
    "    #re.sub will remove any punction char found in punc \n",
    "    return re.sub(punc, '', x)\n",
    "\n",
    "df.Country = df.Country.map(fun1)\n",
    "\n",
    "#can do the same thing with a lambda\n",
    "# df.Country = df.Country.map(lambda x: re.sub(punc, '', x))\n",
    "\n",
    "#how many different countries are there now\n",
    "print(f'There are now {df.Country.nunique()} unique Country entries')"
   ]
  },
  {
   "cell_type": "markdown",
   "metadata": {},
   "source": [
    "## Looks like a lot of variations of 'united state'\n",
    "\n",
    "Another easy gain, lets replace all strings with 'united state' in them with 'usa' "
   ]
  },
  {
   "cell_type": "code",
   "execution_count": 385,
   "metadata": {},
   "outputs": [
    {
     "data": {
      "text/plain": [
       "219"
      ]
     },
     "execution_count": 385,
     "metadata": {},
     "output_type": "execute_result"
    }
   ],
   "source": [
    "def fun(x):\n",
    "    \"\"\"\n",
    "    replaces any string that contains 'united state' with 'usa'\n",
    "    \"\"\"\n",
    "    if 'united state' in x:\n",
    "        return 'usa'\n",
    "    return x\n",
    "\n",
    "\n",
    "df.Country = df.Country.map(fun);\n",
    "\n",
    "#how many different countries are there now\n",
    "df.Country.nunique()"
   ]
  },
  {
   "cell_type": "markdown",
   "metadata": {},
   "source": [
    "## But you might want to do something similar with other strings, do you write another function?  Or do something a little more general?\n",
    "Be general, always, use a python closure."
   ]
  },
  {
   "cell_type": "markdown",
   "metadata": {},
   "source": [
    "## Closures\n",
    "The problem we face is that map takes a function that takes 1 parameter, and we want it to take 3; The string value passed by map (call it x), the string to search for in x (call it str_to_find), and the string to replace x with if we find str_to_find in x (call it str_replacement).\n",
    "\n",
    "We can't get around the fact that map only passes 1 parameter to the function.  But we can creae a function that  already knows what str_to_find and str_replacement are.  Its called a closure"
   ]
  },
  {
   "cell_type": "code",
   "execution_count": 386,
   "metadata": {},
   "outputs": [],
   "source": [
    "def fun1(str_to_find, str_replacement):\n",
    "    \"\"\"\n",
    "    creates findandreplace Closure, which is a stateful function\n",
    "    that remembers str_to_find and str_replacement values\n",
    "    returns: findandreplace\n",
    "    \"\"\"\n",
    "    def findandreplace(x):\n",
    "        if str_to_find in x:\n",
    "            return str_replacement\n",
    "        return x\n",
    "    # in python functions are first class objects\n",
    "    # we are returning findandreplace, it in turn knows the value of \n",
    "    # str_to_find and str_replacement\n",
    "    return findandreplace\n"
   ]
  },
  {
   "cell_type": "code",
   "execution_count": 387,
   "metadata": {},
   "outputs": [],
   "source": [
    "#using the closure\n",
    "fn= fun1('usa', 'usa')\n",
    "df.Country = df.Country.map(fn)\n",
    "\n",
    "fn= fun1('us', 'usa')\n",
    "df.Country = df.Country.map(fn)\n",
    "\n",
    "fn= fun1('u s', 'usa')\n",
    "df.Country = df.Country.map(fn)\n",
    "\n",
    "fn= fun1('unites states', 'usa')  #its a bit suspicious that 17 people made this mistake\n",
    "df.Country = df.Country.map(fn)\n",
    "\n",
    "fn= fun1('united sates', 'usa')\n",
    "df.Country = df.Country.map(fn)\n",
    "\n",
    "fn= fun1('unitedstates', 'usa')\n",
    "df.Country = df.Country.map(fn)\n",
    "\n",
    "fn= fun1('united stares', 'usa')\n",
    "df.Country = df.Country.map(fn)\n",
    "#and so on"
   ]
  },
  {
   "cell_type": "code",
   "execution_count": 388,
   "metadata": {},
   "outputs": [],
   "source": [
    "#you can simplify the above with a list of str_to_find\n",
    "#and just iterate over it\n",
    "vals=['usa', 'us', 'u s', 'unites states', 'united sates', 'unitedstates', 'united stares']\n",
    "for val in vals:\n",
    "    fn= fun1(val, 'usa')\n",
    "    df.Country = df.Country.map(fn)\n"
   ]
  },
  {
   "cell_type": "code",
   "execution_count": 389,
   "metadata": {},
   "outputs": [
    {
     "name": "stdout",
     "output_type": "stream",
     "text": [
      "There are now 182 unique Country entries\n"
     ]
    }
   ],
   "source": [
    "#how many different countries are there now\n",
    "print(f'There are now {df.Country.nunique()} unique Country entries')"
   ]
  },
  {
   "cell_type": "markdown",
   "metadata": {},
   "source": [
    "## Once you get down to the bottom of the unique values you will probably get a lot of one offs\n",
    "For instance lets see what the the values are"
   ]
  },
  {
   "cell_type": "code",
   "execution_count": 390,
   "metadata": {},
   "outputs": [
    {
     "data": {
      "text/plain": [
       "array(['217584year is deducted for benefits', 'afghanistan', 'africa',\n",
       "       'america', 'aotearoa new zealand', 'argentina',\n",
       "       'argentina but my org is in thailand', 'bangladesh', 'belgium',\n",
       "       'bermuda', 'brasil', 'brazil', 'britain', 'bulgaria', 'california',\n",
       "       'cambodia', 'can', 'canad', 'canada', 'canada ottawa ontario',\n",
       "       'canadw', 'canadá', 'canda', 'catalonia', 'cayman islands',\n",
       "       'chile', 'china', 'colombia',\n",
       "       'company in germany i work from pakistan', 'congo', 'contracts',\n",
       "       'costa rica', 'cote divoire', 'croatia', 'csnada', 'cuba',\n",
       "       'currently finance', 'czech republic', 'czechia', 'danmark',\n",
       "       'denmark', 'ecuador', 'england', 'england gb', 'england uk',\n",
       "       'england united kingdom', 'englanduk', 'englang', 'eritrea',\n",
       "       'estonia', 'europe', 'finland', 'france',\n",
       "       'from new zealand but on projects across apac', 'germany', 'ghana',\n",
       "       'global', 'great britain', 'greece', 'hartford', 'hong kong',\n",
       "       'hong konh', 'hungary',\n",
       "       'i earn commission on sales if i meet quota im guaranteed another 16k min last year i earned an additional 27k its not uncommon for people in my space to earn 100k after commission',\n",
       "       'i was brought in on this salary to help with the ehr and very quickly was promoted to current position but compensation was not altered',\n",
       "       'india', 'indonesia', 'international', 'ireland', 'is', 'isa',\n",
       "       'isle of man', 'israel', 'italy', 'italy south', 'jamaica',\n",
       "       'japan', 'jersey channel islands', 'jordan', 'kenya', 'kuwait',\n",
       "       'latvia', 'liechtenstein', 'lithuania', 'luxembourg', 'luxemburg',\n",
       "       'mainland china', 'malaysia', 'malta', 'mexico', 'morocco',\n",
       "       'méxico', 'na', 'na remote from wherever i want', 'nederland',\n",
       "       'netherlands', 'new zealand', 'new zealand aotearoa', 'nigeria',\n",
       "       'nl', 'northern ireland', 'northern ireland united kingdom',\n",
       "       'norway', 'nz', 'pakistan', 'panamá', 'philippines', 'poland',\n",
       "       'policy', 'portugal', 'puerto rico', 'qatar', 'remote',\n",
       "       'remote philippines', 'romania', 'rwanda', 'san francisco',\n",
       "       'saudi arabia', 'scotland', 'scotland uk', 'serbia',\n",
       "       'sierra leone', 'singapore', 'slovakia', 'slovenia', 'somalia',\n",
       "       'south africa', 'south korea', 'spain', 'sri lanka', 'sweden',\n",
       "       'switzerland', 'taiwan', 'thailand', 'the bahamas',\n",
       "       'the netherlands', 'trinidad and tobago', 'turkey', 'ua', 'uae',\n",
       "       'uganda', 'uk', 'uk but for globally fully remote company',\n",
       "       'uk england', 'uk northern england', 'uk northern ireland',\n",
       "       'uk remote', 'ukraine', 'uniited states', 'unite states',\n",
       "       'united  states', 'united arab emirates', 'united kindom',\n",
       "       'united kingdom', 'united kingdom england', 'united kingdomk',\n",
       "       'united statss', 'united stattes', 'united statues',\n",
       "       'united statws', 'united sttes', 'united y', 'uniteed states',\n",
       "       'unitef stated', 'uniter statez', 'unites kingdom',\n",
       "       'unitied states', 'uniyed states', 'uniyes states', 'unted states',\n",
       "       'untied states', 'uruguay', 'usa', 'uxz', 'vietnam', 'virginia',\n",
       "       'wales', 'wales uk', 'wales united kingdom', 'y', 'zimbabwe', '🇺🇸'],\n",
       "      dtype=object)"
      ]
     },
     "execution_count": 390,
     "metadata": {},
     "output_type": "execute_result"
    }
   ],
   "source": [
    "vals=df.Country.unique()\n",
    "vals.sort()\n",
    "vals"
   ]
  },
  {
   "cell_type": "markdown",
   "metadata": {},
   "source": [
    "## Notice there are a lot of united states ish entries at the bottom, lets see if fuzzy wuzzy helps"
   ]
  },
  {
   "cell_type": "code",
   "execution_count": 391,
   "metadata": {
    "tags": []
   },
   "outputs": [],
   "source": [
    "# this package lives in the conda forge\n",
    "# !conda install -c conda-forge fuzzywuzzy -y"
   ]
  },
  {
   "cell_type": "code",
   "execution_count": 392,
   "metadata": {},
   "outputs": [],
   "source": [
    "# helpful modules\n",
    "import fuzzywuzzy\n",
    "from fuzzywuzzy import process"
   ]
  },
  {
   "cell_type": "code",
   "execution_count": 393,
   "metadata": {},
   "outputs": [
    {
     "data": {
      "text/plain": [
       "[('united y', 67, 22822),\n",
       " ('kuwait', 60, 1915),\n",
       " ('unite states', 50, 10447),\n",
       " ('unite states', 50, 13362),\n",
       " ('united sttes', 50, 14113),\n",
       " ('united statws', 47, 2003),\n",
       " ('united kindom', 47, 7156),\n",
       " ('uniter statez', 47, 16890),\n",
       " ('unitef stated', 47, 20206),\n",
       " ('united statss', 47, 25473),\n",
       " ('united  states', 47, 26059),\n",
       " ('lithuania', 46, 11426),\n",
       " ('lithuania', 46, 20695),\n",
       " ('united kingdom', 44, 1),\n",
       " ('united kingdom', 44, 15),\n",
       " ('united kingdom', 44, 59),\n",
       " ('united kingdom', 44, 93),\n",
       " ('united kingdom', 44, 114),\n",
       " ('united kingdom', 44, 126),\n",
       " ('united kingdom', 44, 147),\n",
       " ('united kingdom', 44, 177),\n",
       " ('united kingdom', 44, 207),\n",
       " ('united kingdom', 44, 295),\n",
       " ('united kingdom', 44, 301),\n",
       " ('united kingdom', 44, 339),\n",
       " ('india', 44, 434),\n",
       " ('united kingdom', 44, 493),\n",
       " ('united kingdom', 44, 518),\n",
       " ('united kingdom', 44, 641),\n",
       " ('united kingdom', 44, 648),\n",
       " ('united kingdom', 44, 664),\n",
       " ('united kingdom', 44, 682),\n",
       " ('united kingdom', 44, 699),\n",
       " ('united kingdom', 44, 785),\n",
       " ('united kingdom', 44, 877),\n",
       " ('united kingdom', 44, 953),\n",
       " ('united kingdom', 44, 957),\n",
       " ('united kingdom', 44, 1005),\n",
       " ('united kingdom', 44, 1016),\n",
       " ('united kingdom', 44, 1144),\n",
       " ('united kingdom', 44, 1148),\n",
       " ('united kingdom', 44, 1149),\n",
       " ('united kingdom', 44, 1199),\n",
       " ('united kingdom', 44, 1232),\n",
       " ('united kingdom', 44, 1257),\n",
       " ('united kingdom', 44, 1284),\n",
       " ('united kingdom', 44, 1360),\n",
       " ('united kingdom', 44, 1371),\n",
       " ('united kingdom', 44, 1404),\n",
       " ('united kingdom', 44, 1472)]"
      ]
     },
     "execution_count": 393,
     "metadata": {},
     "output_type": "execute_result"
    }
   ],
   "source": [
    "#first is the match, second is the score, third is the index in the dataframe\n",
    "matches = fuzzywuzzy.process.extract(\"unit\", df.Country, limit=50, scorer=fuzzywuzzy.fuzz.token_sort_ratio)\n",
    "matches"
   ]
  },
  {
   "cell_type": "code",
   "execution_count": 394,
   "metadata": {},
   "outputs": [
    {
     "data": {
      "text/plain": [
       "'united y'"
      ]
     },
     "execution_count": 394,
     "metadata": {},
     "output_type": "execute_result"
    }
   ],
   "source": [
    "#get the first match to prove that the index is the index in the dataframe\n",
    "df.iloc[ matches[0][2]].Country"
   ]
  },
  {
   "cell_type": "code",
   "execution_count": 395,
   "metadata": {},
   "outputs": [
    {
     "name": "stdout",
     "output_type": "stream",
     "text": [
      "{'united statws', 'unite states', 'united  states', 'india', 'lithuania', 'united kingdom', 'unitef stated', 'united y', 'uniter statez', 'kuwait', 'united statss', 'united kindom', 'united sttes'}\n"
     ]
    }
   ],
   "source": [
    "#they look pretty good, except for the united kingdom, kuwait (kuwait???), india\n",
    "#lets get all the unique matches in matches\n",
    "#first all matches\n",
    "l=[]\n",
    "for mtch in matches:\n",
    "    l.append(mtch[0])\n",
    "\n",
    "# get unique values\n",
    "l = set(l)\n",
    "print(l)"
   ]
  },
  {
   "cell_type": "code",
   "execution_count": 396,
   "metadata": {},
   "outputs": [
    {
     "name": "stdout",
     "output_type": "stream",
     "text": [
      "There are now 174 unique Country entries\n"
     ]
    }
   ],
   "source": [
    "#create a function that will sub in 'usa' for the remaining matches\n",
    "def subinmatches(df,mtches, dont_sub_these, str_replacement):\n",
    "    for mtch in mtches:\n",
    "        if(mtch[0] in dont_sub_these):\n",
    "            continue\n",
    "        df.iloc[mtch[2],df.columns.get_loc('Country')]=str_replacement\n",
    "\n",
    "#gleaned from previous cells print\n",
    "dont_sub_these=['lithuania','kuwait','united kingdom', 'india', 'united kindom']\n",
    "subinmatches(df,matches,dont_sub_these,'usa')    \n",
    "\n",
    "#how many different countries are there now\n",
    "print(f'There are now {df.Country.nunique()} unique Country entries')"
   ]
  },
  {
   "cell_type": "markdown",
   "metadata": {},
   "source": [
    "## Add a new column to track the changed columns\n",
    "<mark> HOMEWORK: A better way would be to rename 'Country' to 'Country_original' and add a new column 'Country_computed' so we lose no data. <br>\n",
    "    For this you need access to 2 columns in the dataframe, so map will not work, you should use apply"
   ]
  },
  {
   "cell_type": "code",
   "execution_count": 397,
   "metadata": {
    "tags": []
   },
   "outputs": [
    {
     "data": {
      "text/html": [
       "<div>\n",
       "<style scoped>\n",
       "    .dataframe tbody tr th:only-of-type {\n",
       "        vertical-align: middle;\n",
       "    }\n",
       "\n",
       "    .dataframe tbody tr th {\n",
       "        vertical-align: top;\n",
       "    }\n",
       "\n",
       "    .dataframe thead th {\n",
       "        text-align: right;\n",
       "    }\n",
       "</style>\n",
       "<table border=\"1\" class=\"dataframe\">\n",
       "  <thead>\n",
       "    <tr style=\"text-align: right;\">\n",
       "      <th></th>\n",
       "      <th>Timestamp</th>\n",
       "      <th>How old are you?</th>\n",
       "      <th>Industry</th>\n",
       "      <th>Job title</th>\n",
       "      <th>Additional context on job title</th>\n",
       "      <th>Annual salary</th>\n",
       "      <th>Other monetary comp</th>\n",
       "      <th>Currency</th>\n",
       "      <th>Currency - other</th>\n",
       "      <th>Additional context on income</th>\n",
       "      <th>Country</th>\n",
       "      <th>State</th>\n",
       "      <th>City</th>\n",
       "      <th>Overall years of professional experience</th>\n",
       "      <th>Years of experience in field</th>\n",
       "      <th>Highest level of education completed</th>\n",
       "      <th>Gender</th>\n",
       "      <th>Race</th>\n",
       "    </tr>\n",
       "  </thead>\n",
       "  <tbody>\n",
       "    <tr>\n",
       "      <th>0</th>\n",
       "      <td>4/27/2021 11:02:10</td>\n",
       "      <td>25-34</td>\n",
       "      <td>Education (Higher Education)</td>\n",
       "      <td>Research and Instruction Librarian</td>\n",
       "      <td>NaN</td>\n",
       "      <td>55,000</td>\n",
       "      <td>0.0</td>\n",
       "      <td>USD</td>\n",
       "      <td>NaN</td>\n",
       "      <td>NaN</td>\n",
       "      <td>usa</td>\n",
       "      <td>Massachusetts</td>\n",
       "      <td>Boston</td>\n",
       "      <td>5-7 years</td>\n",
       "      <td>5-7 years</td>\n",
       "      <td>Master's degree</td>\n",
       "      <td>Woman</td>\n",
       "      <td>White</td>\n",
       "    </tr>\n",
       "    <tr>\n",
       "      <th>1</th>\n",
       "      <td>4/27/2021 11:02:22</td>\n",
       "      <td>25-34</td>\n",
       "      <td>Computing or Tech</td>\n",
       "      <td>Change &amp; Internal Communications Manager</td>\n",
       "      <td>NaN</td>\n",
       "      <td>54,600</td>\n",
       "      <td>4000.0</td>\n",
       "      <td>GBP</td>\n",
       "      <td>NaN</td>\n",
       "      <td>NaN</td>\n",
       "      <td>united kingdom</td>\n",
       "      <td>NaN</td>\n",
       "      <td>Cambridge</td>\n",
       "      <td>8 - 10 years</td>\n",
       "      <td>5-7 years</td>\n",
       "      <td>College degree</td>\n",
       "      <td>Non-binary</td>\n",
       "      <td>White</td>\n",
       "    </tr>\n",
       "    <tr>\n",
       "      <th>2</th>\n",
       "      <td>4/27/2021 11:02:38</td>\n",
       "      <td>25-34</td>\n",
       "      <td>Accounting, Banking &amp; Finance</td>\n",
       "      <td>Marketing Specialist</td>\n",
       "      <td>NaN</td>\n",
       "      <td>34,000</td>\n",
       "      <td>NaN</td>\n",
       "      <td>USD</td>\n",
       "      <td>NaN</td>\n",
       "      <td>NaN</td>\n",
       "      <td>usa</td>\n",
       "      <td>Tennessee</td>\n",
       "      <td>Chattanooga</td>\n",
       "      <td>2 - 4 years</td>\n",
       "      <td>2 - 4 years</td>\n",
       "      <td>College degree</td>\n",
       "      <td>Woman</td>\n",
       "      <td>White</td>\n",
       "    </tr>\n",
       "    <tr>\n",
       "      <th>3</th>\n",
       "      <td>4/27/2021 11:02:41</td>\n",
       "      <td>25-34</td>\n",
       "      <td>Nonprofits</td>\n",
       "      <td>Program Manager</td>\n",
       "      <td>NaN</td>\n",
       "      <td>62,000</td>\n",
       "      <td>3000.0</td>\n",
       "      <td>USD</td>\n",
       "      <td>NaN</td>\n",
       "      <td>NaN</td>\n",
       "      <td>usa</td>\n",
       "      <td>Wisconsin</td>\n",
       "      <td>Milwaukee</td>\n",
       "      <td>8 - 10 years</td>\n",
       "      <td>5-7 years</td>\n",
       "      <td>College degree</td>\n",
       "      <td>Woman</td>\n",
       "      <td>White</td>\n",
       "    </tr>\n",
       "    <tr>\n",
       "      <th>4</th>\n",
       "      <td>4/27/2021 11:02:42</td>\n",
       "      <td>25-34</td>\n",
       "      <td>Accounting, Banking &amp; Finance</td>\n",
       "      <td>Accounting Manager</td>\n",
       "      <td>NaN</td>\n",
       "      <td>60,000</td>\n",
       "      <td>7000.0</td>\n",
       "      <td>USD</td>\n",
       "      <td>NaN</td>\n",
       "      <td>NaN</td>\n",
       "      <td>usa</td>\n",
       "      <td>South Carolina</td>\n",
       "      <td>Greenville</td>\n",
       "      <td>8 - 10 years</td>\n",
       "      <td>5-7 years</td>\n",
       "      <td>College degree</td>\n",
       "      <td>Woman</td>\n",
       "      <td>White</td>\n",
       "    </tr>\n",
       "  </tbody>\n",
       "</table>\n",
       "</div>"
      ],
      "text/plain": [
       "            Timestamp How old are you?                       Industry  \\\n",
       "0  4/27/2021 11:02:10            25-34   Education (Higher Education)   \n",
       "1  4/27/2021 11:02:22            25-34              Computing or Tech   \n",
       "2  4/27/2021 11:02:38            25-34  Accounting, Banking & Finance   \n",
       "3  4/27/2021 11:02:41            25-34                     Nonprofits   \n",
       "4  4/27/2021 11:02:42            25-34  Accounting, Banking & Finance   \n",
       "\n",
       "                                  Job title Additional context on job title  \\\n",
       "0        Research and Instruction Librarian                             NaN   \n",
       "1  Change & Internal Communications Manager                             NaN   \n",
       "2                      Marketing Specialist                             NaN   \n",
       "3                           Program Manager                             NaN   \n",
       "4                        Accounting Manager                             NaN   \n",
       "\n",
       "  Annual salary  Other monetary comp Currency Currency - other  \\\n",
       "0        55,000                  0.0      USD              NaN   \n",
       "1        54,600               4000.0      GBP              NaN   \n",
       "2        34,000                  NaN      USD              NaN   \n",
       "3        62,000               3000.0      USD              NaN   \n",
       "4        60,000               7000.0      USD              NaN   \n",
       "\n",
       "  Additional context on income         Country           State         City  \\\n",
       "0                          NaN             usa   Massachusetts       Boston   \n",
       "1                          NaN  united kingdom             NaN    Cambridge   \n",
       "2                          NaN             usa       Tennessee  Chattanooga   \n",
       "3                          NaN             usa       Wisconsin    Milwaukee   \n",
       "4                          NaN             usa  South Carolina   Greenville   \n",
       "\n",
       "  Overall years of professional experience Years of experience in field  \\\n",
       "0                                5-7 years                    5-7 years   \n",
       "1                             8 - 10 years                    5-7 years   \n",
       "2                              2 - 4 years                  2 - 4 years   \n",
       "3                             8 - 10 years                    5-7 years   \n",
       "4                             8 - 10 years                    5-7 years   \n",
       "\n",
       "  Highest level of education completed      Gender   Race  \n",
       "0                      Master's degree       Woman  White  \n",
       "1                       College degree  Non-binary  White  \n",
       "2                       College degree       Woman  White  \n",
       "3                       College degree       Woman  White  \n",
       "4                       College degree       Woman  White  "
      ]
     },
     "execution_count": 397,
     "metadata": {},
     "output_type": "execute_result"
    }
   ],
   "source": [
    "df.head()"
   ]
  },
  {
   "cell_type": "code",
   "execution_count": 398,
   "metadata": {},
   "outputs": [
    {
     "data": {
      "text/plain": [
       "Timestamp                                    object\n",
       "How old are you?                             object\n",
       "Industry                                     object\n",
       "Job title                                    object\n",
       "Additional context on job title              object\n",
       "Annual salary                                object\n",
       "Other monetary comp                         float64\n",
       "Currency                                     object\n",
       "Currency - other                             object\n",
       "Additional context on income                 object\n",
       "Country                                      object\n",
       "State                                        object\n",
       "City                                         object\n",
       "Overall years of professional experience     object\n",
       "Years of experience in field                 object\n",
       "Highest level of education completed         object\n",
       "Gender                                       object\n",
       "Race                                         object\n",
       "dtype: object"
      ]
     },
     "execution_count": 398,
     "metadata": {},
     "output_type": "execute_result"
    }
   ],
   "source": [
    "df.dtypes"
   ]
  },
  {
   "cell_type": "code",
   "execution_count": 403,
   "metadata": {},
   "outputs": [],
   "source": [
    "#will receive a row of data and return a single value\n",
    "def fun2(row):\n",
    "    #have whole row to operate on\n",
    "    if row.Country == 'usa':\n",
    "        return True\n",
    "    return False\n",
    "\n",
    "\n",
    "df['found_in_db'] = df.apply(fun2, axis=1)"
   ]
  },
  {
   "cell_type": "code",
   "execution_count": 409,
   "metadata": {},
   "outputs": [
    {
     "name": "stdout",
     "output_type": "stream",
     "text": [
      "27527\n",
      "82\n"
     ]
    }
   ],
   "source": [
    "print((df.found_in_db == True).sum())\n",
    "print((df.found_in_db == False).sum())"
   ]
  },
  {
   "cell_type": "markdown",
   "metadata": {},
   "source": [
    "# Lets see if we can do this for other countries.  It will be easier if we have a package that has a list of countries.\n",
    "\n",
    "<a href=\"https://pypi.org/project/pycountry/\">pycountry</a> is perfect.  It has a list of countries and a fuzzy lookup API. \n"
   ]
  },
  {
   "cell_type": "code",
   "execution_count": 213,
   "metadata": {
    "tags": []
   },
   "outputs": [],
   "source": [
    "# !conda install -c conda-forge pycountry -y"
   ]
  },
  {
   "cell_type": "code",
   "execution_count": 269,
   "metadata": {},
   "outputs": [],
   "source": [
    "import pycountry"
   ]
  },
  {
   "cell_type": "code",
   "execution_count": 405,
   "metadata": {
    "tags": []
   },
   "outputs": [],
   "source": [
    "# vc=df.Country.value_counts()\n",
    "\n",
    "# # create a df to hold above name and count.  \n",
    "# # Add a column to track whether the string \n",
    "# # in df.Country has been pycountry matched to an acual country.\n",
    "# cdf=vc.reset_index()\n",
    "# cdf.rename(columns = {'Country':'numb_entries'},inplace=True)\n",
    "# cdf.rename(columns = {'index':'Country'},inplace=True)\n",
    "# cdf['found_in_db']=False\n",
    "# cdf"
   ]
  },
  {
   "cell_type": "markdown",
   "metadata": {},
   "source": [
    "### Demonstrate Pycountry: The following pycountry call will return a tupple if the country found, otherwise it will throw a LookupError"
   ]
  },
  {
   "cell_type": "code",
   "execution_count": 271,
   "metadata": {},
   "outputs": [
    {
     "data": {
      "text/plain": [
       "Country(alpha_2='DE', alpha_3='DEU', name='Germany', numeric='276', official_name='Federal Republic of Germany')"
      ]
     },
     "execution_count": 271,
     "metadata": {},
     "output_type": "execute_result"
    },
    {
     "data": {
      "text/plain": [
       "Country(alpha_2='DE', alpha_3='DEU', name='Germany', numeric='276', official_name='Federal Republic of Germany')"
      ]
     },
     "execution_count": 271,
     "metadata": {},
     "output_type": "execute_result"
    },
    {
     "data": {
      "text/plain": [
       "'USA'"
      ]
     },
     "execution_count": 271,
     "metadata": {},
     "output_type": "execute_result"
    },
    {
     "data": {
      "text/plain": [
       "Country(alpha_2='US', alpha_3='USA', name='United States', numeric='840', official_name='United States of America')"
      ]
     },
     "execution_count": 271,
     "metadata": {},
     "output_type": "execute_result"
    }
   ],
   "source": [
    "pycountry.countries.lookup('de')\n",
    "pycountry.countries.lookup('germany')\n",
    "pycountry.countries.lookup('usa').alpha_3\n",
    "pycountry.countries.lookup('United States of America')\n",
    "# pycountry.countries.lookup('united sates') #fails"
   ]
  },
  {
   "cell_type": "code",
   "execution_count": 274,
   "metadata": {},
   "outputs": [
    {
     "data": {
      "text/plain": [
       "[Country(alpha_2='GB', alpha_3='GBR', name='United Kingdom', numeric='826', official_name='United Kingdom of Great Britain and Northern Ireland'),\n",
       " Country(alpha_2='AU', alpha_3='AUS', name='Australia', numeric='036')]"
      ]
     },
     "execution_count": 274,
     "metadata": {},
     "output_type": "execute_result"
    }
   ],
   "source": [
    "#lets try a fuzzy search to seee if we get a few more\n",
    "pycountry.countries.search_fuzzy('wales')"
   ]
  },
  {
   "cell_type": "markdown",
   "metadata": {},
   "source": [
    "## Lets apply this to the entire DataFrame"
   ]
  },
  {
   "cell_type": "code",
   "execution_count": 407,
   "metadata": {},
   "outputs": [],
   "source": [
    "from tqdm.auto import tqdm  #tqdm gives you the neat little status bar, useful for very long running operations\n",
    "tqdm.pandas()"
   ]
  },
  {
   "cell_type": "code",
   "execution_count": 408,
   "metadata": {
    "tags": []
   },
   "outputs": [
    {
     "data": {
      "application/vnd.jupyter.widget-view+json": {
       "model_id": "198a3fcad108455eb743a3e601eef99b",
       "version_major": 2,
       "version_minor": 0
      },
      "text/plain": [
       "  0%|          | 0/27609 [00:00<?, ?it/s]"
      ]
     },
     "metadata": {},
     "output_type": "display_data"
    }
   ],
   "source": [
    "def fix(df, i, cont, search_type):\n",
    "    # print(f' {search_type} {cont.alpha_3} for {df.loc[i, \"Country\"]}')\n",
    "    df.loc[i, 'found_in_db'] = True  #found column\n",
    "    df.loc[i, 'Country']=cont.alpha_3\n",
    "def find_countries(df):\n",
    "    #record whether pycountry finds result or not\n",
    "    for i in tqdm(range(len(df))):\n",
    "        # print(cdf.iloc[i, 0])\n",
    "        try:\n",
    "            #try the most accurate lookup first\n",
    "            res = pycountry.countries.lookup(df.loc[i, 'Country']) \n",
    "            fix(df, i, res, \"Accurate swap\")\n",
    "        except LookupError as le:\n",
    "            #accurate failed try fuzzy\n",
    "            try:\n",
    "                res = pycountry.countries.search_fuzzy(df.loc[i, 'Country'])\n",
    "                fix(df, i, res[0], \"Fuzzy swap\")\n",
    "            except LookupError as le:\n",
    "                pass\n",
    "    return df\n",
    "\n",
    "df = find_countries(df)\n",
    "# df = find_countries(df)"
   ]
  },
  {
   "cell_type": "markdown",
   "metadata": {},
   "source": [
    "## Final Tally"
   ]
  },
  {
   "cell_type": "code",
   "execution_count": 424,
   "metadata": {},
   "outputs": [
    {
     "name": "stdout",
     "output_type": "stream",
     "text": [
      " Number countries identified 27527\n",
      " Number countries unidentified 82\n",
      " Number unique countries 153\n"
     ]
    }
   ],
   "source": [
    "numb_found = df.found_in_db.sum()\n",
    "print(f' Number countries identified {numb_found}')\n",
    "print(f' Number countries unidentified {len(df)-numb_found}')\n",
    "print(f' Number unique countries {df.Country.nunique()}')"
   ]
  },
  {
   "cell_type": "code",
   "execution_count": null,
   "metadata": {},
   "outputs": [],
   "source": []
  }
 ],
 "metadata": {
  "kernelspec": {
   "display_name": "Python 3 (ipykernel)",
   "language": "python",
   "name": "python3"
  },
  "language_info": {
   "codemirror_mode": {
    "name": "ipython",
    "version": 3
   },
   "file_extension": ".py",
   "mimetype": "text/x-python",
   "name": "python",
   "nbconvert_exporter": "python",
   "pygments_lexer": "ipython3",
   "version": "3.9.7"
  }
 },
 "nbformat": 4,
 "nbformat_minor": 4
}
