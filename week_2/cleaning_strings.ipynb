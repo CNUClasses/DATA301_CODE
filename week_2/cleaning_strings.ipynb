{
 "cells": [
  {
   "cell_type": "markdown",
   "metadata": {},
   "source": [
    "# Cleaning string data\n",
    "Data cleaning is the process of fixing or removing incorrect, corrupted, incorrectly formatted, duplicate, or incomplete data within a dataset.\n",
    "For strings this process starts by applying a list of common functions (lower, strip).  Then handling missing and duplicate entries. And finally applying custom functions as needed."
   ]
  },
  {
   "cell_type": "code",
   "execution_count": 1,
   "metadata": {},
   "outputs": [],
   "source": [
    "import matplotlib.pyplot as plt\n",
    "import seaborn as sns\n",
    "plt.style.use('ggplot')\n",
    "import pandas as pd\n",
    "import numpy as np\n",
    "\n",
    "# Display all cell outputs\n",
    "from IPython.core.interactiveshell import InteractiveShell\n",
    "InteractiveShell.ast_node_interactivity = 'all'\n",
    "\n",
    "from IPython import get_ipython\n",
    "ipython = get_ipython()\n",
    "\n",
    "%matplotlib inline\n",
    "%config InlineBackend.figure_format = 'svg'\n",
    "\n",
    "# autoreload extension\n",
    "if 'autoreload' not in ipython.extension_manager.loaded:\n",
    "    %load_ext autoreload\n",
    "\n",
    "%autoreload 2\n",
    "\n",
    "# Set max rows and columns displayed in jupyter\n",
    "pd.set_option(\"display.max_rows\", 100)\n",
    "pd.set_option(\"display.max_columns\", 10)"
   ]
  },
  {
   "cell_type": "markdown",
   "metadata": {},
   "source": [
    "## Load a dataset"
   ]
  },
  {
   "cell_type": "code",
   "execution_count": 2,
   "metadata": {},
   "outputs": [
    {
     "data": {
      "text/html": [
       "<div>\n",
       "<style scoped>\n",
       "    .dataframe tbody tr th:only-of-type {\n",
       "        vertical-align: middle;\n",
       "    }\n",
       "\n",
       "    .dataframe tbody tr th {\n",
       "        vertical-align: top;\n",
       "    }\n",
       "\n",
       "    .dataframe thead th {\n",
       "        text-align: right;\n",
       "    }\n",
       "</style>\n",
       "<table border=\"1\" class=\"dataframe\">\n",
       "  <thead>\n",
       "    <tr style=\"text-align: right;\">\n",
       "      <th></th>\n",
       "      <th>Timestamp</th>\n",
       "      <th>How old are you?</th>\n",
       "      <th>Industry</th>\n",
       "      <th>Job title</th>\n",
       "      <th>Additional context on job title</th>\n",
       "      <th>...</th>\n",
       "      <th>Overall years of professional experience</th>\n",
       "      <th>Years of experience in field</th>\n",
       "      <th>Highest level of education completed</th>\n",
       "      <th>Gender</th>\n",
       "      <th>Race</th>\n",
       "    </tr>\n",
       "  </thead>\n",
       "  <tbody>\n",
       "    <tr>\n",
       "      <th>0</th>\n",
       "      <td>4/27/2021 11:02:10</td>\n",
       "      <td>25-34</td>\n",
       "      <td>Education (Higher Education)</td>\n",
       "      <td>Research and Instruction Librarian</td>\n",
       "      <td>NaN</td>\n",
       "      <td>...</td>\n",
       "      <td>5-7 years</td>\n",
       "      <td>5-7 years</td>\n",
       "      <td>Master's degree</td>\n",
       "      <td>Woman</td>\n",
       "      <td>White</td>\n",
       "    </tr>\n",
       "    <tr>\n",
       "      <th>1</th>\n",
       "      <td>4/27/2021 11:02:22</td>\n",
       "      <td>25-34</td>\n",
       "      <td>Computing or Tech</td>\n",
       "      <td>Change &amp; Internal Communications Manager</td>\n",
       "      <td>NaN</td>\n",
       "      <td>...</td>\n",
       "      <td>8 - 10 years</td>\n",
       "      <td>5-7 years</td>\n",
       "      <td>College degree</td>\n",
       "      <td>Non-binary</td>\n",
       "      <td>White</td>\n",
       "    </tr>\n",
       "    <tr>\n",
       "      <th>2</th>\n",
       "      <td>4/27/2021 11:02:38</td>\n",
       "      <td>25-34</td>\n",
       "      <td>Accounting, Banking &amp; Finance</td>\n",
       "      <td>Marketing Specialist</td>\n",
       "      <td>NaN</td>\n",
       "      <td>...</td>\n",
       "      <td>2 - 4 years</td>\n",
       "      <td>2 - 4 years</td>\n",
       "      <td>College degree</td>\n",
       "      <td>Woman</td>\n",
       "      <td>White</td>\n",
       "    </tr>\n",
       "    <tr>\n",
       "      <th>3</th>\n",
       "      <td>4/27/2021 11:02:41</td>\n",
       "      <td>25-34</td>\n",
       "      <td>Nonprofits</td>\n",
       "      <td>Program Manager</td>\n",
       "      <td>NaN</td>\n",
       "      <td>...</td>\n",
       "      <td>8 - 10 years</td>\n",
       "      <td>5-7 years</td>\n",
       "      <td>College degree</td>\n",
       "      <td>Woman</td>\n",
       "      <td>White</td>\n",
       "    </tr>\n",
       "    <tr>\n",
       "      <th>4</th>\n",
       "      <td>4/27/2021 11:02:42</td>\n",
       "      <td>25-34</td>\n",
       "      <td>Accounting, Banking &amp; Finance</td>\n",
       "      <td>Accounting Manager</td>\n",
       "      <td>NaN</td>\n",
       "      <td>...</td>\n",
       "      <td>8 - 10 years</td>\n",
       "      <td>5-7 years</td>\n",
       "      <td>College degree</td>\n",
       "      <td>Woman</td>\n",
       "      <td>White</td>\n",
       "    </tr>\n",
       "  </tbody>\n",
       "</table>\n",
       "<p>5 rows × 18 columns</p>\n",
       "</div>"
      ],
      "text/plain": [
       "            Timestamp How old are you?                       Industry  \\\n",
       "0  4/27/2021 11:02:10            25-34   Education (Higher Education)   \n",
       "1  4/27/2021 11:02:22            25-34              Computing or Tech   \n",
       "2  4/27/2021 11:02:38            25-34  Accounting, Banking & Finance   \n",
       "3  4/27/2021 11:02:41            25-34                     Nonprofits   \n",
       "4  4/27/2021 11:02:42            25-34  Accounting, Banking & Finance   \n",
       "\n",
       "                                  Job title Additional context on job title  \\\n",
       "0        Research and Instruction Librarian                             NaN   \n",
       "1  Change & Internal Communications Manager                             NaN   \n",
       "2                      Marketing Specialist                             NaN   \n",
       "3                           Program Manager                             NaN   \n",
       "4                        Accounting Manager                             NaN   \n",
       "\n",
       "   ... Overall years of professional experience  Years of experience in field  \\\n",
       "0  ...                                5-7 years                     5-7 years   \n",
       "1  ...                             8 - 10 years                     5-7 years   \n",
       "2  ...                              2 - 4 years                   2 - 4 years   \n",
       "3  ...                             8 - 10 years                     5-7 years   \n",
       "4  ...                             8 - 10 years                     5-7 years   \n",
       "\n",
       "  Highest level of education completed      Gender   Race  \n",
       "0                      Master's degree       Woman  White  \n",
       "1                       College degree  Non-binary  White  \n",
       "2                       College degree       Woman  White  \n",
       "3                       College degree       Woman  White  \n",
       "4                       College degree       Woman  White  \n",
       "\n",
       "[5 rows x 18 columns]"
      ]
     },
     "execution_count": 2,
     "metadata": {},
     "output_type": "execute_result"
    },
    {
     "name": "stdout",
     "output_type": "stream",
     "text": [
      "(27609, 18)\n"
     ]
    }
   ],
   "source": [
    "df=pd.read_csv('../projects/proj1/data/Ask A Manager Salary Survey 2021 (Responses) - Form Responses 1.csv')\n",
    "df.head()\n",
    "print(df.shape)"
   ]
  },
  {
   "cell_type": "markdown",
   "metadata": {},
   "source": [
    "## Lets handle missing Country data (it will mess up below algorithms).  \n",
    "Lots of ways to do this, I'm going to do it the simple way, replace NaN with UNKNOWN\n",
    "\n",
    "This is not a good idea in general, especially if you have a way to figure out the country from the other data present"
   ]
  },
  {
   "cell_type": "code",
   "execution_count": 3,
   "metadata": {},
   "outputs": [
    {
     "data": {
      "text/plain": [
       "0"
      ]
     },
     "execution_count": 3,
     "metadata": {},
     "output_type": "execute_result"
    }
   ],
   "source": [
    "#how many missing Countries\n",
    "df.Country.isnull().sum()"
   ]
  },
  {
   "cell_type": "code",
   "execution_count": 4,
   "metadata": {},
   "outputs": [],
   "source": [
    "# quite a few\n",
    "df.Country = df.Country.fillna('UNKNOWN')"
   ]
  },
  {
   "cell_type": "markdown",
   "metadata": {},
   "source": [
    "## There is a country column, lets use it to get all the USA entries.  Take a look at the number of unique entries"
   ]
  },
  {
   "cell_type": "code",
   "execution_count": 5,
   "metadata": {},
   "outputs": [
    {
     "data": {
      "text/plain": [
       "364"
      ]
     },
     "execution_count": 5,
     "metadata": {},
     "output_type": "execute_result"
    }
   ],
   "source": [
    "#how many different countries are there\n",
    "df.Country.nunique()"
   ]
  },
  {
   "cell_type": "markdown",
   "metadata": {},
   "source": [
    "## How many occurrences for each unique entry?"
   ]
  },
  {
   "cell_type": "code",
   "execution_count": 6,
   "metadata": {},
   "outputs": [
    {
     "name": "stdout",
     "output_type": "stream",
     "text": [
      "There are 364 unique entries\n"
     ]
    },
    {
     "data": {
      "text/plain": [
       "United States                8844\n",
       "USA                          7847\n",
       "US                           2572\n",
       "Canada                       1549\n",
       "United States                 652\n",
       "U.S.                          571\n",
       "UK                            566\n",
       "United Kingdom                540\n",
       "USA                           468\n",
       "Usa                           441\n",
       "United States of America      421\n",
       "Australia                     312\n",
       "United states                 203\n",
       "usa                           180\n",
       "Germany                       168\n",
       "England                       134\n",
       "united states                 113\n",
       "Us                            103\n",
       "Ireland                       102\n",
       "New Zealand                    94\n",
       "Uk                             84\n",
       "Canada                         75\n",
       "Australia                      67\n",
       "United Kingdom                 65\n",
       "France                         63\n",
       "U.S.A.                         46\n",
       "United States of America       43\n",
       "Spain                          40\n",
       "Netherlands                    40\n",
       "Scotland                       39\n",
       "Sweden                         34\n",
       "us                             34\n",
       "Belgium                        32\n",
       "England                        31\n",
       "Switzerland                    29\n",
       "canada                         27\n",
       "Japan                          26\n",
       "The Netherlands                25\n",
       "UK                             22\n",
       "U.S                            21\n",
       "New Zealand                    20\n",
       "America                        20\n",
       "United State                   19\n",
       "Germany                        19\n",
       "Ireland                        19\n",
       "US                             18\n",
       "Denmark                        17\n",
       "Usa                            17\n",
       "U.S.                           16\n",
       "Austria                        16\n",
       "Name: Country, dtype: int64"
      ]
     },
     "execution_count": 6,
     "metadata": {},
     "output_type": "execute_result"
    }
   ],
   "source": [
    "#lets see what we have\n",
    "vc=df.Country.value_counts()\n",
    "print(f'There are {len(vc)} unique entries')\n",
    "vc[:50]\n",
    "# vc[50:100]"
   ]
  },
  {
   "cell_type": "markdown",
   "metadata": {},
   "source": [
    "## It looks like there was no filtering on what a user could enter in this field, ANyway lets get to it"
   ]
  },
  {
   "cell_type": "markdown",
   "metadata": {},
   "source": [
    "## Apply lower and strip to get the easy gains"
   ]
  },
  {
   "cell_type": "code",
   "execution_count": 7,
   "metadata": {},
   "outputs": [
    {
     "data": {
      "text/plain": [
       "250"
      ]
     },
     "execution_count": 7,
     "metadata": {},
     "output_type": "execute_result"
    }
   ],
   "source": [
    "df.Country = df.Country.map(str.lower).map(str.strip)\n",
    "\n",
    "#how many different countries are there now\n",
    "df.Country.nunique()"
   ]
  },
  {
   "cell_type": "markdown",
   "metadata": {},
   "source": [
    "## Looks like a lot of punctuation, lets get rid of it\n",
    "Use regular expressions"
   ]
  },
  {
   "cell_type": "code",
   "execution_count": 8,
   "metadata": {},
   "outputs": [
    {
     "data": {
      "text/plain": [
       "236"
      ]
     },
     "execution_count": 8,
     "metadata": {},
     "output_type": "execute_result"
    }
   ],
   "source": [
    "#the regular expressions package\n",
    "import re\n",
    "punc = \"[!\\\"#$%&\\'()*+,-./:;<=>?@[\\\\]^_{|}~\\`]\"  #this is the punctuation to get rid of\n",
    "\n",
    "#or a function\n",
    "def fun1(x):\n",
    "    #re.sub will remove any punction char found in punc \n",
    "    return re.sub(punc, '', x)\n",
    "\n",
    "df.Country = df.Country.map(fun1)\n",
    "\n",
    "#can do the same thing with a lambda\n",
    "# df.Country = df.Country.map(lambda x: re.sub(punc, '', x))\n",
    "\n",
    "#how many different countries are there now\n",
    "df.Country.nunique()"
   ]
  },
  {
   "cell_type": "markdown",
   "metadata": {},
   "source": [
    "## Looks like a lot of variations of 'united state'\n",
    "\n",
    "Another easy gain, lets replace all strings with 'united state' in them with 'usa' "
   ]
  },
  {
   "cell_type": "code",
   "execution_count": 9,
   "metadata": {},
   "outputs": [
    {
     "data": {
      "text/plain": [
       "219"
      ]
     },
     "execution_count": 9,
     "metadata": {},
     "output_type": "execute_result"
    }
   ],
   "source": [
    "def fun(x):\n",
    "    \"\"\"\n",
    "    replaces any string that contains 'united state' with 'usa'\n",
    "    \"\"\"\n",
    "    if 'united state' in x:\n",
    "        return 'usa'\n",
    "    return x\n",
    "\n",
    "\n",
    "df.Country = df.Country.map(fun);\n",
    "\n",
    "#how many different countries are there now\n",
    "df.Country.nunique()"
   ]
  },
  {
   "cell_type": "markdown",
   "metadata": {},
   "source": [
    "## But you might want to do something similar with other strings, do you write another function?  Or do something a little more general?\n",
    "Be general, always, use a python closure."
   ]
  },
  {
   "cell_type": "markdown",
   "metadata": {},
   "source": [
    "## Closures\n",
    "The problem we face is that map takes a function that takes 1 parameter, and we want it to take 3; The string value passed by map (call it x), the string to search for in x (call it str_to_find), and the string to replace x with if we find str_to_find in x (call it str_replacement).\n",
    "\n",
    "We can't get around the fact that map only passes 1 parameter to the function.  But we can creae a function that  already knows what str_to_find and str_replacement are.  Its called a closure"
   ]
  },
  {
   "cell_type": "code",
   "execution_count": 10,
   "metadata": {},
   "outputs": [],
   "source": [
    "def fun1(str_to_find, str_replacement):\n",
    "    \"\"\"\n",
    "    creates findandreplace Closure, which is a stateful function\n",
    "    that remembers str_to_find and str_replacement values\n",
    "    returns: findandreplace\n",
    "    \"\"\"\n",
    "    def findandreplace(x):\n",
    "        if str_to_find in x:\n",
    "            return str_replacement\n",
    "        return x\n",
    "    # in python functions are first class objects\n",
    "    # we are returning findandreplace, it in turn knows the value of \n",
    "    # str_to_find and str_replacement\n",
    "    return findandreplace\n"
   ]
  },
  {
   "cell_type": "code",
   "execution_count": 11,
   "metadata": {},
   "outputs": [],
   "source": [
    "#using the closure\n",
    "fn= fun1('usa', 'usa')\n",
    "df.Country = df.Country.map(fn)\n",
    "\n",
    "fn= fun1('us', 'usa')\n",
    "df.Country = df.Country.map(fn)\n",
    "\n",
    "fn= fun1('u s', 'usa')\n",
    "df.Country = df.Country.map(fn)\n",
    "\n",
    "fn= fun1('unites states', 'usa')  #its a bit suspicious that 17 people made this mistake\n",
    "df.Country = df.Country.map(fn)\n",
    "\n",
    "fn= fun1('united sates', 'usa')\n",
    "df.Country = df.Country.map(fn)\n",
    "\n",
    "fn= fun1('unitedstates', 'usa')\n",
    "df.Country = df.Country.map(fn)\n",
    "\n",
    "fn= fun1('united stares', 'usa')\n",
    "df.Country = df.Country.map(fn)\n",
    "#and so on"
   ]
  },
  {
   "cell_type": "code",
   "execution_count": 12,
   "metadata": {},
   "outputs": [],
   "source": [
    "#you can simplify the above with a list of str_to_find\n",
    "#and just iterate over it\n",
    "vals=['usa', 'us', 'u s', 'unites states', 'united sates', 'unitedstates', 'united stares']\n",
    "for val in vals:\n",
    "    fn= fun1(val, 'usa')\n",
    "    df.Country = df.Country.map(fn)\n"
   ]
  },
  {
   "cell_type": "code",
   "execution_count": 13,
   "metadata": {},
   "outputs": [
    {
     "data": {
      "text/plain": [
       "182"
      ]
     },
     "execution_count": 13,
     "metadata": {},
     "output_type": "execute_result"
    }
   ],
   "source": [
    "#how many different countries are there now\n",
    "df.Country.nunique()"
   ]
  },
  {
   "cell_type": "markdown",
   "metadata": {},
   "source": [
    "## Once you get down to the bottom of the unique values you will probably get a lot of one offs\n",
    "For instance lets see what the the values are"
   ]
  },
  {
   "cell_type": "code",
   "execution_count": 14,
   "metadata": {},
   "outputs": [
    {
     "data": {
      "text/plain": [
       "array(['217584year is deducted for benefits', 'afghanistan', 'africa',\n",
       "       'america', 'aotearoa new zealand', 'argentina',\n",
       "       'argentina but my org is in thailand', 'bangladesh', 'belgium',\n",
       "       'bermuda', 'brasil', 'brazil', 'britain', 'bulgaria', 'california',\n",
       "       'cambodia', 'can', 'canad', 'canada', 'canada ottawa ontario',\n",
       "       'canadw', 'canadá', 'canda', 'catalonia', 'cayman islands',\n",
       "       'chile', 'china', 'colombia',\n",
       "       'company in germany i work from pakistan', 'congo', 'contracts',\n",
       "       'costa rica', 'cote divoire', 'croatia', 'csnada', 'cuba',\n",
       "       'currently finance', 'czech republic', 'czechia', 'danmark',\n",
       "       'denmark', 'ecuador', 'england', 'england gb', 'england uk',\n",
       "       'england united kingdom', 'englanduk', 'englang', 'eritrea',\n",
       "       'estonia', 'europe', 'finland', 'france',\n",
       "       'from new zealand but on projects across apac', 'germany', 'ghana',\n",
       "       'global', 'great britain', 'greece', 'hartford', 'hong kong',\n",
       "       'hong konh', 'hungary',\n",
       "       'i earn commission on sales if i meet quota im guaranteed another 16k min last year i earned an additional 27k its not uncommon for people in my space to earn 100k after commission',\n",
       "       'i was brought in on this salary to help with the ehr and very quickly was promoted to current position but compensation was not altered',\n",
       "       'india', 'indonesia', 'international', 'ireland', 'is', 'isa',\n",
       "       'isle of man', 'israel', 'italy', 'italy south', 'jamaica',\n",
       "       'japan', 'jersey channel islands', 'jordan', 'kenya', 'kuwait',\n",
       "       'latvia', 'liechtenstein', 'lithuania', 'luxembourg', 'luxemburg',\n",
       "       'mainland china', 'malaysia', 'malta', 'mexico', 'morocco',\n",
       "       'méxico', 'na', 'na remote from wherever i want', 'nederland',\n",
       "       'netherlands', 'new zealand', 'new zealand aotearoa', 'nigeria',\n",
       "       'nl', 'northern ireland', 'northern ireland united kingdom',\n",
       "       'norway', 'nz', 'pakistan', 'panamá', 'philippines', 'poland',\n",
       "       'policy', 'portugal', 'puerto rico', 'qatar', 'remote',\n",
       "       'remote philippines', 'romania', 'rwanda', 'san francisco',\n",
       "       'saudi arabia', 'scotland', 'scotland uk', 'serbia',\n",
       "       'sierra leone', 'singapore', 'slovakia', 'slovenia', 'somalia',\n",
       "       'south africa', 'south korea', 'spain', 'sri lanka', 'sweden',\n",
       "       'switzerland', 'taiwan', 'thailand', 'the bahamas',\n",
       "       'the netherlands', 'trinidad and tobago', 'turkey', 'ua', 'uae',\n",
       "       'uganda', 'uk', 'uk but for globally fully remote company',\n",
       "       'uk england', 'uk northern england', 'uk northern ireland',\n",
       "       'uk remote', 'ukraine', 'uniited states', 'unite states',\n",
       "       'united  states', 'united arab emirates', 'united kindom',\n",
       "       'united kingdom', 'united kingdom england', 'united kingdomk',\n",
       "       'united statss', 'united stattes', 'united statues',\n",
       "       'united statws', 'united sttes', 'united y', 'uniteed states',\n",
       "       'unitef stated', 'uniter statez', 'unites kingdom',\n",
       "       'unitied states', 'uniyed states', 'uniyes states', 'unted states',\n",
       "       'untied states', 'uruguay', 'usa', 'uxz', 'vietnam', 'virginia',\n",
       "       'wales', 'wales uk', 'wales united kingdom', 'y', 'zimbabwe', '🇺🇸'],\n",
       "      dtype=object)"
      ]
     },
     "execution_count": 14,
     "metadata": {},
     "output_type": "execute_result"
    }
   ],
   "source": [
    "vals=df.Country.unique()\n",
    "vals.sort()\n",
    "vals"
   ]
  },
  {
   "cell_type": "markdown",
   "metadata": {},
   "source": [
    "## Notice there are a lot of united states ish entries at the bottom, lets see if fuzzy wuzzy helps"
   ]
  },
  {
   "cell_type": "code",
   "execution_count": 15,
   "metadata": {
    "tags": []
   },
   "outputs": [],
   "source": [
    "# this package lives in the conda forge\n",
    "# !conda install -c conda-forge fuzzywuzzy -y"
   ]
  },
  {
   "cell_type": "code",
   "execution_count": 16,
   "metadata": {},
   "outputs": [],
   "source": [
    "# helpful modules\n",
    "import fuzzywuzzy\n",
    "from fuzzywuzzy import process"
   ]
  },
  {
   "cell_type": "code",
   "execution_count": 17,
   "metadata": {},
   "outputs": [
    {
     "data": {
      "text/plain": [
       "[('united y', 67, 22822),\n",
       " ('kuwait', 60, 1915),\n",
       " ('unite states', 50, 10447),\n",
       " ('unite states', 50, 13362),\n",
       " ('united sttes', 50, 14113),\n",
       " ('united statws', 47, 2003),\n",
       " ('united kindom', 47, 7156),\n",
       " ('uniter statez', 47, 16890),\n",
       " ('unitef stated', 47, 20206),\n",
       " ('united statss', 47, 25473),\n",
       " ('united  states', 47, 26059),\n",
       " ('lithuania', 46, 11426),\n",
       " ('lithuania', 46, 20695),\n",
       " ('united kingdom', 44, 1),\n",
       " ('united kingdom', 44, 15),\n",
       " ('united kingdom', 44, 59),\n",
       " ('united kingdom', 44, 93),\n",
       " ('united kingdom', 44, 114),\n",
       " ('united kingdom', 44, 126),\n",
       " ('united kingdom', 44, 147),\n",
       " ('united kingdom', 44, 177),\n",
       " ('united kingdom', 44, 207),\n",
       " ('united kingdom', 44, 295),\n",
       " ('united kingdom', 44, 301),\n",
       " ('united kingdom', 44, 339),\n",
       " ('india', 44, 434),\n",
       " ('united kingdom', 44, 493),\n",
       " ('united kingdom', 44, 518),\n",
       " ('united kingdom', 44, 641),\n",
       " ('united kingdom', 44, 648),\n",
       " ('united kingdom', 44, 664),\n",
       " ('united kingdom', 44, 682),\n",
       " ('united kingdom', 44, 699),\n",
       " ('united kingdom', 44, 785),\n",
       " ('united kingdom', 44, 877),\n",
       " ('united kingdom', 44, 953),\n",
       " ('united kingdom', 44, 957),\n",
       " ('united kingdom', 44, 1005),\n",
       " ('united kingdom', 44, 1016),\n",
       " ('united kingdom', 44, 1144),\n",
       " ('united kingdom', 44, 1148),\n",
       " ('united kingdom', 44, 1149),\n",
       " ('united kingdom', 44, 1199),\n",
       " ('united kingdom', 44, 1232),\n",
       " ('united kingdom', 44, 1257),\n",
       " ('united kingdom', 44, 1284),\n",
       " ('united kingdom', 44, 1360),\n",
       " ('united kingdom', 44, 1371),\n",
       " ('united kingdom', 44, 1404),\n",
       " ('united kingdom', 44, 1472)]"
      ]
     },
     "execution_count": 17,
     "metadata": {},
     "output_type": "execute_result"
    }
   ],
   "source": [
    "#first is the match, second is the score, third is the index in the dataframe\n",
    "matches = fuzzywuzzy.process.extract(\"unit\", df.Country, limit=50, scorer=fuzzywuzzy.fuzz.token_sort_ratio)\n",
    "matches"
   ]
  },
  {
   "cell_type": "code",
   "execution_count": 18,
   "metadata": {},
   "outputs": [
    {
     "data": {
      "text/plain": [
       "'united y'"
      ]
     },
     "execution_count": 18,
     "metadata": {},
     "output_type": "execute_result"
    }
   ],
   "source": [
    "#get the first match to prove that the index is the index in the dataframe\n",
    "df.iloc[ matches[0][2]].Country"
   ]
  },
  {
   "cell_type": "code",
   "execution_count": 19,
   "metadata": {},
   "outputs": [
    {
     "name": "stdout",
     "output_type": "stream",
     "text": [
      "{'united statws', 'unite states', 'united  states', 'india', 'lithuania', 'united kingdom', 'unitef stated', 'united y', 'uniter statez', 'kuwait', 'united statss', 'united kindom', 'united sttes'}\n"
     ]
    }
   ],
   "source": [
    "#they look pretty good, except for the united kingdom, kuwait (kuwait???), india\n",
    "#first lets get all the unique matches in matches\n",
    "l=[]\n",
    "for mtch in matches:\n",
    "    l.append(mtch[0])\n",
    "    \n",
    "#get unique values\n",
    "l=set(l)\n",
    "print(l)"
   ]
  },
  {
   "cell_type": "code",
   "execution_count": 20,
   "metadata": {},
   "outputs": [
    {
     "data": {
      "text/plain": [
       "174"
      ]
     },
     "execution_count": 20,
     "metadata": {},
     "output_type": "execute_result"
    }
   ],
   "source": [
    "#create a function that will sub in 'usa' for the remaining matches\n",
    "def subinmatches(df,mtches, dont_sub_these, str_replacement):\n",
    "    for mtch in mtches:\n",
    "        if(mtch[0] in dont_sub_these):\n",
    "            continue\n",
    "        df.iloc[mtch[2],df.columns.get_loc('Country')]=str_replacement\n",
    "\n",
    "#gleaned from previous cells print\n",
    "dont_sub_these=['lithuania','kuwait','united kingdom', 'india', 'united kindom']\n",
    "subinmatches(df,matches,dont_sub_these,'usa')    \n",
    "\n",
    "#how many different countries are there now\n",
    "df.Country.nunique()"
   ]
  },
  {
   "cell_type": "markdown",
   "metadata": {},
   "source": [
    "## There is a state field, is this just US states? Lets pull out the rows that correspond "
   ]
  },
  {
   "cell_type": "code",
   "execution_count": 21,
   "metadata": {},
   "outputs": [
    {
     "data": {
      "text/plain": [
       "129"
      ]
     },
     "execution_count": 21,
     "metadata": {},
     "output_type": "execute_result"
    }
   ],
   "source": [
    "df.State.nunique()"
   ]
  },
  {
   "cell_type": "markdown",
   "metadata": {
    "tags": []
   },
   "source": [
    "## Sigh here we go again"
   ]
  }
 ],
 "metadata": {
  "kernelspec": {
   "display_name": "Python 3 (ipykernel)",
   "language": "python",
   "name": "python3"
  },
  "language_info": {
   "codemirror_mode": {
    "name": "ipython",
    "version": 3
   },
   "file_extension": ".py",
   "mimetype": "text/x-python",
   "name": "python",
   "nbconvert_exporter": "python",
   "pygments_lexer": "ipython3",
   "version": "3.9.7"
  }
 },
 "nbformat": 4,
 "nbformat_minor": 4
}
