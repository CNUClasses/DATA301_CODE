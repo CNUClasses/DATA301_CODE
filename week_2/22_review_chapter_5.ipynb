{
 "cells": [
  {
   "cell_type": "markdown",
   "metadata": {},
   "source": [
    "# Review, chapter 5 of 'Python for Data Analysis'"
   ]
  },
  {
   "cell_type": "code",
   "execution_count": 13,
   "metadata": {},
   "outputs": [],
   "source": [
    "# imports\n",
    "%matplotlib inline\n",
    "%config InlineBackend.figure_format = 'svg'\n",
    "import matplotlib.pyplot as plt\n",
    "plt.style.use('ggplot')\n",
    "\n",
    "import pandas as pd\n",
    "import numpy as np\n",
    "\n",
    "# Display all cell outputs\n",
    "from IPython.core.interactiveshell import InteractiveShell\n",
    "InteractiveShell.ast_node_interactivity = 'all'\n",
    "\n",
    "from IPython import get_ipython\n",
    "ipython = get_ipython()\n",
    "\n",
    "# autoreload extension\n",
    "if 'autoreload' not in ipython.extension_manager.loaded:\n",
    "    %load_ext autoreload\n",
    "\n",
    "%autoreload 2"
   ]
  },
  {
   "cell_type": "code",
   "execution_count": 14,
   "metadata": {},
   "outputs": [
    {
     "name": "stdout",
     "output_type": "stream",
     "text": [
      "Python 3.9.15\n",
      "/home/keith/anaconda3/envs/data301s23/bin/python\n"
     ]
    }
   ],
   "source": [
    "#lets see which python we are using and where it is\n",
    "#notice its in the data301 environment\n",
    "#the same environment we were in when we started jupyter lab\n",
    "!python -V\n",
    "!which python"
   ]
  },
  {
   "cell_type": "markdown",
   "metadata": {},
   "source": [
    "## Pandas Series\n",
    "\n",
    "A one dimensional array"
   ]
  },
  {
   "cell_type": "code",
   "execution_count": 15,
   "metadata": {},
   "outputs": [
    {
     "data": {
      "text/plain": [
       "d    4\n",
       "b    7\n",
       "a   -5\n",
       "c    3\n",
       "dtype: int64"
      ]
     },
     "execution_count": 15,
     "metadata": {},
     "output_type": "execute_result"
    }
   ],
   "source": [
    "#create a series\n",
    "ds=pd.Series([4,7,-5,3],index=['d','b','a','c'])\n",
    "ds"
   ]
  },
  {
   "cell_type": "markdown",
   "metadata": {},
   "source": [
    "### Map - used for series\n",
    "\"The function you pass to map() should expect a single value from the Series (a point value), and return a transformed version of that value. map() returns a new Series where all the values have been transformed by your function.\"*<br>\n",
    "This means the original series is unaltered.<br>\n",
    "\n",
    "*https://www.kaggle.com/residentmario/summary-functions-and-maps"
   ]
  },
  {
   "cell_type": "code",
   "execution_count": 16,
   "metadata": {},
   "outputs": [
    {
     "name": "stdout",
     "output_type": "stream",
     "text": [
      "CPU times: user 205 µs, sys: 31 µs, total: 236 µs\n",
      "Wall time: 240 µs\n"
     ]
    },
    {
     "data": {
      "text/plain": [
       "d    6\n",
       "b    9\n",
       "a   -3\n",
       "c    5\n",
       "dtype: int64"
      ]
     },
     "execution_count": 16,
     "metadata": {},
     "output_type": "execute_result"
    }
   ],
   "source": [
    "%%time\n",
    "#apply a function to every value in a series\n",
    "def sum1(x):\n",
    "    return x+1\n",
    "\n",
    "#or use a lambda\n",
    "f=lambda x: x+2\n",
    "\n",
    "#use map for series\n",
    "ds.map(sum1)\n",
    "ds.map(f)"
   ]
  },
  {
   "cell_type": "code",
   "execution_count": 17,
   "metadata": {},
   "outputs": [
    {
     "name": "stdout",
     "output_type": "stream",
     "text": [
      "CPU times: user 1e+03 ns, sys: 0 ns, total: 1e+03 ns\n",
      "Wall time: 2.86 µs\n"
     ]
    },
    {
     "data": {
      "text/plain": [
       "d    5\n",
       "b    8\n",
       "a   -4\n",
       "c    4\n",
       "dtype: int64"
      ]
     },
     "execution_count": 17,
     "metadata": {},
     "output_type": "execute_result"
    }
   ],
   "source": [
    "#cannot really see a difference in these 2\n",
    "%time\n",
    "ds.map(sum1)\n",
    "\n",
    "# %time\n",
    "# ds.map(f)"
   ]
  },
  {
   "cell_type": "code",
   "execution_count": 18,
   "metadata": {},
   "outputs": [
    {
     "data": {
      "text/plain": [
       "d    4\n",
       "b    7\n",
       "a   -5\n",
       "c    3\n",
       "dtype: int64"
      ]
     },
     "execution_count": 18,
     "metadata": {},
     "output_type": "execute_result"
    }
   ],
   "source": [
    "# I did not set ds equal to above maps\n",
    "# so orginal series remains intact\n",
    "ds"
   ]
  },
  {
   "cell_type": "markdown",
   "metadata": {},
   "source": [
    "### Reseting the Index\n",
    "Use this to create a new index, you can save the old one or not<br>\n",
    "Also useful to turn a pd.Series into a pd.DataFrame with the index and values being the columns<br>\n",
    "Helpful for turning a groupby object into a dataframe"
   ]
  },
  {
   "cell_type": "code",
   "execution_count": 19,
   "metadata": {},
   "outputs": [
    {
     "data": {
      "text/plain": [
       "0    4\n",
       "1    7\n",
       "2   -5\n",
       "3    3\n",
       "dtype: int64"
      ]
     },
     "execution_count": 19,
     "metadata": {},
     "output_type": "execute_result"
    }
   ],
   "source": [
    "#changing index\n",
    "# ds.index\n",
    "# ds.reset_index()  #moves index to 'index' column\n",
    "ds1 = ds.reset_index(drop='True')  # stays a pd.Series\n",
    "ds1"
   ]
  },
  {
   "cell_type": "code",
   "execution_count": 20,
   "metadata": {},
   "outputs": [
    {
     "data": {
      "text/html": [
       "<div>\n",
       "<style scoped>\n",
       "    .dataframe tbody tr th:only-of-type {\n",
       "        vertical-align: middle;\n",
       "    }\n",
       "\n",
       "    .dataframe tbody tr th {\n",
       "        vertical-align: top;\n",
       "    }\n",
       "\n",
       "    .dataframe thead th {\n",
       "        text-align: right;\n",
       "    }\n",
       "</style>\n",
       "<table border=\"1\" class=\"dataframe\">\n",
       "  <thead>\n",
       "    <tr style=\"text-align: right;\">\n",
       "      <th></th>\n",
       "      <th>index</th>\n",
       "      <th>0</th>\n",
       "    </tr>\n",
       "  </thead>\n",
       "  <tbody>\n",
       "    <tr>\n",
       "      <th>0</th>\n",
       "      <td>d</td>\n",
       "      <td>4</td>\n",
       "    </tr>\n",
       "    <tr>\n",
       "      <th>1</th>\n",
       "      <td>b</td>\n",
       "      <td>7</td>\n",
       "    </tr>\n",
       "    <tr>\n",
       "      <th>2</th>\n",
       "      <td>a</td>\n",
       "      <td>-5</td>\n",
       "    </tr>\n",
       "    <tr>\n",
       "      <th>3</th>\n",
       "      <td>c</td>\n",
       "      <td>3</td>\n",
       "    </tr>\n",
       "  </tbody>\n",
       "</table>\n",
       "</div>"
      ],
      "text/plain": [
       "  index  0\n",
       "0     d  4\n",
       "1     b  7\n",
       "2     a -5\n",
       "3     c  3"
      ]
     },
     "execution_count": 20,
     "metadata": {},
     "output_type": "execute_result"
    }
   ],
   "source": [
    "ds2 = ds.reset_index()             # becaomes a pd.DataFrame\n",
    "ds2.head()"
   ]
  },
  {
   "cell_type": "code",
   "execution_count": 21,
   "metadata": {},
   "outputs": [
    {
     "data": {
      "text/html": [
       "<div>\n",
       "<style scoped>\n",
       "    .dataframe tbody tr th:only-of-type {\n",
       "        vertical-align: middle;\n",
       "    }\n",
       "\n",
       "    .dataframe tbody tr th {\n",
       "        vertical-align: top;\n",
       "    }\n",
       "\n",
       "    .dataframe thead th {\n",
       "        text-align: right;\n",
       "    }\n",
       "</style>\n",
       "<table border=\"1\" class=\"dataframe\">\n",
       "  <thead>\n",
       "    <tr style=\"text-align: right;\">\n",
       "      <th></th>\n",
       "      <th>C</th>\n",
       "      <th>D</th>\n",
       "    </tr>\n",
       "  </thead>\n",
       "  <tbody>\n",
       "    <tr>\n",
       "      <th>0</th>\n",
       "      <td>2</td>\n",
       "      <td>3</td>\n",
       "    </tr>\n",
       "    <tr>\n",
       "      <th>1</th>\n",
       "      <td>6</td>\n",
       "      <td>7</td>\n",
       "    </tr>\n",
       "    <tr>\n",
       "      <th>2</th>\n",
       "      <td>10</td>\n",
       "      <td>11</td>\n",
       "    </tr>\n",
       "  </tbody>\n",
       "</table>\n",
       "</div>"
      ],
      "text/plain": [
       "    C   D\n",
       "0   2   3\n",
       "1   6   7\n",
       "2  10  11"
      ]
     },
     "execution_count": 21,
     "metadata": {},
     "output_type": "execute_result"
    },
    {
     "data": {
      "text/html": [
       "<div>\n",
       "<style scoped>\n",
       "    .dataframe tbody tr th:only-of-type {\n",
       "        vertical-align: middle;\n",
       "    }\n",
       "\n",
       "    .dataframe tbody tr th {\n",
       "        vertical-align: top;\n",
       "    }\n",
       "\n",
       "    .dataframe thead th {\n",
       "        text-align: right;\n",
       "    }\n",
       "</style>\n",
       "<table border=\"1\" class=\"dataframe\">\n",
       "  <thead>\n",
       "    <tr style=\"text-align: right;\">\n",
       "      <th></th>\n",
       "      <th>A</th>\n",
       "      <th>B</th>\n",
       "      <th>C</th>\n",
       "      <th>D</th>\n",
       "    </tr>\n",
       "  </thead>\n",
       "  <tbody>\n",
       "    <tr>\n",
       "      <th>2</th>\n",
       "      <td>8</td>\n",
       "      <td>9</td>\n",
       "      <td>10</td>\n",
       "      <td>11</td>\n",
       "    </tr>\n",
       "  </tbody>\n",
       "</table>\n",
       "</div>"
      ],
      "text/plain": [
       "   A  B   C   D\n",
       "2  8  9  10  11"
      ]
     },
     "execution_count": 21,
     "metadata": {},
     "output_type": "execute_result"
    }
   ],
   "source": [
    "#dropping columns, or rows\n",
    "df = pd.DataFrame(np.arange(12).reshape(3, 4),\n",
    "                  columns=['A', 'B', 'C', 'D'])\n",
    "\n",
    "df.drop(['A','B'],axis=1)\n",
    "# df.drop(columns=['A','B'])\n",
    "df.drop([0,1])"
   ]
  },
  {
   "cell_type": "markdown",
   "metadata": {},
   "source": [
    "### Find NaNs"
   ]
  },
  {
   "cell_type": "code",
   "execution_count": 22,
   "metadata": {},
   "outputs": [
    {
     "data": {
      "text/plain": [
       "d    False\n",
       "b    False\n",
       "a    False\n",
       "c    False\n",
       "dtype: bool"
      ]
     },
     "execution_count": 22,
     "metadata": {},
     "output_type": "execute_result"
    },
    {
     "data": {
      "text/plain": [
       "d    False\n",
       "b    False\n",
       "a    False\n",
       "c    False\n",
       "dtype: bool"
      ]
     },
     "execution_count": 22,
     "metadata": {},
     "output_type": "execute_result"
    }
   ],
   "source": [
    "#got any NaN's? (missing data)\n",
    "pd.isnull(ds)\n",
    "ds.isnull()"
   ]
  },
  {
   "cell_type": "markdown",
   "metadata": {},
   "source": [
    "### <mark>Boolean selection</mark>\n",
    "\n",
    "Selecting rows based on a boolean condition"
   ]
  },
  {
   "cell_type": "code",
   "execution_count": 23,
   "metadata": {},
   "outputs": [
    {
     "data": {
      "text/plain": [
       "d     True\n",
       "b     True\n",
       "a    False\n",
       "c     True\n",
       "dtype: bool"
      ]
     },
     "execution_count": 23,
     "metadata": {},
     "output_type": "execute_result"
    },
    {
     "data": {
      "text/plain": [
       "d    4\n",
       "b    7\n",
       "c    3\n",
       "dtype: int64"
      ]
     },
     "execution_count": 23,
     "metadata": {},
     "output_type": "execute_result"
    }
   ],
   "source": [
    "ds>0  #show which are > 0\n",
    "ds[ds>0] #boolean selection, return series elements that meet the condition(>0)"
   ]
  },
  {
   "cell_type": "markdown",
   "metadata": {},
   "source": [
    "### Sorting"
   ]
  },
  {
   "cell_type": "code",
   "execution_count": 24,
   "metadata": {},
   "outputs": [
    {
     "data": {
      "text/plain": [
       "a   -5\n",
       "c    3\n",
       "d    4\n",
       "b    7\n",
       "dtype: int64"
      ]
     },
     "execution_count": 24,
     "metadata": {},
     "output_type": "execute_result"
    }
   ],
   "source": [
    "ds.sort_values()"
   ]
  },
  {
   "cell_type": "markdown",
   "metadata": {},
   "source": [
    "## Pandas Dataframe\n",
    "A 2 dimensional array"
   ]
  },
  {
   "cell_type": "code",
   "execution_count": 25,
   "metadata": {},
   "outputs": [
    {
     "data": {
      "text/html": [
       "<div>\n",
       "<style scoped>\n",
       "    .dataframe tbody tr th:only-of-type {\n",
       "        vertical-align: middle;\n",
       "    }\n",
       "\n",
       "    .dataframe tbody tr th {\n",
       "        vertical-align: top;\n",
       "    }\n",
       "\n",
       "    .dataframe thead th {\n",
       "        text-align: right;\n",
       "    }\n",
       "</style>\n",
       "<table border=\"1\" class=\"dataframe\">\n",
       "  <thead>\n",
       "    <tr style=\"text-align: right;\">\n",
       "      <th></th>\n",
       "      <th>b</th>\n",
       "      <th>d</th>\n",
       "      <th>e</th>\n",
       "    </tr>\n",
       "  </thead>\n",
       "  <tbody>\n",
       "    <tr>\n",
       "      <th>U</th>\n",
       "      <td>0.510980</td>\n",
       "      <td>1.567912</td>\n",
       "      <td>-0.535403</td>\n",
       "    </tr>\n",
       "    <tr>\n",
       "      <th>Oh</th>\n",
       "      <td>-0.227593</td>\n",
       "      <td>0.560617</td>\n",
       "      <td>-0.505811</td>\n",
       "    </tr>\n",
       "    <tr>\n",
       "      <th>T</th>\n",
       "      <td>-0.598520</td>\n",
       "      <td>0.563959</td>\n",
       "      <td>0.225066</td>\n",
       "    </tr>\n",
       "    <tr>\n",
       "      <th>Or</th>\n",
       "      <td>-0.216719</td>\n",
       "      <td>0.453543</td>\n",
       "      <td>-0.759196</td>\n",
       "    </tr>\n",
       "  </tbody>\n",
       "</table>\n",
       "</div>"
      ],
      "text/plain": [
       "           b         d         e\n",
       "U   0.510980  1.567912 -0.535403\n",
       "Oh -0.227593  0.560617 -0.505811\n",
       "T  -0.598520  0.563959  0.225066\n",
       "Or -0.216719  0.453543 -0.759196"
      ]
     },
     "execution_count": 25,
     "metadata": {},
     "output_type": "execute_result"
    }
   ],
   "source": [
    "# create a dataframe\n",
    "df = pd.DataFrame(np.random.randn(4,3), columns = list('bde'), index = ['U','Oh','T','Or'])\n",
    "df"
   ]
  },
  {
   "cell_type": "markdown",
   "metadata": {},
   "source": [
    "### Look at the first few rows and get the size of it (rows and columns)"
   ]
  },
  {
   "cell_type": "code",
   "execution_count": 26,
   "metadata": {},
   "outputs": [
    {
     "data": {
      "text/html": [
       "<div>\n",
       "<style scoped>\n",
       "    .dataframe tbody tr th:only-of-type {\n",
       "        vertical-align: middle;\n",
       "    }\n",
       "\n",
       "    .dataframe tbody tr th {\n",
       "        vertical-align: top;\n",
       "    }\n",
       "\n",
       "    .dataframe thead th {\n",
       "        text-align: right;\n",
       "    }\n",
       "</style>\n",
       "<table border=\"1\" class=\"dataframe\">\n",
       "  <thead>\n",
       "    <tr style=\"text-align: right;\">\n",
       "      <th></th>\n",
       "      <th>b</th>\n",
       "      <th>d</th>\n",
       "      <th>e</th>\n",
       "    </tr>\n",
       "  </thead>\n",
       "  <tbody>\n",
       "    <tr>\n",
       "      <th>Or</th>\n",
       "      <td>-0.216719</td>\n",
       "      <td>0.453543</td>\n",
       "      <td>-0.759196</td>\n",
       "    </tr>\n",
       "  </tbody>\n",
       "</table>\n",
       "</div>"
      ],
      "text/plain": [
       "           b         d         e\n",
       "Or -0.216719  0.453543 -0.759196"
      ]
     },
     "execution_count": 26,
     "metadata": {},
     "output_type": "execute_result"
    }
   ],
   "source": [
    "df.tail(n=1)"
   ]
  },
  {
   "cell_type": "code",
   "execution_count": 27,
   "metadata": {},
   "outputs": [
    {
     "data": {
      "text/plain": [
       "(4, 3)"
      ]
     },
     "execution_count": 27,
     "metadata": {},
     "output_type": "execute_result"
    }
   ],
   "source": [
    "#how many rows and columns\n",
    "df.shape"
   ]
  },
  {
   "cell_type": "markdown",
   "metadata": {},
   "source": [
    "### Select items by index\n",
    "Pandas has its own way of indexing a dataframe;<br>\n",
    "by string (like a column name), use loc<br>\n",
    "by number (like a column or row location), use iloc\n",
    "    "
   ]
  },
  {
   "cell_type": "code",
   "execution_count": 28,
   "metadata": {},
   "outputs": [
    {
     "data": {
      "text/html": [
       "<div>\n",
       "<style scoped>\n",
       "    .dataframe tbody tr th:only-of-type {\n",
       "        vertical-align: middle;\n",
       "    }\n",
       "\n",
       "    .dataframe tbody tr th {\n",
       "        vertical-align: top;\n",
       "    }\n",
       "\n",
       "    .dataframe thead th {\n",
       "        text-align: right;\n",
       "    }\n",
       "</style>\n",
       "<table border=\"1\" class=\"dataframe\">\n",
       "  <thead>\n",
       "    <tr style=\"text-align: right;\">\n",
       "      <th></th>\n",
       "      <th>b</th>\n",
       "      <th>d</th>\n",
       "      <th>e</th>\n",
       "    </tr>\n",
       "  </thead>\n",
       "  <tbody>\n",
       "    <tr>\n",
       "      <th>U</th>\n",
       "      <td>0.510980</td>\n",
       "      <td>1.567912</td>\n",
       "      <td>-0.535403</td>\n",
       "    </tr>\n",
       "    <tr>\n",
       "      <th>Oh</th>\n",
       "      <td>-0.227593</td>\n",
       "      <td>0.560617</td>\n",
       "      <td>-0.505811</td>\n",
       "    </tr>\n",
       "    <tr>\n",
       "      <th>T</th>\n",
       "      <td>-0.598520</td>\n",
       "      <td>0.563959</td>\n",
       "      <td>0.225066</td>\n",
       "    </tr>\n",
       "    <tr>\n",
       "      <th>Or</th>\n",
       "      <td>-0.216719</td>\n",
       "      <td>0.453543</td>\n",
       "      <td>-0.759196</td>\n",
       "    </tr>\n",
       "  </tbody>\n",
       "</table>\n",
       "</div>"
      ],
      "text/plain": [
       "           b         d         e\n",
       "U   0.510980  1.567912 -0.535403\n",
       "Oh -0.227593  0.560617 -0.505811\n",
       "T  -0.598520  0.563959  0.225066\n",
       "Or -0.216719  0.453543 -0.759196"
      ]
     },
     "execution_count": 28,
     "metadata": {},
     "output_type": "execute_result"
    }
   ],
   "source": [
    "df"
   ]
  },
  {
   "cell_type": "code",
   "execution_count": 29,
   "metadata": {},
   "outputs": [
    {
     "data": {
      "text/plain": [
       "U     0.510980\n",
       "Oh   -0.227593\n",
       "T    -0.598520\n",
       "Or   -0.216719\n",
       "Name: b, dtype: float64"
      ]
     },
     "execution_count": 29,
     "metadata": {},
     "output_type": "execute_result"
    }
   ],
   "source": [
    "#first row\n",
    "# df.iloc[0]\n",
    "df1 = df.iloc[:, [0,2]]\n",
    "df1=df.copy()\n",
    "# print(id(df1.iloc[0,0]))\n",
    "# print(id(df.iloc[0,0]))\n",
    "\n",
    "\n",
    "# # #first row second column\n",
    "# df.iloc[0,1]\n",
    "\n",
    "df.b  #first column\n",
    "# df['b']\n",
    "# type(df.b.U)  #first column, row U\n",
    "# df.loc['U','b']\n",
    "\n",
    "# df.loc['Oh':'Or',:]  #last 3 rows all columns\n",
    "# df.loc[:,['b','d']]  #all rows, last 2 columns"
   ]
  },
  {
   "cell_type": "markdown",
   "metadata": {},
   "source": [
    "### Map- applying a function to a single row,column value at a time.  - the function has access to a single value \n"
   ]
  },
  {
   "cell_type": "code",
   "execution_count": 37,
   "metadata": {},
   "outputs": [
    {
     "data": {
      "text/html": [
       "<div>\n",
       "<style scoped>\n",
       "    .dataframe tbody tr th:only-of-type {\n",
       "        vertical-align: middle;\n",
       "    }\n",
       "\n",
       "    .dataframe tbody tr th {\n",
       "        vertical-align: top;\n",
       "    }\n",
       "\n",
       "    .dataframe thead th {\n",
       "        text-align: right;\n",
       "    }\n",
       "</style>\n",
       "<table border=\"1\" class=\"dataframe\">\n",
       "  <thead>\n",
       "    <tr style=\"text-align: right;\">\n",
       "      <th></th>\n",
       "      <th>b</th>\n",
       "      <th>d</th>\n",
       "      <th>e</th>\n",
       "    </tr>\n",
       "  </thead>\n",
       "  <tbody>\n",
       "    <tr>\n",
       "      <th>U</th>\n",
       "      <td>0.510980</td>\n",
       "      <td>1.567912</td>\n",
       "      <td>-0.535403</td>\n",
       "    </tr>\n",
       "    <tr>\n",
       "      <th>Oh</th>\n",
       "      <td>-0.227593</td>\n",
       "      <td>0.560617</td>\n",
       "      <td>-0.505811</td>\n",
       "    </tr>\n",
       "    <tr>\n",
       "      <th>T</th>\n",
       "      <td>-0.598520</td>\n",
       "      <td>0.563959</td>\n",
       "      <td>0.225066</td>\n",
       "    </tr>\n",
       "    <tr>\n",
       "      <th>Or</th>\n",
       "      <td>-0.216719</td>\n",
       "      <td>0.453543</td>\n",
       "      <td>-0.759196</td>\n",
       "    </tr>\n",
       "  </tbody>\n",
       "</table>\n",
       "</div>"
      ],
      "text/plain": [
       "           b         d         e\n",
       "U   0.510980  1.567912 -0.535403\n",
       "Oh -0.227593  0.560617 -0.505811\n",
       "T  -0.598520  0.563959  0.225066\n",
       "Or -0.216719  0.453543 -0.759196"
      ]
     },
     "execution_count": 37,
     "metadata": {},
     "output_type": "execute_result"
    }
   ],
   "source": [
    "#make a copy and create a column that will hold the smallest value of the other 3 columns\n",
    "dfm=df.copy()\n",
    "dfm"
   ]
  },
  {
   "cell_type": "code",
   "execution_count": 33,
   "metadata": {},
   "outputs": [
    {
     "data": {
      "text/plain": [
       "U     0.51098\n",
       "Oh    0.00000\n",
       "T     0.00000\n",
       "Or    0.00000\n",
       "Name: b, dtype: float64"
      ]
     },
     "execution_count": 33,
     "metadata": {},
     "output_type": "execute_result"
    },
    {
     "data": {
      "text/plain": [
       "U    -2.103315\n",
       "Oh   -1.066428\n",
       "T    -1.162478\n",
       "Or   -1.212738\n",
       "dtype: float64"
      ]
     },
     "execution_count": 33,
     "metadata": {},
     "output_type": "execute_result"
    }
   ],
   "source": [
    "#manipulate it\n",
    "f=lambda x: x if (x>0.0) else 0\n",
    "\n",
    "def fun(x):\n",
    "    return x if (x>0.0) else 0\n",
    "\n",
    "# df.b.map(f)  #df.b is a series, apply lambda to each value\n",
    "dfm.b.map(fun) "
   ]
  },
  {
   "cell_type": "markdown",
   "metadata": {},
   "source": [
    "### Apply- applying a function to an entire row (or column) at a time - the function will have access to every value in that row or column\n",
    "\n",
    "<mark>Use this only if you need other values in a row (or column) otherwise prefer map.\n"
   ]
  },
  {
   "cell_type": "code",
   "execution_count": 60,
   "metadata": {},
   "outputs": [
    {
     "data": {
      "text/html": [
       "<div>\n",
       "<style scoped>\n",
       "    .dataframe tbody tr th:only-of-type {\n",
       "        vertical-align: middle;\n",
       "    }\n",
       "\n",
       "    .dataframe tbody tr th {\n",
       "        vertical-align: top;\n",
       "    }\n",
       "\n",
       "    .dataframe thead th {\n",
       "        text-align: right;\n",
       "    }\n",
       "</style>\n",
       "<table border=\"1\" class=\"dataframe\">\n",
       "  <thead>\n",
       "    <tr style=\"text-align: right;\">\n",
       "      <th></th>\n",
       "      <th>b</th>\n",
       "      <th>d</th>\n",
       "      <th>e</th>\n",
       "    </tr>\n",
       "  </thead>\n",
       "  <tbody>\n",
       "    <tr>\n",
       "      <th>U</th>\n",
       "      <td>-0.003516</td>\n",
       "      <td>1.053416</td>\n",
       "      <td>-1.049900</td>\n",
       "    </tr>\n",
       "    <tr>\n",
       "      <th>Oh</th>\n",
       "      <td>-0.169997</td>\n",
       "      <td>0.618213</td>\n",
       "      <td>-0.448215</td>\n",
       "    </tr>\n",
       "    <tr>\n",
       "      <th>T</th>\n",
       "      <td>-0.662022</td>\n",
       "      <td>0.500457</td>\n",
       "      <td>0.161565</td>\n",
       "    </tr>\n",
       "    <tr>\n",
       "      <th>Or</th>\n",
       "      <td>-0.042595</td>\n",
       "      <td>0.627667</td>\n",
       "      <td>-0.585072</td>\n",
       "    </tr>\n",
       "  </tbody>\n",
       "</table>\n",
       "</div>"
      ],
      "text/plain": [
       "           b         d         e\n",
       "U  -0.003516  1.053416 -1.049900\n",
       "Oh -0.169997  0.618213 -0.448215\n",
       "T  -0.662022  0.500457  0.161565\n",
       "Or -0.042595  0.627667 -0.585072"
      ]
     },
     "execution_count": 60,
     "metadata": {},
     "output_type": "execute_result"
    },
    {
     "data": {
      "text/html": [
       "<div>\n",
       "<style scoped>\n",
       "    .dataframe tbody tr th:only-of-type {\n",
       "        vertical-align: middle;\n",
       "    }\n",
       "\n",
       "    .dataframe tbody tr th {\n",
       "        vertical-align: top;\n",
       "    }\n",
       "\n",
       "    .dataframe thead th {\n",
       "        text-align: right;\n",
       "    }\n",
       "</style>\n",
       "<table border=\"1\" class=\"dataframe\">\n",
       "  <thead>\n",
       "    <tr style=\"text-align: right;\">\n",
       "      <th></th>\n",
       "      <th>b</th>\n",
       "      <th>d</th>\n",
       "      <th>e</th>\n",
       "    </tr>\n",
       "  </thead>\n",
       "  <tbody>\n",
       "    <tr>\n",
       "      <th>U</th>\n",
       "      <td>0.643943</td>\n",
       "      <td>0.781404</td>\n",
       "      <td>-0.141567</td>\n",
       "    </tr>\n",
       "    <tr>\n",
       "      <th>Oh</th>\n",
       "      <td>-0.094630</td>\n",
       "      <td>-0.225891</td>\n",
       "      <td>-0.111975</td>\n",
       "    </tr>\n",
       "    <tr>\n",
       "      <th>T</th>\n",
       "      <td>-0.465557</td>\n",
       "      <td>-0.222549</td>\n",
       "      <td>0.618902</td>\n",
       "    </tr>\n",
       "    <tr>\n",
       "      <th>Or</th>\n",
       "      <td>-0.083756</td>\n",
       "      <td>-0.332965</td>\n",
       "      <td>-0.365360</td>\n",
       "    </tr>\n",
       "  </tbody>\n",
       "</table>\n",
       "</div>"
      ],
      "text/plain": [
       "           b         d         e\n",
       "U   0.643943  0.781404 -0.141567\n",
       "Oh -0.094630 -0.225891 -0.111975\n",
       "T  -0.465557 -0.222549  0.618902\n",
       "Or -0.083756 -0.332965 -0.365360"
      ]
     },
     "execution_count": 60,
     "metadata": {},
     "output_type": "execute_result"
    }
   ],
   "source": [
    "def fun1(ser):return ser-ser.mean()\n",
    "dfm.apply(fun1,axis=1)  ##normalize each row\n",
    "dfm.apply(fun1,axis=0)  ##normalize each column"
   ]
  },
  {
   "cell_type": "code",
   "execution_count": 62,
   "metadata": {},
   "outputs": [
    {
     "data": {
      "text/plain": [
       "U    -2.103315\n",
       "Oh   -1.066428\n",
       "T    -1.162478\n",
       "Or   -1.212738\n",
       "dtype: float64"
      ]
     },
     "execution_count": 62,
     "metadata": {},
     "output_type": "execute_result"
    }
   ],
   "source": [
    "f=lambda x: x.min()-x.max()\n",
    "# the following will return series\n",
    "dfm.apply(f,axis=1)  #works on each value in each row, will return 1 value per row\n",
    "# dfm.apply(f,axis=0)  #works on each value in each column, use this form to normalize values (x-x.mean())"
   ]
  },
  {
   "cell_type": "code",
   "execution_count": 63,
   "metadata": {},
   "outputs": [
    {
     "data": {
      "text/html": [
       "<div>\n",
       "<style scoped>\n",
       "    .dataframe tbody tr th:only-of-type {\n",
       "        vertical-align: middle;\n",
       "    }\n",
       "\n",
       "    .dataframe tbody tr th {\n",
       "        vertical-align: top;\n",
       "    }\n",
       "\n",
       "    .dataframe thead th {\n",
       "        text-align: right;\n",
       "    }\n",
       "</style>\n",
       "<table border=\"1\" class=\"dataframe\">\n",
       "  <thead>\n",
       "    <tr style=\"text-align: right;\">\n",
       "      <th></th>\n",
       "      <th>b</th>\n",
       "      <th>d</th>\n",
       "      <th>e</th>\n",
       "      <th>smallest_val</th>\n",
       "    </tr>\n",
       "  </thead>\n",
       "  <tbody>\n",
       "    <tr>\n",
       "      <th>U</th>\n",
       "      <td>0.510980</td>\n",
       "      <td>1.567912</td>\n",
       "      <td>-0.535403</td>\n",
       "      <td>NaN</td>\n",
       "    </tr>\n",
       "    <tr>\n",
       "      <th>Oh</th>\n",
       "      <td>-0.227593</td>\n",
       "      <td>0.560617</td>\n",
       "      <td>-0.505811</td>\n",
       "      <td>NaN</td>\n",
       "    </tr>\n",
       "    <tr>\n",
       "      <th>T</th>\n",
       "      <td>-0.598520</td>\n",
       "      <td>0.563959</td>\n",
       "      <td>0.225066</td>\n",
       "      <td>NaN</td>\n",
       "    </tr>\n",
       "    <tr>\n",
       "      <th>Or</th>\n",
       "      <td>-0.216719</td>\n",
       "      <td>0.453543</td>\n",
       "      <td>-0.759196</td>\n",
       "      <td>NaN</td>\n",
       "    </tr>\n",
       "  </tbody>\n",
       "</table>\n",
       "</div>"
      ],
      "text/plain": [
       "           b         d         e  smallest_val\n",
       "U   0.510980  1.567912 -0.535403           NaN\n",
       "Oh -0.227593  0.560617 -0.505811           NaN\n",
       "T  -0.598520  0.563959  0.225066           NaN\n",
       "Or -0.216719  0.453543 -0.759196           NaN"
      ]
     },
     "execution_count": 63,
     "metadata": {},
     "output_type": "execute_result"
    }
   ],
   "source": [
    "#make a copy and create a column that will hold the smallest value of the other 3 columns\n",
    "dfa=df.copy()\n",
    "dfa['smallest_val']=np.NaN\n",
    "dfa"
   ]
  },
  {
   "cell_type": "code",
   "execution_count": 65,
   "metadata": {},
   "outputs": [
    {
     "data": {
      "text/html": [
       "<div>\n",
       "<style scoped>\n",
       "    .dataframe tbody tr th:only-of-type {\n",
       "        vertical-align: middle;\n",
       "    }\n",
       "\n",
       "    .dataframe tbody tr th {\n",
       "        vertical-align: top;\n",
       "    }\n",
       "\n",
       "    .dataframe thead th {\n",
       "        text-align: right;\n",
       "    }\n",
       "</style>\n",
       "<table border=\"1\" class=\"dataframe\">\n",
       "  <thead>\n",
       "    <tr style=\"text-align: right;\">\n",
       "      <th></th>\n",
       "      <th>b</th>\n",
       "      <th>d</th>\n",
       "      <th>e</th>\n",
       "      <th>smallest_val</th>\n",
       "    </tr>\n",
       "  </thead>\n",
       "  <tbody>\n",
       "    <tr>\n",
       "      <th>U</th>\n",
       "      <td>0.510980</td>\n",
       "      <td>1.567912</td>\n",
       "      <td>-0.535403</td>\n",
       "      <td>-0.535403</td>\n",
       "    </tr>\n",
       "    <tr>\n",
       "      <th>Oh</th>\n",
       "      <td>-0.227593</td>\n",
       "      <td>0.560617</td>\n",
       "      <td>-0.505811</td>\n",
       "      <td>-0.505811</td>\n",
       "    </tr>\n",
       "    <tr>\n",
       "      <th>T</th>\n",
       "      <td>-0.598520</td>\n",
       "      <td>0.563959</td>\n",
       "      <td>0.225066</td>\n",
       "      <td>-0.598520</td>\n",
       "    </tr>\n",
       "    <tr>\n",
       "      <th>Or</th>\n",
       "      <td>-0.216719</td>\n",
       "      <td>0.453543</td>\n",
       "      <td>-0.759196</td>\n",
       "      <td>-0.759196</td>\n",
       "    </tr>\n",
       "  </tbody>\n",
       "</table>\n",
       "</div>"
      ],
      "text/plain": [
       "           b         d         e  smallest_val\n",
       "U   0.510980  1.567912 -0.535403     -0.535403\n",
       "Oh -0.227593  0.560617 -0.505811     -0.505811\n",
       "T  -0.598520  0.563959  0.225066     -0.598520\n",
       "Or -0.216719  0.453543 -0.759196     -0.759196"
      ]
     },
     "execution_count": 65,
     "metadata": {},
     "output_type": "execute_result"
    }
   ],
   "source": [
    "def fun(ser):\n",
    "    '''\n",
    "    find the smallest value in the series that is pas\n",
    "    '''\n",
    "    return min(ser)\n",
    "\n",
    "dfa['smallest_val'] = dfa.apply(fun, axis=1)  #operate on each row\n",
    "dfa"
   ]
  },
  {
   "cell_type": "markdown",
   "metadata": {},
   "source": [
    "### <mark>Boolean selection</mark>\n",
    "\n",
    "Selecting rows based on a boolean condition"
   ]
  },
  {
   "cell_type": "code",
   "execution_count": 66,
   "metadata": {},
   "outputs": [
    {
     "data": {
      "text/html": [
       "<div>\n",
       "<style scoped>\n",
       "    .dataframe tbody tr th:only-of-type {\n",
       "        vertical-align: middle;\n",
       "    }\n",
       "\n",
       "    .dataframe tbody tr th {\n",
       "        vertical-align: top;\n",
       "    }\n",
       "\n",
       "    .dataframe thead th {\n",
       "        text-align: right;\n",
       "    }\n",
       "</style>\n",
       "<table border=\"1\" class=\"dataframe\">\n",
       "  <thead>\n",
       "    <tr style=\"text-align: right;\">\n",
       "      <th></th>\n",
       "      <th>b</th>\n",
       "      <th>d</th>\n",
       "      <th>e</th>\n",
       "    </tr>\n",
       "  </thead>\n",
       "  <tbody>\n",
       "    <tr>\n",
       "      <th>U</th>\n",
       "      <td>0.510980</td>\n",
       "      <td>1.567912</td>\n",
       "      <td>-0.535403</td>\n",
       "    </tr>\n",
       "    <tr>\n",
       "      <th>Oh</th>\n",
       "      <td>-0.227593</td>\n",
       "      <td>0.560617</td>\n",
       "      <td>-0.505811</td>\n",
       "    </tr>\n",
       "    <tr>\n",
       "      <th>T</th>\n",
       "      <td>-0.598520</td>\n",
       "      <td>0.563959</td>\n",
       "      <td>0.225066</td>\n",
       "    </tr>\n",
       "    <tr>\n",
       "      <th>Or</th>\n",
       "      <td>-0.216719</td>\n",
       "      <td>0.453543</td>\n",
       "      <td>-0.759196</td>\n",
       "    </tr>\n",
       "  </tbody>\n",
       "</table>\n",
       "</div>"
      ],
      "text/plain": [
       "           b         d         e\n",
       "U   0.510980  1.567912 -0.535403\n",
       "Oh -0.227593  0.560617 -0.505811\n",
       "T  -0.598520  0.563959  0.225066\n",
       "Or -0.216719  0.453543 -0.759196"
      ]
     },
     "execution_count": 66,
     "metadata": {},
     "output_type": "execute_result"
    }
   ],
   "source": [
    "df"
   ]
  },
  {
   "cell_type": "code",
   "execution_count": 67,
   "metadata": {},
   "outputs": [
    {
     "data": {
      "text/html": [
       "<div>\n",
       "<style scoped>\n",
       "    .dataframe tbody tr th:only-of-type {\n",
       "        vertical-align: middle;\n",
       "    }\n",
       "\n",
       "    .dataframe tbody tr th {\n",
       "        vertical-align: top;\n",
       "    }\n",
       "\n",
       "    .dataframe thead th {\n",
       "        text-align: right;\n",
       "    }\n",
       "</style>\n",
       "<table border=\"1\" class=\"dataframe\">\n",
       "  <thead>\n",
       "    <tr style=\"text-align: right;\">\n",
       "      <th></th>\n",
       "      <th>b</th>\n",
       "      <th>d</th>\n",
       "      <th>e</th>\n",
       "    </tr>\n",
       "  </thead>\n",
       "  <tbody>\n",
       "  </tbody>\n",
       "</table>\n",
       "</div>"
      ],
      "text/plain": [
       "Empty DataFrame\n",
       "Columns: [b, d, e]\n",
       "Index: []"
      ]
     },
     "execution_count": 67,
     "metadata": {},
     "output_type": "execute_result"
    },
    {
     "data": {
      "text/html": [
       "<div>\n",
       "<style scoped>\n",
       "    .dataframe tbody tr th:only-of-type {\n",
       "        vertical-align: middle;\n",
       "    }\n",
       "\n",
       "    .dataframe tbody tr th {\n",
       "        vertical-align: top;\n",
       "    }\n",
       "\n",
       "    .dataframe thead th {\n",
       "        text-align: right;\n",
       "    }\n",
       "</style>\n",
       "<table border=\"1\" class=\"dataframe\">\n",
       "  <thead>\n",
       "    <tr style=\"text-align: right;\">\n",
       "      <th></th>\n",
       "      <th>b</th>\n",
       "      <th>d</th>\n",
       "      <th>e</th>\n",
       "    </tr>\n",
       "  </thead>\n",
       "  <tbody>\n",
       "    <tr>\n",
       "      <th>U</th>\n",
       "      <td>0.510980</td>\n",
       "      <td>1.567912</td>\n",
       "      <td>-0.535403</td>\n",
       "    </tr>\n",
       "    <tr>\n",
       "      <th>Oh</th>\n",
       "      <td>-0.227593</td>\n",
       "      <td>0.560617</td>\n",
       "      <td>-0.505811</td>\n",
       "    </tr>\n",
       "    <tr>\n",
       "      <th>T</th>\n",
       "      <td>-0.598520</td>\n",
       "      <td>0.563959</td>\n",
       "      <td>0.225066</td>\n",
       "    </tr>\n",
       "    <tr>\n",
       "      <th>Or</th>\n",
       "      <td>-0.216719</td>\n",
       "      <td>0.453543</td>\n",
       "      <td>-0.759196</td>\n",
       "    </tr>\n",
       "  </tbody>\n",
       "</table>\n",
       "</div>"
      ],
      "text/plain": [
       "           b         d         e\n",
       "U   0.510980  1.567912 -0.535403\n",
       "Oh -0.227593  0.560617 -0.505811\n",
       "T  -0.598520  0.563959  0.225066\n",
       "Or -0.216719  0.453543 -0.759196"
      ]
     },
     "execution_count": 67,
     "metadata": {},
     "output_type": "execute_result"
    }
   ],
   "source": [
    "# df[df.b>0.1]   #on a single condition\n",
    "df[(df.b>1.1) & (df.e>0)]  #on multiple conditions (note the & not && or and, note the ()'s)\n",
    "df"
   ]
  },
  {
   "cell_type": "markdown",
   "metadata": {},
   "source": [
    "### Sorting\n",
    "sort your dataframe"
   ]
  },
  {
   "cell_type": "code",
   "execution_count": 69,
   "metadata": {},
   "outputs": [
    {
     "data": {
      "text/html": [
       "<div>\n",
       "<style scoped>\n",
       "    .dataframe tbody tr th:only-of-type {\n",
       "        vertical-align: middle;\n",
       "    }\n",
       "\n",
       "    .dataframe tbody tr th {\n",
       "        vertical-align: top;\n",
       "    }\n",
       "\n",
       "    .dataframe thead th {\n",
       "        text-align: right;\n",
       "    }\n",
       "</style>\n",
       "<table border=\"1\" class=\"dataframe\">\n",
       "  <thead>\n",
       "    <tr style=\"text-align: right;\">\n",
       "      <th></th>\n",
       "      <th>b</th>\n",
       "      <th>d</th>\n",
       "      <th>e</th>\n",
       "    </tr>\n",
       "  </thead>\n",
       "  <tbody>\n",
       "    <tr>\n",
       "      <th>Oh</th>\n",
       "      <td>-0.227593</td>\n",
       "      <td>0.560617</td>\n",
       "      <td>-0.505811</td>\n",
       "    </tr>\n",
       "    <tr>\n",
       "      <th>Or</th>\n",
       "      <td>-0.216719</td>\n",
       "      <td>0.453543</td>\n",
       "      <td>-0.759196</td>\n",
       "    </tr>\n",
       "    <tr>\n",
       "      <th>T</th>\n",
       "      <td>-0.598520</td>\n",
       "      <td>0.563959</td>\n",
       "      <td>0.225066</td>\n",
       "    </tr>\n",
       "    <tr>\n",
       "      <th>U</th>\n",
       "      <td>0.510980</td>\n",
       "      <td>1.567912</td>\n",
       "      <td>-0.535403</td>\n",
       "    </tr>\n",
       "  </tbody>\n",
       "</table>\n",
       "</div>"
      ],
      "text/plain": [
       "           b         d         e\n",
       "Oh -0.227593  0.560617 -0.505811\n",
       "Or -0.216719  0.453543 -0.759196\n",
       "T  -0.598520  0.563959  0.225066\n",
       "U   0.510980  1.567912 -0.535403"
      ]
     },
     "execution_count": 69,
     "metadata": {},
     "output_type": "execute_result"
    },
    {
     "data": {
      "text/html": [
       "<div>\n",
       "<style scoped>\n",
       "    .dataframe tbody tr th:only-of-type {\n",
       "        vertical-align: middle;\n",
       "    }\n",
       "\n",
       "    .dataframe tbody tr th {\n",
       "        vertical-align: top;\n",
       "    }\n",
       "\n",
       "    .dataframe thead th {\n",
       "        text-align: right;\n",
       "    }\n",
       "</style>\n",
       "<table border=\"1\" class=\"dataframe\">\n",
       "  <thead>\n",
       "    <tr style=\"text-align: right;\">\n",
       "      <th></th>\n",
       "      <th>e</th>\n",
       "      <th>d</th>\n",
       "      <th>b</th>\n",
       "    </tr>\n",
       "  </thead>\n",
       "  <tbody>\n",
       "    <tr>\n",
       "      <th>U</th>\n",
       "      <td>-0.535403</td>\n",
       "      <td>1.567912</td>\n",
       "      <td>0.510980</td>\n",
       "    </tr>\n",
       "    <tr>\n",
       "      <th>Oh</th>\n",
       "      <td>-0.505811</td>\n",
       "      <td>0.560617</td>\n",
       "      <td>-0.227593</td>\n",
       "    </tr>\n",
       "    <tr>\n",
       "      <th>T</th>\n",
       "      <td>0.225066</td>\n",
       "      <td>0.563959</td>\n",
       "      <td>-0.598520</td>\n",
       "    </tr>\n",
       "    <tr>\n",
       "      <th>Or</th>\n",
       "      <td>-0.759196</td>\n",
       "      <td>0.453543</td>\n",
       "      <td>-0.216719</td>\n",
       "    </tr>\n",
       "  </tbody>\n",
       "</table>\n",
       "</div>"
      ],
      "text/plain": [
       "           e         d         b\n",
       "U  -0.535403  1.567912  0.510980\n",
       "Oh -0.505811  0.560617 -0.227593\n",
       "T   0.225066  0.563959 -0.598520\n",
       "Or -0.759196  0.453543 -0.216719"
      ]
     },
     "execution_count": 69,
     "metadata": {},
     "output_type": "execute_result"
    }
   ],
   "source": [
    "# df.sort_index()   #sort by index (rows)\n",
    "df.sort_index(axis='rows') \n",
    "df.sort_index(axis='columns', ascending=False)   #sort by index (columns) "
   ]
  },
  {
   "cell_type": "code",
   "execution_count": 70,
   "metadata": {},
   "outputs": [
    {
     "data": {
      "text/html": [
       "<div>\n",
       "<style scoped>\n",
       "    .dataframe tbody tr th:only-of-type {\n",
       "        vertical-align: middle;\n",
       "    }\n",
       "\n",
       "    .dataframe tbody tr th {\n",
       "        vertical-align: top;\n",
       "    }\n",
       "\n",
       "    .dataframe thead th {\n",
       "        text-align: right;\n",
       "    }\n",
       "</style>\n",
       "<table border=\"1\" class=\"dataframe\">\n",
       "  <thead>\n",
       "    <tr style=\"text-align: right;\">\n",
       "      <th></th>\n",
       "      <th>b</th>\n",
       "      <th>d</th>\n",
       "      <th>e</th>\n",
       "    </tr>\n",
       "  </thead>\n",
       "  <tbody>\n",
       "    <tr>\n",
       "      <th>Or</th>\n",
       "      <td>-0.216719</td>\n",
       "      <td>0.453543</td>\n",
       "      <td>-0.759196</td>\n",
       "    </tr>\n",
       "    <tr>\n",
       "      <th>Oh</th>\n",
       "      <td>-0.227593</td>\n",
       "      <td>0.560617</td>\n",
       "      <td>-0.505811</td>\n",
       "    </tr>\n",
       "    <tr>\n",
       "      <th>T</th>\n",
       "      <td>-0.598520</td>\n",
       "      <td>0.563959</td>\n",
       "      <td>0.225066</td>\n",
       "    </tr>\n",
       "    <tr>\n",
       "      <th>U</th>\n",
       "      <td>0.510980</td>\n",
       "      <td>1.567912</td>\n",
       "      <td>-0.535403</td>\n",
       "    </tr>\n",
       "  </tbody>\n",
       "</table>\n",
       "</div>"
      ],
      "text/plain": [
       "           b         d         e\n",
       "Or -0.216719  0.453543 -0.759196\n",
       "Oh -0.227593  0.560617 -0.505811\n",
       "T  -0.598520  0.563959  0.225066\n",
       "U   0.510980  1.567912 -0.535403"
      ]
     },
     "execution_count": 70,
     "metadata": {},
     "output_type": "execute_result"
    }
   ],
   "source": [
    "df.sort_values(by='d')"
   ]
  },
  {
   "cell_type": "markdown",
   "metadata": {},
   "source": [
    "### Descriptive statistics \n",
    "\n",
    "Lots of these, see table5-8 (~p.160) in McKinney book<br>\n",
    "Some really useful ones <br>\n",
    "<mark>\n",
    "    info<br>\n",
    "    describe<br>\n",
    "    nunique<br>\n",
    "    value_counts<br>\n",
    "    is_null"
   ]
  },
  {
   "cell_type": "code",
   "execution_count": 71,
   "metadata": {},
   "outputs": [
    {
     "name": "stdout",
     "output_type": "stream",
     "text": [
      "<class 'pandas.core.frame.DataFrame'>\n",
      "Index: 4 entries, U to Or\n",
      "Data columns (total 3 columns):\n",
      " #   Column  Non-Null Count  Dtype  \n",
      "---  ------  --------------  -----  \n",
      " 0   b       4 non-null      float64\n",
      " 1   d       4 non-null      float64\n",
      " 2   e       4 non-null      float64\n",
      "dtypes: float64(3)\n",
      "memory usage: 300.0+ bytes\n"
     ]
    }
   ],
   "source": [
    "df.info()"
   ]
  },
  {
   "cell_type": "code",
   "execution_count": 72,
   "metadata": {},
   "outputs": [
    {
     "data": {
      "text/html": [
       "<div>\n",
       "<style scoped>\n",
       "    .dataframe tbody tr th:only-of-type {\n",
       "        vertical-align: middle;\n",
       "    }\n",
       "\n",
       "    .dataframe tbody tr th {\n",
       "        vertical-align: top;\n",
       "    }\n",
       "\n",
       "    .dataframe thead th {\n",
       "        text-align: right;\n",
       "    }\n",
       "</style>\n",
       "<table border=\"1\" class=\"dataframe\">\n",
       "  <thead>\n",
       "    <tr style=\"text-align: right;\">\n",
       "      <th></th>\n",
       "      <th>b</th>\n",
       "      <th>d</th>\n",
       "      <th>e</th>\n",
       "    </tr>\n",
       "  </thead>\n",
       "  <tbody>\n",
       "    <tr>\n",
       "      <th>count</th>\n",
       "      <td>4.000000</td>\n",
       "      <td>4.000000</td>\n",
       "      <td>4.000000</td>\n",
       "    </tr>\n",
       "    <tr>\n",
       "      <th>mean</th>\n",
       "      <td>-0.132963</td>\n",
       "      <td>0.786508</td>\n",
       "      <td>-0.393836</td>\n",
       "    </tr>\n",
       "    <tr>\n",
       "      <th>std</th>\n",
       "      <td>0.464534</td>\n",
       "      <td>0.523454</td>\n",
       "      <td>0.427827</td>\n",
       "    </tr>\n",
       "    <tr>\n",
       "      <th>min</th>\n",
       "      <td>-0.598520</td>\n",
       "      <td>0.453543</td>\n",
       "      <td>-0.759196</td>\n",
       "    </tr>\n",
       "    <tr>\n",
       "      <th>25%</th>\n",
       "      <td>-0.320325</td>\n",
       "      <td>0.533848</td>\n",
       "      <td>-0.591351</td>\n",
       "    </tr>\n",
       "    <tr>\n",
       "      <th>50%</th>\n",
       "      <td>-0.222156</td>\n",
       "      <td>0.562288</td>\n",
       "      <td>-0.520607</td>\n",
       "    </tr>\n",
       "    <tr>\n",
       "      <th>75%</th>\n",
       "      <td>-0.034794</td>\n",
       "      <td>0.814947</td>\n",
       "      <td>-0.323092</td>\n",
       "    </tr>\n",
       "    <tr>\n",
       "      <th>max</th>\n",
       "      <td>0.510980</td>\n",
       "      <td>1.567912</td>\n",
       "      <td>0.225066</td>\n",
       "    </tr>\n",
       "  </tbody>\n",
       "</table>\n",
       "</div>"
      ],
      "text/plain": [
       "              b         d         e\n",
       "count  4.000000  4.000000  4.000000\n",
       "mean  -0.132963  0.786508 -0.393836\n",
       "std    0.464534  0.523454  0.427827\n",
       "min   -0.598520  0.453543 -0.759196\n",
       "25%   -0.320325  0.533848 -0.591351\n",
       "50%   -0.222156  0.562288 -0.520607\n",
       "75%   -0.034794  0.814947 -0.323092\n",
       "max    0.510980  1.567912  0.225066"
      ]
     },
     "execution_count": 72,
     "metadata": {},
     "output_type": "execute_result"
    },
    {
     "data": {
      "text/plain": [
       "-0.5985198960584742"
      ]
     },
     "execution_count": 72,
     "metadata": {},
     "output_type": "execute_result"
    }
   ],
   "source": [
    "df.describe() #lots of stats \n",
    "df.describe().b.min()  #pull out min value in column b"
   ]
  },
  {
   "cell_type": "code",
   "execution_count": 82,
   "metadata": {},
   "outputs": [
    {
     "name": "stderr",
     "output_type": "stream",
     "text": [
      "/tmp/ipykernel_167440/893527154.py:3: FutureWarning: The frame.append method is deprecated and will be removed from pandas in a future version. Use pandas.concat instead.\n",
      "  df1=df1.append(df1.iloc[3]) #add a duplicate row\n"
     ]
    },
    {
     "data": {
      "text/html": [
       "<div>\n",
       "<style scoped>\n",
       "    .dataframe tbody tr th:only-of-type {\n",
       "        vertical-align: middle;\n",
       "    }\n",
       "\n",
       "    .dataframe tbody tr th {\n",
       "        vertical-align: top;\n",
       "    }\n",
       "\n",
       "    .dataframe thead th {\n",
       "        text-align: right;\n",
       "    }\n",
       "</style>\n",
       "<table border=\"1\" class=\"dataframe\">\n",
       "  <thead>\n",
       "    <tr style=\"text-align: right;\">\n",
       "      <th></th>\n",
       "      <th>b</th>\n",
       "      <th>d</th>\n",
       "      <th>e</th>\n",
       "    </tr>\n",
       "  </thead>\n",
       "  <tbody>\n",
       "    <tr>\n",
       "      <th>U</th>\n",
       "      <td>0.510980</td>\n",
       "      <td>1.567912</td>\n",
       "      <td>-0.535403</td>\n",
       "    </tr>\n",
       "    <tr>\n",
       "      <th>Oh</th>\n",
       "      <td>-0.227593</td>\n",
       "      <td>0.560617</td>\n",
       "      <td>-0.505811</td>\n",
       "    </tr>\n",
       "    <tr>\n",
       "      <th>T</th>\n",
       "      <td>-0.598520</td>\n",
       "      <td>0.563959</td>\n",
       "      <td>0.225066</td>\n",
       "    </tr>\n",
       "    <tr>\n",
       "      <th>Or</th>\n",
       "      <td>-0.216719</td>\n",
       "      <td>0.453543</td>\n",
       "      <td>-0.759196</td>\n",
       "    </tr>\n",
       "    <tr>\n",
       "      <th>Or</th>\n",
       "      <td>-0.216719</td>\n",
       "      <td>0.453543</td>\n",
       "      <td>-0.759196</td>\n",
       "    </tr>\n",
       "  </tbody>\n",
       "</table>\n",
       "</div>"
      ],
      "text/plain": [
       "           b         d         e\n",
       "U   0.510980  1.567912 -0.535403\n",
       "Oh -0.227593  0.560617 -0.505811\n",
       "T  -0.598520  0.563959  0.225066\n",
       "Or -0.216719  0.453543 -0.759196\n",
       "Or -0.216719  0.453543 -0.759196"
      ]
     },
     "execution_count": 82,
     "metadata": {},
     "output_type": "execute_result"
    },
    {
     "data": {
      "text/plain": [
       "b          d         e        \n",
       "-0.216719  0.453543  -0.759196    2\n",
       "-0.598520  0.563959   0.225066    1\n",
       "-0.227593  0.560617  -0.505811    1\n",
       " 0.510980  1.567912  -0.535403    1\n",
       "dtype: int64"
      ]
     },
     "execution_count": 82,
     "metadata": {},
     "output_type": "execute_result"
    }
   ],
   "source": [
    "#how many unique rows are there?\n",
    "df1=df.copy()\n",
    "df1=df1.append(df1.iloc[3]) #add a duplicate row\n",
    "df1\n",
    "df1.value_counts()   #notice the count is 2 for the duplicate row"
   ]
  },
  {
   "cell_type": "code",
   "execution_count": 83,
   "metadata": {},
   "outputs": [
    {
     "data": {
      "text/plain": [
       "b    4\n",
       "d    4\n",
       "e    4\n",
       "dtype: int64"
      ]
     },
     "execution_count": 83,
     "metadata": {},
     "output_type": "execute_result"
    },
    {
     "data": {
      "text/plain": [
       "U     3\n",
       "Oh    3\n",
       "T     3\n",
       "Or    3\n",
       "Or    3\n",
       "dtype: int64"
      ]
     },
     "execution_count": 83,
     "metadata": {},
     "output_type": "execute_result"
    }
   ],
   "source": [
    "df1.nunique(axis=0)  #how many unique values per column \n",
    "df1.nunique(axis=1)  #how many unique values per row "
   ]
  },
  {
   "cell_type": "code",
   "execution_count": null,
   "metadata": {},
   "outputs": [],
   "source": [
    "df.count(axis=1)  #how many non na per row, axis=0 per column\n",
    "df.sum()  #same as df.sum(axis=0) \n",
    "df.sum(axis=1)"
   ]
  },
  {
   "cell_type": "markdown",
   "metadata": {},
   "source": [
    "### Find NaNs"
   ]
  },
  {
   "cell_type": "code",
   "execution_count": 84,
   "metadata": {},
   "outputs": [
    {
     "data": {
      "text/html": [
       "<div>\n",
       "<style scoped>\n",
       "    .dataframe tbody tr th:only-of-type {\n",
       "        vertical-align: middle;\n",
       "    }\n",
       "\n",
       "    .dataframe tbody tr th {\n",
       "        vertical-align: top;\n",
       "    }\n",
       "\n",
       "    .dataframe thead th {\n",
       "        text-align: right;\n",
       "    }\n",
       "</style>\n",
       "<table border=\"1\" class=\"dataframe\">\n",
       "  <thead>\n",
       "    <tr style=\"text-align: right;\">\n",
       "      <th></th>\n",
       "      <th>b</th>\n",
       "      <th>d</th>\n",
       "      <th>e</th>\n",
       "    </tr>\n",
       "  </thead>\n",
       "  <tbody>\n",
       "    <tr>\n",
       "      <th>U</th>\n",
       "      <td>False</td>\n",
       "      <td>False</td>\n",
       "      <td>False</td>\n",
       "    </tr>\n",
       "    <tr>\n",
       "      <th>Oh</th>\n",
       "      <td>False</td>\n",
       "      <td>False</td>\n",
       "      <td>False</td>\n",
       "    </tr>\n",
       "    <tr>\n",
       "      <th>T</th>\n",
       "      <td>False</td>\n",
       "      <td>False</td>\n",
       "      <td>False</td>\n",
       "    </tr>\n",
       "    <tr>\n",
       "      <th>Or</th>\n",
       "      <td>False</td>\n",
       "      <td>False</td>\n",
       "      <td>False</td>\n",
       "    </tr>\n",
       "  </tbody>\n",
       "</table>\n",
       "</div>"
      ],
      "text/plain": [
       "        b      d      e\n",
       "U   False  False  False\n",
       "Oh  False  False  False\n",
       "T   False  False  False\n",
       "Or  False  False  False"
      ]
     },
     "execution_count": 84,
     "metadata": {},
     "output_type": "execute_result"
    },
    {
     "data": {
      "text/plain": [
       "0"
      ]
     },
     "execution_count": 84,
     "metadata": {},
     "output_type": "execute_result"
    },
    {
     "data": {
      "text/plain": [
       "U     0\n",
       "Oh    0\n",
       "T     0\n",
       "Or    0\n",
       "dtype: int64"
      ]
     },
     "execution_count": 84,
     "metadata": {},
     "output_type": "execute_result"
    }
   ],
   "source": [
    "df.isnull()  # see if null\n",
    "\n",
    "df.isnull().sum().sum()  #any at all\n",
    "df.isnull().sum(axis=1) #any null values in columns?\n"
   ]
  },
  {
   "cell_type": "markdown",
   "metadata": {},
   "source": [
    "### Correlation and Covariance\n",
    "\n",
    "Useful to see if features (columns) are related.  <br>\n",
    "<mark>This information can be used to remove redundant features, which simplifies a model. Also used when determining which features are the most important to a model (we will get to this)."
   ]
  },
  {
   "cell_type": "code",
   "execution_count": 85,
   "metadata": {},
   "outputs": [
    {
     "data": {
      "text/html": [
       "<div>\n",
       "<style scoped>\n",
       "    .dataframe tbody tr th:only-of-type {\n",
       "        vertical-align: middle;\n",
       "    }\n",
       "\n",
       "    .dataframe tbody tr th {\n",
       "        vertical-align: top;\n",
       "    }\n",
       "\n",
       "    .dataframe thead th {\n",
       "        text-align: right;\n",
       "    }\n",
       "</style>\n",
       "<table border=\"1\" class=\"dataframe\">\n",
       "  <thead>\n",
       "    <tr style=\"text-align: right;\">\n",
       "      <th></th>\n",
       "      <th>b</th>\n",
       "      <th>d</th>\n",
       "      <th>e</th>\n",
       "    </tr>\n",
       "  </thead>\n",
       "  <tbody>\n",
       "    <tr>\n",
       "      <th>b</th>\n",
       "      <td>1.000000</td>\n",
       "      <td>0.899335</td>\n",
       "      <td>-0.567069</td>\n",
       "    </tr>\n",
       "    <tr>\n",
       "      <th>d</th>\n",
       "      <td>0.899335</td>\n",
       "      <td>1.000000</td>\n",
       "      <td>-0.150945</td>\n",
       "    </tr>\n",
       "    <tr>\n",
       "      <th>e</th>\n",
       "      <td>-0.567069</td>\n",
       "      <td>-0.150945</td>\n",
       "      <td>1.000000</td>\n",
       "    </tr>\n",
       "  </tbody>\n",
       "</table>\n",
       "</div>"
      ],
      "text/plain": [
       "          b         d         e\n",
       "b  1.000000  0.899335 -0.567069\n",
       "d  0.899335  1.000000 -0.150945\n",
       "e -0.567069 -0.150945  1.000000"
      ]
     },
     "execution_count": 85,
     "metadata": {},
     "output_type": "execute_result"
    },
    {
     "data": {
      "text/html": [
       "<div>\n",
       "<style scoped>\n",
       "    .dataframe tbody tr th:only-of-type {\n",
       "        vertical-align: middle;\n",
       "    }\n",
       "\n",
       "    .dataframe tbody tr th {\n",
       "        vertical-align: top;\n",
       "    }\n",
       "\n",
       "    .dataframe thead th {\n",
       "        text-align: right;\n",
       "    }\n",
       "</style>\n",
       "<table border=\"1\" class=\"dataframe\">\n",
       "  <thead>\n",
       "    <tr style=\"text-align: right;\">\n",
       "      <th></th>\n",
       "      <th>b</th>\n",
       "      <th>d</th>\n",
       "      <th>e</th>\n",
       "    </tr>\n",
       "  </thead>\n",
       "  <tbody>\n",
       "    <tr>\n",
       "      <th>b</th>\n",
       "      <td>0.215792</td>\n",
       "      <td>0.218684</td>\n",
       "      <td>-0.112699</td>\n",
       "    </tr>\n",
       "    <tr>\n",
       "      <th>d</th>\n",
       "      <td>0.218684</td>\n",
       "      <td>0.274004</td>\n",
       "      <td>-0.033804</td>\n",
       "    </tr>\n",
       "    <tr>\n",
       "      <th>e</th>\n",
       "      <td>-0.112699</td>\n",
       "      <td>-0.033804</td>\n",
       "      <td>0.183036</td>\n",
       "    </tr>\n",
       "  </tbody>\n",
       "</table>\n",
       "</div>"
      ],
      "text/plain": [
       "          b         d         e\n",
       "b  0.215792  0.218684 -0.112699\n",
       "d  0.218684  0.274004 -0.033804\n",
       "e -0.112699 -0.033804  0.183036"
      ]
     },
     "execution_count": 85,
     "metadata": {},
     "output_type": "execute_result"
    },
    {
     "data": {
      "text/plain": [
       "0.8993347093582175"
      ]
     },
     "execution_count": 85,
     "metadata": {},
     "output_type": "execute_result"
    }
   ],
   "source": [
    "df.corr()   #all to all\n",
    "df.cov()\n",
    "df['b'].corr(df['d'])"
   ]
  },
  {
   "cell_type": "code",
   "execution_count": null,
   "metadata": {},
   "outputs": [],
   "source": []
  }
 ],
 "metadata": {
  "kernelspec": {
   "display_name": "Python 3 (ipykernel)",
   "language": "python",
   "name": "python3"
  },
  "language_info": {
   "codemirror_mode": {
    "name": "ipython",
    "version": 3
   },
   "file_extension": ".py",
   "mimetype": "text/x-python",
   "name": "python",
   "nbconvert_exporter": "python",
   "pygments_lexer": "ipython3",
   "version": "3.9.15"
  },
  "widgets": {
   "application/vnd.jupyter.widget-state+json": {
    "state": {},
    "version_major": 2,
    "version_minor": 0
   }
  }
 },
 "nbformat": 4,
 "nbformat_minor": 4
}
