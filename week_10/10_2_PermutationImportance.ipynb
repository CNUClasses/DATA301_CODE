{
 "cells": [
  {
   "cell_type": "markdown",
   "metadata": {},
   "source": [
    "# Permutation Importance... \n",
    "#### (and grudgenly the builtin feature importence for sklearn RandomForestClassifier)\n",
    "Ref:<br> \n",
    "<a href=\"https://scikit-learn.org/stable/modules/permutation_importance.html#permutation-importance\">Permutation importance</a><br>\n",
    "<a href=\"https://scikit-learn.org/stable/auto_examples/ensemble/plot_forest_importances.html\">Feature importances with a forest of trees¶</a><br>\n",
    "<a href=\"https://github.com/rasbt/stat451-machine-learning-fs21/blob/main/13-feature-selection/05_permutation-importance.ipynb\">Permutation Importance by Sebastian Raschka</a><br>\n",
    "\n",
    "\n",
    "This is part of 'Explainable AI', which answers the question 'Why did it do that?'\n",
    "\n",
    "There are a lot lot of algorithms that help in this area, two are:<br>\n",
    "   **Feature importance** calculated per feature (column).  Is based on mean decrease in impurity. - applies to random forest and available via feature_importances_ attribute.  Computed as the mean and standard deviation of accumulation of the impurity decrease within each tree.  Favors  high cardinality features over low.<br>\n",
    "   **Permutation importance** calculated per feature (column).  Is based on how much a models score decreases when a column is randomly scrambled. <mark>Applies to any model</mark>.  Computed per column as the difference between baseline accuracy and scrambled column accuracy.  The features with the biggest drop in accuracy are the most important to the model.\n",
    "   \n",
    "   <mark>Of the 2, favor permutation importance since you can use it with any model and does not suffer from the high cardinality problem of Feature Importence\n",
    "   "
   ]
  },
  {
   "cell_type": "code",
   "execution_count": null,
   "metadata": {},
   "outputs": [],
   "source": [
    "#the following gives access to utils folder\n",
    "#where utils package stores shared code\n",
    "import os\n",
    "import sys\n",
    "PROJECT_ROOT = os.path.abspath(os.path.join(\n",
    "                  os.getcwd(),\n",
    "                  os.pardir)\n",
    ")\n",
    "\n",
    "#only add it once\n",
    "if (PROJECT_ROOT not in sys.path):\n",
    "    sys.path.append(PROJECT_ROOT)\n",
    "    \n",
    "import matplotlib.pyplot as plt\n",
    "import seaborn as sns\n",
    "\n",
    "import pandas as pd\n",
    "import numpy as np"
   ]
  },
  {
   "cell_type": "markdown",
   "metadata": {},
   "source": [
    "# Load Data\n",
    "Lets work with the wine dataset"
   ]
  },
  {
   "cell_type": "code",
   "execution_count": null,
   "metadata": {},
   "outputs": [],
   "source": [
    "from sklearn.datasets import load_wine\n",
    "data = load_wine()\n",
    "\n",
    "df = pd.DataFrame(data= np.c_[data['data'], data['target']],\n",
    "                     columns= data['feature_names'] + ['target'])\n",
    "df.head()"
   ]
  },
  {
   "cell_type": "code",
   "execution_count": null,
   "metadata": {},
   "outputs": [],
   "source": [
    "df.target.unique()"
   ]
  },
  {
   "cell_type": "markdown",
   "metadata": {},
   "source": [
    "## Any correlations?  If so dump em\n",
    "Correlations interfere with calculating importance.  For instance, if you have 2 highly correlated columns; A and B.  If you scramble A then B still has As information.  This will result in a lower importance value for both features, where they might actually be important."
   ]
  },
  {
   "cell_type": "code",
   "execution_count": null,
   "metadata": {},
   "outputs": [],
   "source": [
    "import utils as ut"
   ]
  },
  {
   "cell_type": "code",
   "execution_count": null,
   "metadata": {},
   "outputs": [],
   "source": [
    "ut.get_correlated_columns(df)\n",
    "# df=ut.drop_correlated_columns(df)"
   ]
  },
  {
   "cell_type": "markdown",
   "metadata": {},
   "source": [
    "## Get train/test split"
   ]
  },
  {
   "cell_type": "code",
   "execution_count": null,
   "metadata": {},
   "outputs": [],
   "source": [
    "y=df['target']\n",
    "X=df.drop(columns=['target'])\n",
    "\n",
    "from sklearn.model_selection import train_test_split\n",
    "X_train, X_test, y_train, y_test = train_test_split(X, y, stratify=y, random_state=42)"
   ]
  },
  {
   "cell_type": "markdown",
   "metadata": {},
   "source": [
    "# Train classifier"
   ]
  },
  {
   "cell_type": "code",
   "execution_count": null,
   "metadata": {},
   "outputs": [],
   "source": [
    "from sklearn.ensemble import RandomForestClassifier\n",
    "\n",
    "feature_names = X.columns\n",
    "forest = RandomForestClassifier(n_estimators=100,random_state=0, oob_score=True)\n",
    "forest.fit(X_train, y_train)"
   ]
  },
  {
   "cell_type": "markdown",
   "metadata": {},
   "source": [
    "## How well did it do?"
   ]
  },
  {
   "cell_type": "code",
   "execution_count": null,
   "metadata": {},
   "outputs": [],
   "source": [
    "#lets see how well it does\n",
    "\n",
    "#manually\n",
    "print('Training accuracy:', np.mean(forest.predict(X_train) == y_train)*100)\n",
    "print('Test accuracy:', np.mean(forest.predict(X_test) == y_test)*100)\n",
    "\n",
    "#by testing on test data\n",
    "print('Model score: ', forest.score(X_test, y_test))\n",
    "\n",
    "#or by OOB data\n",
    "print(f'OOB error={forest.oob_score_}')"
   ]
  },
  {
   "cell_type": "markdown",
   "metadata": {},
   "source": [
    "# <mark> Permutation Importance - this is what you want to use\n",
    "The computation for full permutation importance is more costly. Features are shuffled n times then the results are averaged to estimate the importance of it. Please see \n",
    "    <a href=\"https://scikit-learn.org/stable/modules/permutation_importance.html#permutation-importance\">Permutation feature importance</a> for more details."
   ]
  },
  {
   "cell_type": "code",
   "execution_count": null,
   "metadata": {},
   "outputs": [],
   "source": [
    "from sklearn.inspection import permutation_importance\n",
    "\n",
    "def plotem(forest_importances):\n",
    "    #plot em\n",
    "    forest_importances = forest_importances.sort_values(ascending=False)\n",
    "\n",
    "    fig, ax = plt.subplots(figsize=(8,5))\n",
    "    forest_importances.plot.bar(yerr=result.importances_std, ax=ax)\n",
    "    ax.set_title(\"Random permutation importance\")\n",
    "    ax.set_ylabel(\"Mean accuracy decrease\")\n",
    "    fig.tight_layout()\n",
    "    plt.show()"
   ]
  },
  {
   "cell_type": "code",
   "execution_count": null,
   "metadata": {},
   "outputs": [],
   "source": [
    "result = permutation_importance(\n",
    "    forest, X_test, y_test, n_repeats=10, random_state=42, n_jobs=2, scoring='accuracy')\n",
    "forest_importances = pd.Series(result.importances_mean, index=feature_names)\n",
    "plotem(forest_importances)"
   ]
  },
  {
   "cell_type": "code",
   "execution_count": null,
   "metadata": {},
   "outputs": [],
   "source": [
    "result = permutation_importance(\n",
    "    forest, X_test, y_test, n_repeats=10, random_state=42, n_jobs=2, scoring='accuracy')\n",
    "forest_importances = pd.Series(result.importances_mean, index=feature_names)\n",
    "plotem(forest_importances)"
   ]
  },
  {
   "cell_type": "code",
   "execution_count": null,
   "metadata": {},
   "outputs": [],
   "source": [
    "# result = permutation_importance(\n",
    "#     forest, X_test, y_test, n_repeats=10, random_state=42, n_jobs=2, scoring='accuracy')\n",
    "# forest_importances = pd.Series(result.importances_mean, index=feature_names)\n",
    "# plotem(forest_importances)"
   ]
  },
  {
   "cell_type": "markdown",
   "metadata": {},
   "source": [
    "# Feature Importence (but prefer Permutation importence)\n",
    "lets see what the random forest thinks is important, it calculates them based on a mean decrease in impurity, but favors high cardinality columns \n"
   ]
  },
  {
   "cell_type": "code",
   "execution_count": null,
   "metadata": {},
   "outputs": [],
   "source": [
    "%%time\n",
    "importances = forest.feature_importances_\n",
    "std = np.std([tree.feature_importances_ for tree in forest.estimators_], axis=0)"
   ]
  },
  {
   "cell_type": "code",
   "execution_count": null,
   "metadata": {},
   "outputs": [],
   "source": [
    "#plot em\n",
    "forest_importances = pd.Series(importances, index=feature_names)\n",
    "forest_importances = forest_importances.sort_values(ascending=False)\n",
    "\n",
    "fig, ax = plt.subplots(figsize=(10,5))\n",
    "forest_importances.plot.bar(yerr=std, ax=ax)\n",
    "ax.set_title(\"Feature importances using MDI\")\n",
    "ax.set_ylabel(\"Mean decrease in impurity\")\n",
    "fig.tight_layout()"
   ]
  },
  {
   "cell_type": "markdown",
   "metadata": {},
   "source": [
    "# <mark>Based on Permutation and Feature importance color intensity is the most important features that the model uses to determine the target"
   ]
  },
  {
   "cell_type": "markdown",
   "metadata": {},
   "source": [
    "# What happens with corelations?\n",
    "\n",
    "Add a column thats correlated to color intensity and see how the results change by rerunning above cells without dropping the correlated columns"
   ]
  },
  {
   "cell_type": "code",
   "execution_count": null,
   "metadata": {},
   "outputs": [],
   "source": [
    "df.color_intensity.describe()"
   ]
  },
  {
   "cell_type": "code",
   "execution_count": null,
   "metadata": {},
   "outputs": [],
   "source": [
    "df['ci1']=df.color_intensity.map(lambda x: x+ np.random.rand()*.1)\n",
    "df.head()"
   ]
  },
  {
   "cell_type": "code",
   "execution_count": null,
   "metadata": {},
   "outputs": [],
   "source": [
    "#verify random noise\n",
    "# df['color_intensity']-df['ci1']"
   ]
  },
  {
   "cell_type": "code",
   "execution_count": null,
   "metadata": {},
   "outputs": [],
   "source": []
  }
 ],
 "metadata": {
  "kernelspec": {
   "display_name": "Python 3 (ipykernel)",
   "language": "python",
   "name": "python3"
  },
  "language_info": {
   "codemirror_mode": {
    "name": "ipython",
    "version": 3
   },
   "file_extension": ".py",
   "mimetype": "text/x-python",
   "name": "python",
   "nbconvert_exporter": "python",
   "pygments_lexer": "ipython3",
   "version": "3.11.5"
  },
  "widgets": {
   "application/vnd.jupyter.widget-state+json": {
    "state": {},
    "version_major": 2,
    "version_minor": 0
   }
  }
 },
 "nbformat": 4,
 "nbformat_minor": 4
}
