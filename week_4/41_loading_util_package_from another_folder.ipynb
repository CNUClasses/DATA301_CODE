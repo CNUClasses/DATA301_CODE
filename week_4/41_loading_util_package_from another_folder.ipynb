{
 "cells": [
  {
   "cell_type": "markdown",
   "metadata": {},
   "source": [
    "# Loading Util Package\n",
    "The utils.py module is in the week3 directory where it can be accessed by notebooks in the week3 directory. DEMO\n",
    "\n",
    "This notebook is in the week4 directory, where it cannot get to the utils.py module.  Fix this by making utils a package.  And then treat utils as a place to put any useful function or class that we create.  Then import these useful functions as needed rather than making a copy of them whenever needed.  This means that these functons will reside in 1 place only.  If a function changes, it is upgraded in that 1 place, rather than where it has been copied reapeatedly into other notebooks."
   ]
  },
  {
   "cell_type": "code",
   "execution_count": 4,
   "metadata": {},
   "outputs": [
    {
     "ename": "ModuleNotFoundError",
     "evalue": "No module named 'utils'",
     "output_type": "error",
     "traceback": [
      "\u001b[0;31m---------------------------------------------------------------------------\u001b[0m",
      "\u001b[0;31mModuleNotFoundError\u001b[0m                       Traceback (most recent call last)",
      "\u001b[0;32m/tmp/ipykernel_419937/3195864589.py\u001b[0m in \u001b[0;36m<module>\u001b[0;34m\u001b[0m\n\u001b[1;32m      6\u001b[0m \u001b[0;34m\u001b[0m\u001b[0m\n\u001b[1;32m      7\u001b[0m \u001b[0;31m#Uh-oh.  utils.py is no longer in this directory.  How do we get to it?\u001b[0m\u001b[0;34m\u001b[0m\u001b[0;34m\u001b[0m\u001b[0m\n\u001b[0;32m----> 8\u001b[0;31m \u001b[0;32mimport\u001b[0m \u001b[0mutils\u001b[0m \u001b[0;32mas\u001b[0m \u001b[0mut\u001b[0m\u001b[0;34m\u001b[0m\u001b[0;34m\u001b[0m\u001b[0m\n\u001b[0m",
      "\u001b[0;31mModuleNotFoundError\u001b[0m: No module named 'utils'"
     ]
    }
   ],
   "source": [
    "import matplotlib.pyplot as plt\n",
    "import seaborn as sns\n",
    "plt.style.use('ggplot')\n",
    "import pandas as pd\n",
    "import numpy as np\n",
    "\n",
    "#Uh-oh.  utils.py is no longer in this directory.  How do we get to it? \n",
    "import utils as ut"
   ]
  },
  {
   "cell_type": "markdown",
   "metadata": {},
   "source": [
    "## Load our t-shirts\n",
    "\n",
    "utils.py is no longer in this directory.  So the following line will fail.\n",
    "Fix it by;\n",
    "1. making utils a package\n",
    "2. place this package in a directory (call the directory 'utils')\n",
    "3. add the full path to the utils directory to the system path so python can find it on import\n",
    "4. then import it.\n",
    "\n",
    "See website 'Turn utils.py into a package' for tutorial"
   ]
  },
  {
   "cell_type": "code",
   "execution_count": 5,
   "metadata": {},
   "outputs": [],
   "source": [
    "#I need to add the parent directory of utils in order to find it\n",
    "#it happens to be up 1 directory.\n",
    "import os\n",
    "import sys\n",
    "PROJECT_ROOT = os.path.abspath(os.path.join(\n",
    "                  os.getcwd(),\n",
    "                  os.pardir)\n",
    ")\n",
    "\n",
    "#only add it once\n",
    "if (PROJECT_ROOT not in sys.path):\n",
    "    sys.path.append(PROJECT_ROOT)"
   ]
  },
  {
   "cell_type": "code",
   "execution_count": 6,
   "metadata": {},
   "outputs": [
    {
     "name": "stdout",
     "output_type": "stream",
     "text": [
      "['/home/keith/AA_jupyter_tuts/DATA301_CODE/week_4', '/home/keith/anaconda3/envs/data301s23/lib/python39.zip', '/home/keith/anaconda3/envs/data301s23/lib/python3.9', '/home/keith/anaconda3/envs/data301s23/lib/python3.9/lib-dynload', '', '/home/keith/anaconda3/envs/data301s23/lib/python3.9/site-packages', '/home/keith/anaconda3/envs/data301s23/lib/python3.9/site-packages/IPython/extensions', '/home/keith/.ipython', '/home/keith/AA_jupyter_tuts/DATA301_CODE']\n"
     ]
    }
   ],
   "source": [
    "import sys\n",
    "print(sys.path)\n",
    "#note that the parent directory is now at the end of the system path\n",
    "#so when I try to import utils I can now find it"
   ]
  },
  {
   "cell_type": "code",
   "execution_count": 7,
   "metadata": {},
   "outputs": [],
   "source": [
    "#now we can get to it\n",
    "import utils as ut"
   ]
  },
  {
   "cell_type": "code",
   "execution_count": 8,
   "metadata": {},
   "outputs": [
    {
     "data": {
      "text/plain": [
       "['BoostedHybrid',\n",
       " 'MAX_RISE',\n",
       " 'NUMB_SAMPLES',\n",
       " 'PROCESSED_DATA',\n",
       " 'RANDOM_SEED',\n",
       " 'RAND_MAX_VAL',\n",
       " 'RAND_MIN_VAL',\n",
       " 'SimpleImputer',\n",
       " 'StandardScaler',\n",
       " '__builtins__',\n",
       " '__cached__',\n",
       " '__doc__',\n",
       " '__file__',\n",
       " '__loader__',\n",
       " '__name__',\n",
       " '__package__',\n",
       " '__path__',\n",
       " '__spec__',\n",
       " 'cat_getdummies',\n",
       " 'cat_ordinal',\n",
       " 'drop_correlated_columns',\n",
       " 'drop_no_variance_columns',\n",
       " 'fun1',\n",
       " 'gauss',\n",
       " 'gendata',\n",
       " 'generate_tshirt_order',\n",
       " 'get_correlated_columns',\n",
       " 'get_features',\n",
       " 'getdata',\n",
       " 'impute_NaNs',\n",
       " 'linear_model',\n",
       " 'names',\n",
       " 'np',\n",
       " 'pd',\n",
       " 'ps_lower_strip',\n",
       " 'ps_replace_punctuation',\n",
       " 'random',\n",
       " 're',\n",
       " 'remove_duplicates',\n",
       " 'rsquared',\n",
       " 'run_pipeline',\n",
       " 'scale',\n",
       " 'scoremodel',\n",
       " 'show_regression_formula',\n",
       " 'train_model',\n",
       " 'transforms',\n",
       " 'ts_models',\n",
       " 'utils1']"
      ]
     },
     "execution_count": 8,
     "metadata": {},
     "output_type": "execute_result"
    }
   ],
   "source": [
    "#lets see what it has in it?\n",
    "dir(ut)"
   ]
  },
  {
   "cell_type": "code",
   "execution_count": 9,
   "metadata": {},
   "outputs": [
    {
     "data": {
      "text/html": [
       "<div>\n",
       "<style scoped>\n",
       "    .dataframe tbody tr th:only-of-type {\n",
       "        vertical-align: middle;\n",
       "    }\n",
       "\n",
       "    .dataframe tbody tr th {\n",
       "        vertical-align: top;\n",
       "    }\n",
       "\n",
       "    .dataframe thead th {\n",
       "        text-align: right;\n",
       "    }\n",
       "</style>\n",
       "<table border=\"1\" class=\"dataframe\">\n",
       "  <thead>\n",
       "    <tr style=\"text-align: right;\">\n",
       "      <th></th>\n",
       "      <th>weight</th>\n",
       "      <th>t_shirt_size</th>\n",
       "      <th>t_shirt_color</th>\n",
       "      <th>name</th>\n",
       "      <th>Age</th>\n",
       "    </tr>\n",
       "  </thead>\n",
       "  <tbody>\n",
       "    <tr>\n",
       "      <th>0</th>\n",
       "      <td>123.465450</td>\n",
       "      <td>small</td>\n",
       "      <td>orange</td>\n",
       "      <td>Michael Chaffins</td>\n",
       "      <td>16</td>\n",
       "    </tr>\n",
       "    <tr>\n",
       "      <th>1</th>\n",
       "      <td>91.306518</td>\n",
       "      <td>small</td>\n",
       "      <td>red</td>\n",
       "      <td>Deborah Nimmons</td>\n",
       "      <td>8</td>\n",
       "    </tr>\n",
       "    <tr>\n",
       "      <th>2</th>\n",
       "      <td>99.542290</td>\n",
       "      <td>small</td>\n",
       "      <td>black</td>\n",
       "      <td>Vicki Lear</td>\n",
       "      <td>9</td>\n",
       "    </tr>\n",
       "    <tr>\n",
       "      <th>3</th>\n",
       "      <td>102.360747</td>\n",
       "      <td>small</td>\n",
       "      <td>blue</td>\n",
       "      <td>Donald Stephenson</td>\n",
       "      <td>17</td>\n",
       "    </tr>\n",
       "    <tr>\n",
       "      <th>4</th>\n",
       "      <td>96.433707</td>\n",
       "      <td>small</td>\n",
       "      <td>red</td>\n",
       "      <td>Timothy Block</td>\n",
       "      <td>11</td>\n",
       "    </tr>\n",
       "    <tr>\n",
       "      <th>...</th>\n",
       "      <td>...</td>\n",
       "      <td>...</td>\n",
       "      <td>...</td>\n",
       "      <td>...</td>\n",
       "      <td>...</td>\n",
       "    </tr>\n",
       "    <tr>\n",
       "      <th>295</th>\n",
       "      <td>251.361204</td>\n",
       "      <td>large</td>\n",
       "      <td>red</td>\n",
       "      <td>Chet Centeno</td>\n",
       "      <td>16</td>\n",
       "    </tr>\n",
       "    <tr>\n",
       "      <th>296</th>\n",
       "      <td>157.196802</td>\n",
       "      <td>large</td>\n",
       "      <td>red</td>\n",
       "      <td>Margaret Moore</td>\n",
       "      <td>13</td>\n",
       "    </tr>\n",
       "    <tr>\n",
       "      <th>297</th>\n",
       "      <td>171.297218</td>\n",
       "      <td>large</td>\n",
       "      <td>blue</td>\n",
       "      <td>Denise Shelton</td>\n",
       "      <td>10</td>\n",
       "    </tr>\n",
       "    <tr>\n",
       "      <th>298</th>\n",
       "      <td>198.671537</td>\n",
       "      <td>large</td>\n",
       "      <td>black</td>\n",
       "      <td>Leslie Gomez</td>\n",
       "      <td>12</td>\n",
       "    </tr>\n",
       "    <tr>\n",
       "      <th>299</th>\n",
       "      <td>192.148230</td>\n",
       "      <td>large</td>\n",
       "      <td>blue</td>\n",
       "      <td>Graciela Kushner</td>\n",
       "      <td>12</td>\n",
       "    </tr>\n",
       "  </tbody>\n",
       "</table>\n",
       "<p>300 rows × 5 columns</p>\n",
       "</div>"
      ],
      "text/plain": [
       "         weight t_shirt_size t_shirt_color               name  Age\n",
       "0    123.465450        small        orange   Michael Chaffins   16\n",
       "1     91.306518        small           red    Deborah Nimmons    8\n",
       "2     99.542290        small         black         Vicki Lear    9\n",
       "3    102.360747        small          blue  Donald Stephenson   17\n",
       "4     96.433707        small           red      Timothy Block   11\n",
       "..          ...          ...           ...                ...  ...\n",
       "295  251.361204        large           red       Chet Centeno   16\n",
       "296  157.196802        large           red     Margaret Moore   13\n",
       "297  171.297218        large          blue     Denise Shelton   10\n",
       "298  198.671537        large         black       Leslie Gomez   12\n",
       "299  192.148230        large          blue   Graciela Kushner   12\n",
       "\n",
       "[300 rows x 5 columns]"
      ]
     },
     "execution_count": 9,
     "metadata": {},
     "output_type": "execute_result"
    }
   ],
   "source": [
    "#you can get help on it as well, hover over generate_tshirt_order and ctrl-tab to get info\n",
    "df = ut.generate_tshirt_order()\n",
    "df"
   ]
  },
  {
   "cell_type": "code",
   "execution_count": null,
   "metadata": {},
   "outputs": [],
   "source": []
  }
 ],
 "metadata": {
  "kernelspec": {
   "display_name": "Python 3 (ipykernel)",
   "language": "python",
   "name": "python3"
  },
  "language_info": {
   "codemirror_mode": {
    "name": "ipython",
    "version": 3
   },
   "file_extension": ".py",
   "mimetype": "text/x-python",
   "name": "python",
   "nbconvert_exporter": "python",
   "pygments_lexer": "ipython3",
   "version": "3.9.15"
  },
  "widgets": {
   "application/vnd.jupyter.widget-state+json": {
    "state": {},
    "version_major": 2,
    "version_minor": 0
   }
  }
 },
 "nbformat": 4,
 "nbformat_minor": 4
}
