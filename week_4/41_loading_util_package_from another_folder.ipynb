{
 "cells": [
  {
   "cell_type": "markdown",
   "metadata": {},
   "source": [
    "# Loading Util Package"
   ]
  },
  {
   "cell_type": "code",
   "execution_count": 11,
   "metadata": {},
   "outputs": [],
   "source": [
    "import matplotlib.pyplot as plt\n",
    "import seaborn as sns\n",
    "plt.style.use('ggplot')\n",
    "import pandas as pd\n",
    "import numpy as np\n",
    "\n",
    "# Display all cell outputs\n",
    "from IPython.core.interactiveshell import InteractiveShell\n",
    "InteractiveShell.ast_node_interactivity = 'all'\n",
    "\n",
    "from IPython import get_ipython\n",
    "ipython = get_ipython()\n",
    "\n",
    "%matplotlib inline\n",
    "%config InlineBackend.figure_format = 'svg'\n",
    "\n",
    "# Set max rows and columns displayed in jupyter\n",
    "pd.set_option(\"display.max_rows\", 100)\n",
    "pd.set_option(\"display.max_columns\", 100)\n",
    "\n",
    "# autoreload extension\n",
    "if 'autoreload' not in ipython.extension_manager.loaded:\n",
    "    %load_ext autoreload\n",
    "\n",
    "%autoreload 2"
   ]
  },
  {
   "cell_type": "code",
   "execution_count": 12,
   "metadata": {},
   "outputs": [
    {
     "name": "stdout",
     "output_type": "stream",
     "text": [
      "['/home/keith/AA_jupyter_tuts/DATA301_CODE/week_4', '/home/keith/anaconda3/envs/data301/lib/python39.zip', '/home/keith/anaconda3/envs/data301/lib/python3.9', '/home/keith/anaconda3/envs/data301/lib/python3.9/lib-dynload', '', '/home/keith/anaconda3/envs/data301/lib/python3.9/site-packages', '/home/keith/anaconda3/envs/data301/lib/python3.9/site-packages/locket-0.2.1-py3.9.egg', '/home/keith/anaconda3/envs/data301/lib/python3.9/site-packages/IPython/extensions', '/home/keith/.ipython', '/home/keith/AA_jupyter_tuts/DATA301_CODE']\n"
     ]
    }
   ],
   "source": [
    "import sys\n",
    "print(sys.path)"
   ]
  },
  {
   "cell_type": "markdown",
   "metadata": {},
   "source": [
    "## Load our t-shirts\n",
    "Uh-oh.  utils.py is no longer in this directory.  How do we get to it?  Simple make utils a package and import it. See website for 'how-to'"
   ]
  },
  {
   "cell_type": "code",
   "execution_count": 16,
   "metadata": {},
   "outputs": [],
   "source": [
    "# I need to add the parent directory of utils in order to find it\n",
    "#it happens to be up 1 directory.\n",
    "import os\n",
    "import sys\n",
    "PROJECT_ROOT = os.path.abspath(os.path.join(\n",
    "                  os.getcwd(),\n",
    "                  os.pardir)\n",
    ")\n",
    "\n",
    "#only add it once\n",
    "if (PROJECT_ROOT not in sys.path):\n",
    "    sys.path.append(PROJECT_ROOT)"
   ]
  },
  {
   "cell_type": "code",
   "execution_count": 14,
   "metadata": {},
   "outputs": [
    {
     "data": {
      "text/plain": [
       "'/home/keith/AA_jupyter_tuts/DATA301_CODE'"
      ]
     },
     "execution_count": 14,
     "metadata": {},
     "output_type": "execute_result"
    }
   ],
   "source": [
    "PROJECT_ROOT"
   ]
  },
  {
   "cell_type": "code",
   "execution_count": 15,
   "metadata": {},
   "outputs": [
    {
     "name": "stdout",
     "output_type": "stream",
     "text": [
      "['/home/keith/AA_jupyter_tuts/DATA301_CODE/week_4', '/home/keith/anaconda3/envs/data301/lib/python39.zip', '/home/keith/anaconda3/envs/data301/lib/python3.9', '/home/keith/anaconda3/envs/data301/lib/python3.9/lib-dynload', '', '/home/keith/anaconda3/envs/data301/lib/python3.9/site-packages', '/home/keith/anaconda3/envs/data301/lib/python3.9/site-packages/locket-0.2.1-py3.9.egg', '/home/keith/anaconda3/envs/data301/lib/python3.9/site-packages/IPython/extensions', '/home/keith/.ipython', '/home/keith/AA_jupyter_tuts/DATA301_CODE']\n"
     ]
    }
   ],
   "source": [
    "import sys\n",
    "print(sys.path)\n",
    "#note that the parent directory is now at the end of the system path"
   ]
  },
  {
   "cell_type": "code",
   "execution_count": 17,
   "metadata": {},
   "outputs": [],
   "source": [
    "#now we can get to it\n",
    "import utils as ut"
   ]
  },
  {
   "cell_type": "code",
   "execution_count": 18,
   "metadata": {},
   "outputs": [
    {
     "data": {
      "text/plain": [
       "['PROCESSED_DATA',\n",
       " '__builtins__',\n",
       " '__cached__',\n",
       " '__doc__',\n",
       " '__file__',\n",
       " '__loader__',\n",
       " '__name__',\n",
       " '__package__',\n",
       " '__path__',\n",
       " '__spec__',\n",
       " 'generate_tshirt_order',\n",
       " 'names',\n",
       " 'np',\n",
       " 'pd',\n",
       " 'utils']"
      ]
     },
     "execution_count": 18,
     "metadata": {},
     "output_type": "execute_result"
    }
   ],
   "source": [
    "#lets see what it has in it?\n",
    "dir(ut)"
   ]
  },
  {
   "cell_type": "code",
   "execution_count": 19,
   "metadata": {},
   "outputs": [
    {
     "data": {
      "text/html": [
       "<div>\n",
       "<style scoped>\n",
       "    .dataframe tbody tr th:only-of-type {\n",
       "        vertical-align: middle;\n",
       "    }\n",
       "\n",
       "    .dataframe tbody tr th {\n",
       "        vertical-align: top;\n",
       "    }\n",
       "\n",
       "    .dataframe thead th {\n",
       "        text-align: right;\n",
       "    }\n",
       "</style>\n",
       "<table border=\"1\" class=\"dataframe\">\n",
       "  <thead>\n",
       "    <tr style=\"text-align: right;\">\n",
       "      <th></th>\n",
       "      <th>weight</th>\n",
       "      <th>t_shirt_size</th>\n",
       "      <th>t_shirt_color</th>\n",
       "      <th>name</th>\n",
       "      <th>Age</th>\n",
       "    </tr>\n",
       "  </thead>\n",
       "  <tbody>\n",
       "    <tr>\n",
       "      <th>0</th>\n",
       "      <td>118.736643</td>\n",
       "      <td>small</td>\n",
       "      <td>red</td>\n",
       "      <td>Michael Jackson</td>\n",
       "      <td>11</td>\n",
       "    </tr>\n",
       "    <tr>\n",
       "      <th>1</th>\n",
       "      <td>114.050875</td>\n",
       "      <td>small</td>\n",
       "      <td>blue</td>\n",
       "      <td>Roger Sidhu</td>\n",
       "      <td>10</td>\n",
       "    </tr>\n",
       "    <tr>\n",
       "      <th>2</th>\n",
       "      <td>120.582608</td>\n",
       "      <td>small</td>\n",
       "      <td>red</td>\n",
       "      <td>Zoila Kennedy</td>\n",
       "      <td>17</td>\n",
       "    </tr>\n",
       "    <tr>\n",
       "      <th>3</th>\n",
       "      <td>105.787797</td>\n",
       "      <td>small</td>\n",
       "      <td>blue</td>\n",
       "      <td>Thomas Delacerda</td>\n",
       "      <td>15</td>\n",
       "    </tr>\n",
       "    <tr>\n",
       "      <th>4</th>\n",
       "      <td>106.446428</td>\n",
       "      <td>small</td>\n",
       "      <td>black</td>\n",
       "      <td>Leticia Moses</td>\n",
       "      <td>15</td>\n",
       "    </tr>\n",
       "    <tr>\n",
       "      <th>...</th>\n",
       "      <td>...</td>\n",
       "      <td>...</td>\n",
       "      <td>...</td>\n",
       "      <td>...</td>\n",
       "      <td>...</td>\n",
       "    </tr>\n",
       "    <tr>\n",
       "      <th>295</th>\n",
       "      <td>159.586940</td>\n",
       "      <td>large</td>\n",
       "      <td>red</td>\n",
       "      <td>Nancy Campbell</td>\n",
       "      <td>9</td>\n",
       "    </tr>\n",
       "    <tr>\n",
       "      <th>296</th>\n",
       "      <td>191.853059</td>\n",
       "      <td>large</td>\n",
       "      <td>orange</td>\n",
       "      <td>Debra Richardson</td>\n",
       "      <td>13</td>\n",
       "    </tr>\n",
       "    <tr>\n",
       "      <th>297</th>\n",
       "      <td>196.554583</td>\n",
       "      <td>large</td>\n",
       "      <td>red</td>\n",
       "      <td>Jose Dejesus</td>\n",
       "      <td>11</td>\n",
       "    </tr>\n",
       "    <tr>\n",
       "      <th>298</th>\n",
       "      <td>204.923110</td>\n",
       "      <td>large</td>\n",
       "      <td>red</td>\n",
       "      <td>Peter Ruggiero</td>\n",
       "      <td>10</td>\n",
       "    </tr>\n",
       "    <tr>\n",
       "      <th>299</th>\n",
       "      <td>208.688556</td>\n",
       "      <td>large</td>\n",
       "      <td>black</td>\n",
       "      <td>David Eastman</td>\n",
       "      <td>14</td>\n",
       "    </tr>\n",
       "  </tbody>\n",
       "</table>\n",
       "<p>300 rows × 5 columns</p>\n",
       "</div>"
      ],
      "text/plain": [
       "         weight t_shirt_size t_shirt_color              name  Age\n",
       "0    118.736643        small           red   Michael Jackson   11\n",
       "1    114.050875        small          blue       Roger Sidhu   10\n",
       "2    120.582608        small           red     Zoila Kennedy   17\n",
       "3    105.787797        small          blue  Thomas Delacerda   15\n",
       "4    106.446428        small         black     Leticia Moses   15\n",
       "..          ...          ...           ...               ...  ...\n",
       "295  159.586940        large           red    Nancy Campbell    9\n",
       "296  191.853059        large        orange  Debra Richardson   13\n",
       "297  196.554583        large           red      Jose Dejesus   11\n",
       "298  204.923110        large           red    Peter Ruggiero   10\n",
       "299  208.688556        large         black     David Eastman   14\n",
       "\n",
       "[300 rows x 5 columns]"
      ]
     },
     "execution_count": 19,
     "metadata": {},
     "output_type": "execute_result"
    }
   ],
   "source": [
    "#you can get help on it as well, hover over generate_tshirt_order and ctrl-tab to get info\n",
    "df = ut.generate_tshirt_order()\n",
    "df"
   ]
  },
  {
   "cell_type": "code",
   "execution_count": null,
   "metadata": {},
   "outputs": [],
   "source": []
  }
 ],
 "metadata": {
  "kernelspec": {
   "display_name": "Python 3 (ipykernel)",
   "language": "python",
   "name": "python3"
  },
  "language_info": {
   "codemirror_mode": {
    "name": "ipython",
    "version": 3
   },
   "file_extension": ".py",
   "mimetype": "text/x-python",
   "name": "python",
   "nbconvert_exporter": "python",
   "pygments_lexer": "ipython3",
   "version": "3.9.7"
  }
 },
 "nbformat": 4,
 "nbformat_minor": 4
}
