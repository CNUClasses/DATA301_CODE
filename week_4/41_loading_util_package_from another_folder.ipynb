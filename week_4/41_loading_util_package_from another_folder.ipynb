{
 "cells": [
  {
   "cell_type": "markdown",
   "metadata": {},
   "source": [
    "# Loading Util Package"
   ]
  },
  {
   "cell_type": "code",
   "execution_count": 1,
   "metadata": {},
   "outputs": [],
   "source": [
    "import matplotlib.pyplot as plt\n",
    "import seaborn as sns\n",
    "plt.style.use('ggplot')\n",
    "import pandas as pd\n",
    "import numpy as np\n",
    "\n",
    "# Display all cell outputs\n",
    "from IPython.core.interactiveshell import InteractiveShell\n",
    "InteractiveShell.ast_node_interactivity = 'all'\n",
    "\n",
    "from IPython import get_ipython\n",
    "ipython = get_ipython()\n",
    "\n",
    "%matplotlib inline\n",
    "%config InlineBackend.figure_format = 'svg'\n",
    "\n",
    "# Set max rows and columns displayed in jupyter\n",
    "pd.set_option(\"display.max_rows\", 100)\n",
    "pd.set_option(\"display.max_columns\", 100)\n",
    "\n",
    "# autoreload extension\n",
    "if 'autoreload' not in ipython.extension_manager.loaded:\n",
    "    %load_ext autoreload\n",
    "\n",
    "%autoreload 2"
   ]
  },
  {
   "cell_type": "markdown",
   "metadata": {},
   "source": [
    "## Load our t-shirts\n",
    "Uh-oh.  utils.py is no longer in this directory.  How do we get to it?  Simple make utils a package and import it. See website for 'how-to'"
   ]
  },
  {
   "cell_type": "code",
   "execution_count": 9,
   "metadata": {},
   "outputs": [],
   "source": [
    "# I need to add the parent directory of utils in order to find it\n",
    "#it happens to be up 1 directory.\n",
    "import os\n",
    "import sys\n",
    "PROJECT_ROOT = os.path.abspath(os.path.join(\n",
    "                  os.getcwd(),\n",
    "                  os.pardir)\n",
    ")\n",
    "\n",
    "#only add it once\n",
    "if (PROJECT_ROOT not in sys.path):\n",
    "    sys.path.append(PROJECT_ROOT)"
   ]
  },
  {
   "cell_type": "code",
   "execution_count": 5,
   "metadata": {},
   "outputs": [
    {
     "name": "stdout",
     "output_type": "stream",
     "text": [
      "['/home/keith/AA_jupyter_tuts/DATA301_CODE/week_4', '/home/keith/anaconda3/envs/data301/lib/python39.zip', '/home/keith/anaconda3/envs/data301/lib/python3.9', '/home/keith/anaconda3/envs/data301/lib/python3.9/lib-dynload', '', '/home/keith/anaconda3/envs/data301/lib/python3.9/site-packages', '/home/keith/anaconda3/envs/data301/lib/python3.9/site-packages/locket-0.2.1-py3.9.egg', '/home/keith/anaconda3/envs/data301/lib/python3.9/site-packages/IPython/extensions', '/home/keith/.ipython', '/home/keith/AA_jupyter_tuts/DATA301_CODE']\n"
     ]
    }
   ],
   "source": [
    "import sys\n",
    "print(sys.path)\n",
    "#note that the parent directory is now at the end of the system path"
   ]
  },
  {
   "cell_type": "code",
   "execution_count": 6,
   "metadata": {},
   "outputs": [],
   "source": [
    "#now we can get to it\n",
    "import utils as ut"
   ]
  },
  {
   "cell_type": "code",
   "execution_count": 7,
   "metadata": {},
   "outputs": [
    {
     "data": {
      "text/plain": [
       "['PROCESSED_DATA',\n",
       " '__builtins__',\n",
       " '__cached__',\n",
       " '__doc__',\n",
       " '__file__',\n",
       " '__loader__',\n",
       " '__name__',\n",
       " '__package__',\n",
       " '__path__',\n",
       " '__spec__',\n",
       " 'generate_tshirt_order',\n",
       " 'names',\n",
       " 'np',\n",
       " 'pd',\n",
       " 'utils']"
      ]
     },
     "execution_count": 7,
     "metadata": {},
     "output_type": "execute_result"
    }
   ],
   "source": [
    "#lets see what it has in it?\n",
    "dir(ut)"
   ]
  },
  {
   "cell_type": "code",
   "execution_count": 8,
   "metadata": {},
   "outputs": [
    {
     "data": {
      "text/html": [
       "<div>\n",
       "<style scoped>\n",
       "    .dataframe tbody tr th:only-of-type {\n",
       "        vertical-align: middle;\n",
       "    }\n",
       "\n",
       "    .dataframe tbody tr th {\n",
       "        vertical-align: top;\n",
       "    }\n",
       "\n",
       "    .dataframe thead th {\n",
       "        text-align: right;\n",
       "    }\n",
       "</style>\n",
       "<table border=\"1\" class=\"dataframe\">\n",
       "  <thead>\n",
       "    <tr style=\"text-align: right;\">\n",
       "      <th></th>\n",
       "      <th>weight</th>\n",
       "      <th>t_shirt_size</th>\n",
       "      <th>t_shirt_color</th>\n",
       "      <th>name</th>\n",
       "    </tr>\n",
       "  </thead>\n",
       "  <tbody>\n",
       "    <tr>\n",
       "      <th>0</th>\n",
       "      <td>97.709549</td>\n",
       "      <td>small</td>\n",
       "      <td>orange</td>\n",
       "      <td>Lisa Burris</td>\n",
       "    </tr>\n",
       "    <tr>\n",
       "      <th>1</th>\n",
       "      <td>100.912099</td>\n",
       "      <td>small</td>\n",
       "      <td>black</td>\n",
       "      <td>Alma Perigo</td>\n",
       "    </tr>\n",
       "    <tr>\n",
       "      <th>2</th>\n",
       "      <td>104.072614</td>\n",
       "      <td>small</td>\n",
       "      <td>green</td>\n",
       "      <td>Janet Norris</td>\n",
       "    </tr>\n",
       "    <tr>\n",
       "      <th>3</th>\n",
       "      <td>96.944437</td>\n",
       "      <td>small</td>\n",
       "      <td>red</td>\n",
       "      <td>Frank Becker</td>\n",
       "    </tr>\n",
       "    <tr>\n",
       "      <th>4</th>\n",
       "      <td>129.899532</td>\n",
       "      <td>small</td>\n",
       "      <td>green</td>\n",
       "      <td>David Ramsey</td>\n",
       "    </tr>\n",
       "    <tr>\n",
       "      <th>...</th>\n",
       "      <td>...</td>\n",
       "      <td>...</td>\n",
       "      <td>...</td>\n",
       "      <td>...</td>\n",
       "    </tr>\n",
       "    <tr>\n",
       "      <th>295</th>\n",
       "      <td>195.507677</td>\n",
       "      <td>large</td>\n",
       "      <td>red</td>\n",
       "      <td>Jonathan Mcclure</td>\n",
       "    </tr>\n",
       "    <tr>\n",
       "      <th>296</th>\n",
       "      <td>211.835381</td>\n",
       "      <td>large</td>\n",
       "      <td>green</td>\n",
       "      <td>William Paul</td>\n",
       "    </tr>\n",
       "    <tr>\n",
       "      <th>297</th>\n",
       "      <td>189.853075</td>\n",
       "      <td>large</td>\n",
       "      <td>red</td>\n",
       "      <td>Lindsey Stapleton</td>\n",
       "    </tr>\n",
       "    <tr>\n",
       "      <th>298</th>\n",
       "      <td>235.239451</td>\n",
       "      <td>large</td>\n",
       "      <td>red</td>\n",
       "      <td>Lorraine Damato</td>\n",
       "    </tr>\n",
       "    <tr>\n",
       "      <th>299</th>\n",
       "      <td>183.831829</td>\n",
       "      <td>large</td>\n",
       "      <td>green</td>\n",
       "      <td>Paul Lewis</td>\n",
       "    </tr>\n",
       "  </tbody>\n",
       "</table>\n",
       "<p>300 rows × 4 columns</p>\n",
       "</div>"
      ],
      "text/plain": [
       "         weight t_shirt_size t_shirt_color               name\n",
       "0     97.709549        small        orange        Lisa Burris\n",
       "1    100.912099        small         black        Alma Perigo\n",
       "2    104.072614        small         green       Janet Norris\n",
       "3     96.944437        small           red       Frank Becker\n",
       "4    129.899532        small         green       David Ramsey\n",
       "..          ...          ...           ...                ...\n",
       "295  195.507677        large           red   Jonathan Mcclure\n",
       "296  211.835381        large         green       William Paul\n",
       "297  189.853075        large           red  Lindsey Stapleton\n",
       "298  235.239451        large           red    Lorraine Damato\n",
       "299  183.831829        large         green         Paul Lewis\n",
       "\n",
       "[300 rows x 4 columns]"
      ]
     },
     "execution_count": 8,
     "metadata": {},
     "output_type": "execute_result"
    }
   ],
   "source": [
    "#you can get help on it as well, hover over generate_tshirt_order and ctrl-tab to get info\n",
    "df = ut.generate_tshirt_order()\n",
    "df"
   ]
  },
  {
   "cell_type": "code",
   "execution_count": null,
   "metadata": {},
   "outputs": [],
   "source": []
  }
 ],
 "metadata": {
  "kernelspec": {
   "display_name": "Python 3 (ipykernel)",
   "language": "python",
   "name": "python3"
  },
  "language_info": {
   "codemirror_mode": {
    "name": "ipython",
    "version": 3
   },
   "file_extension": ".py",
   "mimetype": "text/x-python",
   "name": "python",
   "nbconvert_exporter": "python",
   "pygments_lexer": "ipython3",
   "version": "3.9.7"
  }
 },
 "nbformat": 4,
 "nbformat_minor": 4
}
